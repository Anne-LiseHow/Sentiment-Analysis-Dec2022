{
  "cells": [
    {
      "cell_type": "markdown",
      "source": [
        "# Import Libraries"
      ],
      "metadata": {
        "id": "tJMqm0sUcG4X"
      },
      "id": "tJMqm0sUcG4X"
    },
    {
      "cell_type": "markdown",
      "id": "d32e21d0-c8b9-4bb9-8fa2-85c73237443f",
      "metadata": {
        "id": "d32e21d0-c8b9-4bb9-8fa2-85c73237443f"
      },
      "source": [
        "The following NLTK Library Resources need to be downloaded in order to conduct the analysis and the machine learning models."
      ]
    },
    {
      "cell_type": "code",
      "execution_count": null,
      "id": "f7cb0e66-6f5e-49eb-87c5-b5054b6fdb30",
      "metadata": {
        "id": "f7cb0e66-6f5e-49eb-87c5-b5054b6fdb30"
      },
      "outputs": [],
      "source": [
        "# resources from library nltk to be downloaded\n",
        "import nltk\n",
        "nltk.download('averaged_perceptron_tagger')\n",
        "nltk.download('punkt')\n",
        "nltk.download('wordnet')\n",
        "nltk.download('stopwords')"
      ]
    },
    {
      "cell_type": "markdown",
      "id": "7c321734-25b5-416c-8c1e-da2e6956a598",
      "metadata": {
        "id": "7c321734-25b5-416c-8c1e-da2e6956a598"
      },
      "source": [
        "Import all required libraries"
      ]
    },
    {
      "cell_type": "code",
      "execution_count": null,
      "id": "8c9fc18a-0edd-42b1-b853-e9a0cb9f0c93",
      "metadata": {
        "id": "8c9fc18a-0edd-42b1-b853-e9a0cb9f0c93"
      },
      "outputs": [],
      "source": [
        "# import libraries\n",
        "import contractions\n",
        "import gensim\n",
        "import html\n",
        "import keras_tuner as kt\n",
        "import matplotlib.pyplot as plt\n",
        "import nltk\n",
        "import numpy as np\n",
        "import pandas as pd\n",
        "import random\n",
        "import re\n",
        "import tensorflow as tf\n",
        "\n",
        "from gensim.models import Word2Vec\n",
        "\n",
        "from nltk.corpus import wordnet\n",
        "from nltk.corpus import stopwords\n",
        "from nltk.stem import LancasterStemmer\n",
        "from nltk.stem import PorterStemmer\n",
        "from nltk.stem.wordnet import WordNetLemmatizer\n",
        "from nltk.tokenize import TweetTokenizer\n",
        "from nltk.tokenize import word_tokenize\n",
        "from nltk.tag import pos_tag\n",
        "\n",
        "# from keras.layers import Activation\n",
        "from keras.callbacks import EarlyStopping\n",
        "from keras.layers import Bidirectional\n",
        "from keras.layers import Dense\n",
        "from keras.layers import Dropout\n",
        "from keras.layers import Embedding\n",
        "from keras.layers import LSTM\n",
        "from keras.models import Sequential\n",
        "from keras.optimizers import Adam\n",
        "from keras.optimizers import SGD\n",
        "from keras.preprocessing.text import Tokenizer\n",
        "from keras.utils import np_utils\n",
        "\n",
        "from sklearn.ensemble import RandomForestClassifier\n",
        "from sklearn.feature_extraction.text import CountVectorizer\n",
        "from sklearn.feature_extraction.text import TfidfVectorizer\n",
        "from sklearn.metrics import accuracy_score\n",
        "from sklearn.metrics import classification_report\n",
        "from sklearn.metrics import f1_score\n",
        "from sklearn.metrics._plot.confusion_matrix import confusion_matrix\n",
        "from sklearn.model_selection import GridSearchCV\n",
        "from sklearn.model_selection import PredefinedSplit\n",
        "from sklearn.model_selection import RandomizedSearchCV\n",
        "from sklearn.naive_bayes import MultinomialNB\n",
        "from sklearn.naive_bayes import GaussianNB\n",
        "from sklearn.preprocessing import LabelEncoder\n",
        "\n",
        "from tensorflow import keras"
      ]
    },
    {
      "cell_type": "markdown",
      "id": "4a72e386-83b7-47ab-923d-48794d527c37",
      "metadata": {
        "id": "4a72e386-83b7-47ab-923d-48794d527c37"
      },
      "source": [
        "# Loading Data from local folder"
      ]
    },
    {
      "cell_type": "code",
      "execution_count": null,
      "id": "0e857125-cc7c-476e-8598-49d9299b6220",
      "metadata": {
        "id": "0e857125-cc7c-476e-8598-49d9299b6220"
      },
      "outputs": [],
      "source": [
        "# load data\n",
        "train = pd.read_csv(\"Tweets_train.csv\")\n",
        "test = pd.read_csv(\"New_Tweets_test-1.csv\")\n",
        "dev = pd.read_csv(\"Tweets_dev.csv\")"
      ]
    },
    {
      "cell_type": "markdown",
      "id": "cfd0458d-0182-4696-9bba-24266c86d225",
      "metadata": {
        "id": "cfd0458d-0182-4696-9bba-24266c86d225"
      },
      "source": [
        "# Exploratory Data Analysis - Data Cleaning:\n",
        "1. Check shape of the data\n",
        "2. Check column data types\n",
        "3. Check for Null values\n",
        "4. Check for unique values of airline_sentiment\n",
        "5. Check for duplicates"
      ]
    },
    {
      "cell_type": "markdown",
      "id": "3331482c-156e-4c33-a5ba-f050d04ff541",
      "metadata": {
        "id": "3331482c-156e-4c33-a5ba-f050d04ff541"
      },
      "source": [
        "## 1. Check shape of the data"
      ]
    },
    {
      "cell_type": "code",
      "execution_count": null,
      "id": "d2e96cba-11c5-4c2a-ac25-c4a9865206db",
      "metadata": {
        "id": "d2e96cba-11c5-4c2a-ac25-c4a9865206db"
      },
      "outputs": [],
      "source": [
        "# Check the shape of the data\n",
        "print(\"Shape of Train data\", train.shape)\n",
        "print(\"Shape of Test data\", test.shape) # extra index column present\n",
        "print(\"Shape of Dev data\", dev.shape)"
      ]
    },
    {
      "cell_type": "code",
      "execution_count": null,
      "id": "f350802c-85b3-4d17-9605-d0ffa39a8fb7",
      "metadata": {
        "id": "f350802c-85b3-4d17-9605-d0ffa39a8fb7",
        "outputId": "fd80c29a-e430-480b-f901-73614c3a1105"
      },
      "outputs": [
        {
          "name": "stdout",
          "output_type": "stream",
          "text": [
            "Shape of Test data (1464, 3)\n"
          ]
        }
      ],
      "source": [
        "# remove extra index column in test data\n",
        "test = test[['tweet_id', 'text', 'airline_sentiment']]\n",
        "\n",
        "# Check the shape of test data\n",
        "print(\"Shape of Test data\", test.shape)"
      ]
    },
    {
      "cell_type": "markdown",
      "id": "ce95f0f0-b85c-4558-ab9a-23b9472dbd46",
      "metadata": {
        "id": "ce95f0f0-b85c-4558-ab9a-23b9472dbd46"
      },
      "source": [
        "## 2. Check column data types"
      ]
    },
    {
      "cell_type": "code",
      "execution_count": null,
      "id": "63ffa10c-1e2a-48c6-a222-ff9b24ecac5c",
      "metadata": {
        "id": "63ffa10c-1e2a-48c6-a222-ff9b24ecac5c",
        "outputId": "b787097f-fa4a-4cb9-eece-debe50fa8bd1"
      },
      "outputs": [
        {
          "name": "stdout",
          "output_type": "stream",
          "text": [
            "Train data column types:\n",
            "tweet_id              int64\n",
            "text                 object\n",
            "airline_sentiment    object\n",
            "dtype: object \n",
            "\n",
            "Test data column types:\n",
            "tweet_id              int64\n",
            "text                 object\n",
            "airline_sentiment    object\n",
            "dtype: object \n",
            "\n",
            "Dev data column types:\n",
            "tweet_id              int64\n",
            "text                 object\n",
            "airline_sentiment    object\n",
            "dtype: object \n",
            "\n"
          ]
        }
      ],
      "source": [
        "# Verifying column types\n",
        "print(\"Train data column types:\")\n",
        "print(train.dtypes, \"\\n\")\n",
        "print(\"Test data column types:\")\n",
        "print(test.dtypes, \"\\n\")\n",
        "print(\"Dev data column types:\")\n",
        "print(dev.dtypes, \"\\n\")"
      ]
    },
    {
      "cell_type": "markdown",
      "id": "665bd500-0bf1-4f4d-b004-cde895ef6a21",
      "metadata": {
        "id": "665bd500-0bf1-4f4d-b004-cde895ef6a21"
      },
      "source": [
        "## 3. Check for NULL Values"
      ]
    },
    {
      "cell_type": "code",
      "execution_count": null,
      "id": "76a648a3-b8a4-4e45-956a-b70f0a2277ea",
      "metadata": {
        "id": "76a648a3-b8a4-4e45-956a-b70f0a2277ea"
      },
      "outputs": [],
      "source": [
        "# Checking for NULL values\n",
        "print(\"Checking NULL values for train data:\")\n",
        "print(train.isnull().sum(), \"\\n\")\n",
        "print(\"Checking NULL values for test data:\")\n",
        "print(test.isnull().sum(), \"\\n\")\n",
        "print(\"Checking NULL values for dev data:\")\n",
        "print(dev.isnull().sum(), \"\\n\")"
      ]
    },
    {
      "cell_type": "markdown",
      "id": "d2efc6b8-e543-4ef9-ab84-69afbb0545db",
      "metadata": {
        "id": "d2efc6b8-e543-4ef9-ab84-69afbb0545db"
      },
      "source": [
        "## 4. Check for unique values of airline_sentiment"
      ]
    },
    {
      "cell_type": "code",
      "execution_count": null,
      "id": "6e9bbd2b-be49-4e01-9589-2e9c9a2105d9",
      "metadata": {
        "id": "6e9bbd2b-be49-4e01-9589-2e9c9a2105d9"
      },
      "outputs": [],
      "source": [
        "# verify if airline_sentiment has only one of the following values: positive, negative, neutral\n",
        "print(\"Unique values of airline_sentiment for Train data:\")\n",
        "print(train.airline_sentiment.unique() , \"\\n\")\n",
        "print(\"Unique values of airline_sentiment for Test data:\")\n",
        "print(test.airline_sentiment.unique(), \"\\n\")\n",
        "print(\"Unique values of airline_sentiment for Dev data:\")\n",
        "print(dev.airline_sentiment.unique(), \"\\n\")"
      ]
    },
    {
      "cell_type": "markdown",
      "id": "2aa5577b-af78-4383-a814-4837fd019a01",
      "metadata": {
        "id": "2aa5577b-af78-4383-a814-4837fd019a01"
      },
      "source": [
        "## 5. Check for duplicates"
      ]
    },
    {
      "cell_type": "code",
      "execution_count": null,
      "id": "2d7a874b-0985-40c6-9b37-2ae273f53766",
      "metadata": {
        "id": "2d7a874b-0985-40c6-9b37-2ae273f53766"
      },
      "outputs": [],
      "source": [
        "# Check for duplicates in data\n",
        "print(\"Number of duplicates in train data:\", train.duplicated().sum())\n",
        "print(\"Number of duplicates in test data:\", test.duplicated().sum())\n",
        "print(\"Number of duplicates in train data:\", dev.duplicated().sum())"
      ]
    },
    {
      "cell_type": "code",
      "execution_count": null,
      "id": "ce2a3233-8aa6-4472-92f3-b7a0d0a41cef",
      "metadata": {
        "id": "ce2a3233-8aa6-4472-92f3-b7a0d0a41cef"
      },
      "outputs": [],
      "source": [
        "# Removing duplicates\n",
        "train_unique = train.drop_duplicates(ignore_index=True)\n",
        "test_unique = test.drop_duplicates(ignore_index=True)\n",
        "dev_unique = dev.drop_duplicates(ignore_index=True)"
      ]
    },
    {
      "cell_type": "markdown",
      "id": "2a2e5c17-a05a-4b96-b7ec-5a4aaf68e5de",
      "metadata": {
        "id": "2a2e5c17-a05a-4b96-b7ec-5a4aaf68e5de"
      },
      "source": [
        "# Exploratory Data Analysis: Graphical and Numerical Summaries  \n",
        "## 1. Number of negative, neutral and positive tweets in each dataset"
      ]
    },
    {
      "cell_type": "code",
      "execution_count": null,
      "id": "176a5a1d-7d3c-4edf-88ad-de233b93d1e4",
      "metadata": {
        "id": "176a5a1d-7d3c-4edf-88ad-de233b93d1e4"
      },
      "outputs": [],
      "source": [
        "# Count of airline sentiment\n",
        "print(\"Number of negative, neutral and positive sentiments in train data:\")\n",
        "print(train_unique['airline_sentiment'].value_counts(), \"\\n\")\n",
        "\n",
        "print(\"Number of negative, neutral and positive sentiments in test data:\")\n",
        "print(test_unique['airline_sentiment'].value_counts(), \"\\n\")\n",
        "\n",
        "print(\"Number of negative, neutral and positive sentiments in dev data:\")\n",
        "print(dev_unique['airline_sentiment'].value_counts(), \"\\n\")"
      ]
    },
    {
      "cell_type": "code",
      "execution_count": null,
      "id": "97c569ae-f7bb-4c1d-9af4-ab9e4f44b50b",
      "metadata": {
        "id": "97c569ae-f7bb-4c1d-9af4-ab9e4f44b50b",
        "outputId": "dc580fbc-93ff-4691-c5bd-e681d5aa6cdc"
      },
      "outputs": [
        {
          "data": {
            "image/png": "[encoded data removed]",
            "text/plain": [
              "<Figure size 640x480 with 1 Axes>"
            ]
          },
          "metadata": {},
          "output_type": "display_data"
        }
      ],
      "source": [
        "# pie chart showing number of negative, positive and neutral tweets for train data set\n",
        "train_count = train_unique['airline_sentiment'].value_counts()\n",
        "plt.pie(train_count, startangle=90, autopct='%1.1f%%', labels=['negative','positive', 'neutral'], colors=['tab:red','tab:blue','tab:green'])\n",
        "plt.title(\"Train Data\")\n",
        "plt.savefig('train-piechart.png')"
      ]
    },
    {
      "cell_type": "code",
      "execution_count": null,
      "id": "7732c00f-f994-457f-ab74-0a76377b0bf2",
      "metadata": {
        "id": "7732c00f-f994-457f-ab74-0a76377b0bf2",
        "outputId": "c7200baf-157d-4553-cce2-fb9129b55b4b"
      },
      "outputs": [
        {
          "data": {
            "image/png": "[encoded data removed]",
            "text/plain": [
              "<Figure size 640x480 with 1 Axes>"
            ]
          },
          "metadata": {},
          "output_type": "display_data"
        }
      ],
      "source": [
        "# pie chart showing number of negative, positive and neutral tweets for test data\n",
        "test_count = test_unique['airline_sentiment'].value_counts()\n",
        "plt.pie(test_count, startangle=90, autopct='%1.1f%%', labels=['negative','positive', 'neutral'], colors=['tab:red','tab:blue','tab:green'])\n",
        "plt.title(\"Test Data\")\n",
        "plt.savefig('test-piechart.png')"
      ]
    },
    {
      "cell_type": "code",
      "execution_count": null,
      "id": "3e88f390-c513-4751-8eb4-19f7a101e559",
      "metadata": {
        "id": "3e88f390-c513-4751-8eb4-19f7a101e559",
        "outputId": "cc62ef53-dd05-45ab-98af-d5544a421257"
      },
      "outputs": [
        {
          "data": {
            "image/png": "[encoded data removed]",
            "text/plain": [
              "<Figure size 640x480 with 1 Axes>"
            ]
          },
          "metadata": {},
          "output_type": "display_data"
        }
      ],
      "source": [
        "# pie chart showing number of negative, positive and neutral tweets for dev data\n",
        "dev_count = dev_unique['airline_sentiment'].value_counts()\n",
        "plt.pie(dev_count,startangle=90, autopct='%1.1f%%', labels=['negative','positive', 'neutral'], colors=['tab:red','tab:blue','tab:green'])\n",
        "plt.title(\"Validation Data\")\n",
        "plt.savefig('dev-piechart.png')"
      ]
    },
    {
      "cell_type": "markdown",
      "id": "2e46f305-25c0-467d-8e93-c5b53428e6cf",
      "metadata": {
        "id": "2e46f305-25c0-467d-8e93-c5b53428e6cf"
      },
      "source": [
        "## 2. Number of positive, neutral and negative sentiments per airline for each dataset"
      ]
    },
    {
      "cell_type": "markdown",
      "id": "c2089c56-b55e-4a70-8aaf-cbbcaafca797",
      "metadata": {
        "id": "c2089c56-b55e-4a70-8aaf-cbbcaafca797"
      },
      "source": [
        "Identifying airline company"
      ]
    },
    {
      "cell_type": "code",
      "execution_count": null,
      "id": "f4ff4057-7760-465b-abfe-4dfe262d1e7d",
      "metadata": {
        "id": "f4ff4057-7760-465b-abfe-4dfe262d1e7d"
      },
      "outputs": [],
      "source": [
        "# Creating a function to identify the airline company for the data\n",
        "def identify_airline(dataset):\n",
        "    company = ['None'] * len(dataset)\n",
        "    for i in range(len(dataset)):\n",
        "        if str.lower(dataset['text'][i]).rfind('@united') != -1:\n",
        "            company[i] = \"united\"\n",
        "        elif str.lower(dataset['text'][i]).rfind('@americanair') != -1:\n",
        "            company[i] = \"americanair\"\n",
        "        elif str.lower(dataset['text'][i]).rfind('@jetblue') != -1:\n",
        "            company[i] = \"jetblue\"\n",
        "        elif str.lower(dataset['text'][i]).rfind('@usairways') != -1:\n",
        "            company[i] = \"usairways\"\n",
        "        elif str.lower(dataset['text'][i]).rfind('@virginamerica') != -1:\n",
        "            company[i] = \"virginamerica\"\n",
        "        elif str.lower(dataset['text'][i]).rfind('@southwestair') != -1:\n",
        "            company[i] = \"southwestair\"\n",
        "        elif str.lower(dataset['text'][i]).rfind('@deltaassist') != -1:\n",
        "            company[i] = \"deltaassist\"\n",
        "        elif str.lower(dataset['text'][i]).rfind('@shannonwoodward') != -1:\n",
        "            company[i] = \"shannonwoodward\"\n",
        "        elif str.lower(dataset['text'][i]).rfind('@ninadavuluri') != -1:\n",
        "            company[i] = \"ninadavuluri\"\n",
        "    return company"
      ]
    },
    {
      "cell_type": "code",
      "execution_count": null,
      "id": "502809ab-c871-493f-b0a1-fbffbeaa7da9",
      "metadata": {
        "id": "502809ab-c871-493f-b0a1-fbffbeaa7da9"
      },
      "outputs": [],
      "source": [
        "def check_airline(company):\n",
        "    if 'None' in company:\n",
        "        print(\"Airline company has not been identified for one or more observations.\")\n",
        "    else:\n",
        "        print(\"Airline company has been identified for all observations.\")"
      ]
    },
    {
      "cell_type": "code",
      "execution_count": null,
      "id": "25b74901-20ea-4935-8994-14be0a7d7f06",
      "metadata": {
        "id": "25b74901-20ea-4935-8994-14be0a7d7f06",
        "outputId": "c51abfc0-14a2-4e79-bad8-6e6c25566a24"
      },
      "outputs": [
        {
          "name": "stdout",
          "output_type": "stream",
          "text": [
            "Airline company has been identified for all observations.\n",
            "Airline company has been identified for all observations.\n",
            "Airline company has been identified for all observations.\n"
          ]
        }
      ],
      "source": [
        "train_company = identify_airline(train_unique)\n",
        "test_company = identify_airline(test_unique)\n",
        "dev_company = identify_airline(dev_unique)\n",
        "\n",
        "check_airline(train_company)\n",
        "check_airline(test_company)\n",
        "check_airline(dev_company)"
      ]
    },
    {
      "cell_type": "code",
      "execution_count": null,
      "id": "73915aa6-628a-4c90-91f9-7c10f5099618",
      "metadata": {
        "id": "73915aa6-628a-4c90-91f9-7c10f5099618"
      },
      "outputs": [],
      "source": [
        "# insert data to the dataset\n",
        "train_airline = train_unique.copy()\n",
        "train_airline.insert(1,\"airline_company\", train_company)\n",
        "\n",
        "test_airline = test_unique.copy()\n",
        "test_airline.insert(1,\"airline_company\", test_company)\n",
        "\n",
        "dev_airline = dev_unique.copy()\n",
        "dev_airline.insert(1,\"airline_company\", dev_company)"
      ]
    },
    {
      "cell_type": "code",
      "execution_count": null,
      "id": "2c8319f3-94f5-4ddb-8578-447c467246f3",
      "metadata": {
        "id": "2c8319f3-94f5-4ddb-8578-447c467246f3"
      },
      "outputs": [],
      "source": [
        "# number of tweets per airline for train set\n",
        "united = train_airline.loc[train_airline['airline_company']=='united']\n",
        "united_count = united['airline_sentiment'].value_counts()\n",
        "\n",
        "americanair = train_airline.loc[train_airline['airline_company']=='americanair']\n",
        "americanair_count = americanair['airline_sentiment'].value_counts()\n",
        "\n",
        "jetblue = train_airline.loc[train_airline['airline_company']=='jetblue']\n",
        "jetblue_count = jetblue['airline_sentiment'].value_counts()\n",
        "\n",
        "usairways = train_airline.loc[train_airline['airline_company']=='usairways']\n",
        "usairways_count = usairways['airline_sentiment'].value_counts()\n",
        "\n",
        "virginamerica = train_airline.loc[train_airline['airline_company']=='virginamerica']\n",
        "virginamerica_count = virginamerica['airline_sentiment'].value_counts()\n",
        "\n",
        "southwestair = train_airline.loc[train_airline['airline_company']=='southwestair']\n",
        "southwestair_count = southwestair['airline_sentiment'].value_counts()\n",
        "\n",
        "deltaassist = train_airline.loc[train_airline['airline_company']=='deltaassist']\n",
        "deltaassist_count = deltaassist['airline_sentiment'].value_counts()\n",
        "\n",
        "positive_train = [united_count[2], americanair_count[2], jetblue_count[2], usairways_count[2], virginamerica_count[2], southwestair_count[2], 0]\n",
        "negative_train = [united_count[0], americanair_count[0], jetblue_count[0], usairways_count[0], virginamerica_count[0], southwestair_count[0], deltaassist_count[0]]\n",
        "neutral_train = [united_count[1], americanair_count[1], jetblue_count[1], usairways_count[1], virginamerica_count[1], southwestair_count[1], 0]"
      ]
    },
    {
      "cell_type": "code",
      "execution_count": null,
      "id": "51e010e1-695e-423d-9b01-4e4ac0e19b0c",
      "metadata": {
        "id": "51e010e1-695e-423d-9b01-4e4ac0e19b0c"
      },
      "outputs": [],
      "source": [
        "# number of tweets per airline for test set\n",
        "united = test_airline.loc[test_airline['airline_company']=='united']\n",
        "united_count = united['airline_sentiment'].value_counts()\n",
        "\n",
        "americanair = test_airline.loc[test_airline['airline_company']=='americanair']\n",
        "americanair_count = americanair['airline_sentiment'].value_counts()\n",
        "\n",
        "jetblue = test_airline.loc[test_airline['airline_company']=='jetblue']\n",
        "jetblue_count = jetblue['airline_sentiment'].value_counts()\n",
        "\n",
        "usairways = test_airline.loc[test_airline['airline_company']=='usairways']\n",
        "usairways_count = usairways['airline_sentiment'].value_counts()\n",
        "\n",
        "virginamerica = test_airline.loc[test_airline['airline_company']=='virginamerica']\n",
        "virginamerica_count = virginamerica['airline_sentiment'].value_counts()\n",
        "\n",
        "southwestair = test_airline.loc[test_airline['airline_company']=='southwestair']\n",
        "southwestair_count = southwestair['airline_sentiment'].value_counts()\n",
        "\n",
        "deltaassist = test_airline.loc[test_airline['airline_company']=='deltaassist']\n",
        "deltaassist_count = deltaassist['airline_sentiment'].value_counts()\n",
        "\n",
        "positive_test = [united_count[2], americanair_count[2], jetblue_count[2], usairways_count[2], virginamerica_count[2], southwestair_count[2], 0]\n",
        "negative_test = [united_count[0], americanair_count[0], jetblue_count[0], usairways_count[0], virginamerica_count[0], southwestair_count[0], deltaassist_count[0]]\n",
        "neutral_test = [united_count[1], americanair_count[1], jetblue_count[1], usairways_count[1], virginamerica_count[1], southwestair_count[1], 0]"
      ]
    },
    {
      "cell_type": "code",
      "execution_count": null,
      "id": "6e9956cb-dd9a-45c9-a2b4-dc17e7675450",
      "metadata": {
        "id": "6e9956cb-dd9a-45c9-a2b4-dc17e7675450"
      },
      "outputs": [],
      "source": [
        "# number of tweets per airline for dev set\n",
        "united = dev_airline.loc[dev_airline['airline_company']=='united']\n",
        "united_count = united['airline_sentiment'].value_counts()\n",
        "\n",
        "americanair = dev_airline.loc[dev_airline['airline_company']=='americanair']\n",
        "americanair_count = americanair['airline_sentiment'].value_counts()\n",
        "\n",
        "jetblue = dev_airline.loc[dev_airline['airline_company']=='jetblue']\n",
        "jetblue_count = jetblue['airline_sentiment'].value_counts()\n",
        "\n",
        "usairways = dev_airline.loc[dev_airline['airline_company']=='usairways']\n",
        "usairways_count = usairways['airline_sentiment'].value_counts()\n",
        "\n",
        "virginamerica = dev_airline.loc[dev_airline['airline_company']=='virginamerica']\n",
        "virginamerica_count = virginamerica['airline_sentiment'].value_counts()\n",
        "\n",
        "southwestair = dev_airline.loc[dev_airline['airline_company']=='southwestair']\n",
        "southwestair_count = southwestair['airline_sentiment'].value_counts()\n",
        "\n",
        "deltaassist = dev_airline.loc[dev_airline['airline_company']=='deltaassist']\n",
        "deltaassist_count = deltaassist['airline_sentiment'].value_counts()\n",
        "\n",
        "positive_dev = [united_count[2], americanair_count[2], jetblue_count[2], usairways_count[2], virginamerica_count[2], southwestair_count[2], 0]\n",
        "negative_dev = [united_count[0], americanair_count[0], jetblue_count[0], usairways_count[0], virginamerica_count[0], southwestair_count[0], 0]\n",
        "neutral_dev = [united_count[1], americanair_count[1], jetblue_count[1], usairways_count[1], virginamerica_count[1], southwestair_count[1], 0]"
      ]
    },
    {
      "cell_type": "code",
      "execution_count": null,
      "id": "36e022d7-cf08-4dfe-8314-0b0bf848eddf",
      "metadata": {
        "id": "36e022d7-cf08-4dfe-8314-0b0bf848eddf"
      },
      "outputs": [],
      "source": [
        "# create data to plot bar chart\n",
        "airline = ['united','americanair','jetblue','usairways','virginamerica','southwestair','deltaassist']\n",
        "train_barchart_data = pd.DataFrame(list(zip(airline, positive_train, negative_train, neutral_train)), columns=['airline', 'Positive', 'Negative', 'Neutral'])\n",
        "test_barchart_data = pd.DataFrame(list(zip(airline, positive_test, negative_test, neutral_test)), columns=['airline', 'Positive', 'Negative', 'Neutral'])\n",
        "dev_barchart_data = pd.DataFrame(list(zip(airline, positive_dev, negative_dev, neutral_dev)), columns=['airline', 'Positive', 'Negative', 'Neutral'])"
      ]
    },
    {
      "cell_type": "code",
      "execution_count": null,
      "id": "0be447b7-98b1-4166-8e18-8de9fd42d221",
      "metadata": {
        "id": "0be447b7-98b1-4166-8e18-8de9fd42d221",
        "outputId": "842c7162-fc79-4713-b14b-521ea5a19b43"
      },
      "outputs": [
        {
          "data": {
            "image/png": "[encoded data removed]",
            "text/plain": [
              "<Figure size 1000x750 with 1 Axes>"
            ]
          },
          "metadata": {},
          "output_type": "display_data"
        }
      ],
      "source": [
        "# set figure size\n",
        "plt.rcParams[\"figure.figsize\"] = (10,7.5)\n",
        "\n",
        "# Set position of bar on X axis\n",
        "barWidth = 0.25\n",
        "br1 = np.arange(len(train_barchart_data['Positive']))\n",
        "br2 = [x + barWidth for x in br1]\n",
        "br3 = [x + barWidth for x in br2]\n",
        "\n",
        "# plot the barcharts\n",
        "plt.bar(br1, train_barchart_data['Positive'], color ='tab:green', width=0.25, edgecolor ='grey', label='Positive')\n",
        "plt.bar(br2, train_barchart_data['Negative'], color ='tab:red', width=0.25, edgecolor ='grey', label='Negative')\n",
        "plt.bar(br3, train_barchart_data['Neutral'], color ='tab:blue', width=0.25, edgecolor ='grey', label='Neutral')\n",
        "\n",
        "# Adding Labels\n",
        "plt.title('Train Data')\n",
        "plt.xlabel('Airline Company')\n",
        "plt.ylabel('Number of Tweets')\n",
        "plt.xticks([r + barWidth for r in range(len(train_barchart_data['Positive']))],\n",
        "        ['United','American Air','Jetblue','US Airways','Virgin America','Southwest Air','Delta Assist'])\n",
        "plt.legend()\n",
        "plt.savefig('train-barchart.png')"
      ]
    },
    {
      "cell_type": "code",
      "execution_count": null,
      "id": "b624e7d6-4bd4-4220-a234-9e7ff6020a32",
      "metadata": {
        "id": "b624e7d6-4bd4-4220-a234-9e7ff6020a32",
        "outputId": "2a244461-9f0b-4be3-85cb-9266389a79bb"
      },
      "outputs": [
        {
          "data": {
            "image/png": "[encoded data removed]",
            "text/plain": [
              "<Figure size 1000x750 with 1 Axes>"
            ]
          },
          "metadata": {},
          "output_type": "display_data"
        }
      ],
      "source": [
        "# set figure size\n",
        "plt.rcParams[\"figure.figsize\"] = (10,7.5)\n",
        "\n",
        "# Set position of bar on X axis\n",
        "barWidth = 0.25\n",
        "br1 = np.arange(len(test_barchart_data['Positive']))\n",
        "br2 = [x + barWidth for x in br1]\n",
        "br3 = [x + barWidth for x in br2]\n",
        "\n",
        "# plot the barcharts\n",
        "plt.bar(br1, test_barchart_data['Positive'], color ='tab:green', width=0.25, edgecolor ='grey', label='Positive')\n",
        "plt.bar(br2, test_barchart_data['Negative'], color ='tab:red', width=0.25, edgecolor ='grey', label='Negative')\n",
        "plt.bar(br3, test_barchart_data['Neutral'], color ='tab:blue', width=0.25, edgecolor ='grey', label='Neutral')\n",
        "\n",
        "# Adding Labels\n",
        "plt.title('Test Data')\n",
        "plt.xlabel('Airline Company')\n",
        "plt.ylabel('Number of Tweets')\n",
        "plt.xticks([r + barWidth for r in range(len(test_barchart_data['Positive']))],\n",
        "        ['United','American Air','Jetblue','US Airways','Virgin America','Southwest Air','Delta Assist'])\n",
        "plt.legend()\n",
        "plt.savefig('test-barchart.png')"
      ]
    },
    {
      "cell_type": "code",
      "execution_count": null,
      "id": "5b7d8d6e-e5ea-4388-9bf8-0a3768d75743",
      "metadata": {
        "id": "5b7d8d6e-e5ea-4388-9bf8-0a3768d75743",
        "outputId": "7db1aee7-7e8e-44f3-ced5-ce746c5d9c70"
      },
      "outputs": [
        {
          "data": {
            "image/png": "[encoded data removed]",
            "text/plain": [
              "<Figure size 1000x750 with 1 Axes>"
            ]
          },
          "metadata": {},
          "output_type": "display_data"
        }
      ],
      "source": [
        "# set figure size\n",
        "plt.rcParams[\"figure.figsize\"] = (10,7.5)\n",
        "\n",
        "# Set position of bar on X axis\n",
        "barWidth = 0.25\n",
        "br1 = np.arange(len(dev_barchart_data['Positive']))\n",
        "br2 = [x + barWidth for x in br1]\n",
        "br3 = [x + barWidth for x in br2]\n",
        "\n",
        "# plot the barcharts\n",
        "plt.bar(br1, dev_barchart_data['Positive'], color ='tab:green', width=0.25, edgecolor ='grey', label='Positive')\n",
        "plt.bar(br2, dev_barchart_data['Negative'], color ='tab:red', width=0.25, edgecolor ='grey', label='Negative')\n",
        "plt.bar(br3, dev_barchart_data['Neutral'], color ='tab:blue', width=0.25, edgecolor ='grey', label='Neutral')\n",
        "\n",
        "# Adding Labels\n",
        "plt.title('Validation Data')\n",
        "plt.xlabel('Airline Company')\n",
        "plt.ylabel('Number of Tweets')\n",
        "plt.xticks([r + barWidth for r in range(len(dev_barchart_data['Positive']))],\n",
        "        ['United','American Air','Jetblue','US Airways','Virgin America','Southwest Air','Delta Assist'])\n",
        "plt.legend()\n",
        "plt.savefig('dev-barchart.png')"
      ]
    },
    {
      "cell_type": "markdown",
      "id": "de0d5900-7e55-43bb-8f5f-f0a4f393de1e",
      "metadata": {
        "id": "de0d5900-7e55-43bb-8f5f-f0a4f393de1e"
      },
      "source": [
        "# Data Preprocessing:\n",
        "1. Convert to lower case\n",
        "2. Remove hyperlinks\n",
        "3. Convert html to string\n",
        "4. Converting contracted words to full\n",
        "5. Remove all punctuations\n",
        "6. Remove stop words\n",
        "7. Remove Numbers\n",
        "8. Split data into X and Y\n",
        "9. Tokenizing\n",
        "10. Lemmatizating\n",
        "11. Stemming"
      ]
    },
    {
      "cell_type": "markdown",
      "source": [
        "## Functions for Data Pre-processing"
      ],
      "metadata": {
        "id": "LZNavlYfcmla"
      },
      "id": "LZNavlYfcmla"
    },
    {
      "cell_type": "markdown",
      "source": [
        "1-5. Data Pre-processing"
      ],
      "metadata": {
        "id": "WRliOBHhaHCI"
      },
      "id": "WRliOBHhaHCI"
    },
    {
      "cell_type": "code",
      "source": [
        "def preprocess(dataset):\n",
        "  for i in range(len(dataset)):\n",
        "    lowercase = dataset['text'][i].lower() # convert tweet to lower case\n",
        "    dataset.insert(1,\"text_lower\", lowercase)\n",
        "    dataset.at[i,\"text_lower\"]= re.sub(r'http\\S+', '', dataset.at[i,\"text_lower\"]) # remove hyperlinks\n",
        "    dataset.at[i,\"text_lower\"] = html.unescape(dataset.at[i,\"text_lower\"]) # convert html entities to string\n",
        "    dataset.at[i,\"text_lower\"] = contractions.fix(dataset.at[i,\"text_lower\"])  # convert contractions to full\n",
        "    dataset.at[i,\"text_lower\"] = re.sub(r\"[^\\w\\s]\",'', dataset.at[i,\"text_lower\"]) # remove punctuations\n",
        "    dataset.at[i,\"text_lower\"] = re.sub(r'\\d', '', dataset.at[i,\"text_lower\"]) # remove numbers\n",
        "  return dataset"
      ],
      "metadata": {
        "id": "zqAYduzcNoSD"
      },
      "id": "zqAYduzcNoSD",
      "execution_count": null,
      "outputs": []
    },
    {
      "cell_type": "markdown",
      "id": "b48b8a6b-3cbd-4e6b-8521-e98cd13d9305",
      "metadata": {
        "id": "b48b8a6b-3cbd-4e6b-8521-e98cd13d9305"
      },
      "source": [
        "7. Data Pre-processing: Removing Stopwords"
      ]
    },
    {
      "cell_type": "code",
      "execution_count": null,
      "id": "65be08e4-5b00-44bf-bf32-2e3249dcd4ba",
      "metadata": {
        "id": "65be08e4-5b00-44bf-bf32-2e3249dcd4ba"
      },
      "outputs": [],
      "source": [
        "def remove_stopwords(dataset):\n",
        "    stop_words = set(stopwords.words('english'))\n",
        "    for i in range(len(dataset)):\n",
        "        filtered_sentence=[]\n",
        "        word_tokens = word_tokenize(dataset.at[i,'text_lower'])\n",
        "        for word in word_tokens:\n",
        "            if word not in stop_words:\n",
        "                filtered_sentence.append(word)\n",
        "            joined_sentence = \" \".join(w for w in filtered_sentence)\n",
        "            dataset.at[i,'text_lower'] = joined_sentence\n",
        "    return dataset"
      ]
    },
    {
      "cell_type": "markdown",
      "id": "804860af-989f-4e26-af40-81f2d092c919",
      "metadata": {
        "id": "804860af-989f-4e26-af40-81f2d092c919"
      },
      "source": [
        "8. Data Pre-processing: split data into X and Y"
      ]
    },
    {
      "cell_type": "code",
      "execution_count": null,
      "id": "66372f43-d8a7-4072-982f-109702861a6b",
      "metadata": {
        "id": "66372f43-d8a7-4072-982f-109702861a6b"
      },
      "outputs": [],
      "source": [
        "def split_X_Y(dataset):\n",
        "    X = dataset['text_lower']\n",
        "    Y = dataset['airline_sentiment']\n",
        "    return X, Y"
      ]
    },
    {
      "cell_type": "markdown",
      "id": "ed7a3ad1-4cef-48b9-877b-8d2bbf1246d6",
      "metadata": {
        "id": "ed7a3ad1-4cef-48b9-877b-8d2bbf1246d6"
      },
      "source": [
        "9. Data Pre-processing: Tokenizing"
      ]
    },
    {
      "cell_type": "code",
      "execution_count": null,
      "id": "1890e984-6054-4156-80f2-c1e006e8c911",
      "metadata": {
        "id": "1890e984-6054-4156-80f2-c1e006e8c911"
      },
      "outputs": [],
      "source": [
        "# creating a function to tokenize tweets of a dataset\n",
        "def tokenize_tweet(dataset):\n",
        "    tokenizer = TweetTokenizer()\n",
        "    tokens_data = ['None'] * len(dataset)\n",
        "    for i in range(len(dataset)):\n",
        "        tokens = tokenizer.tokenize(dataset[i])\n",
        "        tokens_data[i] = tokens\n",
        "    return tokens_data"
      ]
    },
    {
      "cell_type": "markdown",
      "id": "2d46088b-021a-43a8-94a0-d7464e9448a0",
      "metadata": {
        "id": "2d46088b-021a-43a8-94a0-d7464e9448a0"
      },
      "source": [
        "10. Data Pre-processing: Lemmatization"
      ]
    },
    {
      "cell_type": "code",
      "execution_count": null,
      "id": "23b646f6-e910-4e6a-a094-7ab4a4f7781d",
      "metadata": {
        "id": "23b646f6-e910-4e6a-a094-7ab4a4f7781d"
      },
      "outputs": [],
      "source": [
        "# creating a function to lemmatize a tokenized tweet\n",
        "def lemmatize_tweet(tokens):\n",
        "    lemmatizer = WordNetLemmatizer()\n",
        "    lemmatized_tweet = []\n",
        "    for word, tag in pos_tag(tokens):\n",
        "        if tag.startswith('N'):\n",
        "            pos = 'n'\n",
        "        elif tag.startswith('V'):\n",
        "            pos = 'v'\n",
        "        elif tag.startswith('J'):\n",
        "            pos = 'a'\n",
        "        elif tag.startswith('R'):\n",
        "            pos = 'r'\n",
        "        else:\n",
        "            pos = 'n'\n",
        "        lemmatized_tweet.append(lemmatizer.lemmatize(word, pos))\n",
        "    return lemmatized_tweet"
      ]
    },
    {
      "cell_type": "code",
      "execution_count": null,
      "id": "03dc7c7b-50e0-463e-9ea3-d749df9d6b98",
      "metadata": {
        "id": "03dc7c7b-50e0-463e-9ea3-d749df9d6b98"
      },
      "outputs": [],
      "source": [
        "# creating a function to lemmatize all tweets in a dataset\n",
        "def lemmatize_data(dataset):\n",
        "    data_lemmatize = ['None'] * len(dataset)\n",
        "    for i in range(len(dataset)):\n",
        "        lemmatize_sentence = ''\n",
        "        lemmatized = lemmatize_tweet(dataset[i])\n",
        "        for word in lemmatized:\n",
        "            lemmatize_sentence =  \" \".join([lemmatize_sentence, word])\n",
        "        data_lemmatize[i] = lemmatize_sentence\n",
        "    return data_lemmatize"
      ]
    },
    {
      "cell_type": "markdown",
      "id": "0e7770ad-f34f-47c1-9f5f-8b986d560a4f",
      "metadata": {
        "id": "0e7770ad-f34f-47c1-9f5f-8b986d560a4f"
      },
      "source": [
        "11. Data Pre-processing: Stemming"
      ]
    },
    {
      "cell_type": "code",
      "execution_count": null,
      "id": "5c16ae9c-ac04-4d54-9e2d-f818d32e3a06",
      "metadata": {
        "id": "5c16ae9c-ac04-4d54-9e2d-f818d32e3a06"
      },
      "outputs": [],
      "source": [
        "# creating a funtion to stem a tweet\n",
        "def stem_tweet(tokens, method=\"Porter\"):\n",
        "    stem_tweet = []\n",
        "    if method == \"Porter\":\n",
        "        PS = PorterStemmer()\n",
        "        for word in tokens:\n",
        "            stem_tweet.append(PS.stem(word))\n",
        "    elif method == \"Lancaster\":\n",
        "        LS = LancasterStemmer()\n",
        "        for word in tokens:\n",
        "            stem_tweet.append(LS.stem(word))\n",
        "    return stem_tweet"
      ]
    },
    {
      "cell_type": "code",
      "execution_count": null,
      "id": "7124ffcc-c6e4-42ea-9e4b-ca8800984f2d",
      "metadata": {
        "id": "7124ffcc-c6e4-42ea-9e4b-ca8800984f2d"
      },
      "outputs": [],
      "source": [
        "# creating a function to stem a whole dataset\n",
        "def stem_data(dataset, method=\"Porter\"):\n",
        "    data_stemming = ['None'] * len(dataset)\n",
        "    for i in range(len(dataset)):\n",
        "        stem_sentence = ''\n",
        "        stemming = stem_tweet(dataset[i], method)\n",
        "        for word in stemming:\n",
        "            stem_sentence = \" \".join([stem_sentence, word])\n",
        "            data_stemming[i] = stem_sentence\n",
        "    return data_stemming"
      ]
    },
    {
      "cell_type": "markdown",
      "id": "15fdeff8-b9a8-4ffc-92f8-a91470090d19",
      "metadata": {
        "id": "15fdeff8-b9a8-4ffc-92f8-a91470090d19"
      },
      "source": [
        "## Representing text in Numeric form:\n",
        "\n",
        "1. Bag of Words\n",
        "2. Tf-Idf"
      ]
    },
    {
      "cell_type": "markdown",
      "id": "31e103d2-8ecf-46aa-9850-d5c5f39c5bae",
      "metadata": {
        "id": "31e103d2-8ecf-46aa-9850-d5c5f39c5bae"
      },
      "source": [
        "1. Representing text in Numeric form: Bag of Words"
      ]
    },
    {
      "cell_type": "code",
      "execution_count": null,
      "id": "6257a363-9361-4d7f-872f-b4e79f9b6e38",
      "metadata": {
        "id": "6257a363-9361-4d7f-872f-b4e79f9b6e38"
      },
      "outputs": [],
      "source": [
        "# creating a function to create a BOW vectorizer, fit on training data and transform train, test and dev data\n",
        "def BOW_vectorizer(training, testing, validation):\n",
        "    # creating a BOW vectorizer and specify how we want to break up the words\n",
        "    vectorizer = CountVectorizer(token_pattern=r'\\b\\w+\\b', lowercase=False)\n",
        "\n",
        "    # fitting the vectorizer to the training data to get Bag of Words\n",
        "    BagOfWords = vectorizer.fit_transform(training)\n",
        "\n",
        "    # transforming training and testing data into vectors for BOW\n",
        "    train_inputs = vectorizer.transform(training)\n",
        "    test_inputs = vectorizer.transform(testing)\n",
        "    dev_inputs = vectorizer.transform(validation)\n",
        "\n",
        "    # vocabulary\n",
        "    vocabulary = vectorizer.get_feature_names_out()\n",
        "\n",
        "    return train_inputs, test_inputs, dev_inputs, BagOfWords, vocabulary"
      ]
    },
    {
      "cell_type": "markdown",
      "id": "f602d5eb-4058-4987-811f-37ee4935a1a9",
      "metadata": {
        "id": "f602d5eb-4058-4987-811f-37ee4935a1a9"
      },
      "source": [
        "2. Representing text in numeric form: Tf-Idf"
      ]
    },
    {
      "cell_type": "code",
      "execution_count": null,
      "id": "5d67047b-d013-4c17-898c-878fa9a9a638",
      "metadata": {
        "id": "5d67047b-d013-4c17-898c-878fa9a9a638"
      },
      "outputs": [],
      "source": [
        "# creating a function to create a tf-idf vectorizer, fit on training data and transform train, test and dev data\n",
        "def TfIdf_vectorizer(training, testing, validation, num_features=2500):\n",
        "    # creating a BOW vectorizer and specify how we want to break up the words\n",
        "    vectorizer = TfidfVectorizer(max_features=num_features, stop_words=stopwords.words('english'))\n",
        "\n",
        "    # fitting the vectorizer to the training data to get Bag of Words\n",
        "    tfid = vectorizer.fit_transform(training).toarray()\n",
        "\n",
        "    # transforming training and testing data into vectors for BOW\n",
        "    train_inputs = vectorizer.transform(training).toarray()\n",
        "    test_inputs = vectorizer.transform(testing).toarray()\n",
        "    dev_inputs = vectorizer.transform(validation).toarray()\n",
        "\n",
        "    return train_inputs, test_inputs, dev_inputs"
      ]
    },
    {
      "cell_type": "markdown",
      "id": "26504daa-919a-4ce6-a783-4b6eb5b8cdee",
      "metadata": {
        "id": "26504daa-919a-4ce6-a783-4b6eb5b8cdee"
      },
      "source": [
        "Modelling:\n",
        "1. Naives Bayes Classifier\n",
        "2. Gaussian Bayes Classifier\n",
        "3. Random Forest Classifier\n",
        "4. Recurrent Neural Networks (LSTM)\n",
        "5. Recurrent Neural Networks (Bi-LSTM)"
      ]
    },
    {
      "cell_type": "markdown",
      "id": "4540b6c6-c664-4ef0-950e-bc37f776c47f",
      "metadata": {
        "id": "4540b6c6-c664-4ef0-950e-bc37f776c47f"
      },
      "source": [
        "# 1. Modelling: Naives Bayes Classifier"
      ]
    },
    {
      "cell_type": "markdown",
      "id": "314f7a40-5390-45c4-9fca-6855b70f45c5",
      "metadata": {
        "id": "314f7a40-5390-45c4-9fca-6855b70f45c5"
      },
      "source": [
        "## 1.1 Model: Naives Bayes Classifier  \n",
        "Normalisation: N/A (Original)  \n",
        "Convert to numeric method: Bag of Words"
      ]
    },
    {
      "cell_type": "code",
      "execution_count": null,
      "id": "81ca05b4-9b70-4461-a388-d9ff75c734be",
      "metadata": {
        "id": "81ca05b4-9b70-4461-a388-d9ff75c734be"
      },
      "outputs": [],
      "source": [
        "# preprocessing of training data\n",
        "train_amended = train_unique.copy()\n",
        "train_amended = preprocess(train_amended)\n",
        "train_amended = remove_stopwords(train_amended)\n",
        "train_X, train_Y = split_X_Y(train_amended)\n",
        "\n",
        "# preprocessing of test data\n",
        "test_amended = test_unique.copy()\n",
        "test_amended = preprocess(test_amended)\n",
        "test_amended = remove_stopwords(test_amended)\n",
        "test_X, test_Y = split_X_Y(test_amended)\n",
        "\n",
        "# preprocessing of dev data\n",
        "dev_amended = dev_unique.copy()\n",
        "dev_amended = preprocess(dev_amended)\n",
        "dev_amended = remove_stopwords(dev_amended)\n",
        "dev_X, dev_Y = split_X_Y(dev_amended)\n",
        "\n",
        "# Bag of Words with original training X data (i.e., no tokenising, lemmatization or stemming)\n",
        "train_X_BOW, test_X_BOW, dev_X_BOW, BOW, words = BOW_vectorizer(train_X, test_X, dev_X)"
      ]
    },
    {
      "cell_type": "code",
      "execution_count": null,
      "id": "715939ff-f44e-4860-983d-92eccd5728fa",
      "metadata": {
        "id": "715939ff-f44e-4860-983d-92eccd5728fa"
      },
      "outputs": [],
      "source": [
        "# merging train and dev together for hyperparameter tuning\n",
        "train_dev_X = pd.concat([train_X, dev_X], ignore_index=True)\n",
        "train_dev_Y = pd.concat([train_Y, dev_Y], ignore_index=True)\n",
        "\n",
        "# Bag of Words with original training X data (i.e., no tokenising, lemmatization or stemming)\n",
        "train_Tuning_BOW, train_dev_X_BOW, dev_tuning, BOW_tuning, words_tuning = BOW_vectorizer(train_X, train_dev_X, dev_X)"
      ]
    },
    {
      "cell_type": "code",
      "execution_count": null,
      "id": "eca60232-eae3-4431-b114-41292952be77",
      "metadata": {
        "id": "eca60232-eae3-4431-b114-41292952be77",
        "outputId": "52e5872f-0a15-4fac-a7b5-bc0837e81d97"
      },
      "outputs": [
        {
          "name": "stdout",
          "output_type": "stream",
          "text": [
            "Fitting 1 folds for each of 7 candidates, totalling 7 fits\n"
          ]
        },
        {
          "data": {
            "text/plain": [
              "{'alpha': 0.1}"
            ]
          },
          "execution_count": 29,
          "metadata": {},
          "output_type": "execute_result"
        }
      ],
      "source": [
        "# hyperparameter tuning with GridSearch\n",
        "# define parameter grid\n",
        "alpha = [0.0001, 0.001, 0.01, 0.1, 1, 10, 100]\n",
        "\n",
        "# Create the param grid\n",
        "param_grid = {'alpha': alpha}\n",
        "\n",
        "# define validation split\n",
        "from sklearn.model_selection import PredefinedSplit # index of -1 for train and index of 1 for validation\n",
        "train_index = np.zeros(len(train_X)) - 1\n",
        "dev_index = np.ones(len(dev_X))\n",
        "test_fold = np.concatenate((train_index, dev_index))\n",
        "ps = PredefinedSplit(test_fold)\n",
        "\n",
        "# fitting the GridSearch\n",
        "NB_GridSearch = GridSearchCV(estimator=MultinomialNB(), param_grid=param_grid, cv=ps, verbose=2, n_jobs=4)\n",
        "NB_GridSearch.fit(train_dev_X_BOW, train_dev_Y)\n",
        "\n",
        "# get the best parameters\n",
        "NB_GridSearch.best_params_"
      ]
    },
    {
      "cell_type": "code",
      "execution_count": null,
      "id": "1b258f42-0327-4b4a-944b-fa88032e5229",
      "metadata": {
        "id": "1b258f42-0327-4b4a-944b-fa88032e5229"
      },
      "outputs": [],
      "source": [
        "# define model with best parameters\n",
        "nb = MultinomialNB(alpha=0.1)"
      ]
    },
    {
      "cell_type": "code",
      "execution_count": null,
      "id": "ae08d87e-25fc-4897-9b5b-3ed4b2beeea8",
      "metadata": {
        "id": "ae08d87e-25fc-4897-9b5b-3ed4b2beeea8",
        "outputId": "73eaa37d-dff7-4f59-9395-2217d2dbc1a7"
      },
      "outputs": [
        {
          "name": "stdout",
          "output_type": "stream",
          "text": [
            "The accuracy is: 0.7800687285223368\n",
            "The f-1 score is :\n",
            " [0.86687631 0.55855856 0.68456376]\n",
            "Confusion Matrix:\n",
            " [[827  63  24]\n",
            " [116 155  38]\n",
            " [ 51  28 153]]\n"
          ]
        }
      ],
      "source": [
        "# training Naives Bayes Classifier with original training data with BOW\n",
        "NBC_BOW = nb.fit(train_X_BOW, train_Y)\n",
        "\n",
        "# predicting airline_sentiment for test data\n",
        "y_predict = NBC_BOW.predict(test_X_BOW)\n",
        "\n",
        "# calculating accuracy score, f1-score, confusion matrix for test data\n",
        "accuracy = accuracy_score(test_Y, y_predict)\n",
        "print(\"The accuracy is:\",accuracy)\n",
        "\n",
        "f1 = f1_score(test_Y, y_predict, average=None)\n",
        "print(\"The f-1 score is :\\n\",f1)\n",
        "\n",
        "ConfusionMatrix = confusion_matrix(test_Y, y_predict)\n",
        "print(\"Confusion Matrix:\\n\",ConfusionMatrix)"
      ]
    },
    {
      "cell_type": "code",
      "execution_count": null,
      "id": "0bcbd598-bff8-49be-9548-57bffdc00de1",
      "metadata": {
        "id": "0bcbd598-bff8-49be-9548-57bffdc00de1",
        "outputId": "bc3b2b25-8a0f-45bb-f555-0767ea834a1e"
      },
      "outputs": [
        {
          "name": "stdout",
          "output_type": "stream",
          "text": [
            "The accuracy is: 0.9031188918160958\n",
            "The f-1 score is :\n",
            " [0.93643473 0.80699536 0.89208257]\n",
            "Confusion Matrix:\n",
            " [[7005  270  102]\n",
            " [ 457 1915  119]\n",
            " [ 122   70 1707]]\n"
          ]
        }
      ],
      "source": [
        "# predicting airline_sentiment for train data\n",
        "y_predict_train = NBC_BOW.predict(train_X_BOW)\n",
        "\n",
        "# calculating accuracy score, f1-score, confusion matrix for train data\n",
        "accuracy = accuracy_score(train_Y, y_predict_train)\n",
        "print(\"The accuracy is:\",accuracy)\n",
        "\n",
        "f1 = f1_score(train_Y, y_predict_train, average=None)\n",
        "print(\"The f-1 score is :\\n\",f1)\n",
        "\n",
        "ConfusionMatrix = confusion_matrix(train_Y, y_predict_train)\n",
        "print(\"Confusion Matrix:\\n\",ConfusionMatrix)"
      ]
    },
    {
      "cell_type": "code",
      "execution_count": null,
      "id": "16bb6f38-1520-4234-ad68-9967f8cec3ee",
      "metadata": {
        "id": "16bb6f38-1520-4234-ad68-9967f8cec3ee",
        "outputId": "bfe24f39-9c86-4c70-e27b-e6bf5eaffcc1"
      },
      "outputs": [
        {
          "name": "stdout",
          "output_type": "stream",
          "text": [
            "The accuracy is: 0.7615793470007594\n",
            "The f-1 score is :\n",
            " [0.85221392 0.51219512 0.67493797]\n",
            "Confusion Matrix:\n",
            " [[741  60  24]\n",
            " [123 126  30]\n",
            " [ 50  27 136]]\n"
          ]
        }
      ],
      "source": [
        "# predicting airline_sentiment for validation data\n",
        "y_predict_dev= NBC_BOW.predict(dev_X_BOW)\n",
        "\n",
        "# calculating accuracy score, f1-score, confusion matrix for validation data\n",
        "accuracy = accuracy_score(dev_Y, y_predict_dev)\n",
        "print(\"The accuracy is:\",accuracy)\n",
        "\n",
        "f1 = f1_score(dev_Y, y_predict_dev, average=None)\n",
        "print(\"The f-1 score is :\\n\",f1)\n",
        "\n",
        "ConfusionMatrix = confusion_matrix(dev_Y, y_predict_dev)\n",
        "print(\"Confusion Matrix:\\n\",ConfusionMatrix)"
      ]
    },
    {
      "cell_type": "markdown",
      "id": "bd902d4a-062e-4ab0-a2d6-6b3f53b5ccb9",
      "metadata": {
        "id": "bd902d4a-062e-4ab0-a2d6-6b3f53b5ccb9"
      },
      "source": [
        "## 1.2 Model: Naives Bayes Classifier  \n",
        "Normalisation: Lemmatization  \n",
        "Convert to numeric method: Bag of Words"
      ]
    },
    {
      "cell_type": "code",
      "execution_count": null,
      "id": "f47c6043-1d5c-4efa-a7be-42caf90e0293",
      "metadata": {
        "id": "f47c6043-1d5c-4efa-a7be-42caf90e0293"
      },
      "outputs": [],
      "source": [
        "# preprocessing of training data\n",
        "train_amended = train_unique.copy()\n",
        "train_amended = preprocess(train_amended)\n",
        "train_amended = remove_stopwords(train_amended)\n",
        "train_X, train_Y = split_X_Y(train_amended)\n",
        "train_X_token = tokenize_tweet(train_X)\n",
        "train_X_lemmatize = lemmatize_data(train_X_token)\n",
        "\n",
        "# preprocessing of test data\n",
        "test_amended = test_unique.copy()\n",
        "test_amended = preprocess(test_amended)\n",
        "test_amended = remove_stopwords(test_amended)\n",
        "test_X, test_Y = split_X_Y(test_amended)\n",
        "test_X_token = tokenize_tweet(test_X)\n",
        "test_X_lemmatize = lemmatize_data(test_X_token)\n",
        "\n",
        "# preprocessing of dev data\n",
        "dev_amended = dev_unique.copy()\n",
        "dev_amended = preprocess(dev_amended)\n",
        "dev_amended = remove_stopwords(dev_amended)\n",
        "dev_X, dev_Y = split_X_Y(dev_amended)\n",
        "dev_X_token = tokenize_tweet(dev_X)\n",
        "dev_X_lemmatize = lemmatize_data(dev_X_token)\n",
        "\n",
        "# Bag of Words with lemmatize training X data\n",
        "train_X_lemmatize_BOW, test_X_lemmatize_BOW, dev_X_lemmatize_BOW, BOW_lemmatize, words_lemmatize = BOW_vectorizer(train_X_lemmatize, test_X_lemmatize, dev_X_lemmatize)"
      ]
    },
    {
      "cell_type": "code",
      "execution_count": null,
      "id": "6470ae28-2220-4812-b066-90c6c8dac33d",
      "metadata": {
        "id": "6470ae28-2220-4812-b066-90c6c8dac33d"
      },
      "outputs": [],
      "source": [
        "# merging train and dev together for hyperparameter tuning\n",
        "train_dev_X = pd.concat([train_X, dev_X], ignore_index=True)\n",
        "train_dev_X_token = tokenize_tweet(train_dev_X)\n",
        "train_dev_X_lemmatize = lemmatize_data(train_dev_X_token)\n",
        "\n",
        "train_dev_Y = pd.concat([train_Y, dev_Y], ignore_index=True)\n",
        "\n",
        "# Bag of Words with lemmatize training X data\n",
        "train_tuning, train_dev_X_lemmatize_BOW, dev_tuning, BOW_tuning, words_tuning = BOW_vectorizer(train_X_lemmatize, train_dev_X_lemmatize, dev_X_lemmatize)"
      ]
    },
    {
      "cell_type": "code",
      "execution_count": null,
      "id": "068e5069-c607-45a9-85ae-591ef7248267",
      "metadata": {
        "id": "068e5069-c607-45a9-85ae-591ef7248267",
        "outputId": "6b399f97-9276-41c5-b5a8-136b412c7a4d"
      },
      "outputs": [
        {
          "name": "stdout",
          "output_type": "stream",
          "text": [
            "Fitting 1 folds for each of 7 candidates, totalling 7 fits\n"
          ]
        },
        {
          "data": {
            "text/plain": [
              "{'alpha': 1}"
            ]
          },
          "execution_count": 38,
          "metadata": {},
          "output_type": "execute_result"
        }
      ],
      "source": [
        "# hyperparameter tuning with GridSearch\n",
        "# define parameter grid\n",
        "alpha = [0.0001, 0.001, 0.01, 0.1, 1, 10, 100]\n",
        "\n",
        "# Create the param grid\n",
        "param_grid = {'alpha': alpha}\n",
        "\n",
        "# define validation split\n",
        "# index of -1 for train and index of 1 for validation\n",
        "train_index = np.zeros(len(train_X)) - 1\n",
        "dev_index = np.ones(len(dev_X))\n",
        "test_fold = np.concatenate((train_index, dev_index))\n",
        "ps = PredefinedSplit(test_fold)\n",
        "\n",
        "# fitting the GridSearch\n",
        "NB_GridSearch = GridSearchCV(estimator=MultinomialNB(), param_grid=param_grid, cv=ps, verbose=2, n_jobs=4)\n",
        "NB_GridSearch.fit(train_dev_X_lemmatize_BOW, train_dev_Y)\n",
        "\n",
        "# get the best parameters\n",
        "NB_GridSearch.best_params_"
      ]
    },
    {
      "cell_type": "code",
      "execution_count": null,
      "id": "287b66df-b2b3-4952-bd49-0721b3ef667b",
      "metadata": {
        "id": "287b66df-b2b3-4952-bd49-0721b3ef667b"
      },
      "outputs": [],
      "source": [
        "# define model with best parameters\n",
        "nb = MultinomialNB(alpha=1)"
      ]
    },
    {
      "cell_type": "code",
      "execution_count": null,
      "id": "ba916859-c462-4530-b1fe-04696efe3c49",
      "metadata": {
        "id": "ba916859-c462-4530-b1fe-04696efe3c49",
        "outputId": "ae6a0e48-a9ef-4e5d-c180-ea20420f1b96"
      },
      "outputs": [
        {
          "name": "stdout",
          "output_type": "stream",
          "text": [
            "The accuracy is: 0.7663230240549829\n",
            "The f-1 score is :\n",
            " [0.85574092 0.5186722  0.60512821]\n",
            "Confusion Matrix:\n",
            " [[872  28  14]\n",
            " [158 125  26]\n",
            " [ 94  20 118]]\n"
          ]
        }
      ],
      "source": [
        "# training Naives Bayes Classifier with lemmatize training data with BOW\n",
        "NBC_BOW = nb.fit(train_X_lemmatize_BOW,train_Y)\n",
        "\n",
        "# predicting airline_sentiment for test data\n",
        "y_predict = NBC_BOW.predict(test_X_lemmatize_BOW)\n",
        "\n",
        "# calculating accuracy score, f1-score and confusion matrix for test data\n",
        "accuracy = accuracy_score(test_Y, y_predict)\n",
        "print(\"The accuracy is:\", accuracy)\n",
        "\n",
        "f1 = f1_score(test_Y, y_predict, average=None)\n",
        "print(\"The f-1 score is :\\n\",f1)\n",
        "\n",
        "ConfusionMatrix = confusion_matrix(test_Y, y_predict)\n",
        "print(\"Confusion Matrix:\\n\",ConfusionMatrix)"
      ]
    },
    {
      "cell_type": "code",
      "execution_count": null,
      "id": "2d4c578e-b11d-4a70-997e-98ead6c73154",
      "metadata": {
        "id": "2d4c578e-b11d-4a70-997e-98ead6c73154",
        "outputId": "f7427fc3-4fed-4f28-9f8c-25c0e9a6c54d"
      },
      "outputs": [
        {
          "name": "stdout",
          "output_type": "stream",
          "text": [
            "The accuracy is: 0.8404861052094842\n",
            "The f-1 score is :\n",
            " [0.8946377  0.67305849 0.79278231]\n",
            "Confusion Matrix:\n",
            " [[7124  187   66]\n",
            " [ 978 1404  109]\n",
            " [ 447   90 1362]]\n"
          ]
        }
      ],
      "source": [
        "# predicting airline_sentiment for train data\n",
        "y_predict_train = NBC_BOW.predict(train_X_lemmatize_BOW)\n",
        "\n",
        "# calculating accuracy score, f1-score and confusion matrix for train data\n",
        "accuracy = accuracy_score(train_Y, y_predict_train)\n",
        "print(\"The accuracy is:\", accuracy)\n",
        "\n",
        "f1 = f1_score(train_Y, y_predict_train, average=None)\n",
        "print(\"The f-1 score is :\\n\",f1)\n",
        "\n",
        "ConfusionMatrix = confusion_matrix(train_Y, y_predict_train)\n",
        "print(\"Confusion Matrix:\\n\",ConfusionMatrix)"
      ]
    },
    {
      "cell_type": "code",
      "execution_count": null,
      "id": "440b9f7d-dddc-4077-800a-4cf2f384177d",
      "metadata": {
        "id": "440b9f7d-dddc-4077-800a-4cf2f384177d"
      },
      "outputs": [],
      "source": [
        "# predicting airline_sentiment for dev data\n",
        "y_predict_dev = NBC_BOW.predict(dev_X_lemmatize_BOW)\n",
        "\n",
        "# calculating accuracy score, f1-score and confusion matrix for train data\n",
        "accuracy = accuracy_score(dev_Y, y_predict_dev)\n",
        "print(\"The accuracy is:\", accuracy)\n",
        "\n",
        "f1 = f1_score(dev_Y, y_predict_dev, average=None)\n",
        "print(\"The f-1 score is :\\n\",f1)\n",
        "\n",
        "ConfusionMatrix = confusion_matrix(dev_Y, y_predict_dev)\n",
        "print(\"Confusion Matrix:\\n\",ConfusionMatrix)"
      ]
    },
    {
      "cell_type": "markdown",
      "id": "87f9d75c-4464-4c68-9e3d-6a2ca6668e96",
      "metadata": {
        "id": "87f9d75c-4464-4c68-9e3d-6a2ca6668e96"
      },
      "source": [
        "## 1.3 Model: Naives Bayes Classifier  \n",
        "Normalisation: Porter Stemming   \n",
        "Convert to numeric method: Bag of Words"
      ]
    },
    {
      "cell_type": "code",
      "execution_count": null,
      "id": "2fbaf1d1-4d7e-4daf-b41a-c0b1018e59f6",
      "metadata": {
        "id": "2fbaf1d1-4d7e-4daf-b41a-c0b1018e59f6"
      },
      "outputs": [],
      "source": [
        "# preprocessing of training data\n",
        "train_amended = train_unique.copy()\n",
        "train_amended = preprocess(train_amended)\n",
        "train_amended = remove_stopwords(train_amended)\n",
        "train_X, train_Y = split_X_Y(train_amended)\n",
        "train_X_token = tokenize_tweet(train_X)\n",
        "train_X_PS = stem_data(train_X_token, method=\"Porter\")\n",
        "\n",
        "# preprocessing of test data\n",
        "test_amended = test_unique.copy()\n",
        "test_amended = preprocess(test_amended)\n",
        "test_amended = remove_stopwords(test_amended)\n",
        "test_X, test_Y = split_X_Y(test_amended)\n",
        "test_X_token = tokenize_tweet(test_X)\n",
        "test_X_PS = stem_data(test_X_token, method=\"Porter\")\n",
        "\n",
        "# preprocessing of dev data\n",
        "dev_amended = dev_unique.copy()\n",
        "dev_amended = preprocess(dev_amended)\n",
        "dev_amended = remove_stopwords(dev_amended)\n",
        "dev_X, dev_Y = split_X_Y(dev_amended)\n",
        "dev_X_token = tokenize_tweet(dev_X)\n",
        "dev_X_PS = stem_data(dev_X_token, method=\"Porter\")\n",
        "\n",
        "# Bag of Words with Porter stemming training X data\n",
        "train_X_PS_BOW, test_X_PS_BOW, dev_X_PS_BOW, BOW_PS, words_PS = BOW_vectorizer(train_X_PS, test_X_PS, dev_X_PS)"
      ]
    },
    {
      "cell_type": "code",
      "execution_count": null,
      "id": "cdcf5386-717b-45f1-a6e4-6bf24bd3af94",
      "metadata": {
        "id": "cdcf5386-717b-45f1-a6e4-6bf24bd3af94"
      },
      "outputs": [],
      "source": [
        "# merging train and dev together for hyperparameter tuning\n",
        "train_dev_X = pd.concat([train_X, dev_X], ignore_index=True)\n",
        "train_dev_X_token = tokenize_tweet(train_dev_X)\n",
        "train_dev_X_PS = stem_data(train_dev_X_token, method=\"Porter\")\n",
        "\n",
        "train_dev_Y = pd.concat([train_Y, dev_Y], ignore_index=True)\n",
        "\n",
        "# Bag of Words with Porter stemming training X data\n",
        "train_tuning, train_dev_X_PS_BOW, dev_tuning, BOW_tuning, words_tuning = BOW_vectorizer(train_X_PS, train_dev_X_PS, dev_X_PS)"
      ]
    },
    {
      "cell_type": "code",
      "execution_count": null,
      "id": "36ddcfbe-c9a7-44d7-b60e-11a21732cd52",
      "metadata": {
        "id": "36ddcfbe-c9a7-44d7-b60e-11a21732cd52",
        "outputId": "459474e6-07d2-4bc8-ed60-b00989598095"
      },
      "outputs": [
        {
          "name": "stdout",
          "output_type": "stream",
          "text": [
            "Fitting 1 folds for each of 7 candidates, totalling 7 fits\n"
          ]
        },
        {
          "data": {
            "text/plain": [
              "{'alpha': 0.1}"
            ]
          },
          "execution_count": 45,
          "metadata": {},
          "output_type": "execute_result"
        }
      ],
      "source": [
        "# hyperparameter tuning with GridSearch\n",
        "# define parameter grid\n",
        "alpha = [0.0001, 0.001, 0.01, 0.1, 1, 10, 100]\n",
        "\n",
        "# Create the param grid\n",
        "param_grid = {'alpha': alpha}\n",
        "\n",
        "# define validation split\n",
        "from sklearn.model_selection import PredefinedSplit # index of -1 for train and index of 1 for validation\n",
        "train_index = np.zeros(len(train_X)) - 1\n",
        "dev_index = np.ones(len(dev_X))\n",
        "test_fold = np.concatenate((train_index, dev_index))\n",
        "ps = PredefinedSplit(test_fold)\n",
        "\n",
        "# fitting the GridSearch\n",
        "NB_GridSearch = GridSearchCV(estimator=MultinomialNB(), param_grid=param_grid, cv=ps, verbose=2, n_jobs=4)\n",
        "NB_GridSearch.fit(train_dev_X_PS_BOW, train_dev_Y)\n",
        "\n",
        "# get the best parameters\n",
        "NB_GridSearch.best_params_"
      ]
    },
    {
      "cell_type": "code",
      "execution_count": null,
      "id": "4380c26b-6622-48ff-ab50-ca4bcbcace45",
      "metadata": {
        "id": "4380c26b-6622-48ff-ab50-ca4bcbcace45"
      },
      "outputs": [],
      "source": [
        "# define model with best parameters\n",
        "nb = MultinomialNB(alpha=0.1)"
      ]
    },
    {
      "cell_type": "code",
      "execution_count": null,
      "id": "30be1920-0969-474b-8d47-e1f155359d2b",
      "metadata": {
        "id": "30be1920-0969-474b-8d47-e1f155359d2b",
        "outputId": "6d86587a-ff73-409c-9b5a-4ed162e714b4"
      },
      "outputs": [
        {
          "name": "stdout",
          "output_type": "stream",
          "text": [
            "The accuracy is: 0.770446735395189\n",
            "The f-1 score is :\n",
            " [0.86132915 0.55062167 0.6559633 ]\n",
            "Confusion Matrix:\n",
            " [[823  70  21]\n",
            " [114 155  40]\n",
            " [ 60  29 143]]\n"
          ]
        }
      ],
      "source": [
        "# training Naives Bayes Classifier with Porter stemming training data with BOW\n",
        "NBC_BOW = nb.fit(train_X_PS_BOW, train_Y)\n",
        "\n",
        "# predicting airline_sentiment for test data\n",
        "y_predict = NBC_BOW.predict(test_X_PS_BOW)\n",
        "\n",
        "# calculating accuracy score, f1-score and confusion matrix for test data\n",
        "accuracy = accuracy_score(test_Y, y_predict)\n",
        "print(\"The accuracy is:\", accuracy)\n",
        "\n",
        "f1 = f1_score(test_Y, y_predict, average=None)\n",
        "print(\"The f-1 score is :\\n\",f1)\n",
        "\n",
        "ConfusionMatrix = confusion_matrix(test_Y, y_predict)\n",
        "print(\"Confusion Matrix:\\n\",ConfusionMatrix)"
      ]
    },
    {
      "cell_type": "code",
      "execution_count": null,
      "id": "a59bcdec-b1c3-4226-804b-7901cf1d661c",
      "metadata": {
        "id": "a59bcdec-b1c3-4226-804b-7901cf1d661c",
        "outputId": "286d4be0-58a2-43af-9309-d8f9cc7cbfb4"
      },
      "outputs": [
        {
          "name": "stdout",
          "output_type": "stream",
          "text": [
            "The accuracy is: 0.8864621398827228\n",
            "The f-1 score is :\n",
            " [0.92534525 0.77474041 0.87192891]\n",
            "Confusion Matrix:\n",
            " [[6935  315  127]\n",
            " [ 531 1828  132]\n",
            " [ 146   85 1668]]\n"
          ]
        }
      ],
      "source": [
        "# predicting airline_sentiment for train data\n",
        "y_predict_train = NBC_BOW.predict(train_X_PS_BOW)\n",
        "\n",
        "# calculating accuracy score, f1-score and confusion matrix for train data\n",
        "accuracy = accuracy_score(train_Y, y_predict_train)\n",
        "print(\"The accuracy is:\", accuracy)\n",
        "\n",
        "f1 = f1_score(train_Y, y_predict_train, average=None)\n",
        "print(\"The f-1 score is :\\n\",f1)\n",
        "\n",
        "ConfusionMatrix = confusion_matrix(train_Y, y_predict_train)\n",
        "print(\"Confusion Matrix:\\n\",ConfusionMatrix)"
      ]
    },
    {
      "cell_type": "code",
      "execution_count": null,
      "id": "4ee929f3-f503-4146-a5ac-47652a71d2bf",
      "metadata": {
        "id": "4ee929f3-f503-4146-a5ac-47652a71d2bf",
        "outputId": "514a6210-3206-407f-bed8-aadf54733d55"
      },
      "outputs": [
        {
          "name": "stdout",
          "output_type": "stream",
          "text": [
            "The accuracy is: 0.7585421412300684\n",
            "The f-1 score is :\n",
            " [0.85304248 0.50612245 0.65671642]\n",
            "Confusion Matrix:\n",
            " [[743  59  23]\n",
            " [121 124  34]\n",
            " [ 53  28 132]]\n"
          ]
        }
      ],
      "source": [
        "# predicting airline_sentiment for dev data\n",
        "y_predict_dev = NBC_BOW.predict(dev_X_PS_BOW)\n",
        "\n",
        "# calculating accuracy score, f1-score and confusion matrix for dev data\n",
        "accuracy = accuracy_score(dev_Y, y_predict_dev)\n",
        "print(\"The accuracy is:\", accuracy)\n",
        "\n",
        "f1 = f1_score(dev_Y, y_predict_dev, average=None)\n",
        "print(\"The f-1 score is :\\n\",f1)\n",
        "\n",
        "ConfusionMatrix = confusion_matrix(dev_Y, y_predict_dev)\n",
        "print(\"Confusion Matrix:\\n\",ConfusionMatrix)"
      ]
    },
    {
      "cell_type": "markdown",
      "id": "b7f94e1b-1fa5-4692-96da-b90d9246c706",
      "metadata": {
        "id": "b7f94e1b-1fa5-4692-96da-b90d9246c706"
      },
      "source": [
        "## 1.4 Model: Naives Bayes Classifier  \n",
        "Normalisation: Lancaster Stemming  \n",
        "Convert to numeric method: Bag of Words"
      ]
    },
    {
      "cell_type": "code",
      "execution_count": null,
      "id": "d3114e59-6cec-4a75-a874-735c1c5646bc",
      "metadata": {
        "id": "d3114e59-6cec-4a75-a874-735c1c5646bc"
      },
      "outputs": [],
      "source": [
        "# preprocessing of training data\n",
        "train_amended = train_unique.copy()\n",
        "train_amended = preprocess(train_amended)\n",
        "train_amended = remove_stopwords(train_amended)\n",
        "train_X, train_Y = split_X_Y(train_amended)\n",
        "train_X_token = tokenize_tweet(train_X)\n",
        "train_X_LS = stem_data(train_X_token, method=\"Lancaster\")\n",
        "\n",
        "# preprocessing of test data\n",
        "test_amended = test_unique.copy()\n",
        "test_amended = preprocess(test_amended)\n",
        "test_amended = remove_stopwords(test_amended)\n",
        "test_X, test_Y = split_X_Y(test_amended)\n",
        "test_X_token = tokenize_tweet(test_X)\n",
        "test_X_LS = stem_data(test_X_token, method=\"Lancaster\")\n",
        "\n",
        "# preprocessing of dev data\n",
        "dev_amended = dev_unique.copy()\n",
        "dev_amended = preprocess(dev_amended)\n",
        "dev_amended = remove_stopwords(dev_amended)\n",
        "dev_X, dev_Y = split_X_Y(dev_amended)\n",
        "dev_X_token = tokenize_tweet(dev_X)\n",
        "dev_X_LS = stem_data(dev_X_token, method=\"Lancaster\")\n",
        "\n",
        "# Bag of Words with Lancaster Stemming training X data\n",
        "train_X_LS_BOW, test_X_LS_BOW, dev_X_LS_BOW, BOW_LS, words_LS = BOW_vectorizer(train_X_LS, test_X_LS, dev_X_LS)"
      ]
    },
    {
      "cell_type": "code",
      "execution_count": null,
      "id": "eaa5c748-3ff8-470e-a6fe-116be9ec7856",
      "metadata": {
        "id": "eaa5c748-3ff8-470e-a6fe-116be9ec7856"
      },
      "outputs": [],
      "source": [
        "# merging train and dev together for hyperparameter tuning\n",
        "train_dev_X = pd.concat([train_X, dev_X], ignore_index=True)\n",
        "train_dev_X_token = tokenize_tweet(train_dev_X)\n",
        "train_dev_X_LS = stem_data(train_dev_X_token, method=\"Lancaster\")\n",
        "\n",
        "train_dev_Y = pd.concat([train_Y, dev_Y], ignore_index=True)\n",
        "\n",
        "# Bag of Words with Lancaster stemming training X data\n",
        "train_tuning, train_dev_X_LS_BOW, dev_tuning, BOW_tuning, words_tuning = BOW_vectorizer(train_X_LS, train_dev_X_LS, dev_X_LS)"
      ]
    },
    {
      "cell_type": "code",
      "execution_count": null,
      "id": "f6f61868-9b1c-4f39-8ed8-55e09e49fca0",
      "metadata": {
        "id": "f6f61868-9b1c-4f39-8ed8-55e09e49fca0",
        "outputId": "a495b220-c9e9-460f-c71f-e6a1511a50ba"
      },
      "outputs": [
        {
          "name": "stdout",
          "output_type": "stream",
          "text": [
            "Fitting 1 folds for each of 7 candidates, totalling 7 fits\n"
          ]
        },
        {
          "data": {
            "text/plain": [
              "{'alpha': 1}"
            ]
          },
          "execution_count": 52,
          "metadata": {},
          "output_type": "execute_result"
        }
      ],
      "source": [
        "# hyperparameter tuning with GridSearch\n",
        "# define parameter grid\n",
        "alpha = [0.0001, 0.001, 0.01, 0.1, 1, 10, 100]\n",
        "\n",
        "# Create the param grid\n",
        "param_grid = {'alpha': alpha}\n",
        "\n",
        "# define validation split\n",
        "# index of -1 for train and index of 1 for validation\n",
        "train_index = np.zeros(len(train_X)) - 1\n",
        "dev_index = np.ones(len(dev_X))\n",
        "test_fold = np.concatenate((train_index, dev_index))\n",
        "ps = PredefinedSplit(test_fold)\n",
        "\n",
        "# fitting the GridSearch\n",
        "NB_GridSearch = GridSearchCV(estimator=MultinomialNB(), param_grid=param_grid, cv=ps, verbose=2, n_jobs=4)\n",
        "NB_GridSearch.fit(train_dev_X_LS_BOW, train_dev_Y)\n",
        "\n",
        "# get the best parameters\n",
        "NB_GridSearch.best_params_"
      ]
    },
    {
      "cell_type": "code",
      "execution_count": null,
      "id": "62a0e26b-8fc3-43a7-8874-924d1932b86a",
      "metadata": {
        "id": "62a0e26b-8fc3-43a7-8874-924d1932b86a"
      },
      "outputs": [],
      "source": [
        "# define model with best parameters\n",
        "nb = MultinomialNB(alpha=1)"
      ]
    },
    {
      "cell_type": "code",
      "execution_count": null,
      "id": "a792f768-0cda-4ac9-b9b2-012baf5181de",
      "metadata": {
        "id": "a792f768-0cda-4ac9-b9b2-012baf5181de",
        "outputId": "1cb7d8e6-820d-4f9f-8fed-19345187bb76"
      },
      "outputs": [
        {
          "name": "stdout",
          "output_type": "stream",
          "text": [
            "The accuracy is: 0.7601374570446735\n",
            "The f-1 score is :\n",
            " [0.85588235 0.49579832 0.58375635]\n",
            "Confusion Matrix:\n",
            " [[873  29  12]\n",
            " [156 118  35]\n",
            " [ 97  20 115]]\n"
          ]
        }
      ],
      "source": [
        "# training Naives Bayes Classifier with Lancaster stemming training data with BOW\n",
        "NBC_BOW = nb.fit(train_X_LS_BOW, train_Y)\n",
        "\n",
        "# predicting airline_sentiment for test data\n",
        "y_predict = NBC_BOW.predict(test_X_LS_BOW)\n",
        "\n",
        "# calculating accuracy score, f1-score and confusion matrix for test data\n",
        "accuracy = accuracy_score(test_Y, y_predict)\n",
        "print(\"The accuracy is:\", accuracy)\n",
        "\n",
        "f1 = f1_score(test_Y, y_predict, average=None)\n",
        "print(\"The f-1 score is :\\n\",f1)\n",
        "\n",
        "ConfusionMatrix = confusion_matrix(test_Y, y_predict)\n",
        "print(\"Confusion Matrix:\\n\",ConfusionMatrix)"
      ]
    },
    {
      "cell_type": "code",
      "execution_count": null,
      "id": "6c58337f-bf81-448a-8432-7e5e0e23897c",
      "metadata": {
        "id": "6c58337f-bf81-448a-8432-7e5e0e23897c",
        "outputId": "4fd25331-1e69-43f5-d853-65e1a07c3a88"
      },
      "outputs": [
        {
          "name": "stdout",
          "output_type": "stream",
          "text": [
            "The accuracy is: 0.8357270332285205\n",
            "The f-1 score is :\n",
            " [0.89160113 0.65657294 0.7947096 ]\n",
            "Confusion Matrix:\n",
            " [[7086  212   79]\n",
            " [1007 1366  118]\n",
            " [ 425   92 1382]]\n"
          ]
        }
      ],
      "source": [
        "# predicting airline_sentiment for train data\n",
        "y_predict_train = NBC_BOW.predict(train_X_LS_BOW)\n",
        "\n",
        "# calculating accuracy score, f1-score and confusion matrix for train data\n",
        "accuracy = accuracy_score(train_Y, y_predict_train)\n",
        "print(\"The accuracy is:\", accuracy)\n",
        "\n",
        "f1 = f1_score(train_Y, y_predict_train, average=None)\n",
        "print(\"The f-1 score is :\\n\",f1)\n",
        "\n",
        "ConfusionMatrix = confusion_matrix(train_Y, y_predict_train)\n",
        "print(\"Confusion Matrix:\\n\",ConfusionMatrix)"
      ]
    },
    {
      "cell_type": "code",
      "execution_count": null,
      "id": "b266e5bf-3864-4c1e-bab3-a4bd6c8659c1",
      "metadata": {
        "id": "b266e5bf-3864-4c1e-bab3-a4bd6c8659c1",
        "outputId": "ce698b75-13a0-4b91-8e0e-326ca1649885"
      },
      "outputs": [
        {
          "name": "stdout",
          "output_type": "stream",
          "text": [
            "The accuracy is: 0.7593014426727411\n",
            "The f-1 score is :\n",
            " [0.85281385 0.48387097 0.60795455]\n",
            "Confusion Matrix:\n",
            " [[788  29   8]\n",
            " [150 105  24]\n",
            " [ 85  21 107]]\n"
          ]
        }
      ],
      "source": [
        "# predicting airline_sentiment for dev data\n",
        "y_predict_dev = NBC_BOW.predict(dev_X_LS_BOW)\n",
        "\n",
        "# calculating accuracy score, f1-score and confusion matrix for train data\n",
        "accuracy = accuracy_score(dev_Y, y_predict_dev)\n",
        "print(\"The accuracy is:\", accuracy)\n",
        "\n",
        "f1 = f1_score(dev_Y, y_predict_dev, average=None)\n",
        "print(\"The f-1 score is :\\n\",f1)\n",
        "\n",
        "ConfusionMatrix = confusion_matrix(dev_Y, y_predict_dev)\n",
        "print(\"Confusion Matrix:\\n\",ConfusionMatrix)"
      ]
    },
    {
      "cell_type": "markdown",
      "id": "3f8cc9b8-049b-43b9-91a6-a5caa961bff0",
      "metadata": {
        "id": "3f8cc9b8-049b-43b9-91a6-a5caa961bff0"
      },
      "source": [
        "## 1.5 Model: Naives Bayes Classifier  \n",
        "Normalisation: N/A (Original)  \n",
        "Convert to numeric method: Tf-Idf"
      ]
    },
    {
      "cell_type": "code",
      "execution_count": null,
      "id": "27debcd7-c768-49ff-a6e7-fd604146d146",
      "metadata": {
        "id": "27debcd7-c768-49ff-a6e7-fd604146d146"
      },
      "outputs": [],
      "source": [
        "# preprocessing of training data\n",
        "train_amended = train_unique.copy()\n",
        "train_amended = preprocess(train_amended)\n",
        "train_amended = remove_stopwords(train_amended)\n",
        "train_X, train_Y = split_X_Y(train_amended)\n",
        "\n",
        "# preprocessing of test data\n",
        "test_amended = test_unique.copy()\n",
        "test_amended = preprocess(test_amended)\n",
        "test_amended = remove_stopwords(test_amended)\n",
        "test_X, test_Y = split_X_Y(test_amended)\n",
        "\n",
        "# preprocessing of dev data\n",
        "dev_amended = dev_unique.copy()\n",
        "dev_amended = preprocess(dev_amended)\n",
        "dev_amended = remove_stopwords(dev_amended)\n",
        "dev_X, dev_Y = split_X_Y(dev_amended)\n",
        "\n",
        "# Tf-Idf with original training X data (i.e., no tokenising, lemmatization or stemming)\n",
        "train_X_TfIdf, test_X_TfIdf, dev_X_TfIdf = TfIdf_vectorizer(train_X, test_X, dev_X)"
      ]
    },
    {
      "cell_type": "code",
      "execution_count": null,
      "id": "09569539-d257-43b7-b35a-15ffcef5808f",
      "metadata": {
        "id": "09569539-d257-43b7-b35a-15ffcef5808f"
      },
      "outputs": [],
      "source": [
        "# merging train and dev together for hyperparameter tuning\n",
        "train_dev_X = pd.concat([train_X, dev_X], ignore_index=True)\n",
        "train_dev_Y = pd.concat([train_Y, dev_Y], ignore_index=True)\n",
        "\n",
        "# Tf-Idf with original training X data (i.e., no tokenising, lemmatization or stemming)\n",
        "train_tuning, train_dev_X_TfIdf, dev_tuning = TfIdf_vectorizer(train_X, train_dev_X, dev_X)"
      ]
    },
    {
      "cell_type": "code",
      "execution_count": null,
      "id": "b7db2a82-351e-47ce-884f-043519716d73",
      "metadata": {
        "id": "b7db2a82-351e-47ce-884f-043519716d73",
        "outputId": "8eebe4da-2079-4326-f0da-96e4aecf5310"
      },
      "outputs": [
        {
          "name": "stdout",
          "output_type": "stream",
          "text": [
            "Fitting 1 folds for each of 7 candidates, totalling 7 fits\n"
          ]
        },
        {
          "data": {
            "text/plain": [
              "{'alpha': 0.1}"
            ]
          },
          "execution_count": 59,
          "metadata": {},
          "output_type": "execute_result"
        }
      ],
      "source": [
        "# hyperparameter tuning with GridSearch\n",
        "# define parameter grid\n",
        "alpha = [0.0001, 0.001, 0.01, 0.1, 1, 10, 100]\n",
        "\n",
        "# Create the param grid\n",
        "param_grid = {'alpha': alpha}\n",
        "\n",
        "# define validation split\n",
        "from sklearn.model_selection import PredefinedSplit # index of -1 for train and index of 1 for validation\n",
        "train_index = np.zeros(len(train_X)) - 1\n",
        "dev_index = np.ones(len(dev_X))\n",
        "test_fold = np.concatenate((train_index, dev_index))\n",
        "ps = PredefinedSplit(test_fold)\n",
        "\n",
        "# fitting the GridSearch\n",
        "NB_GridSearch = GridSearchCV(estimator=MultinomialNB(), param_grid=param_grid, cv=ps, verbose=2, n_jobs=4)\n",
        "NB_GridSearch.fit(train_dev_X_TfIdf, train_dev_Y)\n",
        "\n",
        "# get the best parameters\n",
        "NB_GridSearch.best_params_"
      ]
    },
    {
      "cell_type": "code",
      "execution_count": null,
      "id": "1b97bdba-5ddd-4774-b724-66f95e06d1c8",
      "metadata": {
        "id": "1b97bdba-5ddd-4774-b724-66f95e06d1c8"
      },
      "outputs": [],
      "source": [
        "# define model with best parameters\n",
        "nb = MultinomialNB(alpha=0.1)"
      ]
    },
    {
      "cell_type": "code",
      "execution_count": null,
      "id": "013ebc3f-b5a9-4d97-a725-91af0587e8fe",
      "metadata": {
        "id": "013ebc3f-b5a9-4d97-a725-91af0587e8fe",
        "outputId": "445b266f-e5e2-4a99-946e-f3d7695d2993"
      },
      "outputs": [
        {
          "name": "stdout",
          "output_type": "stream",
          "text": [
            "The accuracy is: 0.7690721649484537\n",
            "The f-1 score is :\n",
            " [0.85994123 0.47478992 0.65306122]\n",
            "Confusion Matrix:\n",
            " [[878  31   5]\n",
            " [169 113  27]\n",
            " [ 81  23 128]]\n"
          ]
        }
      ],
      "source": [
        "# training Naives Bayes Classifier with original training data with TF-IDF\n",
        "NBC_TFID = nb.fit(train_X_TfIdf,train_Y)\n",
        "\n",
        "# predicting airline_sentiment for test data\n",
        "y_predict = NBC_TFID.predict(test_X_TfIdf)\n",
        "\n",
        "# calculating accuracy score, f1-score and confusion matrix for test data\n",
        "accuracy = accuracy_score(test_Y, y_predict)\n",
        "print(\"The accuracy is:\", accuracy)\n",
        "\n",
        "f1 = f1_score(test_Y, y_predict, average=None)\n",
        "print(\"The f-1 score is :\\n\",f1)\n",
        "\n",
        "ConfusionMatrix = confusion_matrix(test_Y, y_predict)\n",
        "print(\"Confusion Matrix:\\n\",ConfusionMatrix)"
      ]
    },
    {
      "cell_type": "code",
      "execution_count": null,
      "id": "ee66aa3b-1b0c-495f-a171-e66c075cb55d",
      "metadata": {
        "id": "ee66aa3b-1b0c-495f-a171-e66c075cb55d",
        "outputId": "5d6bafe7-050e-4e1f-9715-841fc6158815"
      },
      "outputs": [
        {
          "name": "stdout",
          "output_type": "stream",
          "text": [
            "The accuracy is: 0.8173706127305176\n",
            "The f-1 score is :\n",
            " [0.88312488 0.60420842 0.75203866]\n",
            "Confusion Matrix:\n",
            " [[7167  167   43]\n",
            " [1161 1206  124]\n",
            " [ 526  128 1245]]\n"
          ]
        }
      ],
      "source": [
        "# predicting airline_sentiment for train data\n",
        "y_predict_train = NBC_TFID.predict(train_X_TfIdf)\n",
        "\n",
        "# calculating accuracy score, f1-score and confusion matrix for test data\n",
        "accuracy = accuracy_score(train_Y, y_predict_train)\n",
        "print(\"The accuracy is:\", accuracy)\n",
        "\n",
        "f1 = f1_score(train_Y, y_predict_train, average=None)\n",
        "print(\"The f-1 score is :\\n\",f1)\n",
        "\n",
        "ConfusionMatrix = confusion_matrix(train_Y, y_predict_train)\n",
        "print(\"Confusion Matrix:\\n\",ConfusionMatrix)"
      ]
    },
    {
      "cell_type": "code",
      "execution_count": null,
      "id": "5dac5cdd-d198-4ff0-b80b-186b10f4f063",
      "metadata": {
        "id": "5dac5cdd-d198-4ff0-b80b-186b10f4f063",
        "outputId": "c1525dec-1a41-4d4d-e7df-f8ec590a1d8c"
      },
      "outputs": [
        {
          "name": "stdout",
          "output_type": "stream",
          "text": [
            "The accuracy is: 0.7441154138192863\n",
            "The f-1 score is :\n",
            " [0.8408728  0.43478261 0.58651026]\n",
            "Confusion Matrix:\n",
            " [[790  24  11]\n",
            " [172  90  17]\n",
            " [ 92  21 100]]\n"
          ]
        }
      ],
      "source": [
        "# predicting airline_sentiment for dev data\n",
        "y_predict_dev = NBC_TFID.predict(dev_X_TfIdf)\n",
        "\n",
        "# calculating accuracy score, f1-score and confusion matrix for test data\n",
        "accuracy = accuracy_score(dev_Y, y_predict_dev)\n",
        "print(\"The accuracy is:\", accuracy)\n",
        "\n",
        "f1 = f1_score(dev_Y, y_predict_dev, average=None)\n",
        "print(\"The f-1 score is :\\n\",f1)\n",
        "\n",
        "ConfusionMatrix = confusion_matrix(dev_Y, y_predict_dev)\n",
        "print(\"Confusion Matrix:\\n\",ConfusionMatrix)"
      ]
    },
    {
      "cell_type": "markdown",
      "id": "f24f4fab-648a-4d20-aaa0-eed055aed285",
      "metadata": {
        "id": "f24f4fab-648a-4d20-aaa0-eed055aed285"
      },
      "source": [
        "## 1.6 Model: Naives Bayes Classifier  \n",
        "Normalisation: Lemmatization  \n",
        "Convert to numeric method: Tf-Idf"
      ]
    },
    {
      "cell_type": "code",
      "execution_count": null,
      "id": "80acde57-4144-4143-a29e-1498cf86630f",
      "metadata": {
        "id": "80acde57-4144-4143-a29e-1498cf86630f"
      },
      "outputs": [],
      "source": [
        "# preprocessing of training data\n",
        "train_amended = train_unique.copy()\n",
        "train_amended = preprocess(train_amended)\n",
        "train_amended = remove_stopwords(train_amended)\n",
        "train_X, train_Y = split_X_Y(train_amended)\n",
        "train_X_token = tokenize_tweet(train_X)\n",
        "train_X_lemmatize = lemmatize_data(train_X_token)\n",
        "\n",
        "# preprocessing of test data\n",
        "test_amended = test_unique.copy())\n",
        "test_amended = preprocess(test_amended)\n",
        "test_amended = remove_stopwords(test_amended)\n",
        "test_X, test_Y = split_X_Y(test_amended)\n",
        "test_X_token = tokenize_tweet(test_X)\n",
        "test_X_lemmatize = lemmatize_data(test_X_token)\n",
        "\n",
        "# preprocessing of dev data\n",
        "dev_amended = dev_unique.copy()\n",
        "dev_amended = preprocess(dev_amended)\n",
        "dev_amended = remove_stopwords(dev_amended)\n",
        "dev_X, dev_Y = split_X_Y(dev_amended)\n",
        "dev_X_token = tokenize_tweet(dev_X)\n",
        "dev_X_lemmatize = lemmatize_data(dev_X_token)\n",
        "\n",
        "# Tf-Idf with lemmatize training X data\n",
        "train_X_lemmatize_TfIdf, test_X_lemmatize_TfIdf, dev_X_lemmatize_TfIdf = TfIdf_vectorizer(train_X_lemmatize, test_X_lemmatize, dev_X_lemmatize)"
      ]
    },
    {
      "cell_type": "code",
      "execution_count": null,
      "id": "806448e0-927b-40df-9f95-aa2e35f3671f",
      "metadata": {
        "id": "806448e0-927b-40df-9f95-aa2e35f3671f"
      },
      "outputs": [],
      "source": [
        "# merging train and dev together for hyperparameter tuning\n",
        "train_dev_X = pd.concat([train_X, dev_X], ignore_index=True)\n",
        "train_dev_X_token = tokenize_tweet(train_dev_X)\n",
        "train_dev_X_lemmatize = lemmatize_data(train_dev_X_token)\n",
        "\n",
        "train_dev_Y = pd.concat([train_Y, dev_Y], ignore_index=True)\n",
        "\n",
        "# Tf-Idf with lemmatize training X data\n",
        "train_tuning, train_dev_X_lemmatize_TfIdf, dev_tuning = TfIdf_vectorizer(train_X_lemmatize, train_dev_X_lemmatize, dev_X_lemmatize)"
      ]
    },
    {
      "cell_type": "code",
      "execution_count": null,
      "id": "8224f284-185f-40ea-b0d6-12c228d9b4ce",
      "metadata": {
        "id": "8224f284-185f-40ea-b0d6-12c228d9b4ce",
        "outputId": "bba8b123-3e08-48d9-b734-d6c216a08847"
      },
      "outputs": [
        {
          "name": "stdout",
          "output_type": "stream",
          "text": [
            "Fitting 1 folds for each of 7 candidates, totalling 7 fits\n"
          ]
        },
        {
          "data": {
            "text/plain": [
              "{'alpha': 0.01}"
            ]
          },
          "execution_count": 66,
          "metadata": {},
          "output_type": "execute_result"
        }
      ],
      "source": [
        "# hyperparameter tuning with GridSearch\n",
        "# define parameter grid\n",
        "alpha = [0.0001, 0.001, 0.01, 0.1, 1, 10, 100]\n",
        "\n",
        "# Create the param grid\n",
        "param_grid = {'alpha': alpha}\n",
        "\n",
        "# define validation split\n",
        "from sklearn.model_selection import PredefinedSplit # index of -1 for train and index of 1 for validation\n",
        "train_index = np.zeros(len(train_X)) - 1\n",
        "dev_index = np.ones(len(dev_X))\n",
        "test_fold = np.concatenate((train_index, dev_index))\n",
        "ps = PredefinedSplit(test_fold)\n",
        "\n",
        "# fitting the GridSearch\n",
        "NB_GridSearch = GridSearchCV(estimator=MultinomialNB(), param_grid=param_grid, cv=ps, verbose=2, n_jobs=4)\n",
        "NB_GridSearch.fit(train_dev_X_lemmatize_TfIdf, train_dev_Y)\n",
        "\n",
        "# get the best parameters\n",
        "NB_GridSearch.best_params_"
      ]
    },
    {
      "cell_type": "code",
      "execution_count": null,
      "id": "a6a7d86c-0064-4dda-9330-2775abdfc30f",
      "metadata": {
        "id": "a6a7d86c-0064-4dda-9330-2775abdfc30f"
      },
      "outputs": [],
      "source": [
        "# define model with best parameters\n",
        "nb = MultinomialNB(alpha=0.01)"
      ]
    },
    {
      "cell_type": "code",
      "execution_count": null,
      "id": "d4d7bc59-f52e-4ad6-9685-b8091e034fcd",
      "metadata": {
        "id": "d4d7bc59-f52e-4ad6-9685-b8091e034fcd",
        "outputId": "fb3c709b-92ee-4c46-885c-cabf9b78d31b"
      },
      "outputs": [
        {
          "name": "stdout",
          "output_type": "stream",
          "text": [
            "The accuracy is: 0.7670103092783506\n",
            "The f-1 score is :\n",
            " [0.85964912 0.48851775 0.61741425]\n",
            "Confusion Matrix:\n",
            " [[882  28   4]\n",
            " [166 117  26]\n",
            " [ 90  25 117]]\n"
          ]
        }
      ],
      "source": [
        "# training Naives Bayes Classifier with lemmatize training data with TF-IDF\n",
        "NBC_TFID = nb.fit(train_X_lemmatize_TfIdf,train_Y)\n",
        "\n",
        "# predicting airline_sentiment for test data\n",
        "y_predict = NBC_TFID.predict(test_X_lemmatize_TfIdf)\n",
        "\n",
        "# calculating accuracy score, f1-score and confusion matrix for test data\n",
        "accuracy = accuracy_score(test_Y, y_predict)\n",
        "print(\"The accuracy is:\", accuracy)\n",
        "\n",
        "f1 = f1_score(test_Y, y_predict, average=None)\n",
        "print(\"The f-1 score is :\\n\",f1)\n",
        "\n",
        "ConfusionMatrix = confusion_matrix(test_Y, y_predict)\n",
        "print(\"Confusion Matrix:\\n\",ConfusionMatrix)"
      ]
    },
    {
      "cell_type": "code",
      "execution_count": null,
      "id": "5b2911c3-40ec-4c0a-9ecb-683457456048",
      "metadata": {
        "id": "5b2911c3-40ec-4c0a-9ecb-683457456048",
        "outputId": "59e0f91b-7c35-4ac3-dd40-cd72d5a8eed3"
      },
      "outputs": [
        {
          "name": "stdout",
          "output_type": "stream",
          "text": [
            "The accuracy is: 0.8175405795869806\n",
            "The f-1 score is :\n",
            " [0.88250524 0.60475594 0.75610491]\n",
            "Confusion Matrix:\n",
            " [[7158  174   45]\n",
            " [1164 1208  119]\n",
            " [ 523  122 1254]]\n"
          ]
        }
      ],
      "source": [
        "# predicting airline_sentiment for train data\n",
        "y_predict_train = NBC_TFID.predict(train_X_lemmatize_TfIdf)\n",
        "\n",
        "# calculating accuracy score, f1-score and confusion matrix for train data\n",
        "accuracy = accuracy_score(train_Y, y_predict_train)\n",
        "print(\"The accuracy is:\", accuracy)\n",
        "\n",
        "f1 = f1_score(train_Y, y_predict_train, average=None)\n",
        "print(\"The f-1 score is :\\n\",f1)\n",
        "\n",
        "ConfusionMatrix = confusion_matrix(train_Y, y_predict_train)\n",
        "print(\"Confusion Matrix:\\n\",ConfusionMatrix)"
      ]
    },
    {
      "cell_type": "code",
      "execution_count": null,
      "id": "2f0b04b0-e302-4dc5-98b9-77f00a294fa6",
      "metadata": {
        "id": "2f0b04b0-e302-4dc5-98b9-77f00a294fa6",
        "outputId": "6ae41fd1-349b-46fa-a5ab-ef4023397305"
      },
      "outputs": [
        {
          "name": "stdout",
          "output_type": "stream",
          "text": [
            "The accuracy is: 0.7456340167046317\n",
            "The f-1 score is :\n",
            " [0.8452508  0.43764706 0.57910448]\n",
            "Confusion Matrix:\n",
            " [[792  27   6]\n",
            " [167  93  19]\n",
            " [ 90  26  97]]\n"
          ]
        }
      ],
      "source": [
        "# predicting airline_sentiment for dev data\n",
        "y_predict_dev = NBC_TFID.predict(dev_X_lemmatize_TfIdf)\n",
        "\n",
        "# calculating accuracy score, f1-score and confusion matrix for train data\n",
        "accuracy = accuracy_score(dev_Y, y_predict_dev)\n",
        "print(\"The accuracy is:\", accuracy)\n",
        "\n",
        "f1 = f1_score(dev_Y, y_predict_dev, average=None)\n",
        "print(\"The f-1 score is :\\n\",f1)\n",
        "\n",
        "ConfusionMatrix = confusion_matrix(dev_Y, y_predict_dev)\n",
        "print(\"Confusion Matrix:\\n\",ConfusionMatrix)"
      ]
    },
    {
      "cell_type": "markdown",
      "id": "6cacadd6-32f2-42b6-9d76-d92b6a505986",
      "metadata": {
        "id": "6cacadd6-32f2-42b6-9d76-d92b6a505986"
      },
      "source": [
        "## 1.7 Model: Naives Bayes Classifier  \n",
        "Normalisation: Porter Stemming  \n",
        "Convert to numeric method: Tf-Idf"
      ]
    },
    {
      "cell_type": "code",
      "execution_count": null,
      "id": "21b47d8d-f0a1-4fe2-998e-ba6dd023e2ba",
      "metadata": {
        "id": "21b47d8d-f0a1-4fe2-998e-ba6dd023e2ba"
      },
      "outputs": [],
      "source": [
        "# preprocessing of training data\n",
        "train_amended = train_unique.copy()\n",
        "train_amended = preprocess(train_amended)\n",
        "train_amended = remove_stopwords(train_amended)\n",
        "train_X, train_Y = split_X_Y(train_amended)\n",
        "train_X_token = tokenize_tweet(train_X)\n",
        "train_X_PS = stem_data(train_X_token, method=\"Porter\")\n",
        "\n",
        "# preprocessing of test data\n",
        "test_amended = test_unique.copy()\n",
        "test_amended = preprocess(test_amended)\n",
        "test_amended = remove_stopwords(test_amended)\n",
        "test_X, test_Y = split_X_Y(test_amended)\n",
        "test_X_token = tokenize_tweet(test_X)\n",
        "test_X_PS = stem_data(test_X_token, method=\"Porter\")\n",
        "\n",
        "# preprocessing of dev data\n",
        "dev_amended = dev_unique.copy()\n",
        "dev_amended = preprocess(dev_amended)\n",
        "dev_amended = remove_stopwords(dev_amended)\n",
        "dev_X, dev_Y = split_X_Y(dev_amended)\n",
        "dev_X_token = tokenize_tweet(dev_X)\n",
        "dev_X_PS = stem_data(dev_X_token, method=\"Porter\")\n",
        "\n",
        "# Tf-Idf with porter stemming training X data\n",
        "train_X_PS_TfIdf, test_X_PS_TfIdf, dev_X_PS_TfIdf = TfIdf_vectorizer(train_X_PS, test_X_PS, dev_X_PS)\n"
      ]
    },
    {
      "cell_type": "code",
      "execution_count": null,
      "id": "626e4ecc-62fd-42ef-b6c8-60896ddaa059",
      "metadata": {
        "id": "626e4ecc-62fd-42ef-b6c8-60896ddaa059"
      },
      "outputs": [],
      "source": [
        "# merging train and dev together for hyperparameter tuning\n",
        "train_dev_X = pd.concat([train_X, dev_X], ignore_index=True)\n",
        "train_dev_X_token = tokenize_tweet(train_dev_X)\n",
        "train_dev_X_PS = stem_data(train_dev_X_token, method=\"Porter\")\n",
        "\n",
        "train_dev_Y = pd.concat([train_Y, dev_Y], ignore_index=True)\n",
        "\n",
        "# Tf-Idf with porter stemming training X data\n",
        "train_tuning, train_dev_X_PS_TfIdf, dev_tuning = TfIdf_vectorizer(train_X_PS, train_dev_X_PS, dev_X_PS)"
      ]
    },
    {
      "cell_type": "code",
      "execution_count": null,
      "id": "b06953b8-d655-4035-986b-d92ae360fd9a",
      "metadata": {
        "id": "b06953b8-d655-4035-986b-d92ae360fd9a",
        "outputId": "d7ddf51e-0cd4-4b4e-badc-94bba66c7734"
      },
      "outputs": [
        {
          "name": "stdout",
          "output_type": "stream",
          "text": [
            "Fitting 1 folds for each of 7 candidates, totalling 7 fits\n"
          ]
        },
        {
          "data": {
            "text/plain": [
              "{'alpha': 0.01}"
            ]
          },
          "execution_count": 73,
          "metadata": {},
          "output_type": "execute_result"
        }
      ],
      "source": [
        "# hyperparameter tuning with GridSearch\n",
        "# define parameter grid\n",
        "alpha = [0.0001, 0.001, 0.01, 0.1, 1, 10, 100]\n",
        "\n",
        "# Create the param grid\n",
        "param_grid = {'alpha': alpha}\n",
        "\n",
        "# define validation split\n",
        "# index of -1 for train and index of 1 for validation\n",
        "train_index = np.zeros(len(train_X)) - 1\n",
        "dev_index = np.ones(len(dev_X))\n",
        "test_fold = np.concatenate((train_index, dev_index))\n",
        "ps = PredefinedSplit(test_fold)\n",
        "\n",
        "# fitting the GridSearch\n",
        "NB_GridSearch = GridSearchCV(estimator=MultinomialNB(), param_grid=param_grid, cv=ps, verbose=2, n_jobs=4)\n",
        "NB_GridSearch.fit(train_dev_X_PS_TfIdf, train_dev_Y)\n",
        "\n",
        "# get the best parameters\n",
        "NB_GridSearch.best_params_"
      ]
    },
    {
      "cell_type": "code",
      "execution_count": null,
      "id": "a03d9493-a93d-4ecc-a020-cdbde2181ab9",
      "metadata": {
        "id": "a03d9493-a93d-4ecc-a020-cdbde2181ab9"
      },
      "outputs": [],
      "source": [
        "# define model with best parameters\n",
        "nb = MultinomialNB(alpha=0.01)"
      ]
    },
    {
      "cell_type": "code",
      "execution_count": null,
      "id": "1db03d09-78dd-4c9b-9b1e-335559641d1f",
      "metadata": {
        "id": "1db03d09-78dd-4c9b-9b1e-335559641d1f",
        "outputId": "db0ac63f-7896-4649-82b4-0df4a6b258b7"
      },
      "outputs": [
        {
          "name": "stdout",
          "output_type": "stream",
          "text": [
            "The accuracy is: 0.7608247422680412\n",
            "The f-1 score is :\n",
            " [0.85534591 0.48625793 0.58378378]\n",
            "Confusion Matrix:\n",
            " [[884  27   3]\n",
            " [167 115  27]\n",
            " [102  22 108]]\n"
          ]
        }
      ],
      "source": [
        "# training Naives Bayes Classifier with Porter stemming training data with TF-IDF\n",
        "NBC_TFID = nb.fit(train_X_PS_TfIdf,train_Y)\n",
        "\n",
        "# predicting airline_sentiment for test data\n",
        "y_predict = NBC_TFID.predict(test_X_PS_TfIdf)\n",
        "\n",
        "# calculating accuracy score, f1-score and confusion matrix for test data\n",
        "accuracy = accuracy_score(test_Y, y_predict)\n",
        "print(\"The accuracy is:\", accuracy)\n",
        "\n",
        "f1 = f1_score(test_Y, y_predict, average=None)\n",
        "print(\"The f-1 score is :\\n\",f1)\n",
        "\n",
        "ConfusionMatrix = confusion_matrix(test_Y, y_predict)\n",
        "print(\"Confusion Matrix:\\n\",ConfusionMatrix)"
      ]
    },
    {
      "cell_type": "code",
      "execution_count": null,
      "id": "0f6b3692-f150-443b-aecb-c9aa2de2b675",
      "metadata": {
        "id": "0f6b3692-f150-443b-aecb-c9aa2de2b675",
        "outputId": "7ea12f31-4871-4c6c-e065-e1c8642c12c0"
      },
      "outputs": [
        {
          "name": "stdout",
          "output_type": "stream",
          "text": [
            "The accuracy is: 0.8172006458740546\n",
            "The f-1 score is :\n",
            " [0.88281635 0.6122449  0.74296206]\n",
            "Confusion Matrix:\n",
            " [[7172  163   42]\n",
            " [1148 1230  113]\n",
            " [ 551  134 1214]]\n"
          ]
        }
      ],
      "source": [
        "# predicting airline_sentiment for train data\n",
        "y_predict_train = NBC_TFID.predict(train_X_PS_TfIdf)\n",
        "\n",
        "# calculating accuracy score, f1-score and confusion matrix for train data\n",
        "accuracy = accuracy_score(train_Y, y_predict_train)\n",
        "print(\"The accuracy is:\", accuracy)\n",
        "\n",
        "f1 = f1_score(train_Y, y_predict_train, average=None)\n",
        "print(\"The f-1 score is :\\n\",f1)\n",
        "\n",
        "ConfusionMatrix = confusion_matrix(train_Y, y_predict_train)\n",
        "print(\"Confusion Matrix:\\n\",ConfusionMatrix)"
      ]
    },
    {
      "cell_type": "code",
      "execution_count": null,
      "id": "4f970f1b-1c91-46c6-bacf-68f1489e70e8",
      "metadata": {
        "id": "4f970f1b-1c91-46c6-bacf-68f1489e70e8",
        "outputId": "1c7174a0-7e84-4d84-b198-91069ec83cf2"
      },
      "outputs": [
        {
          "name": "stdout",
          "output_type": "stream",
          "text": [
            "The accuracy is: 0.741837509491268\n",
            "The f-1 score is :\n",
            " [0.84115139 0.43230404 0.57566766]\n",
            "Confusion Matrix:\n",
            " [[789  29   7]\n",
            " [168  91  20]\n",
            " [ 94  22  97]]\n"
          ]
        }
      ],
      "source": [
        "# predicting airline_sentiment for dev data\n",
        "y_predict_dev = NBC_TFID.predict(dev_X_PS_TfIdf)\n",
        "\n",
        "# calculating accuracy score, f1-score and confusion matrix for train data\n",
        "accuracy = accuracy_score(dev_Y, y_predict_dev)\n",
        "print(\"The accuracy is:\", accuracy)\n",
        "\n",
        "f1 = f1_score(dev_Y, y_predict_dev, average=None)\n",
        "print(\"The f-1 score is :\\n\",f1)\n",
        "\n",
        "ConfusionMatrix = confusion_matrix(dev_Y, y_predict_dev)\n",
        "print(\"Confusion Matrix:\\n\",ConfusionMatrix)"
      ]
    },
    {
      "cell_type": "markdown",
      "id": "31603aed-9052-4e03-addb-5bf773259d36",
      "metadata": {
        "id": "31603aed-9052-4e03-addb-5bf773259d36"
      },
      "source": [
        "## 1.8 Model: Naives Bayes Classifier  \n",
        "Normalisation: Lancaster Stemming  \n",
        "Convert to numeric method: Tf-Idf"
      ]
    },
    {
      "cell_type": "code",
      "execution_count": null,
      "id": "58348e27-82ea-4915-988f-062724466b0b",
      "metadata": {
        "id": "58348e27-82ea-4915-988f-062724466b0b"
      },
      "outputs": [],
      "source": [
        "# preprocessing of training data\n",
        "train_amended = train_unique.copy()\n",
        "train_amended = remove_punctuations(train_amended)\n",
        "train_amended = preprocess(train_amended)\n",
        "train_amended = remove_stopwords(train_amended)\n",
        "train_X, train_Y = split_X_Y(train_amended)\n",
        "train_X_token = tokenize_tweet(train_X)\n",
        "train_X_LS = stem_data(train_X_token, method=\"Lancaster\")\n",
        "\n",
        "# preprocessing of test data\n",
        "test_amended = test_unique.copy()\n",
        "test_amended = preprocess(test_amended)\n",
        "test_amended = remove_stopwords(test_amended)\n",
        "test_X, test_Y = split_X_Y(test_amended)\n",
        "test_X_token = tokenize_tweet(test_X)\n",
        "test_X_LS = stem_data(test_X_token, method=\"Lancaster\")\n",
        "\n",
        "# preprocessing of dev data\n",
        "dev_amended = dev_unique.copy()\n",
        "dev_amended = preprocess(dev_amended)\n",
        "dev_amended = remove_stopwords(dev_amended)\n",
        "dev_X, dev_Y = split_X_Y(dev_amended)\n",
        "dev_X_token = tokenize_tweet(dev_X)\n",
        "dev_X_LS = stem_data(dev_X_token, method=\"Lancaster\")\n",
        "\n",
        "# Bag of Words with Lancaster Stemming training X data\n",
        "train_X_LS_TfIdf, test_X_LS_TfIdf, dev_X_LS_TfIdf = TfIdf_vectorizer(train_X_LS, test_X_LS, dev_X_LS)"
      ]
    },
    {
      "cell_type": "code",
      "execution_count": null,
      "id": "8c6d0352-a182-4092-8f63-616ee64d366c",
      "metadata": {
        "id": "8c6d0352-a182-4092-8f63-616ee64d366c"
      },
      "outputs": [],
      "source": [
        "# merging train and dev together for hyperparameter tuning\n",
        "train_dev_X = pd.concat([train_X, dev_X], ignore_index=True)\n",
        "train_dev_X_token = tokenize_tweet(train_dev_X)\n",
        "train_dev_X_LS = stem_data(train_dev_X_token, method=\"Lancaster\")\n",
        "\n",
        "train_dev_Y = pd.concat([train_Y, dev_Y], ignore_index=True)\n",
        "\n",
        "# Tf-Idf with porter stemming training X data\n",
        "train_tuning, train_dev_X_LS_TfIdf, dev_tuning = TfIdf_vectorizer(train_X_LS, train_dev_X_LS, dev_X_LS)"
      ]
    },
    {
      "cell_type": "code",
      "execution_count": null,
      "id": "a5d9777f-def3-4045-9d1c-a7005d6908e0",
      "metadata": {
        "id": "a5d9777f-def3-4045-9d1c-a7005d6908e0",
        "outputId": "ef22bcdd-f23e-404d-9db4-5f919d2f0c68"
      },
      "outputs": [
        {
          "name": "stdout",
          "output_type": "stream",
          "text": [
            "Fitting 1 folds for each of 7 candidates, totalling 7 fits\n"
          ]
        },
        {
          "data": {
            "text/plain": [
              "{'alpha': 0.01}"
            ]
          },
          "execution_count": 80,
          "metadata": {},
          "output_type": "execute_result"
        }
      ],
      "source": [
        "# hyperparameter tuning with GridSearch\n",
        "# define parameter grid\n",
        "alpha = [0.0001, 0.001, 0.01, 0.1, 1, 10, 100]\n",
        "\n",
        "# Create the param grid\n",
        "param_grid = {'alpha': alpha}\n",
        "\n",
        "# define validation split\n",
        "from sklearn.model_selection import PredefinedSplit # index of -1 for train and index of 1 for validation\n",
        "train_index = np.zeros(len(train_X)) - 1\n",
        "dev_index = np.ones(len(dev_X))\n",
        "test_fold = np.concatenate((train_index, dev_index))\n",
        "ps = PredefinedSplit(test_fold)\n",
        "\n",
        "# fitting the GridSearch\n",
        "NB_GridSearch = GridSearchCV(estimator=MultinomialNB(), param_grid=param_grid, cv=ps, verbose=2, n_jobs=4)\n",
        "NB_GridSearch.fit(train_dev_X_LS_TfIdf, train_dev_Y)\n",
        "\n",
        "# get the best parameters\n",
        "NB_GridSearch.best_params_"
      ]
    },
    {
      "cell_type": "code",
      "execution_count": null,
      "id": "d0584b8f-a1ac-47b6-aa3e-adf1bee00a44",
      "metadata": {
        "id": "d0584b8f-a1ac-47b6-aa3e-adf1bee00a44"
      },
      "outputs": [],
      "source": [
        "# define model with best parameters\n",
        "nb = MultinomialNB(alpha=0.01)"
      ]
    },
    {
      "cell_type": "code",
      "execution_count": null,
      "id": "3547d219-3b3a-479a-9a3f-0f22aa9d516a",
      "metadata": {
        "id": "3547d219-3b3a-479a-9a3f-0f22aa9d516a",
        "outputId": "914e2487-bd59-4ac5-b83b-12870a49b9b1"
      },
      "outputs": [
        {
          "name": "stdout",
          "output_type": "stream",
          "text": [
            "The accuracy is: 0.7608247422680412\n",
            "The f-1 score is :\n",
            " [0.85838569 0.47659574 0.57681941]\n",
            "Confusion Matrix:\n",
            " [[888  22   4]\n",
            " [169 112  28]\n",
            " [ 98  27 107]]\n"
          ]
        }
      ],
      "source": [
        "# training Naives Bayes Classifier with Lancaster stemming training data with TF-IDF\n",
        "NBC_TFID = nb.fit(train_X_LS_TfIdf,train_Y)\n",
        "\n",
        "# predicting airline_sentiment for test data\n",
        "y_predict = NBC_TFID.predict(test_X_LS_TfIdf)\n",
        "\n",
        "# calculating accuracy score, f1-score and confusion matrix for test data\n",
        "accuracy = accuracy_score(test_Y, y_predict)\n",
        "print(\"The accuracy is:\", accuracy)\n",
        "\n",
        "f1 = f1_score(test_Y, y_predict, average=None)\n",
        "print(\"The f-1 score is :\\n\",f1)\n",
        "\n",
        "ConfusionMatrix = confusion_matrix(test_Y, y_predict)\n",
        "print(\"Confusion Matrix:\\n\",ConfusionMatrix)"
      ]
    },
    {
      "cell_type": "code",
      "execution_count": null,
      "id": "ba267235-5b9c-4216-8e42-da98d30e0231",
      "metadata": {
        "id": "ba267235-5b9c-4216-8e42-da98d30e0231",
        "outputId": "d96d5430-d399-4d1c-920c-304e78c1b330"
      },
      "outputs": [
        {
          "name": "stdout",
          "output_type": "stream",
          "text": [
            "The accuracy is: 0.8150760601682672\n",
            "The f-1 score is :\n",
            " [0.88132678 0.59984852 0.74643183]\n",
            "Confusion Matrix:\n",
            " [[7174  157   46]\n",
            " [1184 1188  119]\n",
            " [ 545  125 1229]]\n"
          ]
        }
      ],
      "source": [
        "# predicting airline_sentiment for train data\n",
        "y_predict_train = NBC_TFID.predict(train_X_LS_TfIdf)\n",
        "\n",
        "# calculating accuracy score, f1-score and confusion matrix for train data\n",
        "accuracy = accuracy_score(train_Y, y_predict_train)\n",
        "print(\"The accuracy is:\", accuracy)\n",
        "\n",
        "f1 = f1_score(train_Y, y_predict_train, average=None)\n",
        "print(\"The f-1 score is :\\n\",f1)\n",
        "\n",
        "ConfusionMatrix = confusion_matrix(train_Y, y_predict_train)\n",
        "print(\"Confusion Matrix:\\n\",ConfusionMatrix)"
      ]
    },
    {
      "cell_type": "code",
      "execution_count": null,
      "id": "0f84cf5f-5ad2-4c49-b94e-8d2f7498fba2",
      "metadata": {
        "id": "0f84cf5f-5ad2-4c49-b94e-8d2f7498fba2",
        "outputId": "3942bc2d-a536-46c5-cec4-2586247a1791"
      },
      "outputs": [
        {
          "name": "stdout",
          "output_type": "stream",
          "text": [
            "The accuracy is: 0.738800303720577\n",
            "The f-1 score is :\n",
            " [0.83898305 0.44180523 0.54153846]\n",
            "Confusion Matrix:\n",
            " [[792  28   5]\n",
            " [167  93  19]\n",
            " [104  21  88]]\n"
          ]
        }
      ],
      "source": [
        "# predicting airline_sentiment for dev data\n",
        "y_predict_dev = NBC_TFID.predict(dev_X_LS_TfIdf)\n",
        "\n",
        "# calculating accuracy score, f1-score and confusion matrix for dev data\n",
        "accuracy = accuracy_score(dev_Y, y_predict_dev)\n",
        "print(\"The accuracy is:\", accuracy)\n",
        "\n",
        "f1 = f1_score(dev_Y, y_predict_dev, average=None)\n",
        "print(\"The f-1 score is :\\n\",f1)\n",
        "\n",
        "ConfusionMatrix = confusion_matrix(dev_Y, y_predict_dev)\n",
        "print(\"Confusion Matrix:\\n\",ConfusionMatrix)"
      ]
    },
    {
      "cell_type": "markdown",
      "id": "171b0ff8-fc71-4634-8889-a14a0b60f030",
      "metadata": {
        "id": "171b0ff8-fc71-4634-8889-a14a0b60f030"
      },
      "source": [
        "# 2. Modelling: Gaussian Naive Bayes Classifier"
      ]
    },
    {
      "cell_type": "markdown",
      "id": "eee5e881-0664-4346-b0ed-e3c6e72153d9",
      "metadata": {
        "id": "eee5e881-0664-4346-b0ed-e3c6e72153d9"
      },
      "source": [
        "## 2.1 Model: Gaussian Naives Bayes Classifier  \n",
        "Normalisation: N/A (Original)  \n",
        "Convert to numeric method: Bag of Words"
      ]
    },
    {
      "cell_type": "code",
      "execution_count": null,
      "id": "a8efe3f0-1b43-4022-b775-911b41c7d169",
      "metadata": {
        "id": "a8efe3f0-1b43-4022-b775-911b41c7d169"
      },
      "outputs": [],
      "source": [
        "# preprocessing of training data\n",
        "train_amended = train_unique.copy()\n",
        "train_amended = preprocess(train_amended)\n",
        "train_amended = remove_stopwords(train_amended)\n",
        "train_X, train_Y = split_X_Y(train_amended)\n",
        "\n",
        "# preprocessing of test data\n",
        "test_amended = test_unique.copy()\n",
        "test_amended = preprocess(test_amended)\n",
        "test_amended = remove_stopwords(test_amended)\n",
        "test_X, test_Y = split_X_Y(test_amended)\n",
        "\n",
        "# preprocessing of dev data\n",
        "dev_amended = dev_unique.copy()\n",
        "dev_amended = preprocess(dev_amended)\n",
        "dev_amended = remove_stopwords(dev_amended)\n",
        "dev_X, dev_Y = split_X_Y(dev_amended)\n",
        "\n",
        "# Bag of Words with original training X data (i.e., no tokenising, lemmatization or stemming)\n",
        "train_X_BOW, test_X_BOW, dev_X_BOW, BOW, words = BOW_vectorizer(train_X, test_X, dev_X)"
      ]
    },
    {
      "cell_type": "code",
      "execution_count": null,
      "id": "73a5856f-67d9-426f-aaf2-e469644d8a5b",
      "metadata": {
        "id": "73a5856f-67d9-426f-aaf2-e469644d8a5b"
      },
      "outputs": [],
      "source": [
        "# merging train and dev together for hyperparameter tuning\n",
        "train_dev_X = pd.concat([train_X, dev_X], ignore_index=True)\n",
        "train_dev_Y = pd.concat([train_Y, dev_Y], ignore_index=True)\n",
        "\n",
        "# Bag of Words with original training X data (i.e., no tokenising, lemmatization or stemming)\n",
        "train_tuning, train_dev_X_BOW, dev_tuning, BOW_tuning, words_tuning = BOW_vectorizer(train_X, train_dev_X, dev_X)"
      ]
    },
    {
      "cell_type": "code",
      "execution_count": null,
      "id": "232434d5-ae31-4fda-9e55-48aef7307a98",
      "metadata": {
        "id": "232434d5-ae31-4fda-9e55-48aef7307a98",
        "outputId": "ffafea64-6b26-4d77-8ebc-248cce569a9b"
      },
      "outputs": [
        {
          "name": "stdout",
          "output_type": "stream",
          "text": [
            "Fitting 1 folds for each of 10 candidates, totalling 10 fits\n"
          ]
        },
        {
          "data": {
            "text/plain": [
              "{'var_smoothing': 0.01}"
            ]
          },
          "execution_count": 36,
          "metadata": {},
          "output_type": "execute_result"
        }
      ],
      "source": [
        "# hyperparameter tuning with GridSearch\n",
        "# define parameter grid\n",
        "smoothing = np.logspace(0,-9, num=10)\n",
        "\n",
        "# Create the param grid\n",
        "param_grid = {'var_smoothing': smoothing}\n",
        "\n",
        "# define validation split\n",
        "# index of -1 for train and index of 1 for validation\n",
        "train_index = np.zeros(len(train_X)) - 1\n",
        "dev_index = np.ones(len(dev_X))\n",
        "test_fold = np.concatenate((train_index, dev_index))\n",
        "ps = PredefinedSplit(test_fold)\n",
        "\n",
        "# fitting the GridSearch\n",
        "GNB_GridSearch = GridSearchCV(estimator=GaussianNB(), param_grid=param_grid, cv=ps, verbose=2, n_jobs=4)\n",
        "GNB_GridSearch.fit(train_dev_X_BOW.toarray(), train_dev_Y)\n",
        "\n",
        "# get the best parameters\n",
        "GNB_GridSearch.best_params_"
      ]
    },
    {
      "cell_type": "code",
      "execution_count": null,
      "id": "7814ab6f-6186-45f1-9915-e460ad3d8b57",
      "metadata": {
        "id": "7814ab6f-6186-45f1-9915-e460ad3d8b57"
      },
      "outputs": [],
      "source": [
        "# define model with best parameters\n",
        "gnb = GaussianNB(var_smoothing=0.01)"
      ]
    },
    {
      "cell_type": "code",
      "execution_count": null,
      "id": "1e456fc4-76f6-4c35-afeb-750d13263107",
      "metadata": {
        "id": "1e456fc4-76f6-4c35-afeb-750d13263107",
        "outputId": "e231f798-08e4-44f1-df1f-d54ddd303332"
      },
      "outputs": [
        {
          "name": "stdout",
          "output_type": "stream",
          "text": [
            "The accuracy is: 0.554639175257732\n",
            "The f-1 score is :\n",
            " [0.64197531 0.48600884 0.46838407]\n",
            "Confusion Matrix:\n",
            " [[442 180 292]\n",
            " [ 14 165 130]\n",
            " [  7  25 200]]\n"
          ]
        }
      ],
      "source": [
        "# training Gaussian Naive Bayes with original training data with BOW\n",
        "GNBC_BOW = gnb.fit(train_X_BOW.toarray(),train_Y)\n",
        "\n",
        "# predicting airline_sentiment for test data\n",
        "y_predict = GNBC_BOW.predict(test_X_BOW.toarray())\n",
        "\n",
        "# calculating accuracy score, f1-score and confusion matrix for test data\n",
        "accuracy = accuracy_score(test_Y, y_predict)\n",
        "print(\"The accuracy is:\", accuracy)\n",
        "\n",
        "f1 = f1_score(test_Y, y_predict, average=None)\n",
        "print(\"The f-1 score is :\\n\",f1)\n",
        "\n",
        "ConfusionMatrix = confusion_matrix(test_Y, y_predict)\n",
        "print(\"Confusion Matrix:\\n\",ConfusionMatrix)"
      ]
    },
    {
      "cell_type": "code",
      "execution_count": null,
      "id": "c128ffc0-fba9-4321-a86d-fdf497df28d5",
      "metadata": {
        "id": "c128ffc0-fba9-4321-a86d-fdf497df28d5",
        "outputId": "b13e7bd0-76e0-482d-bed6-e5f48f10cc42"
      },
      "outputs": [
        {
          "name": "stdout",
          "output_type": "stream",
          "text": [
            "The accuracy is: 0.6400101980113878\n",
            "The f-1 score is :\n",
            " [0.69672562 0.62005085 0.55858311]\n",
            "Confusion Matrix:\n",
            " [[3979 1266 2132]\n",
            " [  54 1707  730]\n",
            " [  12   42 1845]]\n"
          ]
        }
      ],
      "source": [
        "# predicting airline_sentiment for train data\n",
        "y_predict_train = GNBC_BOW.predict(train_X_BOW.toarray())\n",
        "\n",
        "# calculating accuracy score, f1-score and confusion matrix for train data\n",
        "accuracy = accuracy_score(train_Y, y_predict_train)\n",
        "print(\"The accuracy is:\", accuracy)\n",
        "\n",
        "f1 = f1_score(train_Y, y_predict_train, average=None)\n",
        "print(\"The f-1 score is :\\n\",f1)\n",
        "\n",
        "ConfusionMatrix = confusion_matrix(train_Y, y_predict_train)\n",
        "print(\"Confusion Matrix:\\n\",ConfusionMatrix)"
      ]
    },
    {
      "cell_type": "code",
      "execution_count": null,
      "id": "a4876207-34f5-4818-9222-ae7bb6d95894",
      "metadata": {
        "id": "a4876207-34f5-4818-9222-ae7bb6d95894",
        "outputId": "67cb392b-5512-4ee0-a528-4e1423e4f7ab"
      },
      "outputs": [
        {
          "name": "stdout",
          "output_type": "stream",
          "text": [
            "The accuracy is: 0.5451784358390281\n",
            "The f-1 score is :\n",
            " [0.63716814 0.44371941 0.4781491 ]\n",
            "Confusion Matrix:\n",
            " [[396 179 250]\n",
            " [ 14 136 129]\n",
            " [  8  19 186]]\n"
          ]
        }
      ],
      "source": [
        "# predicting airline_sentiment for dev data\n",
        "y_predict_dev = GNBC_BOW.predict(dev_X_BOW.toarray())\n",
        "\n",
        "# calculating accuracy score, f1-score and confusion matrix for dev data\n",
        "accuracy = accuracy_score(dev_Y, y_predict_dev)\n",
        "print(\"The accuracy is:\", accuracy)\n",
        "\n",
        "f1 = f1_score(dev_Y, y_predict_dev, average=None)\n",
        "print(\"The f-1 score is :\\n\",f1)\n",
        "\n",
        "ConfusionMatrix = confusion_matrix(dev_Y, y_predict_dev)\n",
        "print(\"Confusion Matrix:\\n\",ConfusionMatrix)"
      ]
    },
    {
      "cell_type": "markdown",
      "id": "b62a7766-14e5-4fb9-aa44-a03218f186d7",
      "metadata": {
        "id": "b62a7766-14e5-4fb9-aa44-a03218f186d7"
      },
      "source": [
        "## 2.2 Model: Gaussian Naives Bayes Classifier  \n",
        "Normalisation:Lemmatization  \n",
        "Convert to numeric method: Bag of Words"
      ]
    },
    {
      "cell_type": "code",
      "execution_count": null,
      "id": "95a5d235-ac5e-47f4-821a-0ee33974f8e7",
      "metadata": {
        "id": "95a5d235-ac5e-47f4-821a-0ee33974f8e7"
      },
      "outputs": [],
      "source": [
        "train_amended = train_unique.copy()\n",
        "train_amended = preprocess(train_amended)\n",
        "train_amended = remove_stopwords(train_amended)\n",
        "train_X, train_Y = split_X_Y(train_amended)\n",
        "train_X_token = tokenize_tweet(train_X)\n",
        "train_X_lemmatize = lemmatize_data(train_X_token)\n",
        "\n",
        "# preprocessing of test data\n",
        "test_amended = test_unique.copy()\n",
        "test_amended = preprocess(test_amended)\n",
        "test_amended = remove_stopwords(test_amended)\n",
        "test_X, test_Y = split_X_Y(test_amended)\n",
        "test_X_token = tokenize_tweet(test_X)\n",
        "test_X_lemmatize = lemmatize_data(test_X_token)\n",
        "\n",
        "# preprocessing of dev data\n",
        "dev_amended = dev_unique.copy()\n",
        "dev_amended = preprocess(dev_amended)\n",
        "dev_amended = remove_stopwords(dev_amended)\n",
        "dev_X, dev_Y = split_X_Y(dev_amended)\n",
        "dev_X_token = tokenize_tweet(dev_X)\n",
        "dev_X_lemmatize = lemmatize_data(dev_X_token)\n",
        "\n",
        "\n",
        "# Bag of Words with lemmatize training X data\n",
        "train_X_lemmatize_BOW, test_X_lemmatize_BOW, dev_X_lemmatize_BOW, BOW_lemmatize, words_lemmatize = BOW_vectorizer(train_X_lemmatize, test_X_lemmatize, dev_X_lemmatize)"
      ]
    },
    {
      "cell_type": "code",
      "execution_count": null,
      "id": "0855e57c-42ce-4af5-b135-11b16de52c81",
      "metadata": {
        "id": "0855e57c-42ce-4af5-b135-11b16de52c81"
      },
      "outputs": [],
      "source": [
        "# merging train and dev together for hyperparameter tuning\n",
        "train_dev_X = pd.concat([train_X, dev_X], ignore_index=True)\n",
        "train_dev_X_token = tokenize_tweet(train_dev_X)\n",
        "train_dev_X_lemmatize = lemmatize_data(train_dev_X_token)\n",
        "\n",
        "train_dev_Y = pd.concat([train_Y, dev_Y], ignore_index=True)\n",
        "\n",
        "# Bag of Words with lemmatize training X data\n",
        "train_tuning, train_dev_X_lemmatize_BOW, dev_tuning, BOW_tuning, words_tuning = BOW_vectorizer(train_X_lemmatize, train_dev_X_lemmatize, dev_X_lemmatize)"
      ]
    },
    {
      "cell_type": "code",
      "execution_count": null,
      "id": "1e43c229-dca8-489b-8fae-f9fd6385893f",
      "metadata": {
        "id": "1e43c229-dca8-489b-8fae-f9fd6385893f",
        "outputId": "77f39146-a51a-4b62-f9ff-83640ad8a9ba"
      },
      "outputs": [
        {
          "name": "stdout",
          "output_type": "stream",
          "text": [
            "Fitting 1 folds for each of 10 candidates, totalling 10 fits\n"
          ]
        },
        {
          "data": {
            "text/plain": [
              "{'var_smoothing': 0.01}"
            ]
          },
          "execution_count": 45,
          "metadata": {},
          "output_type": "execute_result"
        }
      ],
      "source": [
        "# hyperparameter tuning with GridSearch\n",
        "# define parameter grid\n",
        "smoothing = np.logspace(0,-9, num=10)\n",
        "\n",
        "# Create the param grid\n",
        "param_grid = {'var_smoothing': smoothing}\n",
        "\n",
        "# define validation split\n",
        "# index of -1 for train and index of 1 for validation\n",
        "train_index = np.zeros(len(train_X)) - 1\n",
        "dev_index = np.ones(len(dev_X))\n",
        "test_fold = np.concatenate((train_index, dev_index))\n",
        "ps = PredefinedSplit(test_fold)\n",
        "\n",
        "# fitting the GridSearch\n",
        "GNB_GridSearch = GridSearchCV(estimator=GaussianNB(), param_grid=param_grid, cv=ps, verbose=2, n_jobs=4)\n",
        "GNB_GridSearch.fit(train_dev_X_lemmatize_BOW.toarray(), train_dev_Y)\n",
        "\n",
        "# get the best parameters\n",
        "GNB_GridSearch.best_params_"
      ]
    },
    {
      "cell_type": "code",
      "execution_count": null,
      "id": "9361d8cf-8acd-46d8-a642-d48006996bb5",
      "metadata": {
        "id": "9361d8cf-8acd-46d8-a642-d48006996bb5"
      },
      "outputs": [],
      "source": [
        "# define model with best parameters\n",
        "gnb = GaussianNB(var_smoothing=0.01)"
      ]
    },
    {
      "cell_type": "code",
      "execution_count": null,
      "id": "98b9e934-d86e-405b-9d51-388c89fd5d37",
      "metadata": {
        "id": "98b9e934-d86e-405b-9d51-388c89fd5d37",
        "outputId": "644b7fa5-e09f-47b2-91df-16a4753458a0"
      },
      "outputs": [
        {
          "name": "stdout",
          "output_type": "stream",
          "text": [
            "The accuracy is: 0.5608247422680412\n",
            "The f-1 score is :\n",
            " [0.65569077 0.47181009 0.47437426]\n",
            "Confusion Matrix:\n",
            " [[458 182 274]\n",
            " [ 16 159 134]\n",
            " [  9  24 199]]\n"
          ]
        }
      ],
      "source": [
        "# training Gaussian Naive Bayes with lemmatize training data with BOW\n",
        "GNBC_BOW = gnb.fit(train_X_lemmatize_BOW.toarray(),train_Y)\n",
        "\n",
        "# predicting airline_sentiment for test data\n",
        "y_predict = GNBC_BOW.predict(test_X_lemmatize_BOW.toarray())\n",
        "\n",
        "# calculating accuracy score, f1-score and confusion matrix for test\n",
        "accuracy = accuracy_score(test_Y, y_predict)\n",
        "print(\"The accuracy is:\", accuracy)\n",
        "\n",
        "f1 = f1_score(test_Y, y_predict, average=None)\n",
        "print(\"The f-1 score is :\\n\",f1)\n",
        "\n",
        "ConfusionMatrix = confusion_matrix(test_Y, y_predict)\n",
        "print(\"Confusion Matrix:\\n\",ConfusionMatrix)"
      ]
    },
    {
      "cell_type": "code",
      "execution_count": null,
      "id": "cc339bfc-9dd1-4cba-9a62-13bea1ea4ed0",
      "metadata": {
        "id": "cc339bfc-9dd1-4cba-9a62-13bea1ea4ed0",
        "outputId": "eb50795c-ebca-4e07-f716-7cebd9359497"
      },
      "outputs": [
        {
          "name": "stdout",
          "output_type": "stream",
          "text": [
            "The accuracy is: 0.6455341208464349\n",
            "The f-1 score is :\n",
            " [0.71580756 0.60309084 0.55555556]\n",
            "Confusion Matrix:\n",
            " [[4166 1168 2043]\n",
            " [  75 1600  816]\n",
            " [  22   47 1830]]\n"
          ]
        }
      ],
      "source": [
        "# predicting airline_sentiment for train data\n",
        "y_predict_train = GNBC_BOW.predict(train_X_lemmatize_BOW.toarray())\n",
        "\n",
        "# calculating accuracy score, f1-score and confusion matrix for train data\n",
        "accuracy = accuracy_score(train_Y, y_predict_train)\n",
        "print(\"The accuracy is:\", accuracy)\n",
        "\n",
        "f1 = f1_score(train_Y, y_predict_train, average=None)\n",
        "print(\"The f-1 score is :\\n\",f1)\n",
        "\n",
        "ConfusionMatrix = confusion_matrix(train_Y, y_predict_train)\n",
        "print(\"Confusion Matrix:\\n\",ConfusionMatrix)"
      ]
    },
    {
      "cell_type": "code",
      "execution_count": null,
      "id": "df925fe6-e1dd-440d-a43a-b78e14567cf4",
      "metadata": {
        "id": "df925fe6-e1dd-440d-a43a-b78e14567cf4",
        "outputId": "53dbe5a2-9e21-49cb-fccd-04ed802f955c"
      },
      "outputs": [
        {
          "name": "stdout",
          "output_type": "stream",
          "text": [
            "The accuracy is: 0.5596051632498101\n",
            "The f-1 score is :\n",
            " [0.66352201 0.44333333 0.47769029]\n",
            "Confusion Matrix:\n",
            " [[422 165 238]\n",
            " [ 17 133 129]\n",
            " [  8  23 182]]\n"
          ]
        }
      ],
      "source": [
        "# predicting airline_sentiment for dev data\n",
        "y_predict_dev = GNBC_BOW.predict(dev_X_lemmatize_BOW.toarray())\n",
        "\n",
        "# calculating accuracy score, f1-score and confusion matrix for dev\n",
        "accuracy = accuracy_score(dev_Y, y_predict_dev)\n",
        "print(\"The accuracy is:\", accuracy)\n",
        "\n",
        "f1 = f1_score(dev_Y, y_predict_dev, average=None)\n",
        "print(\"The f-1 score is :\\n\",f1)\n",
        "\n",
        "ConfusionMatrix = confusion_matrix(dev_Y, y_predict_dev)\n",
        "print(\"Confusion Matrix:\\n\",ConfusionMatrix)"
      ]
    },
    {
      "cell_type": "markdown",
      "id": "cf428d47-5a24-4461-a1be-e8ff013496d9",
      "metadata": {
        "id": "cf428d47-5a24-4461-a1be-e8ff013496d9"
      },
      "source": [
        "## 2.3 Model: Gaussian Naives Bayes Classifier  \n",
        "Normalisation: Porter Stemming  \n",
        "Convert to numeric method: Bag of Words"
      ]
    },
    {
      "cell_type": "code",
      "execution_count": null,
      "id": "e60aa6d1-2690-48ce-b84d-900e272569c5",
      "metadata": {
        "id": "e60aa6d1-2690-48ce-b84d-900e272569c5"
      },
      "outputs": [],
      "source": [
        "# preprocessing of training data\n",
        "train_amended = train_unique.copy()\n",
        "train_amended = preprocess(train_amended)\n",
        "train_amended = remove_stopwords(train_amended)\n",
        "train_X, train_Y = split_X_Y(train_amended)\n",
        "train_X_token = tokenize_tweet(train_X)\n",
        "train_X_PS = stem_data(train_X_token, method=\"Porter\")\n",
        "\n",
        "# preprocessing of test data\n",
        "test_amended = test_unique.copy()\n",
        "test_amended = preprocess(test_amended)\n",
        "test_amended = remove_stopwords(test_amended)\n",
        "test_X, test_Y = split_X_Y(test_amended)\n",
        "test_X_token = tokenize_tweet(test_X)\n",
        "test_X_PS = stem_data(test_X_token, method=\"Porter\")\n",
        "\n",
        "# preprocessing of dev data\n",
        "dev_amended = dev_unique.copy()\n",
        "dev_amended = preprocess(dev_amended)\n",
        "dev_amended = remove_stopwords(dev_amended)\n",
        "dev_X, dev_Y = split_X_Y(dev_amended)\n",
        "dev_X_token = tokenize_tweet(dev_X)\n",
        "dev_X_PS = stem_data(dev_X_token, method=\"Porter\")\n",
        "\n",
        "# Bag of Words with Porter stemming training X data\n",
        "train_X_PS_BOW, test_X_PS_BOW, dev_X_PS_BOW, BOW_PS, words_PS = BOW_vectorizer(train_X_PS, test_X_PS, dev_X_PS)"
      ]
    },
    {
      "cell_type": "code",
      "execution_count": null,
      "id": "94e30cc1-debb-418a-b31c-6cb6eddf01fc",
      "metadata": {
        "id": "94e30cc1-debb-418a-b31c-6cb6eddf01fc"
      },
      "outputs": [],
      "source": [
        "# merging train and dev together for hyperparameter tuning\n",
        "train_dev_X = pd.concat([train_X, dev_X], ignore_index=True)\n",
        "train_dev_X_token = tokenize_tweet(train_dev_X)\n",
        "train_dev_X_PS = stem_data(train_dev_X_token, method=\"Porter\")\n",
        "\n",
        "train_dev_Y = pd.concat([train_Y, dev_Y], ignore_index=True)\n",
        "\n",
        "# Bag of Words with Porter stemming training X data\n",
        "train_tuning, train_dev_X_PS_BOW, dev_tuning, BOW_tuning, words_tuning = BOW_vectorizer(train_X_PS, train_dev_X_PS, dev_X_PS)"
      ]
    },
    {
      "cell_type": "code",
      "execution_count": null,
      "id": "f365873a-5b8b-4b7c-8d50-a43e5aac788f",
      "metadata": {
        "id": "f365873a-5b8b-4b7c-8d50-a43e5aac788f",
        "outputId": "33b706b0-39e9-4908-ab60-c80015e04d8c"
      },
      "outputs": [
        {
          "name": "stdout",
          "output_type": "stream",
          "text": [
            "Fitting 1 folds for each of 10 candidates, totalling 10 fits\n"
          ]
        },
        {
          "data": {
            "text/plain": [
              "{'var_smoothing': 0.01}"
            ]
          },
          "execution_count": 52,
          "metadata": {},
          "output_type": "execute_result"
        }
      ],
      "source": [
        "# hyperparameter tuning with GridSearch\n",
        "# define parameter grid\n",
        "smoothing = np.logspace(0,-9, num=10)\n",
        "\n",
        "# Create the param grid\n",
        "param_grid = {'var_smoothing': smoothing}\n",
        "\n",
        "# define validation split\n",
        "# index of -1 for train and index of 1 for validation\n",
        "train_index = np.zeros(len(train_X)) - 1\n",
        "dev_index = np.ones(len(dev_X))\n",
        "test_fold = np.concatenate((train_index, dev_index))\n",
        "ps = PredefinedSplit(test_fold)\n",
        "\n",
        "# fitting the GridSearch\n",
        "GNB_GridSearch = GridSearchCV(estimator=GaussianNB(), param_grid=param_grid, cv=ps, verbose=2, n_jobs=4)\n",
        "GNB_GridSearch.fit(train_dev_X_PS_BOW.toarray(), train_dev_Y)\n",
        "\n",
        "# get the best parameters\n",
        "GNB_GridSearch.best_params_"
      ]
    },
    {
      "cell_type": "code",
      "execution_count": null,
      "id": "96457d4b-d608-4ee2-9f4c-a912b077bf5a",
      "metadata": {
        "id": "96457d4b-d608-4ee2-9f4c-a912b077bf5a"
      },
      "outputs": [],
      "source": [
        "# define model with best parameters\n",
        "gnb = GaussianNB(var_smoothing=0.01)"
      ]
    },
    {
      "cell_type": "code",
      "execution_count": null,
      "id": "df7b3b94-9abf-4b06-875e-35c18cb1e725",
      "metadata": {
        "id": "df7b3b94-9abf-4b06-875e-35c18cb1e725",
        "outputId": "8eea4e08-a9d9-42bf-9d21-0df6e7acec5a"
      },
      "outputs": [
        {
          "name": "stdout",
          "output_type": "stream",
          "text": [
            "The accuracy is: 0.5896907216494846\n",
            "The f-1 score is :\n",
            " [0.69751381 0.48742138 0.47941889]\n",
            "Confusion Matrix:\n",
            " [[505 147 262]\n",
            " [ 20 155 134]\n",
            " [  9  25 198]]\n"
          ]
        }
      ],
      "source": [
        "# training Gaussian Naive Bayes with Porter stemming training data with BOW\n",
        "GNBC_BOW = gnb.fit(train_X_PS_BOW.toarray(),train_Y)\n",
        "\n",
        "# predicting airline_sentiment for test data\n",
        "y_predict = GNBC_BOW.predict(test_X_PS_BOW.toarray())\n",
        "\n",
        "# calculating accuracy score, f1-score and confusion matrix for test data\n",
        "accuracy = accuracy_score(test_Y, y_predict)\n",
        "print(\"The accuracy is:\", accuracy)\n",
        "\n",
        "f1 = f1_score(test_Y, y_predict, average=None)\n",
        "print(\"The f-1 score is :\\n\",f1)\n",
        "\n",
        "ConfusionMatrix = confusion_matrix(test_Y, y_predict)\n",
        "print(\"Confusion Matrix:\\n\",ConfusionMatrix)"
      ]
    },
    {
      "cell_type": "code",
      "execution_count": null,
      "id": "7b016a2a-4cfb-43a8-b1f2-4dd2be5e2b0b",
      "metadata": {
        "id": "7b016a2a-4cfb-43a8-b1f2-4dd2be5e2b0b",
        "outputId": "cfa061d4-a3f7-4732-830d-088b48df630d"
      },
      "outputs": [
        {
          "name": "stdout",
          "output_type": "stream",
          "text": [
            "The accuracy is: 0.6531826293872695\n",
            "The f-1 score is :\n",
            " [0.73049225 0.60011563 0.55579334]\n",
            "Confusion Matrix:\n",
            " [[4311 1087 1979]\n",
            " [  88 1557  846]\n",
            " [  27   54 1818]]\n"
          ]
        }
      ],
      "source": [
        "# predicting airline_sentiment for train data\n",
        "y_predict_train = GNBC_BOW.predict(train_X_PS_BOW.toarray())\n",
        "\n",
        "# calculating accuracy score, f1-score and confusion matrix for train data\n",
        "accuracy = accuracy_score(train_Y, y_predict_train)\n",
        "print(\"The accuracy is:\", accuracy)\n",
        "\n",
        "f1 = f1_score(train_Y, y_predict_train, average=None)\n",
        "print(\"The f-1 score is :\\n\",f1)\n",
        "\n",
        "ConfusionMatrix = confusion_matrix(train_Y, y_predict_train)\n",
        "print(\"Confusion Matrix:\\n\",ConfusionMatrix)"
      ]
    },
    {
      "cell_type": "code",
      "execution_count": null,
      "id": "db8aca81-fb83-4fa5-a4e2-8f4e09ebec4c",
      "metadata": {
        "id": "db8aca81-fb83-4fa5-a4e2-8f4e09ebec4c",
        "outputId": "3b21146c-d520-4de0-ea91-232163ea69c3"
      },
      "outputs": [
        {
          "name": "stdout",
          "output_type": "stream",
          "text": [
            "The accuracy is: 0.5732725892179195\n",
            "The f-1 score is :\n",
            " [0.6769468  0.45183888 0.48825065]\n",
            "Confusion Matrix:\n",
            " [[439 146 240]\n",
            " [ 24 129 126]\n",
            " [  9  17 187]]\n"
          ]
        }
      ],
      "source": [
        "# predicting airline_sentiment for dev data\n",
        "y_predict_dev = GNBC_BOW.predict(dev_X_PS_BOW.toarray())\n",
        "\n",
        "# calculating accuracy score, f1-score and confusion matrix for train data\n",
        "accuracy = accuracy_score(dev_Y, y_predict_dev)\n",
        "print(\"The accuracy is:\", accuracy)\n",
        "\n",
        "f1 = f1_score(dev_Y, y_predict_dev, average=None)\n",
        "print(\"The f-1 score is :\\n\",f1)\n",
        "\n",
        "ConfusionMatrix = confusion_matrix(dev_Y, y_predict_dev)\n",
        "print(\"Confusion Matrix:\\n\",ConfusionMatrix)"
      ]
    },
    {
      "cell_type": "markdown",
      "id": "fb222d22-7013-4ecf-8923-852e26092e5a",
      "metadata": {
        "id": "fb222d22-7013-4ecf-8923-852e26092e5a"
      },
      "source": [
        "## 2.4 Model: Gaussian Naives Bayes Classifier  \n",
        "Normalisation: Lancaster Stemming  \n",
        "Convert to numeric method: Bag of Words"
      ]
    },
    {
      "cell_type": "code",
      "execution_count": null,
      "id": "97b7ef49-2d1b-4113-aa1d-5e6a4a77b080",
      "metadata": {
        "id": "97b7ef49-2d1b-4113-aa1d-5e6a4a77b080"
      },
      "outputs": [],
      "source": [
        "# preprocessing of training data\n",
        "train_amended = train_unique.copy()\n",
        "train_amended = preprocess(train_amended)\n",
        "train_amended = remove_stopwords(train_amended)\n",
        "train_X, train_Y = split_X_Y(train_amended)\n",
        "train_X_token = tokenize_tweet(train_X)\n",
        "train_X_LS = stem_data(train_X_token, method=\"Lancaster\")\n",
        "\n",
        "# preprocessing of test data\n",
        "test_amended = test_unique.copy()\n",
        "test_amended = preprocess(test_amended)\n",
        "test_amended = remove_stopwords(test_amended)\n",
        "test_X, test_Y = split_X_Y(test_amended)\n",
        "test_X_token = tokenize_tweet(test_X)\n",
        "test_X_LS = stem_data(test_X_token, method=\"Lancaster\")\n",
        "\n",
        "# preprocessing of dev data\n",
        "dev_amended = dev_unique.copy()\n",
        "dev_amended = preprocess(dev_amended)\n",
        "dev_amended = remove_stopwords(dev_amended)\n",
        "dev_X, dev_Y = split_X_Y(dev_amended)\n",
        "dev_X_token = tokenize_tweet(dev_X)\n",
        "dev_X_LS = stem_data(dev_X_token, method=\"Lancaster\")\n",
        "\n",
        "# Bag of Words with Lancaster Stemming training X data\n",
        "train_X_LS_BOW, test_X_LS_BOW, dev_X_LS_BOW, BOW_LS, words_LS = BOW_vectorizer(train_X_LS, test_X_LS, dev_X_LS)"
      ]
    },
    {
      "cell_type": "code",
      "execution_count": null,
      "id": "fe266957-54a0-4b2a-9bea-f43d0cd2bab2",
      "metadata": {
        "id": "fe266957-54a0-4b2a-9bea-f43d0cd2bab2"
      },
      "outputs": [],
      "source": [
        "# merging train and dev together for hyperparameter tuning\n",
        "train_dev_X = pd.concat([train_X, dev_X], ignore_index=True)\n",
        "train_dev_X_token = tokenize_tweet(train_dev_X)\n",
        "train_dev_X_LS = stem_data(train_dev_X_token, method=\"Lancaster\")\n",
        "\n",
        "train_dev_Y = pd.concat([train_Y, dev_Y], ignore_index=True)\n",
        "\n",
        "# Bag of Words with Lancaster stemming training X data\n",
        "train_tuning, train_dev_X_LS_BOW, dev_tuning, BOW_tuning, words_tuning = BOW_vectorizer(train_X_LS, train_dev_X_LS, dev_X_LS)"
      ]
    },
    {
      "cell_type": "code",
      "execution_count": null,
      "id": "c8f08664-5b7f-46de-84ec-e589e5efaa0f",
      "metadata": {
        "id": "c8f08664-5b7f-46de-84ec-e589e5efaa0f",
        "outputId": "5d8dcea1-b346-45ef-e065-ac616e2a3d19"
      },
      "outputs": [
        {
          "name": "stdout",
          "output_type": "stream",
          "text": [
            "Fitting 1 folds for each of 10 candidates, totalling 10 fits\n"
          ]
        },
        {
          "data": {
            "text/plain": [
              "{'var_smoothing': 0.01}"
            ]
          },
          "execution_count": 59,
          "metadata": {},
          "output_type": "execute_result"
        }
      ],
      "source": [
        "# hyperparameter tuning with GridSearch\n",
        "# define parameter grid\n",
        "smoothing = np.logspace(0,-9, num=10)\n",
        "\n",
        "# Create the param grid\n",
        "param_grid = {'var_smoothing': smoothing}\n",
        "\n",
        "# define validation split\n",
        "from sklearn.model_selection import PredefinedSplit # index of -1 for train and index of 1 for validation\n",
        "train_index = np.zeros(len(train_X)) - 1\n",
        "dev_index = np.ones(len(dev_X))\n",
        "test_fold = np.concatenate((train_index, dev_index))\n",
        "ps = PredefinedSplit(test_fold)\n",
        "\n",
        "# fitting the GridSearch\n",
        "GNB_GridSearch = GridSearchCV(estimator=GaussianNB(), param_grid=param_grid, cv=ps, verbose=2, n_jobs=4)\n",
        "GNB_GridSearch.fit(train_dev_X_LS_BOW.toarray(), train_dev_Y)\n",
        "\n",
        "# get the best parameters\n",
        "GNB_GridSearch.best_params_"
      ]
    },
    {
      "cell_type": "code",
      "execution_count": null,
      "id": "43300f79-b341-4cc1-aa3e-6b7034a1da52",
      "metadata": {
        "id": "43300f79-b341-4cc1-aa3e-6b7034a1da52"
      },
      "outputs": [],
      "source": [
        "# define model with best parameters\n",
        "gnb = GaussianNB(var_smoothing=0.01)"
      ]
    },
    {
      "cell_type": "code",
      "execution_count": null,
      "id": "cda70e5f-8d49-40dc-bd64-5a01238e90a6",
      "metadata": {
        "id": "cda70e5f-8d49-40dc-bd64-5a01238e90a6",
        "outputId": "5a5407f4-3190-4a44-89d9-cf38aec6c002"
      },
      "outputs": [
        {
          "name": "stdout",
          "output_type": "stream",
          "text": [
            "The accuracy is: 0.5807560137457045\n",
            "The f-1 score is :\n",
            " [0.69390582 0.4778481  0.46282974]\n",
            "Confusion Matrix:\n",
            " [[501 142 271]\n",
            " [ 20 151 138]\n",
            " [  9  30 193]]\n"
          ]
        }
      ],
      "source": [
        "# training Gaussian Naive Bayes with Lancaster stemming training data with BOW\n",
        "GNBC_BOW = gnb.fit(train_X_LS_BOW.toarray(),train_Y)\n",
        "\n",
        "# predicting airline_sentiment for test data\n",
        "y_predict = GNBC_BOW.predict(test_X_LS_BOW.toarray())\n",
        "\n",
        "# calculating accuracy score, f1-score and confusion matrix for test data\n",
        "accuracy = accuracy_score(test_Y, y_predict)\n",
        "print(\"The accuracy is:\", accuracy)\n",
        "\n",
        "f1 = f1_score(test_Y, y_predict, average=None)\n",
        "print(\"The f-1 score is :\\n\",f1)\n",
        "\n",
        "ConfusionMatrix = confusion_matrix(test_Y, y_predict)\n",
        "print(\"Confusion Matrix:\\n\",ConfusionMatrix)"
      ]
    },
    {
      "cell_type": "code",
      "execution_count": null,
      "id": "97359dad-4db5-4cca-998a-3b2f6a9b1526",
      "metadata": {
        "id": "97359dad-4db5-4cca-998a-3b2f6a9b1526",
        "outputId": "fc4cbd1a-d1dc-46b0-bd16-c577e0e1a044"
      },
      "outputs": [
        {
          "name": "stdout",
          "output_type": "stream",
          "text": [
            "The accuracy is: 0.6526727288178805\n",
            "The f-1 score is :\n",
            " [0.73334458 0.59208996 0.55385087]\n",
            "Confusion Matrix:\n",
            " [[4348 1079 1950]\n",
            " [ 100 1527  864]\n",
            " [  33   61 1805]]\n"
          ]
        }
      ],
      "source": [
        "# predicting airline_sentiment for train data\n",
        "y_predict_train = GNBC_BOW.predict(train_X_LS_BOW.toarray())\n",
        "\n",
        "# calculating accuracy score, f1-score and confusion matrix for train data\n",
        "accuracy = accuracy_score(train_Y, y_predict_train)\n",
        "print(\"The accuracy is:\", accuracy)\n",
        "\n",
        "f1 = f1_score(train_Y, y_predict_train, average=None)\n",
        "print(\"The f-1 score is :\\n\",f1)\n",
        "\n",
        "ConfusionMatrix = confusion_matrix(train_Y, y_predict_train)\n",
        "print(\"Confusion Matrix:\\n\",ConfusionMatrix)"
      ]
    },
    {
      "cell_type": "code",
      "execution_count": null,
      "id": "6f5fc58e-4079-44eb-a150-5a86ccfef69e",
      "metadata": {
        "id": "6f5fc58e-4079-44eb-a150-5a86ccfef69e",
        "outputId": "6c89cdba-1d04-443a-87a1-f6cb71626952"
      },
      "outputs": [
        {
          "name": "stdout",
          "output_type": "stream",
          "text": [
            "The accuracy is: 0.577828397873956\n",
            "The f-1 score is :\n",
            " [0.68509985 0.45104895 0.48947368]\n",
            "Confusion Matrix:\n",
            " [[446 144 235]\n",
            " [ 24 129 126]\n",
            " [  7  20 186]]\n"
          ]
        }
      ],
      "source": [
        "# predicting airline_sentiment for dev data\n",
        "y_predict_dev = GNBC_BOW.predict(dev_X_LS_BOW.toarray())\n",
        "\n",
        "# calculating accuracy score, f1-score and confusion matrix for dev data\n",
        "accuracy = accuracy_score(dev_Y, y_predict_dev)\n",
        "print(\"The accuracy is:\", accuracy)\n",
        "\n",
        "f1 = f1_score(dev_Y, y_predict_dev, average=None)\n",
        "print(\"The f-1 score is :\\n\",f1)\n",
        "\n",
        "ConfusionMatrix = confusion_matrix(dev_Y, y_predict_dev)\n",
        "print(\"Confusion Matrix:\\n\",ConfusionMatrix)"
      ]
    },
    {
      "cell_type": "markdown",
      "id": "f38c6fc7-51a3-4cee-9380-661c32a935a6",
      "metadata": {
        "id": "f38c6fc7-51a3-4cee-9380-661c32a935a6"
      },
      "source": [
        "## 2.5 Model: Gaussian Naives Bayes Classifier  \n",
        "Normalisation: N/A (Original)  \n",
        "Convert to numeric method: Tf-Idf"
      ]
    },
    {
      "cell_type": "code",
      "execution_count": null,
      "id": "7a9d81b7-33c4-4581-a1c2-ae2d42bdae7d",
      "metadata": {
        "id": "7a9d81b7-33c4-4581-a1c2-ae2d42bdae7d"
      },
      "outputs": [],
      "source": [
        "# preprocessing of training data\n",
        "train_amended = train_unique.copy()\n",
        "train_amended = preprocess(train_amended)\n",
        "train_amended = remove_stopwords(train_amended)\n",
        "train_X, train_Y = split_X_Y(train_amended)\n",
        "\n",
        "# preprocessing of test data\n",
        "test_amended = test_unique.copy()\n",
        "test_amended = preprocess(test_amended)\n",
        "test_amended = remove_stopwords(test_amended)\n",
        "test_X, test_Y = split_X_Y(test_amended)\n",
        "\n",
        "# preprocessing of dev data\n",
        "dev_amended = dev_unique.copy()\n",
        "dev_amended = preprocess(dev_amended)\n",
        "dev_amended = remove_stopwords(dev_amended)\n",
        "dev_X, dev_Y = split_X_Y(dev_amended)\n",
        "\n",
        "# Tf-Idf with original training X data (i.e., no tokenising, lemmatization or stemming)\n",
        "train_X_TfIdf, test_X_TfIdf, dev_X_TfIdf = TfIdf_vectorizer(train_X, test_X, dev_X)"
      ]
    },
    {
      "cell_type": "code",
      "execution_count": null,
      "id": "7a07dedf-729b-49ad-aa7a-5311a6240133",
      "metadata": {
        "id": "7a07dedf-729b-49ad-aa7a-5311a6240133"
      },
      "outputs": [],
      "source": [
        "# merging train and dev together for hyperparameter tuning\n",
        "train_dev_X = pd.concat([train_X, dev_X], ignore_index=True)\n",
        "train_dev_Y = pd.concat([train_Y, dev_Y], ignore_index=True)\n",
        "\n",
        "# Tf-Idf with original training X data (i.e., no tokenising, lemmatization or stemming)\n",
        "train_tuning, train_dev_X_TfIdf, dev_tuning = TfIdf_vectorizer(train_X, train_dev_X, dev_X)"
      ]
    },
    {
      "cell_type": "code",
      "execution_count": null,
      "id": "87712edf-0e4b-4b8b-8d16-0157fec7871c",
      "metadata": {
        "id": "87712edf-0e4b-4b8b-8d16-0157fec7871c",
        "outputId": "16724741-c6c0-4e4c-80f6-d6e51c56f2ef"
      },
      "outputs": [
        {
          "name": "stdout",
          "output_type": "stream",
          "text": [
            "Fitting 1 folds for each of 10 candidates, totalling 10 fits\n"
          ]
        },
        {
          "data": {
            "text/plain": [
              "{'var_smoothing': 0.01}"
            ]
          },
          "execution_count": 66,
          "metadata": {},
          "output_type": "execute_result"
        }
      ],
      "source": [
        "# hyperparameter tuning with GridSearch\n",
        "# define parameter grid\n",
        "smoothing = np.logspace(0,-9, num=10)\n",
        "\n",
        "# Create the param grid\n",
        "param_grid = {'var_smoothing': smoothing}\n",
        "\n",
        "# define validation split\n",
        "from sklearn.model_selection import PredefinedSplit # index of -1 for train and index of 1 for validation\n",
        "train_index = np.zeros(len(train_X)) - 1\n",
        "dev_index = np.ones(len(dev_X))\n",
        "test_fold = np.concatenate((train_index, dev_index))\n",
        "ps = PredefinedSplit(test_fold)\n",
        "\n",
        "# fitting the GridSearch\n",
        "GNB_GridSearch = GridSearchCV(estimator=GaussianNB(), param_grid=param_grid, cv=ps, verbose=2, n_jobs=4)\n",
        "GNB_GridSearch.fit(train_dev_X_TfIdf, train_dev_Y)\n",
        "\n",
        "# get the best parameters\n",
        "GNB_GridSearch.best_params_"
      ]
    },
    {
      "cell_type": "code",
      "execution_count": null,
      "id": "b175111d-a901-4467-b5fe-62641041a95d",
      "metadata": {
        "id": "b175111d-a901-4467-b5fe-62641041a95d"
      },
      "outputs": [],
      "source": [
        "# define model with best parameters\n",
        "gnb = GaussianNB(var_smoothing=0.01)"
      ]
    },
    {
      "cell_type": "code",
      "execution_count": null,
      "id": "e420690d-8d74-4d96-970a-1940f286d59a",
      "metadata": {
        "id": "e420690d-8d74-4d96-970a-1940f286d59a",
        "outputId": "de704f43-b5c3-44ac-f75d-a248139d2e1c"
      },
      "outputs": [
        {
          "name": "stdout",
          "output_type": "stream",
          "text": [
            "The accuracy is: 0.6185567010309279\n",
            "The f-1 score is :\n",
            " [0.74116891 0.45348837 0.50225564]\n",
            "Confusion Matrix:\n",
            " [[577 180 157]\n",
            " [ 44 156 109]\n",
            " [ 22  43 167]]\n"
          ]
        }
      ],
      "source": [
        "# training Gaussian Naive Bayes with original training data with TF-IDF\n",
        "GNBC_TFID = gnb.fit(train_X_TfIdf,train_Y)\n",
        "\n",
        "# predicting airline_sentiment for test data\n",
        "y_predict = GNBC_TFID.predict(test_X_TfIdf)\n",
        "\n",
        "# calculating accuracy score, f1-score and confusion matrix for test data\n",
        "accuracy = accuracy_score(test_Y, y_predict)\n",
        "print(\"The accuracy is:\", accuracy)\n",
        "\n",
        "f1 = f1_score(test_Y, y_predict, average=None)\n",
        "print(\"The f-1 score is :\\n\",f1)\n",
        "\n",
        "ConfusionMatrix = confusion_matrix(test_Y, y_predict)\n",
        "print(\"Confusion Matrix:\\n\",ConfusionMatrix)"
      ]
    },
    {
      "cell_type": "code",
      "execution_count": null,
      "id": "35ce15c1-02f1-4503-a436-005b02286666",
      "metadata": {
        "id": "35ce15c1-02f1-4503-a436-005b02286666",
        "outputId": "805fa62b-afbb-4a20-d886-ad9789eeaf74"
      },
      "outputs": [
        {
          "name": "stdout",
          "output_type": "stream",
          "text": [
            "The accuracy is: 0.7242287753887992\n",
            "The f-1 score is :\n",
            " [0.79560124 0.62823276 0.65755953]\n",
            "Confusion Matrix:\n",
            " [[4992 1237 1148]\n",
            " [ 153 1749  589]\n",
            " [  27   91 1781]]\n"
          ]
        }
      ],
      "source": [
        "# predicting airline_sentiment for train data\n",
        "y_predict_train = GNBC_TFID.predict(train_X_TfIdf)\n",
        "\n",
        "# calculating accuracy score, f1-score and confusion matrix for train data\n",
        "accuracy = accuracy_score(train_Y, y_predict_train)\n",
        "print(\"The accuracy is:\", accuracy)\n",
        "\n",
        "f1 = f1_score(train_Y, y_predict_train, average=None)\n",
        "print(\"The f-1 score is :\\n\",f1)\n",
        "\n",
        "ConfusionMatrix = confusion_matrix(train_Y, y_predict_train)\n",
        "print(\"Confusion Matrix:\\n\",ConfusionMatrix)"
      ]
    },
    {
      "cell_type": "code",
      "execution_count": null,
      "id": "88a4af35-f49d-48c2-84ca-bd3217d2da5c",
      "metadata": {
        "id": "88a4af35-f49d-48c2-84ca-bd3217d2da5c",
        "outputId": "a1b427ed-1d5d-4562-98a6-2afbb65518d4"
      },
      "outputs": [
        {
          "name": "stdout",
          "output_type": "stream",
          "text": [
            "The accuracy is: 0.6195899772209568\n",
            "The f-1 score is :\n",
            " [0.73205402 0.46869984 0.51324503]\n",
            "Confusion Matrix:\n",
            " [[515 159 151]\n",
            " [ 48 146  85]\n",
            " [ 19  39 155]]\n"
          ]
        }
      ],
      "source": [
        "# predicting airline_sentiment for dev data\n",
        "y_predict_dev = GNBC_TFID.predict(dev_X_TfIdf)\n",
        "\n",
        "# calculating accuracy score, f1-score and confusion matrix for train data\n",
        "accuracy = accuracy_score(dev_Y, y_predict_dev)\n",
        "print(\"The accuracy is:\", accuracy)\n",
        "\n",
        "f1 = f1_score(dev_Y, y_predict_dev, average=None)\n",
        "print(\"The f-1 score is :\\n\",f1)\n",
        "\n",
        "ConfusionMatrix = confusion_matrix(dev_Y, y_predict_dev)\n",
        "print(\"Confusion Matrix:\\n\",ConfusionMatrix)"
      ]
    },
    {
      "cell_type": "markdown",
      "id": "fbc44e34-3729-4a45-9035-24b9d84fa043",
      "metadata": {
        "id": "fbc44e34-3729-4a45-9035-24b9d84fa043"
      },
      "source": [
        "## 2.6 Model: Gaussian Naives Bayes Classifier  \n",
        "Normalisation: Lemmatization    \n",
        "Convert to numeric method: Tf-Idf"
      ]
    },
    {
      "cell_type": "code",
      "execution_count": null,
      "id": "1c4ca77f-3fb0-472c-a077-9a2f0d4d9f1f",
      "metadata": {
        "id": "1c4ca77f-3fb0-472c-a077-9a2f0d4d9f1f"
      },
      "outputs": [],
      "source": [
        "# preprocessing of training data\n",
        "train_amended = train_unique.copy()\n",
        "train_amended = preprocess(train_amended)\n",
        "train_amended = remove_stopwords(train_amended)\n",
        "train_X, train_Y = split_X_Y(train_amended)\n",
        "train_X_token = tokenize_tweet(train_X)\n",
        "train_X_lemmatize = lemmatize_data(train_X_token)\n",
        "\n",
        "# preprocessing of test data\n",
        "test_amended = test_unique.copy()\n",
        "test_amended = preprocess(test_amended)\n",
        "test_amended = remove_stopwords(test_amended)\n",
        "test_X, test_Y = split_X_Y(test_amended)\n",
        "test_X_token = tokenize_tweet(test_X)\n",
        "test_X_lemmatize = lemmatize_data(test_X_token)\n",
        "\n",
        "# preprocessing of dev data\n",
        "dev_amended = dev_unique.copy()\n",
        "dev_amended = preprocess(dev_amended)\n",
        "dev_amended = remove_stopwords(dev_amended)\n",
        "dev_X, dev_Y = split_X_Y(dev_amended)\n",
        "dev_X_token = tokenize_tweet(dev_X)\n",
        "dev_X_lemmatize = lemmatize_data(dev_X_token)\n",
        "\n",
        "# Tf-Idf with lemmatize training X data\n",
        "train_X_lemmatize_TfIdf, test_X_lemmatize_TfIdf, dev_X_lemmatize_TfIdf = TfIdf_vectorizer(train_X_lemmatize, test_X_lemmatize, dev_X_lemmatize)"
      ]
    },
    {
      "cell_type": "code",
      "execution_count": null,
      "id": "24681e5f-c1b4-4c6f-a117-545e4e5c3d41",
      "metadata": {
        "id": "24681e5f-c1b4-4c6f-a117-545e4e5c3d41"
      },
      "outputs": [],
      "source": [
        "# merging train and dev together for hyperparameter tuning\n",
        "train_dev_X = pd.concat([train_X, dev_X], ignore_index=True)\n",
        "train_dev_X_token = tokenize_tweet(train_dev_X)\n",
        "train_X_lemmatize = lemmatize_data(train_dev_X_token)\n",
        "\n",
        "train_dev_Y = pd.concat([train_Y, dev_Y], ignore_index=True)\n",
        "\n",
        "# Tf-Idf with lemmatize training X data\n",
        "train_tuning, train_dev_X_lemmatize_TfIdf, dev_tuning = TfIdf_vectorizer(train_X_lemmatize, train_dev_X_lemmatize, dev_X_lemmatize)"
      ]
    },
    {
      "cell_type": "code",
      "execution_count": null,
      "id": "a6a53d22-6211-450e-9f82-d537c331c459",
      "metadata": {
        "id": "a6a53d22-6211-450e-9f82-d537c331c459",
        "outputId": "9ff98387-526b-4b06-ce45-d92b1ea06eb8"
      },
      "outputs": [
        {
          "name": "stdout",
          "output_type": "stream",
          "text": [
            "Fitting 1 folds for each of 10 candidates, totalling 10 fits\n"
          ]
        },
        {
          "data": {
            "text/plain": [
              "{'var_smoothing': 0.1}"
            ]
          },
          "execution_count": 73,
          "metadata": {},
          "output_type": "execute_result"
        }
      ],
      "source": [
        "# hyperparameter tuning with GridSearch\n",
        "# define parameter grid\n",
        "smoothing = np.logspace(0,-9, num=10)\n",
        "\n",
        "# Create the param grid\n",
        "param_grid = {'var_smoothing': smoothing}\n",
        "\n",
        "# define validation split\n",
        "# index of -1 for train and index of 1 for validation\n",
        "train_index = np.zeros(len(train_X)) - 1\n",
        "dev_index = np.ones(len(dev_X))\n",
        "test_fold = np.concatenate((train_index, dev_index))\n",
        "ps = PredefinedSplit(test_fold)\n",
        "\n",
        "# fitting the GridSearch\n",
        "GNB_GridSearch = GridSearchCV(estimator=GaussianNB(), param_grid=param_grid, cv=ps, verbose=2, n_jobs=4)\n",
        "GNB_GridSearch.fit(train_dev_X_lemmatize_TfIdf, train_dev_Y)\n",
        "\n",
        "# get the best parameters\n",
        "GNB_GridSearch.best_params_"
      ]
    },
    {
      "cell_type": "code",
      "execution_count": null,
      "id": "d4df1320-065b-4b58-948c-e81502e920a1",
      "metadata": {
        "id": "d4df1320-065b-4b58-948c-e81502e920a1"
      },
      "outputs": [],
      "source": [
        "# define model with best parameters\n",
        "gnb = GaussianNB(var_smoothing=0.1)"
      ]
    },
    {
      "cell_type": "code",
      "execution_count": null,
      "id": "dc1447db-95c0-4c38-bb7a-7f10655a3a1b",
      "metadata": {
        "id": "dc1447db-95c0-4c38-bb7a-7f10655a3a1b",
        "outputId": "6ce607c7-fb39-429e-cc97-8783499579f4"
      },
      "outputs": [
        {
          "name": "stdout",
          "output_type": "stream",
          "text": [
            "The accuracy is: 0.6116838487972509\n",
            "The f-1 score is :\n",
            " [0.72074468 0.48188976 0.50583658]\n",
            "Confusion Matrix:\n",
            " [[542 145 227]\n",
            " [ 39 153 117]\n",
            " [  9  28 195]]\n"
          ]
        }
      ],
      "source": [
        "# training Gaussian Naive Bayes with lemmatize training data with TF-IDF\n",
        "GNBC_TFID = gnb.fit(train_X_lemmatize_TfIdf,train_Y)\n",
        "\n",
        "# predicting airline_sentiment for test data\n",
        "y_predict = GNBC_TFID.predict(test_X_lemmatize_TfIdf)\n",
        "\n",
        "# calculating accuracy score, f1-score and confusion matrix for train data\n",
        "accuracy = accuracy_score(test_Y, y_predict)\n",
        "print(\"The accuracy is:\", accuracy)\n",
        "\n",
        "f1 = f1_score(test_Y, y_predict, average=None)\n",
        "print(\"The f-1 score is :\\n\",f1)\n",
        "\n",
        "ConfusionMatrix = confusion_matrix(test_Y, y_predict)\n",
        "print(\"Confusion Matrix:\\n\",ConfusionMatrix)"
      ]
    },
    {
      "cell_type": "code",
      "execution_count": null,
      "id": "65be0c82-b596-495d-aa2a-6ab40bd8e8d2",
      "metadata": {
        "id": "65be0c82-b596-495d-aa2a-6ab40bd8e8d2",
        "outputId": "7cfc8062-35d3-4cbb-a578-997d35a0783b"
      },
      "outputs": [
        {
          "name": "stdout",
          "output_type": "stream",
          "text": [
            "The accuracy is: 0.6891306195291919\n",
            "The f-1 score is :\n",
            " [0.76428455 0.63341743 0.58474159]\n",
            "Confusion Matrix:\n",
            " [[4695  941 1741]\n",
            " [ 186 1632  673]\n",
            " [  28   89 1782]]\n"
          ]
        }
      ],
      "source": [
        "# predicting airline_sentiment for train data\n",
        "y_predict_train = GNBC_TFID.predict(train_X_lemmatize_TfIdf)\n",
        "\n",
        "# calculating accuracy score, f1-score and confusion matrix for train data\n",
        "accuracy = accuracy_score(train_Y, y_predict_train)\n",
        "print(\"The accuracy is:\", accuracy)\n",
        "\n",
        "f1 = f1_score(train_Y, y_predict_train, average=None)\n",
        "print(\"The f-1 score is :\\n\",f1)\n",
        "\n",
        "ConfusionMatrix = confusion_matrix(train_Y, y_predict_train)\n",
        "print(\"Confusion Matrix:\\n\",ConfusionMatrix)"
      ]
    },
    {
      "cell_type": "code",
      "execution_count": null,
      "id": "cf7da4ad-b27b-442b-a08f-ae7af645440e",
      "metadata": {
        "id": "cf7da4ad-b27b-442b-a08f-ae7af645440e",
        "outputId": "7830cf0f-e9b3-468b-f941-341fc312ce27"
      },
      "outputs": [
        {
          "name": "stdout",
          "output_type": "stream",
          "text": [
            "The accuracy is: 0.6119969627942293\n",
            "The f-1 score is :\n",
            " [0.72087912 0.47818499 0.50862069]\n",
            "Confusion Matrix:\n",
            " [[492 132 201]\n",
            " [ 37 137 105]\n",
            " [ 11  25 177]]\n"
          ]
        }
      ],
      "source": [
        "# predicting airline_sentiment for dev data\n",
        "y_predict_dev = GNBC_TFID.predict(dev_X_lemmatize_TfIdf)\n",
        "\n",
        "# calculating accuracy score, f1-score and confusion matrix for dev data\n",
        "accuracy = accuracy_score(dev_Y, y_predict_dev)\n",
        "print(\"The accuracy is:\", accuracy)\n",
        "\n",
        "f1 = f1_score(dev_Y, y_predict_dev, average=None)\n",
        "print(\"The f-1 score is :\\n\",f1)\n",
        "\n",
        "ConfusionMatrix = confusion_matrix(dev_Y, y_predict_dev)\n",
        "print(\"Confusion Matrix:\\n\",ConfusionMatrix)"
      ]
    },
    {
      "cell_type": "markdown",
      "id": "a2defaf3-e38b-4219-b9f8-c763090f1a16",
      "metadata": {
        "id": "a2defaf3-e38b-4219-b9f8-c763090f1a16"
      },
      "source": [
        "## 2.7 Model: Gaussian Naives Bayes Classifier  \n",
        "Normalisation: Porter Stemming  \n",
        "Convert to numeric method: Tf-Idf"
      ]
    },
    {
      "cell_type": "code",
      "execution_count": null,
      "id": "6501b89e-dfd5-4ad2-9cac-90419f5f2628",
      "metadata": {
        "id": "6501b89e-dfd5-4ad2-9cac-90419f5f2628"
      },
      "outputs": [],
      "source": [
        "# preprocessing of training data\n",
        "train_amended = train_unique.copy()\n",
        "train_amended = preprocess(train_amended)\n",
        "train_amended = remove_stopwords(train_amended)\n",
        "train_X, train_Y = split_X_Y(train_amended)\n",
        "train_X_token = tokenize_tweet(train_X)\n",
        "train_X_PS = stem_data(train_X_token, method=\"Porter\")\n",
        "\n",
        "# preprocessing of test data\n",
        "test_amended = test_unique.copy()\n",
        "test_amended = preprocess(test_amended)\n",
        "test_amended = remove_stopwords(test_amended)\n",
        "test_X, test_Y = split_X_Y(test_amended)\n",
        "test_X_token = tokenize_tweet(test_X)\n",
        "test_X_PS = stem_data(test_X_token, method=\"Porter\")\n",
        "\n",
        "# preprocessing of dev data\n",
        "dev_amended = dev_unique.copy()\n",
        "dev_amended = preprocess(dev_amended)\n",
        "dev_amended = remove_stopwords(dev_amended)\n",
        "dev_X, dev_Y = split_X_Y(dev_amended)\n",
        "dev_X_token = tokenize_tweet(dev_X)\n",
        "dev_X_PS = stem_data(dev_X_token, method=\"Porter\")\n",
        "\n",
        "# Bag of Words with Porter stemming training X data\n",
        "train_X_PS_TfIdf, test_X_PS_TfIdf, dev_X_PS_TfIdf = TfIdf_vectorizer(train_X_PS, test_X_PS, dev_X_PS)"
      ]
    },
    {
      "cell_type": "code",
      "execution_count": null,
      "id": "bc71759c-75d1-42d2-9616-4f59b1681e79",
      "metadata": {
        "id": "bc71759c-75d1-42d2-9616-4f59b1681e79"
      },
      "outputs": [],
      "source": [
        "# merging train and dev together for hyperparameter tuning\n",
        "train_dev_X = pd.concat([train_X, dev_X], ignore_index=True)\n",
        "train_dev_X_token = tokenize_tweet(train_dev_X)\n",
        "train_X_PS = stem_data(train_dev_X_token, method=\"Porter\")\n",
        "\n",
        "train_dev_Y = pd.concat([train_Y, dev_Y], ignore_index=True)\n",
        "\n",
        "# Tf-Idf with Porter Stemming training X data\n",
        "train_tuning, train_dev_X_PS_TfIdf, dev_tuning = TfIdf_vectorizer(train_X_PS, train_dev_X_PS, dev_X_PS)"
      ]
    },
    {
      "cell_type": "code",
      "execution_count": null,
      "id": "21f0d9f3-6c47-492f-84ff-a246bd07fcdf",
      "metadata": {
        "id": "21f0d9f3-6c47-492f-84ff-a246bd07fcdf",
        "outputId": "b0138de1-c006-49b7-b91a-9f78b0edfa07"
      },
      "outputs": [
        {
          "name": "stdout",
          "output_type": "stream",
          "text": [
            "Fitting 1 folds for each of 10 candidates, totalling 10 fits\n"
          ]
        },
        {
          "data": {
            "text/plain": [
              "{'var_smoothing': 0.01}"
            ]
          },
          "execution_count": 85,
          "metadata": {},
          "output_type": "execute_result"
        }
      ],
      "source": [
        "# hyperparameter tuning with GridSearch\n",
        "# define parameter grid\n",
        "smoothing = np.logspace(0,-9, num=10)\n",
        "\n",
        "# Create the param grid\n",
        "param_grid = {'var_smoothing': smoothing}\n",
        "\n",
        "# define validation split\n",
        "# index of -1 for train and index of 1 for validation\n",
        "train_index = np.zeros(len(train_X)) - 1\n",
        "dev_index = np.ones(len(dev_X))\n",
        "test_fold = np.concatenate((train_index, dev_index))\n",
        "ps = PredefinedSplit(test_fold)\n",
        "\n",
        "# fitting the GridSearch\n",
        "GNB_GridSearch = GridSearchCV(estimator=GaussianNB(), param_grid=param_grid, cv=ps, verbose=2, n_jobs=4)\n",
        "GNB_GridSearch.fit(train_dev_X_PS_TfIdf, train_dev_Y)\n",
        "\n",
        "# get the best parameters\n",
        "GNB_GridSearch.best_params_"
      ]
    },
    {
      "cell_type": "code",
      "execution_count": null,
      "id": "6fbd6b78-cda5-42e2-9b2e-c50add975c8f",
      "metadata": {
        "id": "6fbd6b78-cda5-42e2-9b2e-c50add975c8f"
      },
      "outputs": [],
      "source": [
        "# define model with best parameters\n",
        "gnb = GaussianNB(var_smoothing=0.01)"
      ]
    },
    {
      "cell_type": "code",
      "execution_count": null,
      "id": "5cf19ac0-e556-4807-9946-f6bcedc5c72a",
      "metadata": {
        "id": "5cf19ac0-e556-4807-9946-f6bcedc5c72a",
        "outputId": "f1a64af7-27cb-46e3-ca1b-e5f5c65000e9"
      },
      "outputs": [
        {
          "name": "stdout",
          "output_type": "stream",
          "text": [
            "The accuracy is: 0.6261168384879725\n",
            "The f-1 score is :\n",
            " [0.75382653 0.46504559 0.48830409]\n",
            "Confusion Matrix:\n",
            " [[591 155 168]\n",
            " [ 39 153 117]\n",
            " [ 24  41 167]]\n"
          ]
        }
      ],
      "source": [
        "# training Gaussian Naive Bayes with Porter Stemming training data with TF-IDF\n",
        "GNBC_TFID = gnb.fit(train_X_PS_TfIdf,train_Y)\n",
        "\n",
        "# predicting airline_sentiment for test data\n",
        "y_predict = GNBC_TFID.predict(test_X_PS_TfIdf)\n",
        "\n",
        "# calculating accuracy score and confusion matrix for test data\n",
        "accuracy = accuracy_score(test_Y, y_predict)\n",
        "print(\"The accuracy is:\", accuracy)\n",
        "\n",
        "f1 = f1_score(test_Y, y_predict, average=None)\n",
        "print(\"The f-1 score is :\\n\",f1)\n",
        "\n",
        "ConfusionMatrix = confusion_matrix(test_Y, y_predict)\n",
        "print(\"Confusion Matrix:\\n\",ConfusionMatrix)"
      ]
    },
    {
      "cell_type": "code",
      "execution_count": null,
      "id": "470c5ba3-b957-400a-9337-e1448bb80cba",
      "metadata": {
        "id": "470c5ba3-b957-400a-9337-e1448bb80cba",
        "outputId": "807fa3cb-e693-4b7a-9b3d-a08f25d25608"
      },
      "outputs": [
        {
          "name": "stdout",
          "output_type": "stream",
          "text": [
            "The accuracy is: 0.7215942891136229\n",
            "The f-1 score is :\n",
            " [0.7967454  0.62924282 0.63885362]\n",
            "Confusion Matrix:\n",
            " [[5043 1083 1251]\n",
            " [ 202 1687  602]\n",
            " [  37  101 1761]]\n"
          ]
        }
      ],
      "source": [
        "# predicting airline_sentiment for train data\n",
        "y_predict_train = GNBC_TFID.predict(train_X_PS_TfIdf)\n",
        "\n",
        "# calculating accuracy score and confusion matrix for train data\n",
        "accuracy = accuracy_score(train_Y, y_predict_train)\n",
        "print(\"The accuracy is:\", accuracy)\n",
        "\n",
        "f1 = f1_score(train_Y, y_predict_train, average=None)\n",
        "print(\"The f-1 score is :\\n\",f1)\n",
        "\n",
        "ConfusionMatrix = confusion_matrix(train_Y, y_predict_train)\n",
        "print(\"Confusion Matrix:\\n\",ConfusionMatrix)"
      ]
    },
    {
      "cell_type": "code",
      "execution_count": null,
      "id": "e67294fc-ffeb-47ca-8b99-eb0ec5971695",
      "metadata": {
        "id": "e67294fc-ffeb-47ca-8b99-eb0ec5971695",
        "outputId": "9cf06893-06b2-4b50-91c5-0ec145001938"
      },
      "outputs": [
        {
          "name": "stdout",
          "output_type": "stream",
          "text": [
            "The accuracy is: 0.5998481397114654\n",
            "The f-1 score is :\n",
            " [0.71650212 0.43389831 0.49201278]\n",
            "Confusion Matrix:\n",
            " [[508 149 168]\n",
            " [ 60 128  91]\n",
            " [ 25  34 154]]\n"
          ]
        }
      ],
      "source": [
        "# predicting airline_sentiment for dev data\n",
        "y_predict_dev = GNBC_TFID.predict(dev_X_PS_TfIdf)\n",
        "\n",
        "# calculating accuracy score and confusion matrix for train data\n",
        "accuracy = accuracy_score(dev_Y, y_predict_dev)\n",
        "print(\"The accuracy is:\", accuracy)\n",
        "\n",
        "f1 = f1_score(dev_Y, y_predict_dev, average=None)\n",
        "print(\"The f-1 score is :\\n\",f1)\n",
        "\n",
        "ConfusionMatrix = confusion_matrix(dev_Y, y_predict_dev)\n",
        "print(\"Confusion Matrix:\\n\",ConfusionMatrix)"
      ]
    },
    {
      "cell_type": "markdown",
      "id": "80dd85f5-98b1-4503-ba70-3d3ec3ce2802",
      "metadata": {
        "id": "80dd85f5-98b1-4503-ba70-3d3ec3ce2802"
      },
      "source": [
        "## 2.8 Model: Gaussian Naives Bayes Classifier  \n",
        "Normalisation: Lancaster Stemming  \n",
        "Convert to numeric method: Tf-Idf"
      ]
    },
    {
      "cell_type": "code",
      "execution_count": null,
      "id": "dfd4c0c2-b93d-4156-bc10-0949959704c7",
      "metadata": {
        "id": "dfd4c0c2-b93d-4156-bc10-0949959704c7"
      },
      "outputs": [],
      "source": [
        "# preprocessing of training data\n",
        "train_amended = train_unique.copy()\n",
        "train_amended = preprocess(train_amended)\n",
        "train_amended = remove_stopwords(train_amended)\n",
        "train_X, train_Y = split_X_Y(train_amended)\n",
        "train_X_token = tokenize_tweet(train_X)\n",
        "train_X_LS = stem_data(train_X_token, method=\"Lancaster\")\n",
        "\n",
        "# preprocessing of test data\n",
        "test_amended = test_unique.copy()\n",
        "test_amended = preprocess(test_amended)\n",
        "test_amended = remove_stopwords(test_amended)\n",
        "test_X, test_Y = split_X_Y(test_amended)\n",
        "test_X_token = tokenize_tweet(test_X)\n",
        "test_X_LS = stem_data(test_X_token, method=\"Lancaster\")\n",
        "\n",
        "# preprocessing of dev data\n",
        "dev_amended = dev_unique.copy()\n",
        "dev_amended = preprocess(dev_amended)\n",
        "dev_amended = remove_stopwords(dev_amended)\n",
        "dev_X, dev_Y = split_X_Y(dev_amended)\n",
        "dev_X_token = tokenize_tweet(dev_X)\n",
        "dev_X_LS = stem_data(dev_X_token, method=\"Lancaster\")\n",
        "\n",
        "# Bag of Words with Lancaster Stemming training X data\n",
        "train_X_LS_TfIdf, test_X_LS_TfIdf, dev_X_LS_TfIdf = TfIdf_vectorizer(train_X_LS, test_X_LS, dev_X_LS)"
      ]
    },
    {
      "cell_type": "code",
      "execution_count": null,
      "id": "bb8e644a-d4bd-4942-8134-e27caad96988",
      "metadata": {
        "id": "bb8e644a-d4bd-4942-8134-e27caad96988"
      },
      "outputs": [],
      "source": [
        "# merging train and dev together for hyperparameter tuning\n",
        "train_dev_X = pd.concat([train_X, dev_X], ignore_index=True)\n",
        "train_dev_X_token = tokenize_tweet(train_dev_X)\n",
        "train_X_LS = stem_data(train_dev_X_token, method=\"Lancaster\")\n",
        "\n",
        "train_dev_Y = pd.concat([train_Y, dev_Y], ignore_index=True)\n",
        "\n",
        "# Tf-Idf with Lancaster Stemming training X data\n",
        "train_tuning, train_dev_X_LS_TfIdf, dev_tuning = TfIdf_vectorizer(train_X_LS, train_dev_X_LS, dev_X_LS)"
      ]
    },
    {
      "cell_type": "code",
      "execution_count": null,
      "id": "f7bb59d6-cf0e-4016-8210-1c352286c3cd",
      "metadata": {
        "id": "f7bb59d6-cf0e-4016-8210-1c352286c3cd",
        "outputId": "c90ee045-011f-4df2-f4b5-ec566d56d01f"
      },
      "outputs": [
        {
          "name": "stdout",
          "output_type": "stream",
          "text": [
            "Fitting 1 folds for each of 10 candidates, totalling 10 fits\n"
          ]
        },
        {
          "data": {
            "text/plain": [
              "{'var_smoothing': 0.1}"
            ]
          },
          "execution_count": 92,
          "metadata": {},
          "output_type": "execute_result"
        }
      ],
      "source": [
        "# hyperparameter tuning with GridSearch\n",
        "# define parameter grid\n",
        "smoothing = np.logspace(0,-9, num=10)\n",
        "\n",
        "# Create the param grid\n",
        "param_grid = {'var_smoothing': smoothing}\n",
        "\n",
        "# fitting the GridSearch\n",
        "GNB_GridSearch = GridSearchCV(estimator=GaussianNB(), param_grid=param_grid, cv=ps, verbose=2, n_jobs=4)\n",
        "GNB_GridSearch.fit(train_dev_X_LS_TfIdf, train_dev_Y)\n",
        "\n",
        "# get the best parameters\n",
        "GNB_GridSearch.best_params_"
      ]
    },
    {
      "cell_type": "code",
      "execution_count": null,
      "id": "aef487c7-5316-43f1-a8e5-e043897e528a",
      "metadata": {
        "id": "aef487c7-5316-43f1-a8e5-e043897e528a"
      },
      "outputs": [],
      "source": [
        "# define model with best parameters\n",
        "gnb = GaussianNB(var_smoothing=0.1)"
      ]
    },
    {
      "cell_type": "code",
      "execution_count": null,
      "id": "0a1c8b64-7480-4ec7-9df3-650413a7d1a2",
      "metadata": {
        "id": "0a1c8b64-7480-4ec7-9df3-650413a7d1a2",
        "outputId": "1ff07074-12e3-4295-bda1-a3043472e29b"
      },
      "outputs": [
        {
          "name": "stdout",
          "output_type": "stream",
          "text": [
            "The accuracy is: 0.6171821305841925\n",
            "The f-1 score is :\n",
            " [0.72679045 0.50897227 0.49176172]\n",
            "Confusion Matrix:\n",
            " [[548 119 247]\n",
            " [ 37 156 116]\n",
            " [  9  29 194]]\n"
          ]
        }
      ],
      "source": [
        "# training Gaussian Naive Bayes with Lancaster Stemming training data with TF-IDF\n",
        "GNBC_TFID = gnb.fit(train_X_LS_TfIdf,train_Y)\n",
        "\n",
        "# predicting airline_sentiment for test data\n",
        "y_predict = GNBC_TFID.predict(test_X_LS_TfIdf)\n",
        "\n",
        "# calculating accuracy score and confusion matrix for test data\n",
        "accuracy = accuracy_score(test_Y, y_predict)\n",
        "print(\"The accuracy is:\", accuracy)\n",
        "\n",
        "f1 = f1_score(test_Y, y_predict, average=None)\n",
        "print(\"The f-1 score is :\\n\",f1)\n",
        "\n",
        "ConfusionMatrix = confusion_matrix(test_Y, y_predict)\n",
        "print(\"Confusion Matrix:\\n\",ConfusionMatrix)"
      ]
    },
    {
      "cell_type": "code",
      "execution_count": null,
      "id": "2bc2cca8-5b86-4744-b0d2-5a75c5b184ce",
      "metadata": {
        "id": "2bc2cca8-5b86-4744-b0d2-5a75c5b184ce",
        "outputId": "bc6db5b1-47e4-4a95-f234-9a284a58010a"
      },
      "outputs": [
        {
          "name": "stdout",
          "output_type": "stream",
          "text": [
            "The accuracy is: 0.6757032378686156\n",
            "The f-1 score is :\n",
            " [0.75833945 0.61841838 0.56059175]\n",
            "Confusion Matrix:\n",
            " [[4649  818 1910]\n",
            " [ 206 1521  764]\n",
            " [  29   89 1781]]\n"
          ]
        }
      ],
      "source": [
        "# predicting airline_sentiment for train data\n",
        "y_predict_train = GNBC_TFID.predict(train_X_LS_TfIdf)\n",
        "\n",
        "# calculating accuracy score and confusion matrix for train data\n",
        "accuracy = accuracy_score(train_Y, y_predict_train)\n",
        "print(\"The accuracy is:\", accuracy)\n",
        "\n",
        "f1 = f1_score(train_Y, y_predict_train, average=None)\n",
        "print(\"The f-1 score is :\\n\",f1)\n",
        "\n",
        "ConfusionMatrix = confusion_matrix(train_Y, y_predict_train)\n",
        "print(\"Confusion Matrix:\\n\",ConfusionMatrix)"
      ]
    },
    {
      "cell_type": "code",
      "execution_count": null,
      "id": "190eefd7-1cfb-4187-a6bf-0718b2dbd7db",
      "metadata": {
        "id": "190eefd7-1cfb-4187-a6bf-0718b2dbd7db",
        "outputId": "432ac15f-1df8-4b64-96af-62b0edbf0cf6"
      },
      "outputs": [
        {
          "name": "stdout",
          "output_type": "stream",
          "text": [
            "The accuracy is: 0.6135155656795748\n",
            "The f-1 score is :\n",
            " [0.71970803 0.48638838 0.50771388]\n",
            "Confusion Matrix:\n",
            " [[493 117 215]\n",
            " [ 41 134 104]\n",
            " [ 11  21 181]]\n"
          ]
        }
      ],
      "source": [
        "# predicting airline_sentiment for dev data\n",
        "y_predict_dev = GNBC_TFID.predict(dev_X_LS_TfIdf)\n",
        "\n",
        "# calculating accuracy score and confusion matrix for dev data\n",
        "accuracy = accuracy_score(dev_Y, y_predict_dev)\n",
        "print(\"The accuracy is:\", accuracy)\n",
        "\n",
        "f1 = f1_score(dev_Y, y_predict_dev, average=None)\n",
        "print(\"The f-1 score is :\\n\",f1)\n",
        "\n",
        "ConfusionMatrix = confusion_matrix(dev_Y, y_predict_dev)\n",
        "print(\"Confusion Matrix:\\n\",ConfusionMatrix)"
      ]
    },
    {
      "cell_type": "markdown",
      "id": "fae711e9-1341-44fc-927f-533e048dccbd",
      "metadata": {
        "id": "fae711e9-1341-44fc-927f-533e048dccbd"
      },
      "source": [
        "# 3. Modelling: Random Forest Classifier"
      ]
    },
    {
      "cell_type": "markdown",
      "id": "dc40e53c-d663-45ed-986a-42f380ddd65a",
      "metadata": {
        "id": "dc40e53c-d663-45ed-986a-42f380ddd65a"
      },
      "source": [
        "## 3.1 Model: Random Forest Classifier  \n",
        "Normalisation: N/A (Original)  \n",
        "Convert to numeric method: Bag of Words"
      ]
    },
    {
      "cell_type": "code",
      "execution_count": null,
      "id": "c2550be6-00ff-4bfa-af37-d95e37718dee",
      "metadata": {
        "id": "c2550be6-00ff-4bfa-af37-d95e37718dee"
      },
      "outputs": [],
      "source": [
        "# preprocessing of training data\n",
        "train_amended = train_unique.copy()\n",
        "train_amended = preprocess(train_amended)\n",
        "train_amended = remove_stopwords(train_amended)\n",
        "train_X, train_Y = split_X_Y(train_amended)\n",
        "\n",
        "# preprocessing of test data\n",
        "test_amended = test_unique.copy()\n",
        "test_amended = preprocess(test_amended)\n",
        "test_amended = remove_stopwords(test_amended)\n",
        "test_X, test_Y = split_X_Y(test_amended)\n",
        "\n",
        "# preprocessing of dev data\n",
        "dev_amended = dev_unique.copy()\n",
        "dev_amended = preprocess(dev_amended)\n",
        "dev_amended = remove_stopwords(dev_amended)\n",
        "dev_X, dev_Y = split_X_Y(dev_amended)\n",
        "\n",
        "# Bag of Words with original training X data (i.e., no tokenising, lemmatization or stemming)\n",
        "train_X_BOW, test_X_BOW, dev_X_BOW, BOW, words = BOW_vectorizer(train_X, test_X, dev_X)"
      ]
    },
    {
      "cell_type": "code",
      "execution_count": null,
      "id": "93cb73f6-925b-417f-877a-d8a2775a5584",
      "metadata": {
        "id": "93cb73f6-925b-417f-877a-d8a2775a5584"
      },
      "outputs": [],
      "source": [
        "# merging train and dev together for hyperparameter tuning\n",
        "train_dev_X = pd.concat([train_X, dev_X], ignore_index=True)\n",
        "train_dev_Y = pd.concat([train_Y, dev_Y], ignore_index=True)\n",
        "\n",
        "# Bag of Words with original training X data (i.e., no tokenising, lemmatization or stemming)\n",
        "train_Tuning_BOW, train_dev_X_BOW, dev_tuning, BOW_tuning, words_tuning = BOW_vectorizer(train_X, train_dev_X, dev_X)"
      ]
    },
    {
      "cell_type": "code",
      "execution_count": null,
      "id": "4cd9cfd7-dbe8-4efc-94f3-88a85c31f512",
      "metadata": {
        "id": "4cd9cfd7-dbe8-4efc-94f3-88a85c31f512",
        "outputId": "0679daf5-6b76-4a75-c748-58d22b2bb2f7"
      },
      "outputs": [
        {
          "name": "stdout",
          "output_type": "stream",
          "text": [
            "Fitting 1 folds for each of 10 candidates, totalling 10 fits\n"
          ]
        },
        {
          "data": {
            "text/plain": [
              "{'n_estimators': 33,\n",
              " 'min_samples_split': 6,\n",
              " 'min_samples_leaf': 3,\n",
              " 'max_features': 'sqrt',\n",
              " 'max_depth': 76,\n",
              " 'criterion': 'entropy',\n",
              " 'bootstrap': 'True'}"
            ]
          },
          "execution_count": 23,
          "metadata": {},
          "output_type": "execute_result"
        }
      ],
      "source": [
        "# hyperparameter tuning with randomizedsearch\n",
        "\n",
        "# define parameter grid\n",
        "# Number of trees in random forest\n",
        "n_estimators = [int(x) for x in np.linspace(start=10, stop=80, num=10)]\n",
        "\n",
        "# Number of features to consider at every split\n",
        "max_features = ['auto', 'sqrt']\n",
        "\n",
        "# Maximum number of levels in tree\n",
        "max_depth = [int(x) for x in np.linspace(start=10, stop=110, num=10)]\n",
        "\n",
        "# Minimum number of samples required to split a node\n",
        "min_samples_split = np.arange(2, 10, step=1)\n",
        "\n",
        "# Minimum number of samples required at each leaf node\n",
        "min_samples_leaf = np.arange(2, 10, step=1)\n",
        "\n",
        "# Create the param grid\n",
        "param_grid = {'n_estimators': n_estimators,\n",
        "              'criterion': ['gini','entropy'],\n",
        "              'max_features': max_features,\n",
        "              'max_depth': max_depth,\n",
        "              'min_samples_split': min_samples_split,\n",
        "              'min_samples_leaf': min_samples_leaf,\n",
        "             'bootstrap': ['True', 'False']}\n",
        "\n",
        "# define validation split\n",
        "# index of -1 for train and index of 1 for validation\n",
        "train_index = np.zeros(len(train_X)) - 1\n",
        "dev_index = np.ones(len(dev_X))\n",
        "test_fold = np.concatenate((train_index, dev_index))\n",
        "ps = PredefinedSplit(test_fold)\n",
        "\n",
        "# fitting the RandomizedSearch\n",
        "RFC_RandomSearch = RandomizedSearchCV(estimator=RandomForestClassifier(), param_distributions=param_grid, cv=ps, verbose=2, n_jobs=4, random_state=0)\n",
        "RFC_RandomSearch.fit(train_dev_X_BOW, train_dev_Y)\n",
        "\n",
        "# get the best parameters\n",
        "RFC_RandomSearch.best_params_"
      ]
    },
    {
      "cell_type": "code",
      "execution_count": null,
      "id": "312f041f-43d1-4087-bff1-0bd319820c6a",
      "metadata": {
        "id": "312f041f-43d1-4087-bff1-0bd319820c6a"
      },
      "outputs": [],
      "source": [
        "# define model with best parameters\n",
        "RFC = RandomForestClassifier(n_estimators=33, min_samples_split=6, min_samples_leaf=3,\n",
        "                             max_features='sqrt', max_depth=76, criterion='entropy', bootstrap=True, random_state=0)"
      ]
    },
    {
      "cell_type": "code",
      "execution_count": null,
      "id": "45a9e2f7-0fcc-4671-b44b-7c5361d53a47",
      "metadata": {
        "id": "45a9e2f7-0fcc-4671-b44b-7c5361d53a47",
        "outputId": "bc415ed1-4113-4d2d-8f5a-6ce0c44fec8a"
      },
      "outputs": [
        {
          "name": "stdout",
          "output_type": "stream",
          "text": [
            "The accuracy is: 0.7120274914089347\n",
            "The f-1 score is :\n",
            " [0.82069905 0.23822715 0.51445087]\n",
            "Confusion Matrix:\n",
            " [[904   5   5]\n",
            " [246  43  20]\n",
            " [139   4  89]]\n"
          ]
        }
      ],
      "source": [
        "# training Random Forest Classifier with original training data with BOW\n",
        "RFC_BOW = RFC.fit(train_X_BOW, train_Y)\n",
        "\n",
        "# generating predictions on test data\n",
        "y_predict = RFC_BOW.predict(test_X_BOW)\n",
        "\n",
        "# calculating accuracy score and confusion matrix for test data\n",
        "accuracy = accuracy_score(test_Y, y_predict)\n",
        "print(\"The accuracy is:\", accuracy)\n",
        "\n",
        "f1 = f1_score(test_Y, y_predict, average=None)\n",
        "print(\"The f-1 score is :\\n\",f1)\n",
        "\n",
        "ConfusionMatrix = confusion_matrix(test_Y, y_predict)\n",
        "print(\"Confusion Matrix:\\n\",ConfusionMatrix)"
      ]
    },
    {
      "cell_type": "code",
      "execution_count": null,
      "id": "85ed3532-0b39-462f-9356-c6b6edd6532d",
      "metadata": {
        "id": "85ed3532-0b39-462f-9356-c6b6edd6532d",
        "outputId": "3eed1ba8-214f-4405-8230-b36cbccb1cba"
      },
      "outputs": [
        {
          "name": "stdout",
          "output_type": "stream",
          "text": [
            "The accuracy is: 0.7221891731112433\n",
            "The f-1 score is :\n",
            " [0.82388127 0.28371628 0.54946619]\n",
            "Confusion Matrix:\n",
            " [[7300   43   34]\n",
            " [1960  426  105]\n",
            " [1084   43  772]]\n"
          ]
        }
      ],
      "source": [
        "# generating predictions on train data\n",
        "y_prediction_train = RFC_BOW.predict(train_X_BOW)\n",
        "\n",
        "# calculating accuracy score and confusion matrix\n",
        "accuracy = accuracy_score(train_Y, y_prediction_train)\n",
        "print(\"The accuracy is:\", accuracy)\n",
        "\n",
        "f1 = f1_score(train_Y, y_prediction_train, average=None)\n",
        "print(\"The f-1 score is :\\n\",f1)\n",
        "\n",
        "ConfusionMatrix = confusion_matrix(train_Y, y_prediction_train)\n",
        "print(\"Confusion Matrix:\\n\",ConfusionMatrix)"
      ]
    },
    {
      "cell_type": "code",
      "execution_count": null,
      "id": "0ff84204-49fe-4b03-8e37-27bbdc2fe865",
      "metadata": {
        "id": "0ff84204-49fe-4b03-8e37-27bbdc2fe865",
        "outputId": "866fc474-9044-4417-abaa-8a57d9eea15a"
      },
      "outputs": [
        {
          "name": "stdout",
          "output_type": "stream",
          "text": [
            "The accuracy is: 0.7000759301442673\n",
            "The f-1 score is :\n",
            " [0.808933   0.18412698 0.51315789]\n",
            "Confusion Matrix:\n",
            " [[815   3   7]\n",
            " [244  29   6]\n",
            " [131   4  78]]\n"
          ]
        }
      ],
      "source": [
        "# generating predictions on dev data\n",
        "y_prediction_dev = RFC_BOW.predict(dev_X_BOW)\n",
        "\n",
        "# calculating accuracy score and confusion matrix\n",
        "accuracy = accuracy_score(dev_Y, y_prediction_dev)\n",
        "print(\"The accuracy is:\", accuracy)\n",
        "\n",
        "f1 = f1_score(dev_Y, y_prediction_dev, average=None)\n",
        "print(\"The f-1 score is :\\n\",f1)\n",
        "\n",
        "ConfusionMatrix = confusion_matrix(dev_Y, y_prediction_dev)\n",
        "print(\"Confusion Matrix:\\n\",ConfusionMatrix)"
      ]
    },
    {
      "cell_type": "markdown",
      "id": "be62cefe-01a2-4009-bbe1-1925df600faa",
      "metadata": {
        "id": "be62cefe-01a2-4009-bbe1-1925df600faa"
      },
      "source": [
        "## 3.2 Model: Random Forest Classifier  \n",
        "Normalisation: Lemmatization  \n",
        "Convert to numeric method: Bag of Words"
      ]
    },
    {
      "cell_type": "code",
      "execution_count": null,
      "id": "aad39bcc-5f3e-40ad-992d-d303e1e10ab9",
      "metadata": {
        "id": "aad39bcc-5f3e-40ad-992d-d303e1e10ab9"
      },
      "outputs": [],
      "source": [
        "# preprocessing of training data\n",
        "train_amended = train_unique.copy()\n",
        "train_amended = preprocess(train_amended)\n",
        "train_amended = remove_stopwords(train_amended)\n",
        "train_X, train_Y = split_X_Y(train_amended)\n",
        "train_X_token = tokenize_tweet(train_X)\n",
        "train_X_lemmatize = lemmatize_data(train_X_token)\n",
        "\n",
        "# preprocessing of test data\n",
        "test_amended = test_unique.copy()\n",
        "test_amended = preprocess(test_amended)\n",
        "test_amended = remove_stopwords(test_amended)\n",
        "test_X, test_Y = split_X_Y(test_amended)\n",
        "test_X_token = tokenize_tweet(test_X)\n",
        "test_X_lemmatize = lemmatize_data(test_X_token)\n",
        "\n",
        "# preprocessing of dev data\n",
        "dev_amended = dev_unique.copy()\n",
        "dev_amended = preprocess(dev_amended)\n",
        "dev_amended = remove_stopwords(dev_amended)\n",
        "dev_X, dev_Y = split_X_Y(dev_amended)\n",
        "dev_X_token = tokenize_tweet(dev_X)\n",
        "dev_X_lemmatize = lemmatize_data(dev_X_token)\n",
        "\n",
        "# Bag of Words with lemmatize training X data\n",
        "train_X_lemmatize_BOW, test_X_lemmatize_BOW, dev_X_lemmatize_BOW, BOW_lemmatize, words_lemmatize = BOW_vectorizer(train_X_lemmatize, test_X_lemmatize, dev_X_lemmatize)"
      ]
    },
    {
      "cell_type": "code",
      "execution_count": null,
      "id": "0267a03a-8e83-41e7-85a4-def95de6ab1b",
      "metadata": {
        "id": "0267a03a-8e83-41e7-85a4-def95de6ab1b"
      },
      "outputs": [],
      "source": [
        "# merging train and dev together for hyperparameter tuning\n",
        "train_dev_X = pd.concat([train_X, dev_X], ignore_index=True)\n",
        "train_dev_X_token = tokenize_tweet(train_dev_X)\n",
        "train_dev_X_lemmatize = lemmatize_data(train_dev_X_token)\n",
        "\n",
        "train_dev_Y = pd.concat([train_Y, dev_Y], ignore_index=True)\n",
        "\n",
        "# Bag of Words with lemmatize training X data\n",
        "train_Tuning_BOW, train_dev_X_lemmatize_BOW, dev_tuning, BOW_tuning, words_tuning = BOW_vectorizer(train_X_lemmatize, train_dev_X_lemmatize, dev_X_lemmatize)"
      ]
    },
    {
      "cell_type": "code",
      "execution_count": null,
      "id": "5de2b1f4-9a3c-42f1-a818-c9734d01a29c",
      "metadata": {
        "id": "5de2b1f4-9a3c-42f1-a818-c9734d01a29c",
        "outputId": "18b7fc87-bd3d-48ac-c0b9-7ae238ba1f67"
      },
      "outputs": [
        {
          "name": "stdout",
          "output_type": "stream",
          "text": [
            "Fitting 1 folds for each of 10 candidates, totalling 10 fits\n"
          ]
        },
        {
          "data": {
            "text/plain": [
              "{'n_estimators': 41,\n",
              " 'min_samples_split': 10,\n",
              " 'min_samples_leaf': 1,\n",
              " 'max_features': 'auto',\n",
              " 'max_depth': 98,\n",
              " 'criterion': 'entropy',\n",
              " 'bootstrap': 'True'}"
            ]
          },
          "execution_count": 36,
          "metadata": {},
          "output_type": "execute_result"
        }
      ],
      "source": [
        "# hyperparameter tuning with randomizedsearch\n",
        "\n",
        "# define parameter grid\n",
        "# Number of trees in random forest\n",
        "n_estimators = [int(x) for x in np.linspace(start=10, stop=80, num=10)]\n",
        "\n",
        "# Number of features to consider at every split\n",
        "max_features = ['auto', 'sqrt']\n",
        "\n",
        "# Maximum number of levels in tree\n",
        "max_depth = [int(x) for x in np.linspace(start=10, stop=110, num=10)]\n",
        "\n",
        "# Minimum number of samples required to split a node\n",
        "min_samples_split = [2, 5, 10]\n",
        "\n",
        "# Minimum number of samples required at each leaf node\n",
        "min_samples_leaf = [1, 2, 4]\n",
        "\n",
        "# Create the param grid\n",
        "param_grid = {'n_estimators': n_estimators,\n",
        "              'criterion': ['gini','entropy'],\n",
        "              'max_features': max_features,\n",
        "              'max_depth': max_depth,\n",
        "              'min_samples_split': min_samples_split,\n",
        "              'min_samples_leaf': min_samples_leaf,\n",
        "             'bootstrap': ['True','False']}\n",
        "\n",
        "# define validation split\n",
        "# index of -1 for train and index of 1 for validation\n",
        "train_index = np.zeros(len(train_X)) - 1\n",
        "dev_index = np.ones(len(dev_X))\n",
        "test_fold = np.concatenate((train_index, dev_index))\n",
        "ps = PredefinedSplit(test_fold)\n",
        "\n",
        "# fitting the RandomizedSearch\n",
        "RFC_RandomSearch = RandomizedSearchCV(estimator=RandomForestClassifier(), param_distributions=param_grid, cv=ps, verbose=2, n_jobs=4, random_state=0)\n",
        "RFC_RandomSearch.fit(train_dev_X_lemmatize_BOW, train_dev_Y)\n",
        "\n",
        "# get the best parameters\n",
        "RFC_RandomSearch.best_params_"
      ]
    },
    {
      "cell_type": "code",
      "execution_count": null,
      "id": "3a674056-884c-47f2-9eae-4b3616b52db2",
      "metadata": {
        "id": "3a674056-884c-47f2-9eae-4b3616b52db2"
      },
      "outputs": [],
      "source": [
        "# define model with best parameters\n",
        "RFC = RandomForestClassifier(n_estimators=41, min_samples_split=10, min_samples_leaf=1, max_features= 'auto',\n",
        "                             max_depth=98, criterion= 'entropy', bootstrap=True, random_state=0)"
      ]
    },
    {
      "cell_type": "code",
      "execution_count": null,
      "id": "d3c2453d-0ffe-426b-90f4-f48938911720",
      "metadata": {
        "id": "d3c2453d-0ffe-426b-90f4-f48938911720",
        "outputId": "80758c11-411a-4da2-9b6a-f405809f2fac"
      },
      "outputs": [
        {
          "name": "stdout",
          "output_type": "stream",
          "text": [
            "The accuracy is: 0.7443298969072165\n",
            "The f-1 score is :\n",
            " [0.84582339 0.40186916 0.57364341]\n",
            "Confusion Matrix:\n",
            " [[886  15  13]\n",
            " [192  86  31]\n",
            " [103  18 111]]\n"
          ]
        }
      ],
      "source": [
        "# training Random Forest Classifier with lemmatized training data with BOW\n",
        "RFC_BOW = RFC.fit(train_X_lemmatize_BOW, train_Y)\n",
        "\n",
        "# generating predictions on test data\n",
        "y_predict = RFC_BOW.predict(test_X_lemmatize_BOW)\n",
        "\n",
        "# calculating accuracy score and confusion matrix for test data\n",
        "accuracy = accuracy_score(test_Y, y_predict)\n",
        "print(\"The accuracy is:\", accuracy)\n",
        "\n",
        "f1 = f1_score(test_Y, y_predict, average=None)\n",
        "print(\"The f-1 score is :\\n\",f1)\n",
        "\n",
        "ConfusionMatrix = confusion_matrix(test_Y, y_predict)\n",
        "print(\"Confusion Matrix:\\n\",ConfusionMatrix)"
      ]
    },
    {
      "cell_type": "code",
      "execution_count": null,
      "id": "a9d00270-b068-4974-a3d8-01d61ea7fbd6",
      "metadata": {
        "id": "a9d00270-b068-4974-a3d8-01d61ea7fbd6",
        "outputId": "cbf1f9c4-1bbc-43da-dcbc-4d6468dec7a6"
      },
      "outputs": [
        {
          "name": "stdout",
          "output_type": "stream",
          "text": [
            "The accuracy is: 0.8823829353276111\n",
            "The f-1 score is :\n",
            " [0.92058102 0.74075852 0.87734488]\n",
            "Confusion Matrix:\n",
            " [[7320   54    3]\n",
            " [ 905 1543   43]\n",
            " [ 301   78 1520]]\n"
          ]
        }
      ],
      "source": [
        "# generating predictions on train data\n",
        "y_predict_train = RFC_BOW.predict(train_X_lemmatize_BOW)\n",
        "\n",
        "# calculating accuracy score and confusion matrix for train test\n",
        "accuracy = accuracy_score(train_Y, y_predict_train)\n",
        "print(\"The accuracy is:\", accuracy)\n",
        "\n",
        "f1 = f1_score(train_Y, y_predict_train, average=None)\n",
        "print(\"The f-1 score is :\\n\",f1)\n",
        "\n",
        "ConfusionMatrix = confusion_matrix(train_Y, y_predict_train)\n",
        "print(\"Confusion Matrix:\\n\",ConfusionMatrix)"
      ]
    },
    {
      "cell_type": "code",
      "execution_count": null,
      "id": "2b6725d5-33b4-4f0e-9627-bbd387aa3102",
      "metadata": {
        "id": "2b6725d5-33b4-4f0e-9627-bbd387aa3102",
        "outputId": "06df86c5-cabc-4c19-b231-f750c744b8d5"
      },
      "outputs": [
        {
          "name": "stdout",
          "output_type": "stream",
          "text": [
            "The accuracy is: 0.6879271070615034\n",
            "The f-1 score is :\n",
            " [0.80413386 0.18238994 0.42253521]\n",
            "Confusion Matrix:\n",
            " [[817   3   5]\n",
            " [244  29   6]\n",
            " [146   7  60]]\n"
          ]
        }
      ],
      "source": [
        "# generating predictions on dev data\n",
        "y_predict_dev = RFC_BOW.predict(dev_X_lemmatize_BOW)\n",
        "\n",
        "# calculating accuracy score and confusion matrix for dev test\n",
        "accuracy = accuracy_score(dev_Y, y_predict_dev)\n",
        "print(\"The accuracy is:\", accuracy)\n",
        "\n",
        "f1 = f1_score(dev_Y, y_predict_dev, average=None)\n",
        "print(\"The f-1 score is :\\n\",f1)\n",
        "\n",
        "ConfusionMatrix = confusion_matrix(dev_Y, y_predict_dev)\n",
        "print(\"Confusion Matrix:\\n\",ConfusionMatrix)"
      ]
    },
    {
      "cell_type": "markdown",
      "id": "7615cef1-8124-4080-b0ad-9d2eded431ae",
      "metadata": {
        "id": "7615cef1-8124-4080-b0ad-9d2eded431ae"
      },
      "source": [
        "## 3.3 Model: Random Forest Classifier  \n",
        "Normalisation: Porter Stemming   \n",
        "Convert to numeric method: Bag of Words"
      ]
    },
    {
      "cell_type": "code",
      "execution_count": null,
      "id": "e40ffa4d-5a24-4046-8dcc-df3911e60910",
      "metadata": {
        "id": "e40ffa4d-5a24-4046-8dcc-df3911e60910"
      },
      "outputs": [],
      "source": [
        "# preprocessing of training data\n",
        "train_amended = train_unique.copy()\n",
        "train_amended = preprocess(train_amended)\n",
        "train_amended = remove_stopwords(train_amended)\n",
        "train_X, train_Y = split_X_Y(train_amended)\n",
        "train_X_token = tokenize_tweet(train_X)\n",
        "train_X_PS = stem_data(train_X_token, method=\"Porter\")\n",
        "\n",
        "# preprocessing of test data\n",
        "test_amended = test_unique.copy()\n",
        "test_amended = preprocess(test_amended)\n",
        "test_amended = remove_stopwords(test_amended)\n",
        "test_X, test_Y = split_X_Y(test_amended)\n",
        "test_X_token = tokenize_tweet(test_X)\n",
        "test_X_PS = stem_data(test_X_token, method=\"Porter\")\n",
        "\n",
        "# preprocessing of dev data\n",
        "dev_amended = dev_unique.copy()\n",
        "dev_amended = preprocess(dev_amended)\n",
        "dev_amended = remove_stopwords(dev_amended)\n",
        "dev_X, dev_Y = split_X_Y(dev_amended)\n",
        "dev_X_token = tokenize_tweet(dev_X)\n",
        "dev_X_PS = stem_data(dev_X_token, method=\"Porter\")\n",
        "\n",
        "# Bag of Words with Porter stemming training X data\n",
        "train_X_PS_BOW, test_X_PS_BOW, dev_X_PS_BOW, BOW_PS, words_PS = BOW_vectorizer(train_X_PS, test_X_PS, dev_X_PS)"
      ]
    },
    {
      "cell_type": "code",
      "execution_count": null,
      "id": "b8483659-cf2a-4202-8e6b-ab2df35735f7",
      "metadata": {
        "id": "b8483659-cf2a-4202-8e6b-ab2df35735f7"
      },
      "outputs": [],
      "source": [
        "# merging train and dev together for hyperparameter tuning\n",
        "train_dev_X = pd.concat([train_X, dev_X], ignore_index=True)\n",
        "train_dev_X_token = tokenize_tweet(train_dev_X)\n",
        "train_dev_X_PS = stem_data(train_dev_X_token, method=\"Porter\")\n",
        "\n",
        "train_dev_Y = pd.concat([train_Y, dev_Y], ignore_index=True)\n",
        "\n",
        "# Bag of Words with porter stemming training X data\n",
        "train_Tuning_BOW, train_dev_X_PS_BOW, dev_tuning, BOW_tuning, words_tuning = BOW_vectorizer(train_X_PS, train_dev_X_PS, dev_X_PS)"
      ]
    },
    {
      "cell_type": "code",
      "execution_count": null,
      "id": "2256bc2a-95c7-498a-b525-876c74cb402a",
      "metadata": {
        "id": "2256bc2a-95c7-498a-b525-876c74cb402a",
        "outputId": "ffba3f59-60a2-4673-ee74-2adbdbebacc5"
      },
      "outputs": [
        {
          "name": "stdout",
          "output_type": "stream",
          "text": [
            "Fitting 1 folds for each of 10 candidates, totalling 10 fits\n"
          ]
        },
        {
          "data": {
            "text/plain": [
              "{'n_estimators': 41,\n",
              " 'min_samples_split': 10,\n",
              " 'min_samples_leaf': 1,\n",
              " 'max_features': 'auto',\n",
              " 'max_depth': 98,\n",
              " 'criterion': 'entropy',\n",
              " 'bootstrap': 'True'}"
            ]
          },
          "execution_count": 131,
          "metadata": {},
          "output_type": "execute_result"
        }
      ],
      "source": [
        "# hyperparameter tuning with randomizedsearch\n",
        "\n",
        "# define parameter grid\n",
        "# Number of trees in random forest\n",
        "n_estimators = [int(x) for x in np.linspace(start=10, stop=80, num=10)]\n",
        "\n",
        "# Number of features to consider at every split\n",
        "max_features = ['auto', 'sqrt']\n",
        "\n",
        "# Maximum number of levels in tree\n",
        "max_depth = [int(x) for x in np.linspace(start=10, stop=110, num=10)]\n",
        "\n",
        "# Minimum number of samples required to split a node\n",
        "min_samples_split = [2, 5, 10]\n",
        "\n",
        "# Minimum number of samples required at each leaf node\n",
        "min_samples_leaf = [1, 2, 4]\n",
        "\n",
        "# Create the param grid\n",
        "param_grid = {'n_estimators': n_estimators,\n",
        "              'criterion': ['gini','entropy'],\n",
        "              'max_features': max_features,\n",
        "              'max_depth': max_depth,\n",
        "              'min_samples_split': min_samples_split,\n",
        "              'min_samples_leaf': min_samples_leaf,\n",
        "            'bootstrap': ['True','False']}\n",
        "\n",
        "# define validation split\n",
        "# index of -1 for train and index of 1 for validation\n",
        "train_index = np.zeros(len(train_X)) - 1\n",
        "dev_index = np.ones(len(dev_X))\n",
        "test_fold = np.concatenate((train_index, dev_index))\n",
        "ps = PredefinedSplit(test_fold)\n",
        "\n",
        "# fitting the RandomizedSearch\n",
        "RFC_RandomSearch = RandomizedSearchCV(estimator=RandomForestClassifier(), param_distributions=param_grid, cv=ps, verbose=2, n_jobs=4, random_state=0)\n",
        "RFC_RandomSearch.fit(train_dev_X_PS_BOW, train_dev_Y)\n",
        "\n",
        "# get the best parameters\n",
        "RFC_RandomSearch.best_params_"
      ]
    },
    {
      "cell_type": "code",
      "execution_count": null,
      "id": "c9d4395e-6877-403d-8f36-c2ad4d09066e",
      "metadata": {
        "id": "c9d4395e-6877-403d-8f36-c2ad4d09066e"
      },
      "outputs": [],
      "source": [
        "# define model with best parameters\n",
        "RFC = RandomForestClassifier(n_estimators=41, min_samples_split=10, min_samples_leaf=1, max_features='auto',\n",
        "                             max_depth=98, criterion='entropy', bootstrap=True, random_state=0)"
      ]
    },
    {
      "cell_type": "code",
      "execution_count": null,
      "id": "9acb8ecd-3df6-41dd-b1c4-d72c51ded07c",
      "metadata": {
        "id": "9acb8ecd-3df6-41dd-b1c4-d72c51ded07c",
        "outputId": "7b5c6854-d3eb-4214-9d49-e3f1bff7c10b"
      },
      "outputs": [
        {
          "name": "stdout",
          "output_type": "stream",
          "text": [
            "The accuracy is: 0.7539518900343642\n",
            "The f-1 score is :\n",
            " [0.85077519 0.44742729 0.59649123]\n",
            "Confusion Matrix:\n",
            " [[878  21  15]\n",
            " [176 100  33]\n",
            " [ 96  17 119]]\n"
          ]
        }
      ],
      "source": [
        "# training Random Forest Classifier with Porter Stemmer training data with BOW\n",
        "RFC_BOW = RFC.fit(train_X_PS_BOW, train_Y)\n",
        "\n",
        "# generating predictions on test data\n",
        "y_predict = RFC_BOW.predict(test_X_PS_BOW)\n",
        "\n",
        "# calculating accuracy score and confusion matrix for test data\n",
        "accuracy = accuracy_score(test_Y, y_predict)\n",
        "print(\"The accuracy is:\", accuracy)\n",
        "\n",
        "f1 = f1_score(test_Y, y_predict, average=None)\n",
        "print(\"The f-1 score is :\\n\",f1)\n",
        "\n",
        "ConfusionMatrix = confusion_matrix(test_Y, y_predict)\n",
        "print(\"Confusion Matrix:\\n\",ConfusionMatrix)"
      ]
    },
    {
      "cell_type": "code",
      "execution_count": null,
      "id": "2c5b9543-4545-4a7e-a0c9-93f6cc008330",
      "metadata": {
        "id": "2c5b9543-4545-4a7e-a0c9-93f6cc008330",
        "outputId": "285ecb1d-65fe-4161-9c9a-7be467797149"
      },
      "outputs": [
        {
          "name": "stdout",
          "output_type": "stream",
          "text": [
            "The accuracy is: 0.8857822724568709\n",
            "The f-1 score is :\n",
            " [0.92587908 0.75247992 0.86582569]\n",
            "Confusion Matrix:\n",
            " [[7320   50    7]\n",
            " [ 826 1593   72]\n",
            " [ 289  100 1510]]\n"
          ]
        }
      ],
      "source": [
        "# generating predictions on train data\n",
        "y_predict_train = RFC_BOW.predict(train_X_PS_BOW)\n",
        "\n",
        "# calculating accuracy score and confusion matrix for train data\n",
        "accuracy = accuracy_score(train_Y, y_predict_train)\n",
        "print(\"The accuracy is:\", accuracy)\n",
        "\n",
        "f1 = f1_score(train_Y, y_predict_train, average=None)\n",
        "print(\"The f-1 score is :\\n\",f1)\n",
        "\n",
        "ConfusionMatrix = confusion_matrix(train_Y, y_predict_train)\n",
        "print(\"Confusion Matrix:\\n\",ConfusionMatrix)"
      ]
    },
    {
      "cell_type": "code",
      "execution_count": null,
      "id": "44b4363d-a099-4a00-8525-cef41e7c4cc1",
      "metadata": {
        "id": "44b4363d-a099-4a00-8525-cef41e7c4cc1",
        "outputId": "57ec58a7-3116-4d08-fadf-3565fd903e2c"
      },
      "outputs": [
        {
          "name": "stdout",
          "output_type": "stream",
          "text": [
            "The accuracy is: 0.7532270311313591\n",
            "The f-1 score is :\n",
            " [0.84493671 0.4        0.64589235]\n",
            "Confusion Matrix:\n",
            " [[801  15   9]\n",
            " [185  77  17]\n",
            " [ 85  14 114]]\n"
          ]
        }
      ],
      "source": [
        "# generating predictions on dev data\n",
        "y_predict_dev = RFC_BOW.predict(dev_X_PS_BOW)\n",
        "\n",
        "# calculating accuracy score and confusion matrix for train data\n",
        "accuracy = accuracy_score(dev_Y, y_predict_dev)\n",
        "print(\"The accuracy is:\", accuracy)\n",
        "\n",
        "f1 = f1_score(dev_Y, y_predict_dev, average=None)\n",
        "print(\"The f-1 score is :\\n\",f1)\n",
        "\n",
        "ConfusionMatrix = confusion_matrix(dev_Y, y_predict_dev)\n",
        "print(\"Confusion Matrix:\\n\",ConfusionMatrix)"
      ]
    },
    {
      "cell_type": "markdown",
      "id": "ae2fe901-b4bb-4dc6-9a42-0104e179717e",
      "metadata": {
        "id": "ae2fe901-b4bb-4dc6-9a42-0104e179717e"
      },
      "source": [
        "## 3.4 Model: Random Forest Classifier  \n",
        "Normalisation: Lancaster Stemming   \n",
        "Convert to numeric method: Bag of Words"
      ]
    },
    {
      "cell_type": "code",
      "execution_count": null,
      "id": "dded5b40-8517-4e1e-82a7-4a9c04031bcc",
      "metadata": {
        "id": "dded5b40-8517-4e1e-82a7-4a9c04031bcc"
      },
      "outputs": [],
      "source": [
        "# preprocessing of training data\n",
        "train_amended = train_unique.copy()\n",
        "train_amended = preprocess(train_amended)\n",
        "train_amended = remove_stopwords(train_amended)\n",
        "train_X, train_Y = split_X_Y(train_amended)\n",
        "train_X_token = tokenize_tweet(train_X)\n",
        "train_X_LS = stem_data(train_X_token, method=\"Lancaster\")\n",
        "\n",
        "# preprocessing of test data\n",
        "test_amended = test_unique.copy()\n",
        "test_amended = preprocess(test_amended)\n",
        "test_amended = remove_stopwords(test_amended)\n",
        "test_X, test_Y = split_X_Y(test_amended)\n",
        "test_X_token = tokenize_tweet(test_X)\n",
        "test_X_LS = stem_data(test_X_token, method=\"Lancaster\")\n",
        "\n",
        "# preprocessing of dev data\n",
        "dev_amended = dev_unique.copy()\n",
        "dev_amended = preprocess(dev_amended)\n",
        "dev_amended = remove_stopwords(dev_amended)\n",
        "dev_X, dev_Y = split_X_Y(dev_amended)\n",
        "dev_X_token = tokenize_tweet(dev_X)\n",
        "dev_X_LS = stem_data(dev_X_token, method=\"Lancaster\")\n",
        "\n",
        "# Bag of Words with Lancaster Stemming training X data\n",
        "train_X_LS_BOW, test_X_LS_BOW, dev_X_LS_BOW, BOW_LS, words_LS = BOW_vectorizer(train_X_LS, test_X_LS, dev_X_LS)"
      ]
    },
    {
      "cell_type": "code",
      "execution_count": null,
      "id": "9929f839-ab2c-4278-9f9f-e96c74933656",
      "metadata": {
        "id": "9929f839-ab2c-4278-9f9f-e96c74933656"
      },
      "outputs": [],
      "source": [
        "# merging train and dev together for hyperparameter tuning\n",
        "train_dev_X = pd.concat([train_X, dev_X], ignore_index=True)\n",
        "train_dev_X_token = tokenize_tweet(train_dev_X)\n",
        "train_dev_X_LS = stem_data(train_dev_X_token, method=\"Lancaster\")\n",
        "\n",
        "train_dev_Y = pd.concat([train_Y, dev_Y], ignore_index=True)\n",
        "\n",
        "# Bag of Words with Lancaster stemming training X data\n",
        "train_Tuning_BOW, train_dev_X_LS_BOW, dev_tuning, BOW_tuning, words_tuning = BOW_vectorizer(train_X_LS, train_dev_X_LS, dev_X_LS)"
      ]
    },
    {
      "cell_type": "code",
      "execution_count": null,
      "id": "02c5f1bc-969c-4fb5-a4cf-65adfe2561e3",
      "metadata": {
        "id": "02c5f1bc-969c-4fb5-a4cf-65adfe2561e3",
        "outputId": "9170006c-ba8d-4204-e567-5bba47601ac5"
      },
      "outputs": [
        {
          "name": "stdout",
          "output_type": "stream",
          "text": [
            "Fitting 1 folds for each of 10 candidates, totalling 10 fits\n"
          ]
        },
        {
          "data": {
            "text/plain": [
              "{'n_estimators': 41,\n",
              " 'min_samples_split': 10,\n",
              " 'min_samples_leaf': 1,\n",
              " 'max_features': 'auto',\n",
              " 'max_depth': 98,\n",
              " 'criterion': 'entropy',\n",
              " 'bootstrap': 'True'}"
            ]
          },
          "execution_count": 138,
          "metadata": {},
          "output_type": "execute_result"
        }
      ],
      "source": [
        "# hyperparameter tuning with randomizedsearch\n",
        "\n",
        "# define parameter grid\n",
        "# Number of trees in random forest\n",
        "n_estimators = [int(x) for x in np.linspace(start=10, stop=80, num=10)]\n",
        "\n",
        "# Number of features to consider at every split\n",
        "max_features = ['auto', 'sqrt']\n",
        "\n",
        "# Maximum number of levels in tree\n",
        "max_depth = [int(x) for x in np.linspace(start=10, stop=110, num=10)]\n",
        "\n",
        "# Minimum number of samples required to split a node\n",
        "min_samples_split = [2, 5, 10]\n",
        "\n",
        "# Minimum number of samples required at each leaf node\n",
        "min_samples_leaf = [1, 2, 4]\n",
        "\n",
        "# Create the param grid\n",
        "param_grid = {'n_estimators': n_estimators,\n",
        "              'criterion': ['gini','entropy'],\n",
        "              'max_features': max_features,\n",
        "              'max_depth': max_depth,\n",
        "              'min_samples_split': min_samples_split,\n",
        "              'min_samples_leaf': min_samples_leaf,\n",
        "             'bootstrap': ['True','False']}\n",
        "\n",
        "# define validation split\n",
        "# index of -1 for train and index of 1 for validation\n",
        "train_index = np.zeros(len(train_X)) - 1\n",
        "dev_index = np.ones(len(dev_X))\n",
        "test_fold = np.concatenate((train_index, dev_index))\n",
        "ps = PredefinedSplit(test_fold)\n",
        "\n",
        "# fitting the RandomizedSearch\n",
        "RFC_RandomSearch = RandomizedSearchCV(estimator=RandomForestClassifier(), param_distributions=param_grid, cv=ps, verbose=2, n_jobs=4, random_state=0)\n",
        "RFC_RandomSearch.fit(train_dev_X_LS_BOW, train_dev_Y)\n",
        "\n",
        "# get the best parameters\n",
        "RFC_RandomSearch.best_params_"
      ]
    },
    {
      "cell_type": "code",
      "execution_count": null,
      "id": "7f078baf-3b48-4765-a169-8e95123eeccd",
      "metadata": {
        "id": "7f078baf-3b48-4765-a169-8e95123eeccd"
      },
      "outputs": [],
      "source": [
        "# define model with best parameters\n",
        "RFC= RandomForestClassifier(n_estimators=41, min_samples_split=10, min_samples_leaf=1, max_features='auto',\n",
        "                            max_depth=98, criterion='entropy', bootstrap=True, random_state=0)"
      ]
    },
    {
      "cell_type": "code",
      "execution_count": null,
      "id": "9aadf91f-a4f6-47a4-a5f4-e7add443480a",
      "metadata": {
        "id": "9aadf91f-a4f6-47a4-a5f4-e7add443480a",
        "outputId": "c9579c7f-e73a-406f-985a-b6bcdb03d492"
      },
      "outputs": [
        {
          "name": "stdout",
          "output_type": "stream",
          "text": [
            "The accuracy is: 0.7560137457044673\n",
            "The f-1 score is :\n",
            " [0.85188771 0.45614035 0.59793814]\n",
            "Confusion Matrix:\n",
            " [[880  22  12]\n",
            " [177 104  28]\n",
            " [ 95  21 116]]\n"
          ]
        }
      ],
      "source": [
        "# training Random Forest Classifier with Lancaster Stemmer training data with BOW\n",
        "RFC_BOW = RFC.fit(train_X_LS_BOW, train_Y)\n",
        "\n",
        "# generating predictions on test data\n",
        "y_predict = RFC_BOW.predict(test_X_LS_BOW)\n",
        "\n",
        "# calculating accuracy score and confusion matrix for test data\n",
        "accuracy = accuracy_score(test_Y, y_predict)\n",
        "print(\"The accuracy is:\", accuracy)\n",
        "\n",
        "f1 = f1_score(test_Y, y_predict, average=None)\n",
        "print(\"The f-1 score is :\\n\",f1)\n",
        "\n",
        "ConfusionMatrix = confusion_matrix(test_Y, y_predict)\n",
        "print(\"Confusion Matrix:\\n\",ConfusionMatrix)"
      ]
    },
    {
      "cell_type": "code",
      "execution_count": null,
      "id": "41aab3d1-5ed3-45b8-9536-ea955c07f2b4",
      "metadata": {
        "id": "41aab3d1-5ed3-45b8-9536-ea955c07f2b4",
        "outputId": "9106d624-c0dc-4269-b86e-d6bd49e33980"
      },
      "outputs": [
        {
          "name": "stdout",
          "output_type": "stream",
          "text": [
            "The accuracy is: 0.8904563610096031\n",
            "The f-1 score is :\n",
            " [0.92852151 0.76366184 0.87446627]\n",
            "Confusion Matrix:\n",
            " [[7307   61    9]\n",
            " [ 787 1635   69]\n",
            " [ 268   95 1536]]\n"
          ]
        }
      ],
      "source": [
        "# generating predictions on train data\n",
        "y_predict_train = RFC_BOW.predict(train_X_LS_BOW)\n",
        "\n",
        "# calculating accuracy score, f1-score and confusion matrix for train data\n",
        "accuracy = accuracy_score(train_Y, y_predict_train)\n",
        "print(\"The accuracy is:\", accuracy)\n",
        "\n",
        "f1 = f1_score(train_Y, y_predict_train, average=None)\n",
        "print(\"The f-1 score is :\\n\",f1)\n",
        "\n",
        "ConfusionMatrix = confusion_matrix(train_Y, y_predict_train)\n",
        "print(\"Confusion Matrix:\\n\",ConfusionMatrix)"
      ]
    },
    {
      "cell_type": "code",
      "execution_count": null,
      "id": "42cc4da3-0183-4e81-8420-751f1964f6c1",
      "metadata": {
        "id": "42cc4da3-0183-4e81-8420-751f1964f6c1",
        "outputId": "d8167611-48c5-4244-91d0-847fbf511a32"
      },
      "outputs": [
        {
          "name": "stdout",
          "output_type": "stream",
          "text": [
            "The accuracy is: 0.7395596051632498\n",
            "The f-1 score is :\n",
            " [0.83796539 0.35170604 0.62427746]\n",
            "Confusion Matrix:\n",
            " [[799  16  10]\n",
            " [197  67  15]\n",
            " [ 86  19 108]]\n"
          ]
        }
      ],
      "source": [
        "# generating predictions on dev data\n",
        "y_predict_dev = RFC_BOW.predict(dev_X_LS_BOW)\n",
        "\n",
        "# calculating accuracy score and confusion matrix for train data\n",
        "accuracy = accuracy_score(dev_Y, y_predict_dev)\n",
        "print(\"The accuracy is:\", accuracy)\n",
        "\n",
        "f1 = f1_score(dev_Y, y_predict_dev, average=None)\n",
        "print(\"The f-1 score is :\\n\",f1)\n",
        "\n",
        "ConfusionMatrix = confusion_matrix(dev_Y, y_predict_dev)\n",
        "print(\"Confusion Matrix:\\n\",ConfusionMatrix)"
      ]
    },
    {
      "cell_type": "markdown",
      "id": "4fe6db6e-0e30-4fdc-82a9-94e221c542f1",
      "metadata": {
        "id": "4fe6db6e-0e30-4fdc-82a9-94e221c542f1"
      },
      "source": [
        "## 3.5 Model: Random Forest Classifier  \n",
        "Normalisation: N/A (Original)   \n",
        "Convert to numeric method: Tf-Idf"
      ]
    },
    {
      "cell_type": "code",
      "execution_count": null,
      "id": "f7037bc0-e2df-4751-9a4e-61708be09d52",
      "metadata": {
        "id": "f7037bc0-e2df-4751-9a4e-61708be09d52"
      },
      "outputs": [],
      "source": [
        "# preprocessing of training data\n",
        "train_amended = train_unique.copy()\n",
        "train_amended = preprocess(train_amended)\n",
        "train_amended = remove_stopwords(train_amended)\n",
        "train_X, train_Y = split_X_Y(train_amended)\n",
        "\n",
        "# preprocessing of test data\n",
        "test_amended = test_unique.copy()\n",
        "test_amended = preprocess(test_amended)\n",
        "test_amended = remove_stopwords(test_amended)\n",
        "test_X, test_Y = split_X_Y(test_amended)\n",
        "\n",
        "# preprocessing of dev data\n",
        "dev_amended = dev_unique.copy()\n",
        "dev_amended = preprocess(dev_amended)\n",
        "dev_amended = remove_stopwords(dev_amended)\n",
        "dev_X, dev_Y = split_X_Y(dev_amended)\n",
        "\n",
        "# Tf-Idf with original training X data (i.e., no tokenising, lemmatization or stemming)\n",
        "train_X_TfIdf, test_X_TfIdf, dev_X_TfIdf = TfIdf_vectorizer(train_X, test_X, dev_X)"
      ]
    },
    {
      "cell_type": "code",
      "execution_count": null,
      "id": "3b506bc7-0078-4a6c-a84f-9709f3989da9",
      "metadata": {
        "id": "3b506bc7-0078-4a6c-a84f-9709f3989da9"
      },
      "outputs": [],
      "source": [
        "# merging train and dev together for hyperparameter tuning\n",
        "train_dev_X = pd.concat([train_X, dev_X], ignore_index=True)\n",
        "train_dev_Y = pd.concat([train_Y, dev_Y], ignore_index=True)\n",
        "\n",
        "# Tf-Idf with original training X data (i.e., no tokenising, lemmatization or stemming)\n",
        "train_tuning, train_dev_X_TfIdf, dev_tuning = TfIdf_vectorizer(train_X, train_dev_X, dev_X)"
      ]
    },
    {
      "cell_type": "code",
      "execution_count": null,
      "id": "cbf3cfb1-83eb-4895-9ef2-4c105904fffe",
      "metadata": {
        "id": "cbf3cfb1-83eb-4895-9ef2-4c105904fffe",
        "outputId": "c5c00361-3861-45e8-a36f-717c54e996ac"
      },
      "outputs": [
        {
          "name": "stdout",
          "output_type": "stream",
          "text": [
            "Fitting 1 folds for each of 10 candidates, totalling 10 fits\n"
          ]
        },
        {
          "data": {
            "text/plain": [
              "{'n_estimators': 41,\n",
              " 'min_samples_split': 10,\n",
              " 'min_samples_leaf': 1,\n",
              " 'max_features': 'auto',\n",
              " 'max_depth': 98,\n",
              " 'criterion': 'entropy',\n",
              " 'bootstrap': 'True'}"
            ]
          },
          "execution_count": 145,
          "metadata": {},
          "output_type": "execute_result"
        }
      ],
      "source": [
        "# hyperparameter tuning with randomizedsearcht\n",
        "\n",
        "# define parameter grid\n",
        "# Number of trees in random forest\n",
        "n_estimators = [int(x) for x in np.linspace(start=10, stop=80, num=10)]\n",
        "\n",
        "# Number of features to consider at every split\n",
        "max_features = ['auto', 'sqrt']\n",
        "\n",
        "# Maximum number of levels in tree\n",
        "max_depth = [int(x) for x in np.linspace(start=10, stop=110, num=10)]\n",
        "\n",
        "# Minimum number of samples required to split a node\n",
        "min_samples_split = [2, 5, 10]\n",
        "\n",
        "# Minimum number of samples required at each leaf node\n",
        "min_samples_leaf = [1, 2, 4]\n",
        "\n",
        "# Create the param grid\n",
        "param_grid = {'n_estimators': n_estimators,\n",
        "              'criterion': ['gini','entropy'],\n",
        "              'max_features': max_features,\n",
        "              'max_depth': max_depth,\n",
        "              'min_samples_split': min_samples_split,\n",
        "              'min_samples_leaf': min_samples_leaf,\n",
        "             'bootstrap':['True', 'False']}\n",
        "\n",
        "# define validation split\n",
        "from sklearn.model_selection import PredefinedSplit # index of -1 for train and index of 1 for validation\n",
        "train_index = np.zeros(len(train_X)) - 1\n",
        "dev_index = np.ones(len(dev_X))\n",
        "test_fold = np.concatenate((train_index, dev_index))\n",
        "ps = PredefinedSplit(test_fold)\n",
        "\n",
        "# fitting the RandomizedSearch\n",
        "RFC_RandomSearch = RandomizedSearchCV(estimator=RandomForestClassifier(), param_distributions=param_grid, cv=ps, verbose=2, n_jobs=4, random_state=0)\n",
        "RFC_RandomSearch.fit(train_dev_X_TfIdf, train_dev_Y)\n",
        "\n",
        "# get the best parameters\n",
        "RFC_RandomSearch.best_params_"
      ]
    },
    {
      "cell_type": "code",
      "execution_count": null,
      "id": "240d0a90-64cc-4232-974f-49e100eb06d6",
      "metadata": {
        "id": "240d0a90-64cc-4232-974f-49e100eb06d6"
      },
      "outputs": [],
      "source": [
        "# define model with best parameters\n",
        "RFC = RandomForestClassifier(n_estimators=41, min_samples_split=10, min_samples_leaf=1, max_features='auto',\n",
        "                                  max_depth=98, criterion='entropy', bootstrap=True, random_state=0)"
      ]
    },
    {
      "cell_type": "code",
      "execution_count": null,
      "id": "95d35f45-41c1-42fa-9efa-c5cfc2911877",
      "metadata": {
        "id": "95d35f45-41c1-42fa-9efa-c5cfc2911877",
        "outputId": "438e3676-073e-4374-9907-94c4a79d51a6"
      },
      "outputs": [
        {
          "name": "stdout",
          "output_type": "stream",
          "text": [
            "The accuracy is: 0.7505154639175258\n",
            "The f-1 score is :\n",
            " [0.84672252 0.45243129 0.61764706]\n",
            "Confusion Matrix:\n",
            " [[859  36  19]\n",
            " [171 107  31]\n",
            " [ 85  21 126]]\n"
          ]
        }
      ],
      "source": [
        "# training Random Forest Classifier with original training data with Tf-Idf\n",
        "RFC_TfIdf = RFC.fit(train_X_TfIdf, train_Y)\n",
        "\n",
        "# generating predictions on test data\n",
        "y_predict = RFC_TfIdf.predict(test_X_TfIdf)\n",
        "\n",
        "# calculating accuracy score and confusion matrix for test data\n",
        "accuracy = accuracy_score(test_Y, y_predict)\n",
        "print(\"The accuracy is:\", accuracy)\n",
        "\n",
        "f1 = f1_score(test_Y, y_predict, average=None)\n",
        "print(\"The f-1 score is :\\n\",f1)\n",
        "\n",
        "ConfusionMatrix = confusion_matrix(test_Y, y_predict)\n",
        "print(\"Confusion Matrix:\\n\",ConfusionMatrix)"
      ]
    },
    {
      "cell_type": "code",
      "execution_count": null,
      "id": "79dfa7c1-de06-42ac-915c-00b6a6817c3e",
      "metadata": {
        "id": "79dfa7c1-de06-42ac-915c-00b6a6817c3e",
        "outputId": "b99e30df-e1d5-4070-8297-90393d7a5761"
      },
      "outputs": [
        {
          "name": "stdout",
          "output_type": "stream",
          "text": [
            "The accuracy is: 0.908132914081754\n",
            "The f-1 score is :\n",
            " [0.9384338  0.80224972 0.90817186]\n",
            "Confusion Matrix:\n",
            " [[7286   85    6]\n",
            " [ 669 1783   39]\n",
            " [ 196   86 1617]]\n"
          ]
        }
      ],
      "source": [
        "# generating predictions on train data\n",
        "y_predict_train = RFC_TfIdf.predict(train_X_TfIdf)\n",
        "\n",
        "# calculating accuracy score and confusion matrix for train data\n",
        "accuracy = accuracy_score(train_Y, y_predict_train)\n",
        "print(\"The accuracy is:\", accuracy)\n",
        "\n",
        "f1 = f1_score(train_Y, y_predict_train, average=None)\n",
        "print(\"The f-1 score is :\\n\",f1)\n",
        "\n",
        "ConfusionMatrix = confusion_matrix(train_Y, y_predict_train)\n",
        "print(\"Confusion Matrix:\\n\",ConfusionMatrix)"
      ]
    },
    {
      "cell_type": "code",
      "execution_count": null,
      "id": "2b9c8bb2-ed81-48f7-a7b6-1baaff9c4dc3",
      "metadata": {
        "id": "2b9c8bb2-ed81-48f7-a7b6-1baaff9c4dc3",
        "outputId": "6b297c3f-d9b2-4593-a45f-7ecd9887c2e1"
      },
      "outputs": [
        {
          "name": "stdout",
          "output_type": "stream",
          "text": [
            "The accuracy is: 0.741837509491268\n",
            "The f-1 score is :\n",
            " [0.83967828 0.39512195 0.62952646]\n",
            "Confusion Matrix:\n",
            " [[783  26  16]\n",
            " [181  81  17]\n",
            " [ 76  24 113]]\n"
          ]
        }
      ],
      "source": [
        "# generating predictions on dev data\n",
        "y_predict_dev = RFC_TfIdf.predict(dev_X_TfIdf)\n",
        "\n",
        "# calculating accuracy score and confusion matrix for dev data\n",
        "accuracy = accuracy_score(dev_Y, y_predict_dev)\n",
        "print(\"The accuracy is:\", accuracy)\n",
        "\n",
        "f1 = f1_score(dev_Y, y_predict_dev, average=None)\n",
        "print(\"The f-1 score is :\\n\",f1)\n",
        "\n",
        "ConfusionMatrix = confusion_matrix(dev_Y, y_predict_dev)\n",
        "print(\"Confusion Matrix:\\n\",ConfusionMatrix)"
      ]
    },
    {
      "cell_type": "markdown",
      "id": "30f9a781-edb1-4ac2-a219-346b274bf2d3",
      "metadata": {
        "id": "30f9a781-edb1-4ac2-a219-346b274bf2d3"
      },
      "source": [
        "## 3.6 Model: Random Forest Classifier  \n",
        "Normalisation: Lemmatization  \n",
        "Convert to numeric method: Tf-Idf"
      ]
    },
    {
      "cell_type": "code",
      "execution_count": null,
      "id": "1223ae5f-0c5f-470d-9da3-9b65c821e8ab",
      "metadata": {
        "id": "1223ae5f-0c5f-470d-9da3-9b65c821e8ab"
      },
      "outputs": [],
      "source": [
        "# preprocessing of training data\n",
        "train_amended = train_unique.copy()\n",
        "train_amended = preprocess(train_amended)\n",
        "train_amended = remove_stopwords(train_amended)\n",
        "train_X, train_Y = split_X_Y(train_amended)\n",
        "train_X_token = tokenize_tweet(train_X)\n",
        "train_X_lemmatize = lemmatize_data(train_X_token)\n",
        "\n",
        "# preprocessing of test data\n",
        "test_amended = test_unique.copy()\n",
        "test_amended = preprocess(test_amended)\n",
        "test_amended = remove_stopwords(test_amended)\n",
        "test_X, test_Y = split_X_Y(test_amended)\n",
        "test_X_token = tokenize_tweet(test_X)\n",
        "test_X_lemmatize = lemmatize_data(test_X_token)\n",
        "\n",
        "# preprocessing of dev data\n",
        "dev_amended = dev_unique.copy()\n",
        "dev_amended = preprocess(dev_amended)\n",
        "dev_amended = remove_stopwords(dev_amended)\n",
        "dev_X, dev_Y = split_X_Y(dev_amended)\n",
        "dev_X_token = tokenize_tweet(dev_X)\n",
        "dev_X_lemmatize = lemmatize_data(dev_X_token)\n",
        "\n",
        "# Tf-Idf with lemmatize training X data\n",
        "train_X_lemmatize_TfIdf, test_X_lemmatize_TfIdf, dev_X_lemmatize_TfIdf = TfIdf_vectorizer(train_X_lemmatize, test_X_lemmatize, dev_X_lemmatize)"
      ]
    },
    {
      "cell_type": "code",
      "execution_count": null,
      "id": "cae6c59c-ca81-4a37-9263-806c206ee2bc",
      "metadata": {
        "id": "cae6c59c-ca81-4a37-9263-806c206ee2bc"
      },
      "outputs": [],
      "source": [
        "# merging train and dev together for hyperparameter tuning\n",
        "train_dev_X = pd.concat([train_X, dev_X], ignore_index=True)\n",
        "train_dev_X_token = tokenize_tweet(train_dev_X)\n",
        "train_dev_X_lemmatize = lemmatize_data(train_dev_X_token)\n",
        "\n",
        "train_dev_Y = pd.concat([train_Y, dev_Y], ignore_index=True)\n",
        "\n",
        "# Tf-Idf with lemmatized training X data\n",
        "train_tuning, train_dev_X_lemmatize_TfIdf, dev_tuning = TfIdf_vectorizer(train_X_lemmatize, train_dev_X_lemmatize, dev_X_lemmatize)"
      ]
    },
    {
      "cell_type": "code",
      "execution_count": null,
      "id": "378defeb-3162-4073-bd4c-34f832c51c45",
      "metadata": {
        "id": "378defeb-3162-4073-bd4c-34f832c51c45",
        "outputId": "8acde9ec-26b4-43dd-80d4-df2fbf604225"
      },
      "outputs": [
        {
          "name": "stdout",
          "output_type": "stream",
          "text": [
            "Fitting 1 folds for each of 10 candidates, totalling 10 fits\n"
          ]
        },
        {
          "data": {
            "text/plain": [
              "{'n_estimators': 17,\n",
              " 'min_samples_split': 5,\n",
              " 'min_samples_leaf': 4,\n",
              " 'max_features': 'auto',\n",
              " 'max_depth': 87,\n",
              " 'criterion': 'gini',\n",
              " 'bootstrap': 'False'}"
            ]
          },
          "execution_count": 152,
          "metadata": {},
          "output_type": "execute_result"
        }
      ],
      "source": [
        "# hyperparameter tuning with randomizedsearch\n",
        "\n",
        "# define parameter grid\n",
        "# Number of trees in random forest\n",
        "n_estimators = [int(x) for x in np.linspace(start=10, stop=80, num=10)]\n",
        "\n",
        "# Number of features to consider at every split\n",
        "max_features = ['auto', 'sqrt']\n",
        "\n",
        "# Maximum number of levels in tree\n",
        "max_depth = [int(x) for x in np.linspace(start=10, stop=110, num=10)]\n",
        "\n",
        "# Minimum number of samples required to split a node\n",
        "min_samples_split = [2, 5, 10]\n",
        "\n",
        "# Minimum number of samples required at each leaf node\n",
        "min_samples_leaf = [1, 2, 4]\n",
        "\n",
        "# Create the param grid\n",
        "param_grid = {'n_estimators': n_estimators,\n",
        "              'criterion': ['gini','entropy'],\n",
        "              'max_features': max_features,\n",
        "              'max_depth': max_depth,\n",
        "              'min_samples_split': min_samples_split,\n",
        "              'min_samples_leaf': min_samples_leaf,\n",
        "             'bootstrap':['True','False']}\n",
        "\n",
        "# define validation split\n",
        "# index of -1 for train and index of 1 for validation\n",
        "train_index = np.zeros(len(train_X)) - 1\n",
        "dev_index = np.ones(len(dev_X))\n",
        "test_fold = np.concatenate((train_index, dev_index))\n",
        "ps = PredefinedSplit(test_fold)\n",
        "\n",
        "# fitting the RandomizedSearch\n",
        "RFC_RandomSearch = RandomizedSearchCV(estimator=RandomForestClassifier(), param_distributions=param_grid, cv=ps, verbose=2, n_jobs=4, random_state=0)\n",
        "RFC_RandomSearch.fit(train_dev_X_TfIdf, train_dev_Y)\n",
        "\n",
        "# get the best parameters\n",
        "RFC_RandomSearch.best_params_"
      ]
    },
    {
      "cell_type": "code",
      "execution_count": null,
      "id": "261354bd-0d88-4a26-aa36-9866eda0f47a",
      "metadata": {
        "id": "261354bd-0d88-4a26-aa36-9866eda0f47a"
      },
      "outputs": [],
      "source": [
        "# define model with best parameters\n",
        "RFC = RandomForestClassifier(n_estimators=17, min_samples_split=5, min_samples_leaf=4, max_features='auto',\n",
        "                             max_depth=87, criterion='gini', bootstrap=False, random_state=0)"
      ]
    },
    {
      "cell_type": "code",
      "execution_count": null,
      "id": "f3bde5de-8529-4899-bcfe-b8905cb1ae93",
      "metadata": {
        "id": "f3bde5de-8529-4899-bcfe-b8905cb1ae93",
        "outputId": "d78f5d93-8c72-4d88-fb79-392bd0cb2ed2"
      },
      "outputs": [
        {
          "name": "stdout",
          "output_type": "stream",
          "text": [
            "The accuracy is: 0.7484536082474227\n",
            "The f-1 score is :\n",
            " [0.84892788 0.45396146 0.57289003]\n",
            "Confusion Matrix:\n",
            " [[871  28  15]\n",
            " [171 106  32]\n",
            " [ 96  24 112]]\n"
          ]
        }
      ],
      "source": [
        "# training Random Forest Classifier with lemmatize training data with Tf-Idf\n",
        "RFC_TfIdf = RFC.fit(train_X_lemmatize_TfIdf, train_Y)\n",
        "\n",
        "# generating predictions on test data\n",
        "y_predict = RFC_TfIdf.predict(test_X_lemmatize_TfIdf)\n",
        "\n",
        "# calculating accuracy score and confusion matrix for test data\n",
        "accuracy = accuracy_score(test_Y, y_predict)\n",
        "print(\"The accuracy is:\", accuracy)\n",
        "\n",
        "f1 = f1_score(test_Y, y_predict, average=None)\n",
        "print(\"The f-1 score is :\\n\",f1)\n",
        "\n",
        "ConfusionMatrix = confusion_matrix(test_Y, y_predict)\n",
        "print(\"Confusion Matrix:\\n\",ConfusionMatrix)"
      ]
    },
    {
      "cell_type": "code",
      "execution_count": null,
      "id": "05a6ff01-1662-43dc-8859-f282ede7a94a",
      "metadata": {
        "id": "05a6ff01-1662-43dc-8859-f282ede7a94a",
        "outputId": "6efd1d3c-3dba-4561-a692-d23c89a8f234"
      },
      "outputs": [
        {
          "name": "stdout",
          "output_type": "stream",
          "text": [
            "The accuracy is: 0.7889011642729667\n",
            "The f-1 score is :\n",
            " [0.8679659  0.53440248 0.69211823]\n",
            "Confusion Matrix:\n",
            " [[7126  172   79]\n",
            " [1312 1033  146]\n",
            " [ 605  170 1124]]\n"
          ]
        }
      ],
      "source": [
        "# generating predictions on train data\n",
        "y_predict_train = RFC_TfIdf.predict(train_X_lemmatize_TfIdf)\n",
        "\n",
        "# calculating accuracy score and confusion matrix for train data\n",
        "accuracy = accuracy_score(train_Y, y_predict_train)\n",
        "print(\"The accuracy is:\", accuracy)\n",
        "\n",
        "f1 = f1_score(train_Y, y_predict_train, average=None)\n",
        "print(\"The f-1 score is :\\n\",f1)\n",
        "\n",
        "ConfusionMatrix = confusion_matrix(train_Y, y_predict_train)\n",
        "print(\"Confusion Matrix:\\n\",ConfusionMatrix)"
      ]
    },
    {
      "cell_type": "code",
      "execution_count": null,
      "id": "d2702c9c-d4f6-4c83-87b3-8cbbd326edbf",
      "metadata": {
        "id": "d2702c9c-d4f6-4c83-87b3-8cbbd326edbf",
        "outputId": "7d29b8d5-1813-4bb3-fc59-5b2040f9e6fa"
      },
      "outputs": [
        {
          "name": "stdout",
          "output_type": "stream",
          "text": [
            "The accuracy is: 0.7372817008352316\n",
            "The f-1 score is :\n",
            " [0.83997873 0.36683417 0.6084507 ]\n",
            "Confusion Matrix:\n",
            " [[790  21  14]\n",
            " [186  73  20]\n",
            " [ 80  25 108]]\n"
          ]
        }
      ],
      "source": [
        "# generating predictions on dev data\n",
        "y_predict_dev = RFC_TfIdf.predict(dev_X_lemmatize_TfIdf)\n",
        "\n",
        "# calculating accuracy score and confusion matrix for dev data\n",
        "accuracy = accuracy_score(dev_Y, y_predict_dev)\n",
        "print(\"The accuracy is:\", accuracy)\n",
        "\n",
        "f1 = f1_score(dev_Y, y_predict_dev, average=None)\n",
        "print(\"The f-1 score is :\\n\",f1)\n",
        "\n",
        "ConfusionMatrix = confusion_matrix(dev_Y, y_predict_dev)\n",
        "print(\"Confusion Matrix:\\n\",ConfusionMatrix)"
      ]
    },
    {
      "cell_type": "markdown",
      "id": "e3706f78-afc2-4014-812a-377f5be8e966",
      "metadata": {
        "id": "e3706f78-afc2-4014-812a-377f5be8e966"
      },
      "source": [
        "## 3.7 Model: Random Forest Classifier  \n",
        "Normalisation: Porter Stemmer  \n",
        "Convert to numeric method: Tf-Idf"
      ]
    },
    {
      "cell_type": "code",
      "execution_count": null,
      "id": "d6e8ed21-2a7f-44d2-853d-b68f7e150ebf",
      "metadata": {
        "id": "d6e8ed21-2a7f-44d2-853d-b68f7e150ebf"
      },
      "outputs": [],
      "source": [
        "# preprocessing of training data\n",
        "train_amended = train_unique.copy()\n",
        "train_amended = preprocess(train_amended)\n",
        "train_amended = remove_stopwords(train_amended)\n",
        "train_X, train_Y = split_X_Y(train_amended)\n",
        "train_X_token = tokenize_tweet(train_X)\n",
        "train_X_PS = stem_data(train_X_token, method=\"Porter\")\n",
        "\n",
        "# preprocessing of test data\n",
        "test_amended = test_unique.copy()\n",
        "test_amended = preprocess(test_amended)\n",
        "test_amended = remove_stopwords(test_amended)\n",
        "test_X, test_Y = split_X_Y(test_amended)\n",
        "test_X_token = tokenize_tweet(test_X)\n",
        "test_X_PS = stem_data(test_X_token, method=\"Porter\")\n",
        "\n",
        "# preprocessing of dev data\n",
        "dev_amended = dev_unique.copy()\n",
        "dev_amended = preprocess(dev_amended)\n",
        "dev_amended = remove_stopwords(dev_amended)\n",
        "dev_X, dev_Y = split_X_Y(dev_amended)\n",
        "dev_X_token = tokenize_tweet(dev_X)\n",
        "dev_X_PS = stem_data(dev_X_token, method=\"Porter\")\n",
        "\n",
        "# Tf-Idf  with Porter stemming training X data\n",
        "train_X_PS_TfIdf, test_X_PS_TfIdf, dev_X_PS_TfIdf = TfIdf_vectorizer(train_X_PS, test_X_PS, dev_X_PS)"
      ]
    },
    {
      "cell_type": "code",
      "execution_count": null,
      "id": "eee862a2-b79e-4852-93c2-e39d35d93851",
      "metadata": {
        "id": "eee862a2-b79e-4852-93c2-e39d35d93851"
      },
      "outputs": [],
      "source": [
        "# merging train and dev together for hyperparameter tuning\n",
        "train_dev_X = pd.concat([train_X, dev_X], ignore_index=True)\n",
        "train_dev_X_token = tokenize_tweet(train_dev_X)\n",
        "train_dev_X_PS = stem_data(train_dev_X_token, method=\"Porter\")\n",
        "\n",
        "train_dev_Y = pd.concat([train_Y, dev_Y], ignore_index=True)\n",
        "\n",
        "# Tf-Idf with Porter Stemming training X data\n",
        "train_tuning, train_dev_X_PS_TfIdf, dev_tuning = TfIdf_vectorizer(train_X_PS, train_dev_X_PS, dev_X_PS)"
      ]
    },
    {
      "cell_type": "code",
      "execution_count": null,
      "id": "81ef367b-6dce-4bbb-9288-16e49c6f2b70",
      "metadata": {
        "id": "81ef367b-6dce-4bbb-9288-16e49c6f2b70",
        "outputId": "bc5d3b08-d5a9-4744-f628-47bdc914c3fa"
      },
      "outputs": [
        {
          "name": "stdout",
          "output_type": "stream",
          "text": [
            "Fitting 1 folds for each of 10 candidates, totalling 10 fits\n"
          ]
        },
        {
          "data": {
            "text/plain": [
              "{'n_estimators': 33,\n",
              " 'min_samples_split': 2,\n",
              " 'min_samples_leaf': 2,\n",
              " 'max_features': 'auto',\n",
              " 'max_depth': 110,\n",
              " 'criterion': 'gini',\n",
              " 'bootstrap': 'True'}"
            ]
          },
          "execution_count": 159,
          "metadata": {},
          "output_type": "execute_result"
        }
      ],
      "source": [
        "# hyperparameter tuning with randomizedsearch\n",
        "\n",
        "# define parameter grid\n",
        "# Number of trees in random forest\n",
        "n_estimators = [int(x) for x in np.linspace(start=10, stop=80, num=10)]\n",
        "\n",
        "# Number of features to consider at every split\n",
        "max_features = ['auto', 'sqrt']\n",
        "\n",
        "# Maximum number of levels in tree\n",
        "max_depth = [int(x) for x in np.linspace(start=10, stop=110, num=10)]\n",
        "\n",
        "# Minimum number of samples required to split a node\n",
        "min_samples_split = [2, 5, 10]\n",
        "\n",
        "# Minimum number of samples required at each leaf node\n",
        "min_samples_leaf = [1, 2, 4]\n",
        "\n",
        "# Create the param grid\n",
        "param_grid = {'n_estimators': n_estimators,\n",
        "              'criterion': ['gini','entropy'],\n",
        "              'max_features': max_features,\n",
        "              'max_depth': max_depth,\n",
        "              'min_samples_split': min_samples_split,\n",
        "              'min_samples_leaf': min_samples_leaf,\n",
        "             'bootstrap':['True', 'False']}\n",
        "\n",
        "# define validation split\n",
        "# index of -1 for train and index of 1 for validation\n",
        "train_index = np.zeros(len(train_X)) - 1\n",
        "dev_index = np.ones(len(dev_X))\n",
        "test_fold = np.concatenate((train_index, dev_index))\n",
        "ps = PredefinedSplit(test_fold)\n",
        "\n",
        "# fitting the RandomizedSearch\n",
        "RFC_RandomSearch = RandomizedSearchCV(estimator=RandomForestClassifier(), param_distributions=param_grid, cv=ps, verbose=2, n_jobs=4, random_state=0)\n",
        "RFC_RandomSearch.fit(train_dev_X_PS_TfIdf, train_dev_Y)\n",
        "\n",
        "# get the best parameters\n",
        "RFC_RandomSearch.best_params_"
      ]
    },
    {
      "cell_type": "code",
      "execution_count": null,
      "id": "75c1225b-7b0f-4dbe-a099-5ce3a968b255",
      "metadata": {
        "id": "75c1225b-7b0f-4dbe-a099-5ce3a968b255"
      },
      "outputs": [],
      "source": [
        "# define model with best parameters\n",
        "RFC = RandomForestClassifier(n_estimators=33, min_samples_split=2, min_samples_leaf=2, max_features='auto',\n",
        "                             max_depth=110, criterion='gini', bootstrap=True, random_state=0)"
      ]
    },
    {
      "cell_type": "code",
      "execution_count": null,
      "id": "762c4c2a-bc64-4768-9678-115c48a95829",
      "metadata": {
        "id": "762c4c2a-bc64-4768-9678-115c48a95829",
        "outputId": "6618e236-8dcf-45e8-b789-db0012dcefb4"
      },
      "outputs": [
        {
          "name": "stdout",
          "output_type": "stream",
          "text": [
            "The accuracy is: 0.7560137457044673\n",
            "The f-1 score is :\n",
            " [0.85100147 0.46808511 0.60559796]\n",
            "Confusion Matrix:\n",
            " [[871  29  14]\n",
            " [171 110  28]\n",
            " [ 91  22 119]]\n"
          ]
        }
      ],
      "source": [
        "# training Random Forest Classifier with Porter stemmer training data with Tf-Idf\n",
        "RFC_TfIdf = RFC.fit(train_X_PS_TfIdf, train_Y)\n",
        "\n",
        "# generating predictions on test data\n",
        "y_predict = RFC_TfIdf.predict(test_X_PS_TfIdf)\n",
        "\n",
        "# calculating accuracy score and confusion matrix for test set\n",
        "accuracy = accuracy_score(test_Y, y_predict)\n",
        "print(\"The accuracy is:\", accuracy)\n",
        "\n",
        "f1 = f1_score(test_Y, y_predict, average=None)\n",
        "print(\"The f-1 score is :\\n\",f1)\n",
        "\n",
        "ConfusionMatrix = confusion_matrix(test_Y, y_predict)\n",
        "print(\"Confusion Matrix:\\n\",ConfusionMatrix)"
      ]
    },
    {
      "cell_type": "code",
      "execution_count": null,
      "id": "df01cf37-f133-4caf-b226-726a4fa23139",
      "metadata": {
        "id": "df01cf37-f133-4caf-b226-726a4fa23139",
        "outputId": "09e377d5-a79f-41ca-a98b-b0bec92c95b1"
      },
      "outputs": [
        {
          "name": "stdout",
          "output_type": "stream",
          "text": [
            "The accuracy is: 0.82603892241013\n",
            "The f-1 score is :\n",
            " [0.89059882 0.63464837 0.74835231]\n",
            "Confusion Matrix:\n",
            " [[7176  140   61]\n",
            " [1067 1295  129]\n",
            " [ 495  155 1249]]\n"
          ]
        }
      ],
      "source": [
        "# generating predictions on train data\n",
        "y_predict_train = RFC_TfIdf.predict(train_X_PS_TfIdf)\n",
        "\n",
        "# calculating accuracy score and confusion matrix for train set\n",
        "accuracy = accuracy_score(train_Y, y_predict_train)\n",
        "print(\"The accuracy is:\", accuracy)\n",
        "\n",
        "f1 = f1_score(train_Y, y_predict_train, average=None)\n",
        "print(\"The f-1 score is :\\n\",f1)\n",
        "\n",
        "ConfusionMatrix = confusion_matrix(train_Y, y_predict_train)\n",
        "print(\"Confusion Matrix:\\n\",ConfusionMatrix)"
      ]
    },
    {
      "cell_type": "code",
      "execution_count": null,
      "id": "94fa41f9-473a-4449-a870-97622bf2f772",
      "metadata": {
        "id": "94fa41f9-473a-4449-a870-97622bf2f772",
        "outputId": "e0f1f1b6-21c3-4b20-d51d-62695db2f4fd"
      },
      "outputs": [
        {
          "name": "stdout",
          "output_type": "stream",
          "text": [
            "The accuracy is: 0.7532270311313591\n",
            "The f-1 score is :\n",
            " [0.84528302 0.4600939  0.62322946]\n",
            "Confusion Matrix:\n",
            " [[784  27  14]\n",
            " [165  98  16]\n",
            " [ 81  22 110]]\n"
          ]
        }
      ],
      "source": [
        "# generating predictions on dev data\n",
        "y_predict_dev = RFC_TfIdf.predict(dev_X_PS_TfIdf)\n",
        "\n",
        "# calculating accuracy score and confusion matrix for train set\n",
        "accuracy = accuracy_score(dev_Y, y_predict_dev)\n",
        "print(\"The accuracy is:\", accuracy)\n",
        "\n",
        "f1 = f1_score(dev_Y, y_predict_dev, average=None)\n",
        "print(\"The f-1 score is :\\n\",f1)\n",
        "\n",
        "ConfusionMatrix = confusion_matrix(dev_Y, y_predict_dev)\n",
        "print(\"Confusion Matrix:\\n\",ConfusionMatrix)"
      ]
    },
    {
      "cell_type": "markdown",
      "id": "9c20a07d-f9d6-4bf2-891c-015bb7cc7194",
      "metadata": {
        "id": "9c20a07d-f9d6-4bf2-891c-015bb7cc7194"
      },
      "source": [
        "## 3.8 Model: Random Forest Classifier  \n",
        "Normalisation: Lancaster Stemmer  \n",
        "Convert to numeric method: Tf-Idf"
      ]
    },
    {
      "cell_type": "code",
      "execution_count": null,
      "id": "f0f88c3e-badb-4459-81f6-5e7c4e338363",
      "metadata": {
        "id": "f0f88c3e-badb-4459-81f6-5e7c4e338363"
      },
      "outputs": [],
      "source": [
        "# preprocessing of training data\n",
        "train_amended = train_unique.copy()\n",
        "train_amended = preprocess(train_amended)\n",
        "train_amended = remove_stopwords(train_amended)\n",
        "train_X, train_Y = split_X_Y(train_amended)\n",
        "train_X_token = tokenize_tweet(train_X)\n",
        "train_X_LS = stem_data(train_X_token, method=\"Lancaster\")\n",
        "\n",
        "# preprocessing of test data\n",
        "test_amended = test_unique.copy()\n",
        "test_amended = preprocess(test_amended)\n",
        "test_amended = remove_stopwords(test_amended)\n",
        "test_X, test_Y = split_X_Y(test_amended)\n",
        "test_X_token = tokenize_tweet(test_X)\n",
        "test_X_LS = stem_data(test_X_token, method=\"Lancaster\")\n",
        "\n",
        "# preprocessing of dev data\n",
        "dev_amended = dev_unique.copy()\n",
        "dev_amended = preprocess(dev_amended)\n",
        "dev_amended = remove_stopwords(dev_amended)\n",
        "dev_X, dev_Y = split_X_Y(dev_amended)\n",
        "dev_X_token = tokenize_tweet(dev_X)\n",
        "dev_X_LS = stem_data(dev_X_token, method=\"Lancaster\")\n",
        "\n",
        "# Bag of Words with Lancaster Stemming training X data\n",
        "train_X_LS_TfIdf, test_X_LS_TfIdf, dev_X_LS_TfIdf = TfIdf_vectorizer(train_X_LS, test_X_LS, dev_X_LS)"
      ]
    },
    {
      "cell_type": "code",
      "execution_count": null,
      "id": "3848cbca-ff9d-4d18-919a-6f45d7c5c669",
      "metadata": {
        "id": "3848cbca-ff9d-4d18-919a-6f45d7c5c669"
      },
      "outputs": [],
      "source": [
        "# merging train and dev together for hyperparameter tuning\n",
        "train_dev_X = pd.concat([train_X, dev_X], ignore_index=True)\n",
        "train_dev_X_token = tokenize_tweet(train_dev_X)\n",
        "train_dev_X_LS = stem_data(train_dev_X_token, method=\"Lancaster\")\n",
        "\n",
        "train_dev_Y = pd.concat([train_Y, dev_Y], ignore_index=True)\n",
        "\n",
        "# Tf-Idf with Lancaster Stemming training X data (i.e., no tokenising, lemmatization or stemming)\n",
        "train_tuning, train_dev_X_LS_TfIdf, dev_tuning = TfIdf_vectorizer(train_X_LS, train_dev_X_LS, dev_X_LS)"
      ]
    },
    {
      "cell_type": "code",
      "execution_count": null,
      "id": "a40982d9-6148-4187-a948-0c8bd5430f1c",
      "metadata": {
        "id": "a40982d9-6148-4187-a948-0c8bd5430f1c",
        "outputId": "9d0a8b6b-2492-4899-cdaf-d129ebb7893f"
      },
      "outputs": [
        {
          "name": "stdout",
          "output_type": "stream",
          "text": [
            "Fitting 1 folds for each of 10 candidates, totalling 10 fits\n"
          ]
        },
        {
          "data": {
            "text/plain": [
              "{'n_estimators': 41,\n",
              " 'min_samples_split': 10,\n",
              " 'min_samples_leaf': 1,\n",
              " 'max_features': 'auto',\n",
              " 'max_depth': 98,\n",
              " 'criterion': 'entropy',\n",
              " 'bootstrap': 'True'}"
            ]
          },
          "execution_count": 166,
          "metadata": {},
          "output_type": "execute_result"
        }
      ],
      "source": [
        "# hyperparameter tuning with randomizedsearch\n",
        "\n",
        "# define parameter grid\n",
        "# Number of trees in random forest\n",
        "n_estimators = [int(x) for x in np.linspace(start=10, stop=80, num=10)]\n",
        "\n",
        "# Number of features to consider at every split\n",
        "max_features = ['auto', 'sqrt']\n",
        "\n",
        "# Maximum number of levels in tree\n",
        "max_depth = [int(x) for x in np.linspace(start=10, stop=110, num=10)]\n",
        "\n",
        "# Minimum number of samples required to split a node\n",
        "min_samples_split = [2, 5, 10]\n",
        "\n",
        "# Minimum number of samples required at each leaf node\n",
        "min_samples_leaf = [1, 2, 4]\n",
        "\n",
        "# Create the param grid\n",
        "param_grid = {'n_estimators': n_estimators,\n",
        "              'criterion': ['gini','entropy'],\n",
        "              'max_features': max_features,\n",
        "              'max_depth': max_depth,\n",
        "              'min_samples_split': min_samples_split,\n",
        "              'min_samples_leaf': min_samples_leaf,\n",
        "             'bootstrap':['True', 'False']}\n",
        "\n",
        "# define validation split\n",
        "# index of -1 for train and index of 1 for validation\n",
        "train_index = np.zeros(len(train_X)) - 1\n",
        "dev_index = np.ones(len(dev_X))\n",
        "test_fold = np.concatenate((train_index, dev_index))\n",
        "ps = PredefinedSplit(test_fold)\n",
        "\n",
        "# fitting the RandomizedSearch\n",
        "RFC_RandomSearch = RandomizedSearchCV(estimator=RandomForestClassifier(), param_distributions=param_grid, cv=ps, verbose=2, n_jobs=4, random_state=0)\n",
        "RFC_RandomSearch.fit(train_dev_X_LS_TfIdf, train_dev_Y)\n",
        "\n",
        "# get the best parameters\n",
        "RFC_RandomSearch.best_params_"
      ]
    },
    {
      "cell_type": "code",
      "execution_count": null,
      "id": "a168732a-9ce7-4eda-be94-9430f8a177cb",
      "metadata": {
        "id": "a168732a-9ce7-4eda-be94-9430f8a177cb"
      },
      "outputs": [],
      "source": [
        "# define model with best parameters\n",
        "RFC = RandomForestClassifier(n_estimators=41, min_samples_split=10, min_samples_leaf=1, max_features='auto',\n",
        "                             max_depth=98, criterion='entropy', bootstrap=True, random_state=0)"
      ]
    },
    {
      "cell_type": "code",
      "execution_count": null,
      "id": "77180039-a22a-4088-971e-fef6e0d0bf88",
      "metadata": {
        "id": "77180039-a22a-4088-971e-fef6e0d0bf88",
        "outputId": "382f6ad4-e667-41e8-a75a-50e1d0060a6c"
      },
      "outputs": [
        {
          "name": "stdout",
          "output_type": "stream",
          "text": [
            "The accuracy is: 0.7518900343642612\n",
            "The f-1 score is :\n",
            " [0.85098039 0.47008547 0.57711443]\n",
            "Confusion Matrix:\n",
            " [[868  30  16]\n",
            " [161 110  38]\n",
            " [ 97  19 116]]\n"
          ]
        }
      ],
      "source": [
        "# training Random Forest Classifier with Lancaster stemmer training data with Tf-Idf\n",
        "RFC_TfIdf = RFC.fit(train_X_LS_TfIdf, train_Y)\n",
        "\n",
        "# generating predictions on test data\n",
        "y_predict = RFC_TfIdf.predict(test_X_LS_TfIdf)\n",
        "\n",
        "# calculating accuracy score and confusion matrix for test data\n",
        "accuracy = accuracy_score(test_Y, y_predict)\n",
        "print(\"The accuracy is:\", accuracy)\n",
        "\n",
        "f1 = f1_score(test_Y, y_predict, average=None)\n",
        "print(\"The f-1 score is :\\n\",f1)\n",
        "\n",
        "ConfusionMatrix = confusion_matrix(test_Y, y_predict)\n",
        "print(\"Confusion Matrix:\\n\",ConfusionMatrix)"
      ]
    },
    {
      "cell_type": "code",
      "execution_count": null,
      "id": "e3c092ce-3b21-457b-87e7-4de44aa77c21",
      "metadata": {
        "id": "e3c092ce-3b21-457b-87e7-4de44aa77c21",
        "outputId": "2f2030d2-a098-4951-ff3b-01e18248ab2e"
      },
      "outputs": [
        {
          "name": "stdout",
          "output_type": "stream",
          "text": [
            "The accuracy is: 0.9279340528596923\n",
            "The f-1 score is :\n",
            " [0.95281603 0.85211726 0.91902385]\n",
            "Confusion Matrix:\n",
            " [[7300   73    4]\n",
            " [ 483 1962   46]\n",
            " [ 163   79 1657]]\n"
          ]
        }
      ],
      "source": [
        "# generating predictions on train data\n",
        "y_predict_train = RFC_TfIdf.predict(train_X_LS_TfIdf)\n",
        "\n",
        "# calculating accuracy score and confusion matrix for train data\n",
        "accuracy = accuracy_score(train_Y, y_predict_train)\n",
        "print(\"The accuracy is:\", accuracy)\n",
        "\n",
        "f1 = f1_score(train_Y, y_predict_train, average=None)\n",
        "print(\"The f-1 score is :\\n\",f1)\n",
        "\n",
        "ConfusionMatrix = confusion_matrix(train_Y, y_predict_train)\n",
        "print(\"Confusion Matrix:\\n\",ConfusionMatrix)"
      ]
    },
    {
      "cell_type": "code",
      "execution_count": null,
      "id": "6b7372e1-3513-4d67-8793-332e738cf9b8",
      "metadata": {
        "id": "6b7372e1-3513-4d67-8793-332e738cf9b8",
        "outputId": "f11b64cd-7df5-435b-d8e7-96d8615ce44b"
      },
      "outputs": [
        {
          "name": "stdout",
          "output_type": "stream",
          "text": [
            "The accuracy is: 0.744874715261959\n",
            "The f-1 score is :\n",
            " [0.84470715 0.38554217 0.6424581 ]\n",
            "Confusion Matrix:\n",
            " [[786  27  12]\n",
            " [181  80  18]\n",
            " [ 69  29 115]]\n"
          ]
        }
      ],
      "source": [
        "# generating predictions on dev data\n",
        "y_predict_dev = RFC_TfIdf.predict(dev_X_LS_TfIdf)\n",
        "\n",
        "# calculating accuracy score and confusion matrix for dev data\n",
        "accuracy = accuracy_score(dev_Y, y_predict_dev)\n",
        "print(\"The accuracy is:\", accuracy)\n",
        "\n",
        "f1 = f1_score(dev_Y, y_predict_dev, average=None)\n",
        "print(\"The f-1 score is :\\n\",f1)\n",
        "\n",
        "ConfusionMatrix = confusion_matrix(dev_Y, y_predict_dev)\n",
        "print(\"Confusion Matrix:\\n\",ConfusionMatrix)"
      ]
    },
    {
      "cell_type": "markdown",
      "id": "150b7676-6ffa-461e-a7e2-f47b3ebae29c",
      "metadata": {
        "id": "150b7676-6ffa-461e-a7e2-f47b3ebae29c"
      },
      "source": [
        "# 4. Modelling: Recurrent Neural Networks (LSTM)"
      ]
    },
    {
      "cell_type": "code",
      "execution_count": null,
      "id": "fbd67844-576c-4f07-9c34-20d78e3d94b8",
      "metadata": {
        "id": "fbd67844-576c-4f07-9c34-20d78e3d94b8"
      },
      "outputs": [],
      "source": [
        "# converting tweets into 2D arrays\n",
        "def tweets_2DArrays(dataset, max_words=5000, max_len=200):\n",
        "    tokenizer = Tokenizer(num_words=max_words) # tokenizer considering only max_words top words\n",
        "    tokenizer.fit_on_texts(dataset) # build the word index\n",
        "    sequences = tokenizer.texts_to_sequences(dataset) # turns strings into a series of numbers\n",
        "    tweets = keras.preprocessing.sequence.pad_sequences(sequences, maxlen=max_len)\n",
        "    return tweets"
      ]
    },
    {
      "cell_type": "code",
      "execution_count": null,
      "id": "995db8fb-81c7-4bac-bda5-d257402a0330",
      "metadata": {
        "id": "995db8fb-81c7-4bac-bda5-d257402a0330"
      },
      "outputs": [],
      "source": [
        "def numeric_labels(train_data, test_data, dev_data):\n",
        "    LE = LabelEncoder()\n",
        "    train_label = LE.fit_transform(train_data.values)\n",
        "    test_label = LE.transform(test_data.values)\n",
        "    dev_label = LE.transform(dev_data.values)\n",
        "    return train_label, test_label, dev_label"
      ]
    },
    {
      "cell_type": "markdown",
      "id": "0236d899-4eb5-4f32-b223-6d76ba528f8f",
      "metadata": {
        "id": "0236d899-4eb5-4f32-b223-6d76ba528f8f"
      },
      "source": [
        "## 4.1 Model: RNN (Bi-LSTM)  \n",
        "Embedding: Google Word2Vec embedding matrix  "
      ]
    },
    {
      "cell_type": "code",
      "execution_count": null,
      "id": "0a564d79-f203-410c-8b40-e4617e7282f4",
      "metadata": {
        "id": "0a564d79-f203-410c-8b40-e4617e7282f4"
      },
      "outputs": [],
      "source": [
        "def tweets_2DArrays(dataset, max_words=5000, max_len=200):\n",
        "    tokenizer = Tokenizer(num_words=max_words) # tokenizer considering only max_words top words\n",
        "    tokenizer.fit_on_texts(dataset) # build the word index\n",
        "    sequences = tokenizer.texts_to_sequences(dataset) # turns strings into a series of numbers\n",
        "    tweets = keras.preprocessing.sequence.pad_sequences(sequences, maxlen=max_len)\n",
        "    return tweets"
      ]
    },
    {
      "cell_type": "code",
      "execution_count": null,
      "id": "71fb49f1-c9c5-447c-ae9a-431d2aad25f6",
      "metadata": {
        "id": "71fb49f1-c9c5-447c-ae9a-431d2aad25f6"
      },
      "outputs": [],
      "source": [
        "# load Google Word2Vec embeddings\n",
        "wordembeddings = gensim.models.KeyedVectors.load_word2vec_format('GoogleNews-vectors-negative300.bin', binary=True)"
      ]
    },
    {
      "cell_type": "code",
      "execution_count": null,
      "id": "19abce4f-2abf-4227-a276-a71efe82953c",
      "metadata": {
        "id": "19abce4f-2abf-4227-a276-a71efe82953c"
      },
      "outputs": [],
      "source": [
        "def create_embedding_matrix(train_dataset, num_words=5000, embedding_dim=300, max_len=34):\n",
        "    # create vocabulary with respective index:\n",
        "    tokenizer = Tokenizer(num_words=num_words) # tokenizer considering only max_words top words\n",
        "    tokenizer.fit_on_texts(train_dataset) # build the word index\n",
        "    sequences = tokenizer.texts_to_sequences(train_dataset) # turns strings into a series of numbers\n",
        "    tweets = keras.preprocessing.sequence.pad_sequences(sequences, maxlen=max_len)\n",
        "    word_index = tokenizer.word_index # vocabulary and index\n",
        "\n",
        "    # create embedding matrix:\n",
        "    num_tokens = len(word_index) + 1\n",
        "    hits = 0\n",
        "    misses = 0\n",
        "\n",
        "    embedding_matrix = np.zeros((num_tokens, embedding_dim))\n",
        "    for word, i in word_index.items():\n",
        "        try:\n",
        "            embedding_vector = wordembeddings[word]\n",
        "        except:\n",
        "            misses += 1\n",
        "            pass\n",
        "        if embedding_vector is not None:\n",
        "            embedding_matrix[i] = embedding_vector\n",
        "            hits += 1\n",
        "    print(\"Converted %d words (%d misses)\" % (hits, misses))\n",
        "    return embedding_matrix, word_index"
      ]
    },
    {
      "cell_type": "code",
      "execution_count": null,
      "id": "40349308-5e4c-4158-bed3-9de502006e1e",
      "metadata": {
        "id": "40349308-5e4c-4158-bed3-9de502006e1e"
      },
      "outputs": [],
      "source": [
        "def hyperparameter_RNN_BiLSTM(hp):\n",
        "    # define hyperparameters and their respective range of values\n",
        "\n",
        "    # dropout layer 1\n",
        "    hp_dropout_rate_1 = hp.Choice('dropout_rate_1', values=[0.25, 0.5, 0.6, 0.75])\n",
        "\n",
        "    # hidden layer 1\n",
        "    hp_layer_1 = hp.Int('layer_1', min_value=1, max_value=500, step=100)\n",
        "    hp_activation_1 = hp.Choice('activation_1', values=['relu', 'tanh'])\n",
        "\n",
        "    # dropout layer 2\n",
        "    hp_dropout_2 = hp.Boolean(\"dropout\")\n",
        "    hp_dropout_rate_2 = hp.Choice('dropout_rate_2', values=[0.25, 0.5, 0.6, 0.75])\n",
        "\n",
        "    # hidden layer 2\n",
        "    hp_layer_2 = hp.Int('layer_2', min_value=1, max_value=500, step=100)\n",
        "    hp_activation_2 = hp.Choice('activation_2', values=['relu', 'tanh', 'sigmoid'])\n",
        "\n",
        "    # compilation\n",
        "    hp_optimizer = hp.Choice('optimizer', values=['SGD','Adam'])\n",
        "    hp_learning_rate = hp.Choice('learning_rate', values=[1e-2, 1e-3, 1e-4])\n",
        "    hp_batch_size = hp.Choice('batch_size', values=[16,32,64])\n",
        "\n",
        "    if hp_optimizer == 'SGD':\n",
        "        opt = SGD(learning_rate=hp_learning_rate)\n",
        "    elif hp_optimizer == 'Adam':\n",
        "        opt = Adam(learning_rate=hp_learning_rate)\n",
        "\n",
        "    # define RNN model\n",
        "    model=Sequential()\n",
        "    model.add(Embedding(len(vocab) + 1, 300, weights=[embedding_matrix], trainable=False))\n",
        "    model.add(Dropout(rate=hp_dropout_rate_1))\n",
        "    model.add(Bidirectional(LSTM(hp_layer_1, return_sequences=True, activation=hp_activation_1)))\n",
        "    if hp_dropout_2==True:\n",
        "        model.add(Dropout(rate=hp_dropout_rate_2))\n",
        "    model.add(Bidirectional((LSTM(hp_layer_2, activation=hp_activation_2))))\n",
        "    model.add(Dense(3, activation='softmax'))\n",
        "\n",
        "    model.compile(optimizer=opt, loss=\"binary_crossentropy\", metrics=[\"accuracy\"])\n",
        "\n",
        "    return model"
      ]
    },
    {
      "cell_type": "markdown",
      "id": "ab096f8b-6c1f-46f9-b412-5d9834b45ea2",
      "metadata": {
        "id": "ab096f8b-6c1f-46f9-b412-5d9834b45ea2"
      },
      "source": [
        "### 4.1.1 Model: RNN (Bi-LSTM)  \n",
        "Embedding: Google Word2Vec embedding matrix  \n",
        "Normalisation: N/A (Original)"
      ]
    },
    {
      "cell_type": "code",
      "execution_count": null,
      "id": "d57b78d8-46a0-4ab8-a385-86f2e1670b6d",
      "metadata": {
        "id": "d57b78d8-46a0-4ab8-a385-86f2e1670b6d",
        "outputId": "cbc5b9ba-ffb8-4c7e-869b-567684396d06"
      },
      "outputs": [
        {
          "name": "stdout",
          "output_type": "stream",
          "text": [
            "Converted 11709 words (3690 misses)\n"
          ]
        }
      ],
      "source": [
        "# preprocessing of training data\n",
        "train_amended = train_unique.copy()\n",
        "train_amended = preprocess(train_amended)\n",
        "train_amended = remove_stopwords(train_amended)\n",
        "train_X, train_Y = split_X_Y(train_amended)\n",
        "\n",
        "# longest tweet\n",
        "max_len = np.max([len(text.split()) for text in train_X])\n",
        "\n",
        "train_X_2D = tweets_2DArrays(train_X, max_words=10000, max_len=max_len)\n",
        "\n",
        "# creating embedding matrix from training data\n",
        "embedding_matrix, vocab = create_embedding_matrix(train_X, num_words=10000, embedding_dim=300, max_len=max_len)\n",
        "\n",
        "# preprocessing of test data\n",
        "test_amended = test_unique.copy()\n",
        "test_amended = preprocess(test_amended)\n",
        "test_amended = remove_stopwords(test_amended)\n",
        "test_X, test_Y = split_X_Y(test_amended)\n",
        "test_X_2D = tweets_2DArrays(test_X, max_words=10000, max_len=max_len)\n",
        "\n",
        "# preprocessing of dev data\n",
        "dev_amended = dev_unique.copy()\n",
        "dev_amended = preprocess(dev_amended)\n",
        "dev_amended = remove_stopwords(dev_amended)\n",
        "dev_X, dev_Y = split_X_Y(dev_amended)\n",
        "\n",
        "dev_X_2D = tweets_2DArrays(dev_X, max_words=10000, max_len=max_len)\n",
        "\n",
        "# convert airline_sentiment to numeric\n",
        "train_Y_label, test_Y_label, dev_Y_label = numeric_labels(train_Y, test_Y, dev_Y)\n",
        "\n",
        "# One-Hot Encoding of the labels\n",
        "train_Y_encoded = np_utils.to_categorical(train_Y_label)\n",
        "test_Y_encoded = np_utils.to_categorical(test_Y_label)\n",
        "dev_Y_encoded = np_utils.to_categorical(dev_Y_label)"
      ]
    },
    {
      "cell_type": "code",
      "execution_count": null,
      "id": "025c3425-20e3-4699-8b0b-934cb7e4e07a",
      "metadata": {
        "id": "025c3425-20e3-4699-8b0b-934cb7e4e07a"
      },
      "outputs": [],
      "source": [
        "# hyper parameter tuning\n",
        "tuner_RNN_LSTM = kt.BayesianOptimization(hyperparameter_RNN_BiLSTM,\n",
        "                     objective='loss',\n",
        "                     max_trials=10,\n",
        "                     seed=0,\n",
        "                     overwrite=True,\n",
        "                     directory='dir',\n",
        "                     project_name='x')\n",
        "\n",
        "# early stopping\n",
        "stop_early = EarlyStopping(monitor='val_loss', patience=2)\n",
        "\n",
        "tuner_RNN_LSTM.search(train_X_2D, train_Y_encoded, validation_data=(dev_X_2D, dev_Y_encoded), callbacks=[stop_early])"
      ]
    },
    {
      "cell_type": "code",
      "execution_count": null,
      "id": "0bcde374-77fd-46ac-813d-cf90bf28651c",
      "metadata": {
        "id": "0bcde374-77fd-46ac-813d-cf90bf28651c",
        "outputId": "244d9b92-8f82-4781-ff27-57607bd871ce"
      },
      "outputs": [
        {
          "name": "stdout",
          "output_type": "stream",
          "text": [
            "WARNING:tensorflow:Detecting that an object or model or tf.train.Checkpoint is being deleted with unrestored values. See the following logs for the specific values in question. To silence these warnings, use `status.expect_partial()`. See https://www.tensorflow.org/api_docs/python/tf/train/Checkpoint#restorefor details about the status object returned by the restore function.\n",
            "WARNING:tensorflow:Value in checkpoint could not be found in the restored object: (root).optimizer.iter\n",
            "WARNING:tensorflow:Value in checkpoint could not be found in the restored object: (root).optimizer.beta_1\n",
            "WARNING:tensorflow:Value in checkpoint could not be found in the restored object: (root).optimizer.beta_2\n",
            "WARNING:tensorflow:Value in checkpoint could not be found in the restored object: (root).optimizer.decay\n",
            "WARNING:tensorflow:Value in checkpoint could not be found in the restored object: (root).optimizer.learning_rate\n",
            "Model: \"sequential\"\n",
            "_________________________________________________________________\n",
            " Layer (type)                Output Shape              Param #   \n",
            "=================================================================\n",
            " embedding (Embedding)       (None, None, 300)         3513000   \n",
            "                                                                 \n",
            " dropout (Dropout)           (None, None, 300)         0         \n",
            "                                                                 \n",
            " bidirectional (Bidirectiona  (None, None, 602)        1449616   \n",
            " l)                                                              \n",
            "                                                                 \n",
            " dropout_1 (Dropout)         (None, None, 602)         0         \n",
            "                                                                 \n",
            " bidirectional_1 (Bidirectio  (None, 802)              3220832   \n",
            " nal)                                                            \n",
            "                                                                 \n",
            " dense (Dense)               (None, 3)                 2409      \n",
            "                                                                 \n",
            "=================================================================\n",
            "Total params: 8,185,857\n",
            "Trainable params: 4,672,857\n",
            "Non-trainable params: 3,513,000\n",
            "_________________________________________________________________\n"
          ]
        },
        {
          "data": {
            "text/plain": [
              "{'dropout_rate_1': 0.6,\n",
              " 'layer_1': 301,\n",
              " 'activation_1': 'tanh',\n",
              " 'dropout': True,\n",
              " 'dropout_rate_2': 0.25,\n",
              " 'layer_2': 401,\n",
              " 'activation_2': 'relu',\n",
              " 'optimizer': 'Adam',\n",
              " 'learning_rate': 0.0001,\n",
              " 'batch_size': 64}"
            ]
          },
          "execution_count": 88,
          "metadata": {},
          "output_type": "execute_result"
        }
      ],
      "source": [
        "# get the best model\n",
        "best_model = tuner_RNN_LSTM.get_best_models(num_models=1)[0]\n",
        "best_model.summary()\n",
        "\n",
        "# Get the optimal hyperparameters\n",
        "best_hps=tuner_RNN_LSTM.get_best_hyperparameters(num_trials=1)[0].values\n",
        "best_hps"
      ]
    },
    {
      "cell_type": "code",
      "execution_count": null,
      "id": "da39df98-e42d-46b5-8497-8b26d690d5bd",
      "metadata": {
        "id": "da39df98-e42d-46b5-8497-8b26d690d5bd",
        "outputId": "e3ea3337-a904-40ad-9c9e-7fd0a6672bf9"
      },
      "outputs": [
        {
          "name": "stdout",
          "output_type": "stream",
          "text": [
            "Model: \"sequential_3\"\n",
            "_________________________________________________________________\n",
            " Layer (type)                Output Shape              Param #   \n",
            "=================================================================\n",
            " embedding_3 (Embedding)     (None, None, 300)         3513000   \n",
            "                                                                 \n",
            " dropout_6 (Dropout)         (None, None, 300)         0         \n",
            "                                                                 \n",
            " bidirectional_4 (Bidirectio  (None, None, 602)        1449616   \n",
            " nal)                                                            \n",
            "                                                                 \n",
            " dropout_7 (Dropout)         (None, None, 602)         0         \n",
            "                                                                 \n",
            " bidirectional_5 (Bidirectio  (None, 802)              3220832   \n",
            " nal)                                                            \n",
            "                                                                 \n",
            " dense_2 (Dense)             (None, 3)                 2409      \n",
            "                                                                 \n",
            "=================================================================\n",
            "Total params: 8,185,857\n",
            "Trainable params: 4,672,857\n",
            "Non-trainable params: 3,513,000\n",
            "_________________________________________________________________\n"
          ]
        }
      ],
      "source": [
        "# create RNN (LSTM) model With Google Word2Vec Embedding Initialization\n",
        "RNN_LSTM_google = Sequential()\n",
        "RNN_LSTM_google.add(Embedding(len(vocab) + 1, 300, weights=[embedding_matrix], trainable=False))\n",
        "RNN_LSTM_google.add(Dropout(0.6))\n",
        "RNN_LSTM_google.add(Bidirectional(LSTM(301,return_sequences=True, activation='tanh')))\n",
        "RNN_LSTM_google.add(Dropout(0.25))\n",
        "RNN_LSTM_google.add(Bidirectional(LSTM(401, activation='relu')))\n",
        "RNN_LSTM_google.add(Dense(3,activation='softmax'))\n",
        "RNN_LSTM_google.compile(optimizer=Adam(learning_rate=0.0001), loss=\"binary_crossentropy\", metrics=[\"accuracy\"])\n",
        "RNN_LSTM_google.summary()"
      ]
    },
    {
      "cell_type": "code",
      "execution_count": null,
      "id": "3a055142-bfaf-44c0-926a-6428e5bcee76",
      "metadata": {
        "id": "3a055142-bfaf-44c0-926a-6428e5bcee76",
        "outputId": "f909895c-cb4c-4a06-d4c5-d7ba2b70264a"
      },
      "outputs": [
        {
          "name": "stdout",
          "output_type": "stream",
          "text": [
            "Epoch 1/20\n",
            "184/184 [==============================] - 139s 758ms/step - loss: 0.4939 - accuracy: 0.6396 - val_loss: 0.5526 - val_accuracy: 0.5831\n",
            "Epoch 2/20\n",
            "184/184 [==============================] - 147s 797ms/step - loss: 0.4068 - accuracy: 0.7138 - val_loss: 0.6015 - val_accuracy: 0.6014\n",
            "Epoch 3/20\n",
            "184/184 [==============================] - 136s 738ms/step - loss: 0.3875 - accuracy: 0.7324 - val_loss: 0.6162 - val_accuracy: 0.6067\n"
          ]
        },
        {
          "data": {
            "text/plain": [
              "<keras.callbacks.History at 0x25d9d636430>"
            ]
          },
          "execution_count": 93,
          "metadata": {},
          "output_type": "execute_result"
        }
      ],
      "source": [
        "# train RNN LSTM using original training data\n",
        "RNN_LSTM_google.fit(train_X_2D, train_Y_encoded, validation_data=(dev_X_2D, dev_Y_encoded), epochs=20, batch_size=64, verbose=1, callbacks=[stop_early])"
      ]
    },
    {
      "cell_type": "code",
      "execution_count": null,
      "id": "00d3cfa3-dd62-467c-926a-ca5574544e4a",
      "metadata": {
        "id": "00d3cfa3-dd62-467c-926a-ca5574544e4a",
        "outputId": "558e56e6-4fd3-4834-9e74-2201362bf3bc"
      },
      "outputs": [
        {
          "name": "stdout",
          "output_type": "stream",
          "text": [
            "46/46 [==============================] - 5s 96ms/step\n",
            "The accuracy is: 0.5972508591065292\n",
            "The f-1 score is :\n",
            " [0.76099426 0.21176471 0.17665615]\n",
            "Confusion Matrix:\n",
            " [[828  44  42]\n",
            " [249  45  15]\n",
            " [177  27  28]]\n"
          ]
        }
      ],
      "source": [
        "# generate predictions for test data set RNN_LSTM\n",
        "y_pred_test_encoded = (RNN_LSTM_google.predict(test_X_2D)> 0.5).astype(\"int32\")\n",
        "y_pred_test = np.array(tf.argmax(y_pred_test_encoded, axis=1))\n",
        "\n",
        "# calculating accuracy score and confusion matrix\n",
        "accuracy = accuracy_score(test_Y_encoded, y_pred_test_encoded)\n",
        "print(\"The accuracy is:\", accuracy)\n",
        "\n",
        "f1 = f1_score(test_Y_encoded, y_pred_test_encoded, average=None)\n",
        "print(\"The f-1 score is :\\n\",f1)\n",
        "\n",
        "ConfusionMatrix = confusion_matrix(test_Y_label, y_pred_test)\n",
        "print(\"Confusion Matrix:\\n\",ConfusionMatrix)"
      ]
    },
    {
      "cell_type": "code",
      "execution_count": null,
      "id": "9f15e217-899f-4312-aa0f-157971bd3643",
      "metadata": {
        "id": "9f15e217-899f-4312-aa0f-157971bd3643",
        "outputId": "36fbd79c-892f-4cc3-ca44-0aba5f8d361f"
      },
      "outputs": [
        {
          "name": "stdout",
          "output_type": "stream",
          "text": [
            "368/368 [==============================] - 38s 103ms/step\n",
            "The accuracy is: 0.7417353616044872\n",
            "The f-1 score is :\n",
            " [0.85337665 0.45694481 0.64758942]\n",
            "Confusion Matrix:\n",
            " [[6993  274  110]\n",
            " [1469  857  165]\n",
            " [ 729  129 1041]]\n"
          ]
        }
      ],
      "source": [
        "# generate predictions for train data set RNN_LSTM\n",
        "y_pred_train_encoded = (RNN_LSTM_google.predict(train_X_2D)> 0.5).astype(\"int32\")\n",
        "y_pred_train = np.array(tf.argmax(y_pred_train_encoded, axis=1))\n",
        "\n",
        "# calculating accuracy score and confusion matrix\n",
        "accuracy = accuracy_score(train_Y_encoded, y_pred_train_encoded)\n",
        "print(\"The accuracy is:\", accuracy)\n",
        "\n",
        "f1 = f1_score(train_Y_encoded, y_pred_train_encoded, average=None)\n",
        "print(\"The f-1 score is :\\n\",f1)\n",
        "\n",
        "ConfusionMatrix = confusion_matrix(train_Y_label, y_pred_train)\n",
        "print(\"Confusion Matrix:\\n\",ConfusionMatrix)"
      ]
    },
    {
      "cell_type": "code",
      "execution_count": null,
      "id": "b10d37f9-a5d3-4b39-8165-8950f89fa026",
      "metadata": {
        "id": "b10d37f9-a5d3-4b39-8165-8950f89fa026",
        "outputId": "957b553e-7696-48b2-b8c1-19b9e654f801"
      },
      "outputs": [
        {
          "name": "stdout",
          "output_type": "stream",
          "text": [
            "42/42 [==============================] - 4s 92ms/step\n",
            "The accuracy is: 0.5914958238420653\n",
            "The f-1 score is :\n",
            " [0.76287554 0.2556391  0.11074919]\n",
            "Confusion Matrix:\n",
            " [[736  34  55]\n",
            " [206  51  22]\n",
            " [161  35  17]]\n"
          ]
        }
      ],
      "source": [
        "# generate predictions for dev data set RNN_LSTM\n",
        "y_pred_dev_encoded = (RNN_LSTM_google.predict(dev_X_2D)> 0.5).astype(\"int32\")\n",
        "y_pred_dev = np.array(tf.argmax(y_pred_dev_encoded, axis=1))\n",
        "\n",
        "# calculating accuracy score and confusion matrix\n",
        "accuracy = accuracy_score(dev_Y_encoded, y_pred_dev_encoded)\n",
        "print(\"The accuracy is:\", accuracy)\n",
        "\n",
        "f1 = f1_score(dev_Y_encoded, y_pred_dev_encoded, average=None)\n",
        "print(\"The f-1 score is :\\n\",f1)\n",
        "\n",
        "ConfusionMatrix = confusion_matrix(dev_Y_label, y_pred_dev)\n",
        "print(\"Confusion Matrix:\\n\",ConfusionMatrix)"
      ]
    },
    {
      "cell_type": "markdown",
      "id": "6404d996-ddc6-42a5-89e0-8bd5e9bcebb8",
      "metadata": {
        "id": "6404d996-ddc6-42a5-89e0-8bd5e9bcebb8"
      },
      "source": [
        "### 4.1.2 RNN Bi-LSTM  \n",
        "Embedding: Google Word2Vec  \n",
        "Normalisation: Lemmatization  "
      ]
    },
    {
      "cell_type": "code",
      "execution_count": null,
      "id": "109b4fd6-180d-415f-9752-a616338b9ca9",
      "metadata": {
        "id": "109b4fd6-180d-415f-9752-a616338b9ca9",
        "outputId": "8cc726b4-c72c-4543-9f07-0fa933bd1804"
      },
      "outputs": [
        {
          "name": "stdout",
          "output_type": "stream",
          "text": [
            "Converted 10254 words (3681 misses)\n"
          ]
        }
      ],
      "source": [
        "# preprocessing of train data\n",
        "train_amended = train_unique.copy()\n",
        "train_amended = preprocess(train_amended)\n",
        "train_amended = remove_stopwords(train_amended)\n",
        "train_X, train_Y = split_X_Y(train_amended)\n",
        "train_X_token = tokenize_tweet(train_X)\n",
        "train_X_lemmatize = lemmatize_data(train_X_token)\n",
        "\n",
        "# longest tweet\n",
        "max_len = np.max([len(text.split()) for text in train_X_lemmatize])\n",
        "\n",
        "train_X_lemmatize_2D = tweets_2DArrays(train_X_lemmatize, max_words=10000, max_len=max_len)\n",
        "\n",
        "\n",
        "# creating embedding matrix from training data\n",
        "embedding_matrix, vocab = create_embedding_matrix(train_X_lemmatize, num_words=10000, embedding_dim=300, max_len=max_len)\n",
        "\n",
        "# preprocessing of test data\n",
        "test_amended = test_unique.copy()\n",
        "test_amended = preprocess(test_amended)\n",
        "test_amended = remove_stopwords(test_amended)\n",
        "test_X, test_Y = split_X_Y(test_amended)\n",
        "test_X_token = tokenize_tweet(test_X)\n",
        "test_X_lemmatize = lemmatize_data(test_X_token)\n",
        "test_X_lemmatize_2D = tweets_2DArrays(test_X_lemmatize, max_words=10000, max_len=max_len)\n",
        "\n",
        "# preprocessing of dev data\n",
        "dev_amended = dev_unique.copy()\n",
        "dev_amended = preprocess(dev_amended)\n",
        "dev_amended = remove_stopwords(dev_amended)\n",
        "dev_X, dev_Y = split_X_Y(dev_amended)\n",
        "dev_X_token = tokenize_tweet(dev_X)\n",
        "dev_X_lemmatize = lemmatize_data(dev_X_token)\n",
        "dev_X_lemmatize_2D = tweets_2DArrays(dev_X_lemmatize, max_words=10000, max_len=max_len)\n",
        "\n",
        "# convert airline_sentiment to numeric\n",
        "train_Y_label, test_Y_label, dev_Y_label = numeric_labels(train_Y, test_Y, dev_Y)\n",
        "\n",
        "# One-Hot Encoding of the labels\n",
        "train_Y_encoded = np_utils.to_categorical(train_Y_label)\n",
        "test_Y_encoded = np_utils.to_categorical(test_Y_label)\n",
        "dev_Y_encoded = np_utils.to_categorical(dev_Y_label)"
      ]
    },
    {
      "cell_type": "code",
      "execution_count": null,
      "id": "0071eba2-02a9-4871-8baf-8ed68affc03d",
      "metadata": {
        "id": "0071eba2-02a9-4871-8baf-8ed68affc03d",
        "outputId": "c22f46eb-4d31-43c9-9aac-3f2aeadf8213"
      },
      "outputs": [
        {
          "name": "stdout",
          "output_type": "stream",
          "text": [
            "Trial 10 Complete [00h 02m 13s]\n",
            "loss: 0.5172538161277771\n",
            "\n",
            "Best loss So Far: 0.4246578812599182\n",
            "Total elapsed time: 00h 19m 17s\n",
            "INFO:tensorflow:Oracle triggered exit\n"
          ]
        }
      ],
      "source": [
        "# hyper parameter tuning\n",
        "tuner_RNN_LSTM = kt.BayesianOptimization(hyperparameter_RNN_BiLSTM,\n",
        "                     objective='loss',\n",
        "                     max_trials=10,\n",
        "                     seed=0,\n",
        "                     overwrite=True,\n",
        "                     directory='dir',\n",
        "                     project_name='x')\n",
        "\n",
        "# early stopping\n",
        "stop_early = EarlyStopping(monitor='val_loss', patience=2)\n",
        "\n",
        "tuner_RNN_LSTM.search(train_X_lemmatize_2D, train_Y_encoded, validation_data=(dev_X_lemmatize_2D, dev_Y_encoded), callbacks=[stop_early])"
      ]
    },
    {
      "cell_type": "code",
      "execution_count": null,
      "id": "424df79a-debd-4ac9-b6a3-efbcd48bc209",
      "metadata": {
        "id": "424df79a-debd-4ac9-b6a3-efbcd48bc209",
        "outputId": "0186de84-d7e6-444b-e2ba-516b031c8494"
      },
      "outputs": [
        {
          "name": "stdout",
          "output_type": "stream",
          "text": [
            "WARNING:tensorflow:Detecting that an object or model or tf.train.Checkpoint is being deleted with unrestored values. See the following logs for the specific values in question. To silence these warnings, use `status.expect_partial()`. See https://www.tensorflow.org/api_docs/python/tf/train/Checkpoint#restorefor details about the status object returned by the restore function.\n",
            "WARNING:tensorflow:Value in checkpoint could not be found in the restored object: (root).optimizer.iter\n",
            "WARNING:tensorflow:Value in checkpoint could not be found in the restored object: (root).optimizer.decay\n",
            "WARNING:tensorflow:Value in checkpoint could not be found in the restored object: (root).optimizer.learning_rate\n",
            "WARNING:tensorflow:Value in checkpoint could not be found in the restored object: (root).optimizer.momentum\n",
            "Model: \"sequential\"\n",
            "_________________________________________________________________\n",
            " Layer (type)                Output Shape              Param #   \n",
            "=================================================================\n",
            " embedding (Embedding)       (None, None, 300)         3076500   \n",
            "                                                                 \n",
            " dropout (Dropout)           (None, None, 300)         0         \n",
            "                                                                 \n",
            " bidirectional (Bidirectiona  (None, None, 802)        2252016   \n",
            " l)                                                              \n",
            "                                                                 \n",
            " bidirectional_1 (Bidirectio  (None, 202)              730432    \n",
            " nal)                                                            \n",
            "                                                                 \n",
            " dense (Dense)               (None, 3)                 609       \n",
            "                                                                 \n",
            "=================================================================\n",
            "Total params: 6,059,557\n",
            "Trainable params: 2,983,057\n",
            "Non-trainable params: 3,076,500\n",
            "_________________________________________________________________\n"
          ]
        },
        {
          "data": {
            "text/plain": [
              "{'dropout_rate_1': 0.6,\n",
              " 'layer_1': 401,\n",
              " 'activation_1': 'tanh',\n",
              " 'dropout': False,\n",
              " 'dropout_rate_2': 0.6,\n",
              " 'layer_2': 101,\n",
              " 'activation_2': 'sigmoid',\n",
              " 'optimizer': 'Adam',\n",
              " 'learning_rate': 0.001,\n",
              " 'batch_size': 32}"
            ]
          },
          "execution_count": 125,
          "metadata": {},
          "output_type": "execute_result"
        }
      ],
      "source": [
        "# get the best model\n",
        "best_model = tuner_RNN_LSTM.get_best_models(num_models=1)[0]\n",
        "best_model.summary()\n",
        "\n",
        "# Get the optimal hyperparameters\n",
        "best_hps=tuner_RNN_LSTM.get_best_hyperparameters(num_trials=1)[0].values\n",
        "best_hps"
      ]
    },
    {
      "cell_type": "code",
      "execution_count": null,
      "id": "4a918582-e7d4-4438-91bf-496bb55f8f94",
      "metadata": {
        "id": "4a918582-e7d4-4438-91bf-496bb55f8f94",
        "outputId": "eb3bde11-fa43-4932-eedf-4ef86b9ab09a"
      },
      "outputs": [
        {
          "name": "stdout",
          "output_type": "stream",
          "text": [
            "Model: \"sequential_1\"\n",
            "_________________________________________________________________\n",
            " Layer (type)                Output Shape              Param #   \n",
            "=================================================================\n",
            " embedding_1 (Embedding)     (None, None, 300)         3076500   \n",
            "                                                                 \n",
            " dropout_1 (Dropout)         (None, None, 300)         0         \n",
            "                                                                 \n",
            " bidirectional_2 (Bidirectio  (None, None, 802)        2252016   \n",
            " nal)                                                            \n",
            "                                                                 \n",
            " bidirectional_3 (Bidirectio  (None, 202)              730432    \n",
            " nal)                                                            \n",
            "                                                                 \n",
            " dense_1 (Dense)             (None, 3)                 609       \n",
            "                                                                 \n",
            "=================================================================\n",
            "Total params: 6,059,557\n",
            "Trainable params: 2,983,057\n",
            "Non-trainable params: 3,076,500\n",
            "_________________________________________________________________\n"
          ]
        }
      ],
      "source": [
        "# create RNN (LSTM) model With Google Word2Vec Embedding Initialization with optimal hyperparameters\n",
        "RNN_LSTM_google = Sequential()\n",
        "RNN_LSTM_google.add(Embedding(len(vocab) + 1, 300, weights=[embedding_matrix], trainable=False))\n",
        "RNN_LSTM_google.add(Dropout(0.6))\n",
        "RNN_LSTM_google.add(Bidirectional(LSTM(401,return_sequences=True, activation='tanh')))\n",
        "RNN_LSTM_google.add(Bidirectional(LSTM(101, activation='sigmoid')))\n",
        "RNN_LSTM_google.add(Dense(3,activation='softmax'))\n",
        "RNN_LSTM_google.compile(optimizer=Adam(learning_rate=0.001), loss=\"binary_crossentropy\", metrics=[\"accuracy\"])\n",
        "RNN_LSTM_google.summary()"
      ]
    },
    {
      "cell_type": "code",
      "execution_count": null,
      "id": "bc3f3054-b593-4af9-8c3f-f7da26081c03",
      "metadata": {
        "id": "bc3f3054-b593-4af9-8c3f-f7da26081c03",
        "outputId": "b27b7069-c8ff-4c1b-f7d0-e18d4707a172"
      },
      "outputs": [
        {
          "name": "stdout",
          "output_type": "stream",
          "text": [
            "Epoch 1/15\n",
            "368/368 [==============================] - 95s 259ms/step - loss: 0.0652 - accuracy: 0.9635 - val_loss: 1.6067 - val_accuracy: 0.5353\n",
            "Epoch 3/15\n",
            "368/368 [==============================] - 95s 258ms/step - loss: 0.0638 - accuracy: 0.9638 - val_loss: 1.4409 - val_accuracy: 0.5399\n",
            "Epoch 4/15\n",
            "368/368 [==============================] - 91s 249ms/step - loss: 0.0525 - accuracy: 0.9729 - val_loss: 1.5188 - val_accuracy: 0.5543\n",
            "Epoch 9/15\n",
            "368/368 [==============================] - 87s 237ms/step - loss: 0.0488 - accuracy: 0.9740 - val_loss: 1.5424 - val_accuracy: 0.5535\n",
            "Epoch 10/15\n",
            "368/368 [==============================] - 92s 251ms/step - loss: 0.0490 - accuracy: 0.9722 - val_loss: 1.5760 - val_accuracy: 0.5611\n",
            "Epoch 11/15\n",
            "368/368 [==============================] - 92s 249ms/step - loss: 0.0460 - accuracy: 0.9763 - val_loss: 1.6256 - val_accuracy: 0.5421\n",
            "Epoch 12/15\n",
            "368/368 [==============================] - 92s 250ms/step - loss: 0.0447 - accuracy: 0.9743 - val_loss: 1.6265 - val_accuracy: 0.5649\n",
            "Epoch 13/15\n",
            "368/368 [==============================] - 93s 253ms/step - loss: 0.0449 - accuracy: 0.9754 - val_loss: 1.8026 - val_accuracy: 0.5566\n",
            "Epoch 14/15\n",
            "368/368 [==============================] - 93s 252ms/step - loss: 0.0485 - accuracy: 0.9726 - val_loss: 1.6606 - val_accuracy: 0.5702\n"
          ]
        },
        {
          "data": {
            "text/plain": [
              "<keras.callbacks.History at 0x25e36fe1df0>"
            ]
          },
          "execution_count": 132,
          "metadata": {},
          "output_type": "execute_result"
        }
      ],
      "source": [
        "# train RNN LSTM using lemmatize training data\n",
        "random.seed(0)\n",
        "RNN_LSTM_google.fit(train_X_lemmatize_2D, train_Y_encoded, validation_data=(dev_X_lemmatize_2D, dev_Y_encoded), epochs=15, batch_size=32, verbose=1, callbacks=[stop_early])"
      ]
    },
    {
      "cell_type": "code",
      "execution_count": null,
      "id": "327522b4-57a2-4f69-91e8-093555bd42af",
      "metadata": {
        "id": "327522b4-57a2-4f69-91e8-093555bd42af",
        "outputId": "2fc8f7bb-a1ef-4e02-e39d-91fef0e20c85"
      },
      "outputs": [
        {
          "name": "stdout",
          "output_type": "stream",
          "text": [
            "46/46 [==============================] - 2s 40ms/step\n",
            "The accuracy is: 0.5676975945017182\n",
            "The f-1 score is :\n",
            " [0.71941032 0.20659341 0.22815534]\n",
            "Confusion Matrix:\n",
            " [[736  80  98]\n",
            " [227  47  35]\n",
            " [166  19  47]]\n"
          ]
        }
      ],
      "source": [
        "# generate predictions for test data set RNN_LSTM\n",
        "y_pred_test_encoded = (RNN_LSTM_google.predict(test_X_lemmatize_2D)> 0.5).astype(\"int32\")\n",
        "y_pred_test = np.array(tf.argmax(y_pred_test_encoded, axis=1))\n",
        "\n",
        "# calculating accuracy score and confusion matrix\n",
        "accuracy = accuracy_score(test_Y_encoded, y_pred_test_encoded)\n",
        "print(\"The accuracy is:\", accuracy)\n",
        "\n",
        "f1 = f1_score(test_Y_encoded, y_pred_test_encoded, average=None)\n",
        "print(\"The f-1 score is :\\n\",f1)\n",
        "\n",
        "ConfusionMatrix = confusion_matrix(test_Y_label, y_pred_test)\n",
        "print(\"Confusion Matrix:\\n\",ConfusionMatrix)"
      ]
    },
    {
      "cell_type": "code",
      "execution_count": null,
      "id": "74eb42d3-52d1-465e-a49e-35c8a335b663",
      "metadata": {
        "id": "74eb42d3-52d1-465e-a49e-35c8a335b663",
        "outputId": "7dc72ead-bc3e-43f8-d299-780d203f8b1b"
      },
      "outputs": [
        {
          "name": "stdout",
          "output_type": "stream",
          "text": [
            "368/368 [==============================] - 13s 35ms/step\n",
            "The accuracy is: 0.9938811931673324\n",
            "The f-1 score is :\n",
            " [0.997558   0.98653266 0.98951782]\n",
            "Confusion Matrix:\n",
            " [[7354   22    1]\n",
            " [   9 2454   28]\n",
            " [   3    8 1888]]\n"
          ]
        }
      ],
      "source": [
        "# generate predictions for train data set RNN_LSTM\n",
        "y_pred_train_encoded = (RNN_LSTM_google.predict(train_X_lemmatize_2D)> 0.5).astype(\"int32\")\n",
        "y_pred_train = np.array(tf.argmax(y_pred_train_encoded, axis=1))\n",
        "\n",
        "# calculating accuracy score and confusion matrix\n",
        "accuracy = accuracy_score(train_Y_encoded, y_pred_train_encoded)\n",
        "print(\"The accuracy is:\", accuracy)\n",
        "\n",
        "f1 = f1_score(train_Y_encoded, y_pred_train_encoded, average=None)\n",
        "print(\"The f-1 score is :\\n\",f1)\n",
        "\n",
        "ConfusionMatrix = confusion_matrix(train_Y_label, y_pred_train)\n",
        "print(\"Confusion Matrix:\\n\",ConfusionMatrix)"
      ]
    },
    {
      "cell_type": "code",
      "execution_count": null,
      "id": "5f943440-c91f-4652-a14f-1296d9ed3073",
      "metadata": {
        "id": "5f943440-c91f-4652-a14f-1296d9ed3073",
        "outputId": "1d6ab159-6aa3-4f74-87a8-e54bd1f16785"
      },
      "outputs": [
        {
          "name": "stdout",
          "output_type": "stream",
          "text": [
            "42/42 [==============================] - 1s 31ms/step\n",
            "The accuracy is: 0.5702353834472286\n",
            "The f-1 score is :\n",
            " [0.72926963 0.30769231 0.08746356]\n",
            "Confusion Matrix:\n",
            " [[665  74  86]\n",
            " [178  72  29]\n",
            " [155  43  15]]\n"
          ]
        }
      ],
      "source": [
        "# generate predictions for dev data set RNN_LSTM\n",
        "y_pred_dev_encoded = (RNN_LSTM_google.predict(dev_X_lemmatize_2D)> 0.5).astype(\"int32\")\n",
        "y_pred_dev = np.array(tf.argmax(y_pred_dev_encoded, axis=1))\n",
        "\n",
        "# calculating accuracy score and confusion matrix\n",
        "accuracy = accuracy_score(dev_Y_encoded, y_pred_dev_encoded)\n",
        "print(\"The accuracy is:\", accuracy)\n",
        "\n",
        "f1 = f1_score(dev_Y_encoded, y_pred_dev_encoded, average=None)\n",
        "print(\"The f-1 score is :\\n\",f1)\n",
        "\n",
        "ConfusionMatrix = confusion_matrix(dev_Y_label, y_pred_dev)\n",
        "print(\"Confusion Matrix:\\n\",ConfusionMatrix)"
      ]
    },
    {
      "cell_type": "markdown",
      "id": "3684a084-67b5-4633-ae61-f724b9002587",
      "metadata": {
        "id": "3684a084-67b5-4633-ae61-f724b9002587"
      },
      "source": [
        "### 4.1.3 RNN Bi-LSTM\n",
        "Embedding: Google Word2Vec  \n",
        "Normalisation: Porter Stemming"
      ]
    },
    {
      "cell_type": "code",
      "execution_count": null,
      "id": "3bc90b8a-8df9-4623-9587-656aba2fc971",
      "metadata": {
        "id": "3bc90b8a-8df9-4623-9587-656aba2fc971",
        "outputId": "df674164-03e8-4acf-eb99-4eb1bc3eb4d7"
      },
      "outputs": [
        {
          "name": "stdout",
          "output_type": "stream",
          "text": [
            "Converted 9292 words (4931 misses)\n"
          ]
        }
      ],
      "source": [
        "# preprocessing of train data\n",
        "train_amended = train_unique.copy()\n",
        "train_amended = preprocess(train_amended)\n",
        "train_amended = remove_stopwords(train_amended)\n",
        "train_X, train_Y = split_X_Y(train_amended)\n",
        "train_X_token = tokenize_tweet(train_X)\n",
        "train_X_PS = stem_data(train_X_token, method=\"Porter\")\n",
        "\n",
        "# longest tweet\n",
        "max_len = np.max([len(text.split()) for text in train_X_PS])\n",
        "\n",
        "train_X_PS_2D = tweets_2DArrays(train_X_PS, max_words=10000, max_len=max_len)\n",
        "\n",
        "\n",
        "# creating embedding matrix from training data\n",
        "embedding_matrix, vocab = create_embedding_matrix(train_X_PS, num_words=10000, embedding_dim=300, max_len=max_len)\n",
        "\n",
        "# preprocessing of test data\n",
        "test_amended = test_unique.copy()\n",
        "test_amended = preprocess(test_amended)\n",
        "test_amended = remove_stopwords(test_amended)\n",
        "test_X, test_Y = split_X_Y(test_amended)\n",
        "test_X_token = tokenize_tweet(test_X)\n",
        "test_X_PS = stem_data(test_X_token, method=\"Porter\")\n",
        "test_X_PS_2D = tweets_2DArrays(test_X_PS, max_words=10000, max_len=max_len)\n",
        "\n",
        "# preprocessing of dev data\n",
        "dev_amended = dev_unique.copy()\n",
        "dev_amended = preprocess(dev_amended)\n",
        "dev_amended = remove_stopwords(dev_amended)\n",
        "dev_X, dev_Y = split_X_Y(dev_amended)\n",
        "dev_X_token = tokenize_tweet(dev_X)\n",
        "dev_X_PS = stem_data(dev_X_token, method=\"Porter\")\n",
        "dev_X_PS_2D = tweets_2DArrays(dev_X_PS, max_words=10000, max_len=max_len)\n",
        "\n",
        "# convert airline_sentiment to numeric\n",
        "train_Y_label, test_Y_label, dev_Y_label = numeric_labels(train_Y, test_Y, dev_Y)\n",
        "\n",
        "# One-Hot Encoding of the labels\n",
        "train_Y_encoded = np_utils.to_categorical(train_Y_label)\n",
        "test_Y_encoded = np_utils.to_categorical(test_Y_label)\n",
        "dev_Y_encoded = np_utils.to_categorical(dev_Y_label)"
      ]
    },
    {
      "cell_type": "code",
      "execution_count": null,
      "id": "1fab62df-29a5-401c-88ed-f7f7e7b47587",
      "metadata": {
        "id": "1fab62df-29a5-401c-88ed-f7f7e7b47587",
        "outputId": "be730ce2-6738-4bfb-e3f2-9b198fb7df54"
      },
      "outputs": [
        {
          "name": "stdout",
          "output_type": "stream",
          "text": [
            "Trial 10 Complete [00h 00m 50s]\n",
            "loss: 0.5318582653999329\n",
            "\n",
            "Best loss So Far: 0.5313007235527039\n",
            "Total elapsed time: 00h 11m 45s\n",
            "INFO:tensorflow:Oracle triggered exit\n"
          ]
        }
      ],
      "source": [
        "# hyper parameter tuning\n",
        "tuner_RNN_LSTM = kt.BayesianOptimization(hyperparameter_RNN_BiLSTM,\n",
        "                     objective='loss',\n",
        "                     max_trials=10,\n",
        "                     seed=0,\n",
        "                     overwrite=True,\n",
        "                     directory='dir',\n",
        "                     project_name='x')\n",
        "\n",
        "# early stopping\n",
        "stop_early = EarlyStopping(monitor='val_loss', patience=2)\n",
        "\n",
        "tuner_RNN_LSTM.search(train_X_PS_2D, train_Y_encoded, validation_data=(dev_X_PS_2D, dev_Y_encoded), callbacks=[stop_early])"
      ]
    },
    {
      "cell_type": "code",
      "execution_count": null,
      "id": "30c9db90-c8e9-4daa-85ac-9ef526a0dd5f",
      "metadata": {
        "id": "30c9db90-c8e9-4daa-85ac-9ef526a0dd5f",
        "outputId": "8709fe62-33b6-43a4-f61a-f04ca07e0248"
      },
      "outputs": [
        {
          "name": "stdout",
          "output_type": "stream",
          "text": [
            "WARNING:tensorflow:Detecting that an object or model or tf.train.Checkpoint is being deleted with unrestored values. See the following logs for the specific values in question. To silence these warnings, use `status.expect_partial()`. See https://www.tensorflow.org/api_docs/python/tf/train/Checkpoint#restorefor details about the status object returned by the restore function.\n",
            "WARNING:tensorflow:Value in checkpoint could not be found in the restored object: (root).optimizer.iter\n",
            "WARNING:tensorflow:Value in checkpoint could not be found in the restored object: (root).optimizer.beta_1\n",
            "WARNING:tensorflow:Value in checkpoint could not be found in the restored object: (root).optimizer.beta_2\n",
            "WARNING:tensorflow:Value in checkpoint could not be found in the restored object: (root).optimizer.decay\n",
            "WARNING:tensorflow:Value in checkpoint could not be found in the restored object: (root).optimizer.learning_rate\n",
            "Model: \"sequential\"\n",
            "_________________________________________________________________\n",
            " Layer (type)                Output Shape              Param #   \n",
            "=================================================================\n",
            " embedding (Embedding)       (None, None, 300)         2787900   \n",
            "                                                                 \n",
            " dropout (Dropout)           (None, None, 300)         0         \n",
            "                                                                 \n",
            " bidirectional (Bidirectiona  (None, None, 2)          2416      \n",
            " l)                                                              \n",
            "                                                                 \n",
            " dropout_1 (Dropout)         (None, None, 2)           0         \n",
            "                                                                 \n",
            " bidirectional_1 (Bidirectio  (None, 802)              1296032   \n",
            " nal)                                                            \n",
            "                                                                 \n",
            " dense (Dense)               (None, 3)                 2409      \n",
            "                                                                 \n",
            "=================================================================\n",
            "Total params: 4,088,757\n",
            "Trainable params: 1,300,857\n",
            "Non-trainable params: 2,787,900\n",
            "_________________________________________________________________\n"
          ]
        },
        {
          "data": {
            "text/plain": [
              "{'dropout_rate_1': 0.6,\n",
              " 'layer_1': 1,\n",
              " 'activation_1': 'relu',\n",
              " 'dropout': True,\n",
              " 'dropout_rate_2': 0.25,\n",
              " 'layer_2': 401,\n",
              " 'activation_2': 'tanh',\n",
              " 'optimizer': 'Adam',\n",
              " 'learning_rate': 0.0001,\n",
              " 'batch_size': 64}"
            ]
          },
          "execution_count": 140,
          "metadata": {},
          "output_type": "execute_result"
        }
      ],
      "source": [
        "# get the best model\n",
        "best_model = tuner_RNN_LSTM.get_best_models(num_models=1)[0]\n",
        "best_model.summary()\n",
        "\n",
        "# Get the optimal hyperparameters\n",
        "best_hps=tuner_RNN_LSTM.get_best_hyperparameters(num_trials=1)[0].values\n",
        "best_hps"
      ]
    },
    {
      "cell_type": "code",
      "execution_count": null,
      "id": "b5c46bf7-7e31-4d33-8434-2e3c9635551f",
      "metadata": {
        "id": "b5c46bf7-7e31-4d33-8434-2e3c9635551f",
        "outputId": "63f52136-9dd5-42e6-b113-06dfb326c276"
      },
      "outputs": [
        {
          "name": "stdout",
          "output_type": "stream",
          "text": [
            "Model: \"sequential_1\"\n",
            "_________________________________________________________________\n",
            " Layer (type)                Output Shape              Param #   \n",
            "=================================================================\n",
            " embedding_1 (Embedding)     (None, None, 300)         2787900   \n",
            "                                                                 \n",
            " dropout_2 (Dropout)         (None, None, 300)         0         \n",
            "                                                                 \n",
            " bidirectional_2 (Bidirectio  (None, None, 2)          2416      \n",
            " nal)                                                            \n",
            "                                                                 \n",
            " dropout_3 (Dropout)         (None, None, 2)           0         \n",
            "                                                                 \n",
            " bidirectional_3 (Bidirectio  (None, 802)              1296032   \n",
            " nal)                                                            \n",
            "                                                                 \n",
            " dense_1 (Dense)             (None, 3)                 2409      \n",
            "                                                                 \n",
            "=================================================================\n",
            "Total params: 4,088,757\n",
            "Trainable params: 1,300,857\n",
            "Non-trainable params: 2,787,900\n",
            "_________________________________________________________________\n"
          ]
        }
      ],
      "source": [
        "# create RNN (LSTM) model With Google Word2Vec Embedding Initialization with optimal hyperparameters\n",
        "RNN_LSTM_google = Sequential()\n",
        "RNN_LSTM_google.add(Embedding(len(vocab) + 1, 300, weights=[embedding_matrix], trainable=False))\n",
        "RNN_LSTM_google.add(Dropout(0.6))\n",
        "RNN_LSTM_google.add(Bidirectional(LSTM(1,return_sequences=True, activation='relu')))\n",
        "RNN_LSTM_google.add(Dropout(0.25))\n",
        "RNN_LSTM_google.add(Bidirectional(LSTM(401, activation='tanh')))\n",
        "RNN_LSTM_google.add(Dense(3,activation='softmax'))\n",
        "RNN_LSTM_google.compile(optimizer=Adam(learning_rate=0.0001), loss=\"binary_crossentropy\", metrics=[\"accuracy\"])\n",
        "RNN_LSTM_google.summary()"
      ]
    },
    {
      "cell_type": "code",
      "execution_count": null,
      "id": "7fbdde28-8e47-465c-84cd-a60a4e140af2",
      "metadata": {
        "id": "7fbdde28-8e47-465c-84cd-a60a4e140af2",
        "outputId": "80fb8507-5c5d-4049-daf4-6e546db8d9dd"
      },
      "outputs": [
        {
          "name": "stdout",
          "output_type": "stream",
          "text": [
            "Epoch 1/15\n",
            "184/184 [==============================] - 117s 595ms/step - loss: 0.5561 - accuracy: 0.6213 - val_loss: 0.5274 - val_accuracy: 0.6264\n",
            "Epoch 2/15\n",
            "184/184 [==============================] - 131s 711ms/step - loss: 0.5190 - accuracy: 0.6269 - val_loss: 0.5186 - val_accuracy: 0.6264\n",
            "Epoch 3/15\n",
            "184/184 [==============================] - 130s 704ms/step - loss: 0.5068 - accuracy: 0.6279 - val_loss: 0.5074 - val_accuracy: 0.6279\n",
            "Epoch 4/15\n",
            "184/184 [==============================] - 130s 705ms/step - loss: 0.4973 - accuracy: 0.6393 - val_loss: 0.5076 - val_accuracy: 0.6340\n",
            "Epoch 5/15\n",
            "184/184 [==============================] - 132s 716ms/step - loss: 0.4906 - accuracy: 0.6389 - val_loss: 0.5062 - val_accuracy: 0.6416\n",
            "Epoch 6/15\n",
            "184/184 [==============================] - 128s 697ms/step - loss: 0.4838 - accuracy: 0.6432 - val_loss: 0.5062 - val_accuracy: 0.6446\n",
            "Epoch 7/15\n",
            "184/184 [==============================] - 107s 580ms/step - loss: 0.4782 - accuracy: 0.6476 - val_loss: 0.5084 - val_accuracy: 0.6386\n",
            "Epoch 8/15\n",
            "184/184 [==============================] - 115s 623ms/step - loss: 0.4769 - accuracy: 0.6465 - val_loss: 0.5090 - val_accuracy: 0.6348\n",
            "Epoch 9/15\n",
            "184/184 [==============================] - 106s 577ms/step - loss: 0.4718 - accuracy: 0.6488 - val_loss: 0.5087 - val_accuracy: 0.6469\n",
            "Epoch 10/15\n",
            "184/184 [==============================] - 110s 602ms/step - loss: 0.4700 - accuracy: 0.6531 - val_loss: 0.5092 - val_accuracy: 0.6340\n",
            "Epoch 11/15\n",
            "184/184 [==============================] - 118s 639ms/step - loss: 0.4658 - accuracy: 0.6542 - val_loss: 0.5116 - val_accuracy: 0.6355\n",
            "Epoch 12/15\n",
            "184/184 [==============================] - 110s 596ms/step - loss: 0.4620 - accuracy: 0.6590 - val_loss: 0.5116 - val_accuracy: 0.6424\n",
            "Epoch 13/15\n",
            "184/184 [==============================] - 113s 615ms/step - loss: 0.4613 - accuracy: 0.6636 - val_loss: 0.5086 - val_accuracy: 0.6363\n",
            "Epoch 14/15\n",
            "184/184 [==============================] - 106s 575ms/step - loss: 0.4609 - accuracy: 0.6612 - val_loss: 0.5064 - val_accuracy: 0.6393\n",
            "Epoch 15/15\n",
            "184/184 [==============================] - 117s 634ms/step - loss: 0.4585 - accuracy: 0.6642 - val_loss: 0.5092 - val_accuracy: 0.6340\n"
          ]
        },
        {
          "data": {
            "text/plain": [
              "<keras.callbacks.History at 0x25d9cd23940>"
            ]
          },
          "execution_count": 143,
          "metadata": {},
          "output_type": "execute_result"
        }
      ],
      "source": [
        "# train RNN LSTM using lemmatize training data\n",
        "random.seed(0)\n",
        "tf.random.set_seed(0)\n",
        "RNN_LSTM_google.fit(train_X_PS_2D, train_Y_encoded, validation_data=(dev_X_PS_2D, dev_Y_encoded), epochs=15, batch_size=64, verbose=1, callbacks=[stop_early])"
      ]
    },
    {
      "cell_type": "code",
      "execution_count": null,
      "id": "e9a4d8bb-c2c9-42f2-a35f-d357ba15fcb0",
      "metadata": {
        "id": "e9a4d8bb-c2c9-42f2-a35f-d357ba15fcb0",
        "outputId": "038555f1-f0e1-4fcf-eb00-c23d7516cb4e"
      },
      "outputs": [
        {
          "name": "stdout",
          "output_type": "stream",
          "text": [
            "46/46 [==============================] - 2s 18ms/step\n",
            "The accuracy is: 0.5374570446735395\n",
            "The f-1 score is :\n",
            " [0.75603493 0.         0.28482972]\n",
            "Confusion Matrix:\n",
            " [[892   0  22]\n",
            " [286   0  23]\n",
            " [186   0  46]]\n"
          ]
        }
      ],
      "source": [
        "# generate predictions for test data set RNN_LSTM\n",
        "y_pred_test_encoded = (RNN_LSTM_google.predict(test_X_PS_2D)> 0.5).astype(\"int32\")\n",
        "y_pred_test = np.array(tf.argmax(y_pred_test_encoded, axis=1))\n",
        "\n",
        "# calculating accuracy score and confusion matrix\n",
        "accuracy = accuracy_score(test_Y_encoded, y_pred_test_encoded)\n",
        "print(\"The accuracy is:\", accuracy)\n",
        "\n",
        "f1 = f1_score(test_Y_encoded, y_pred_test_encoded, average=None)\n",
        "print(\"The f-1 score is :\\n\",f1)\n",
        "\n",
        "ConfusionMatrix = confusion_matrix(test_Y_label, y_pred_test)\n",
        "print(\"Confusion Matrix:\\n\",ConfusionMatrix)"
      ]
    },
    {
      "cell_type": "code",
      "execution_count": null,
      "id": "7c424bd4-15cc-4d94-b6bb-e186b0db30c0",
      "metadata": {
        "id": "7c424bd4-15cc-4d94-b6bb-e186b0db30c0",
        "outputId": "6d954c97-1f67-49bc-8295-da3da7a28ab6"
      },
      "outputs": [
        {
          "name": "stdout",
          "output_type": "stream",
          "text": [
            "368/368 [==============================] - 7s 18ms/step\n",
            "The accuracy is: 0.5870655222231664\n",
            "The f-1 score is :\n",
            " [0.82077008 0.         0.41683778]\n",
            "Confusion Matrix:\n",
            " [[7261    0  116]\n",
            " [2193    0  298]\n",
            " [1290    0  609]]\n"
          ]
        }
      ],
      "source": [
        "# generate predictions for train data set RNN_LSTM\n",
        "y_pred_train_encoded = (RNN_LSTM_google.predict(train_X_PS_2D)> 0.5).astype(\"int32\")\n",
        "y_pred_train = np.array(tf.argmax(y_pred_train_encoded, axis=1))\n",
        "\n",
        "# calculating accuracy score and confusion matrix\n",
        "accuracy = accuracy_score(train_Y_encoded, y_pred_train_encoded)\n",
        "print(\"The accuracy is:\", accuracy)\n",
        "\n",
        "f1 = f1_score(train_Y_encoded, y_pred_train_encoded, average=None)\n",
        "print(\"The f-1 score is :\\n\",f1)\n",
        "\n",
        "ConfusionMatrix = confusion_matrix(train_Y_label, y_pred_train)\n",
        "print(\"Confusion Matrix:\\n\",ConfusionMatrix)"
      ]
    },
    {
      "cell_type": "code",
      "execution_count": null,
      "id": "222bc4dd-8ed0-4679-8e20-81793126ada0",
      "metadata": {
        "id": "222bc4dd-8ed0-4679-8e20-81793126ada0",
        "outputId": "76398c1e-665a-4ac4-895d-ea26a32d8e4b"
      },
      "outputs": [
        {
          "name": "stdout",
          "output_type": "stream",
          "text": [
            "42/42 [==============================] - 1s 16ms/step\n",
            "The accuracy is: 0.55125284738041\n",
            "The f-1 score is :\n",
            " [0.77709152 0.         0.23448276]\n",
            "Confusion Matrix:\n",
            " [[805   0  20]\n",
            " [256   0  23]\n",
            " [179   0  34]]\n"
          ]
        }
      ],
      "source": [
        "# generate predictions for dev data set RNN_LSTM\n",
        "y_pred_dev_encoded = (RNN_LSTM_google.predict(dev_X_PS_2D)> 0.5).astype(\"int32\")\n",
        "y_pred_dev = np.array(tf.argmax(y_pred_dev_encoded, axis=1))\n",
        "\n",
        "# calculating accuracy score and confusion matrix\n",
        "accuracy = accuracy_score(dev_Y_encoded, y_pred_dev_encoded)\n",
        "print(\"The accuracy is:\", accuracy)\n",
        "\n",
        "f1 = f1_score(dev_Y_encoded, y_pred_dev_encoded, average=None)\n",
        "print(\"The f-1 score is :\\n\",f1)\n",
        "\n",
        "ConfusionMatrix = confusion_matrix(dev_Y_label, y_pred_dev)\n",
        "print(\"Confusion Matrix:\\n\",ConfusionMatrix)"
      ]
    },
    {
      "cell_type": "markdown",
      "id": "3adc0a2d-f33c-4ef4-8cda-4734e53ba619",
      "metadata": {
        "id": "3adc0a2d-f33c-4ef4-8cda-4734e53ba619"
      },
      "source": [
        "### 4.1.4 RNN Bi-LSTM\n",
        "Embedding: Google Word2Vec  \n",
        "Normalisation: Lancaster Stemming"
      ]
    },
    {
      "cell_type": "code",
      "execution_count": null,
      "id": "9ae537fd-1e68-47e1-8de7-32d073cfc6a2",
      "metadata": {
        "id": "9ae537fd-1e68-47e1-8de7-32d073cfc6a2",
        "outputId": "93fa1583-d556-4416-d7db-0190630d072f"
      },
      "outputs": [
        {
          "name": "stdout",
          "output_type": "stream",
          "text": [
            "Converted 8506 words (4492 misses)\n"
          ]
        }
      ],
      "source": [
        "# preprocessing of train data\n",
        "train_amended = train_unique.copy()\n",
        "train_amended = preprocess(train_amended)\n",
        "train_amended = remove_stopwords(train_amended)\n",
        "train_X, train_Y = split_X_Y(train_amended)\n",
        "train_X_token = tokenize_tweet(train_X)\n",
        "train_X_LS = stem_data(train_X_token, method=\"Lancaster\")\n",
        "\n",
        "# longest tweet\n",
        "max_len = np.max([len(text.split()) for text in train_X_LS])\n",
        "\n",
        "train_X_LS_2D = tweets_2DArrays(train_X_LS, max_words=10000, max_len=max_len)\n",
        "\n",
        "\n",
        "# creating embedding matrix from training data\n",
        "embedding_matrix, vocab = create_embedding_matrix(train_X_LS, num_words=10000, embedding_dim=300, max_len=max_len)\n",
        "\n",
        "# preprocessing of test data\n",
        "test_amended = test_unique.copy()\n",
        "test_amended = preprocess(test_amended)\n",
        "test_amended = remove_stopwords(test_amended)\n",
        "test_X, test_Y = split_X_Y(test_amended)\n",
        "test_X_token = tokenize_tweet(test_X)\n",
        "test_X_LS = stem_data(test_X_token, method=\"Lancaster\")\n",
        "test_X_LS_2D = tweets_2DArrays(test_X_LS, max_words=10000, max_len=max_len)\n",
        "\n",
        "# preprocessing of dev data\n",
        "dev_amended = dev_unique.copy()\n",
        "dev_amended = preprocess(dev_amended)\n",
        "dev_amended = remove_stopwords(dev_amended)\n",
        "dev_X, dev_Y = split_X_Y(dev_amended)\n",
        "dev_X_token = tokenize_tweet(dev_X)\n",
        "dev_X_LS = stem_data(dev_X_token, method=\"Lancaster\")\n",
        "dev_X_LS_2D = tweets_2DArrays(dev_X_LS, max_words=10000, max_len=max_len)\n",
        "\n",
        "# convert airline_sentiment to numeric\n",
        "train_Y_label, test_Y_label, dev_Y_label = numeric_labels(train_Y, test_Y, dev_Y)\n",
        "\n",
        "# One-Hot Encoding of the labels\n",
        "train_Y_encoded = np_utils.to_categorical(train_Y_label)\n",
        "test_Y_encoded = np_utils.to_categorical(test_Y_label)\n",
        "dev_Y_encoded = np_utils.to_categorical(dev_Y_label)"
      ]
    },
    {
      "cell_type": "code",
      "execution_count": null,
      "id": "32232be8-549c-40e6-bb9d-f450dc089349",
      "metadata": {
        "id": "32232be8-549c-40e6-bb9d-f450dc089349",
        "outputId": "6bd7275c-a0b5-4410-91bb-ec4d73b1221d"
      },
      "outputs": [
        {
          "name": "stdout",
          "output_type": "stream",
          "text": [
            "Trial 10 Complete [00h 03m 14s]\n",
            "loss: 0.47039926052093506\n",
            "\n",
            "Best loss So Far: 0.44541463255882263\n",
            "Total elapsed time: 00h 24m 37s\n",
            "INFO:tensorflow:Oracle triggered exit\n"
          ]
        }
      ],
      "source": [
        "# hyper parameter tuning\n",
        "tuner_RNN_LSTM = kt.BayesianOptimization(hyperparameter_RNN_BiLSTM,\n",
        "                     objective='loss',\n",
        "                     max_trials=10,\n",
        "                     seed=0,\n",
        "                     overwrite=True,\n",
        "                     directory='dir',\n",
        "                     project_name='x')\n",
        "\n",
        "# early stopping\n",
        "stop_early = EarlyStopping(monitor='val_loss', patience=2)\n",
        "\n",
        "tuner_RNN_LSTM.search(train_X_LS_2D, train_Y_encoded, validation_data=(dev_X_LS_2D, dev_Y_encoded), callbacks=[stop_early])"
      ]
    },
    {
      "cell_type": "code",
      "execution_count": null,
      "id": "e9ff1639-d74b-4d95-b0d0-74e8a22bad68",
      "metadata": {
        "id": "e9ff1639-d74b-4d95-b0d0-74e8a22bad68",
        "outputId": "60057c78-27a9-4639-e75f-2789ea40831f"
      },
      "outputs": [
        {
          "name": "stdout",
          "output_type": "stream",
          "text": [
            "WARNING:tensorflow:Detecting that an object or model or tf.train.Checkpoint is being deleted with unrestored values. See the following logs for the specific values in question. To silence these warnings, use `status.expect_partial()`. See https://www.tensorflow.org/api_docs/python/tf/train/Checkpoint#restorefor details about the status object returned by the restore function.\n",
            "WARNING:tensorflow:Value in checkpoint could not be found in the restored object: (root).optimizer.iter\n",
            "WARNING:tensorflow:Value in checkpoint could not be found in the restored object: (root).optimizer.beta_1\n",
            "WARNING:tensorflow:Value in checkpoint could not be found in the restored object: (root).optimizer.beta_2\n",
            "WARNING:tensorflow:Value in checkpoint could not be found in the restored object: (root).optimizer.decay\n",
            "WARNING:tensorflow:Value in checkpoint could not be found in the restored object: (root).optimizer.learning_rate\n",
            "Model: \"sequential\"\n",
            "_________________________________________________________________\n",
            " Layer (type)                Output Shape              Param #   \n",
            "=================================================================\n",
            " embedding (Embedding)       (None, None, 300)         2552100   \n",
            "                                                                 \n",
            " dropout (Dropout)           (None, None, 300)         0         \n",
            "                                                                 \n",
            " bidirectional (Bidirectiona  (None, None, 802)        2252016   \n",
            " l)                                                              \n",
            "                                                                 \n",
            " bidirectional_1 (Bidirectio  (None, 802)              3862432   \n",
            " nal)                                                            \n",
            "                                                                 \n",
            " dense (Dense)               (None, 3)                 2409      \n",
            "                                                                 \n",
            "=================================================================\n",
            "Total params: 8,668,957\n",
            "Trainable params: 6,116,857\n",
            "Non-trainable params: 2,552,100\n",
            "_________________________________________________________________\n"
          ]
        },
        {
          "data": {
            "text/plain": [
              "{'dropout_rate_1': 0.25,\n",
              " 'layer_1': 401,\n",
              " 'activation_1': 'tanh',\n",
              " 'dropout': False,\n",
              " 'dropout_rate_2': 0.75,\n",
              " 'layer_2': 401,\n",
              " 'activation_2': 'tanh',\n",
              " 'optimizer': 'Adam',\n",
              " 'learning_rate': 0.0001,\n",
              " 'batch_size': 16}"
            ]
          },
          "execution_count": 150,
          "metadata": {},
          "output_type": "execute_result"
        }
      ],
      "source": [
        "# get the best model\n",
        "best_model = tuner_RNN_LSTM.get_best_models(num_models=1)[0]\n",
        "best_model.summary()\n",
        "\n",
        "# Get the optimal hyperparameters\n",
        "best_hps=tuner_RNN_LSTM.get_best_hyperparameters(num_trials=1)[0].values\n",
        "best_hps"
      ]
    },
    {
      "cell_type": "code",
      "execution_count": null,
      "id": "71672940-baed-4f84-b25a-5892aa4be273",
      "metadata": {
        "id": "71672940-baed-4f84-b25a-5892aa4be273",
        "outputId": "4332954b-be4c-4fd7-8aa5-64fa031bedbd"
      },
      "outputs": [
        {
          "name": "stdout",
          "output_type": "stream",
          "text": [
            "Model: \"sequential_1\"\n",
            "_________________________________________________________________\n",
            " Layer (type)                Output Shape              Param #   \n",
            "=================================================================\n",
            " embedding_1 (Embedding)     (None, None, 300)         2552100   \n",
            "                                                                 \n",
            " dropout_1 (Dropout)         (None, None, 300)         0         \n",
            "                                                                 \n",
            " bidirectional_2 (Bidirectio  (None, None, 802)        2252016   \n",
            " nal)                                                            \n",
            "                                                                 \n",
            " bidirectional_3 (Bidirectio  (None, 802)              3862432   \n",
            " nal)                                                            \n",
            "                                                                 \n",
            " dense_1 (Dense)             (None, 3)                 2409      \n",
            "                                                                 \n",
            "=================================================================\n",
            "Total params: 8,668,957\n",
            "Trainable params: 6,116,857\n",
            "Non-trainable params: 2,552,100\n",
            "_________________________________________________________________\n"
          ]
        }
      ],
      "source": [
        "# create RNN (LSTM) model With Google Word2Vec Embedding Initialization with optimal hyperparameters\n",
        "RNN_LSTM_google = Sequential()\n",
        "RNN_LSTM_google.add(Embedding(len(vocab) + 1, 300, weights=[embedding_matrix], trainable=False))\n",
        "RNN_LSTM_google.add(Dropout(0.25))\n",
        "RNN_LSTM_google.add(Bidirectional(LSTM(401,return_sequences=True, activation='tanh')))\n",
        "RNN_LSTM_google.add(Bidirectional(LSTM(401, activation='tanh')))\n",
        "RNN_LSTM_google.add(Dense(3,activation='softmax'))\n",
        "RNN_LSTM_google.compile(optimizer=Adam(learning_rate=0.0001), loss=\"binary_crossentropy\", metrics=[\"accuracy\"])\n",
        "RNN_LSTM_google.summary()"
      ]
    },
    {
      "cell_type": "code",
      "execution_count": null,
      "id": "28623fcb-b8a6-426b-8bce-bc17d3921035",
      "metadata": {
        "id": "28623fcb-b8a6-426b-8bce-bc17d3921035",
        "outputId": "f0355442-3c9d-47cc-cb47-43c99b5bcb9f"
      },
      "outputs": [
        {
          "name": "stdout",
          "output_type": "stream",
          "text": [
            "Epoch 1/15\n",
            "736/736 [==============================] - 318s 426ms/step - loss: 0.4373 - accuracy: 0.6944 - val_loss: 0.4905 - val_accuracy: 0.6682\n",
            "Epoch 2/15\n",
            "736/736 [==============================] - 352s 478ms/step - loss: 0.3952 - accuracy: 0.7281 - val_loss: 0.5007 - val_accuracy: 0.6773\n",
            "Epoch 3/15\n",
            "736/736 [==============================] - 346s 470ms/step - loss: 0.3825 - accuracy: 0.7386 - val_loss: 0.5144 - val_accuracy: 0.6697\n"
          ]
        },
        {
          "data": {
            "text/plain": [
              "<keras.callbacks.History at 0x25cab22e4c0>"
            ]
          },
          "execution_count": 152,
          "metadata": {},
          "output_type": "execute_result"
        }
      ],
      "source": [
        "# train RNN LSTM using lemmatize training data\n",
        "random.seed(0)\n",
        "tf.random.set_seed(0)\n",
        "RNN_LSTM_google.fit(train_X_LS_2D, train_Y_encoded, validation_data=(dev_X_LS_2D, dev_Y_encoded), epochs=15, batch_size=16, verbose=1, callbacks=[stop_early])"
      ]
    },
    {
      "cell_type": "code",
      "execution_count": null,
      "id": "f11a0673-8396-450a-9511-78f063ee9af6",
      "metadata": {
        "id": "f11a0673-8396-450a-9511-78f063ee9af6",
        "outputId": "35038e44-879c-40ea-e64f-d319e1c7df88"
      },
      "outputs": [
        {
          "name": "stdout",
          "output_type": "stream",
          "text": [
            "46/46 [==============================] - 2s 47ms/step\n",
            "The accuracy is: 0.6419243986254296\n",
            "The f-1 score is :\n",
            " [0.78604651 0.13231552 0.39375   ]\n",
            "Confusion Matrix:\n",
            " [[862  40  12]\n",
            " [270  26  13]\n",
            " [151  18  63]]\n"
          ]
        }
      ],
      "source": [
        "# generate predictions for test data set RNN_LSTM\n",
        "y_pred_test_encoded = (RNN_LSTM_google.predict(test_X_LS_2D)> 0.5).astype(\"int32\")\n",
        "y_pred_test = np.array(tf.argmax(y_pred_test_encoded, axis=1))\n",
        "\n",
        "# calculating accuracy score and confusion matrix\n",
        "accuracy = accuracy_score(test_Y_encoded, y_pred_test_encoded)\n",
        "print(\"The accuracy is:\", accuracy)\n",
        "\n",
        "f1 = f1_score(test_Y_encoded, y_pred_test_encoded, average=None)\n",
        "print(\"The f-1 score is :\\n\",f1)\n",
        "\n",
        "ConfusionMatrix = confusion_matrix(test_Y_label, y_pred_test)\n",
        "print(\"Confusion Matrix:\\n\",ConfusionMatrix)"
      ]
    },
    {
      "cell_type": "code",
      "execution_count": null,
      "id": "4b44813e-555c-48a8-8ae2-aa129c737c00",
      "metadata": {
        "id": "4b44813e-555c-48a8-8ae2-aa129c737c00",
        "outputId": "6d1a8aa5-9175-48f9-deda-82571b46f22f"
      },
      "outputs": [
        {
          "name": "stdout",
          "output_type": "stream",
          "text": [
            "368/368 [==============================] - 16s 42ms/step\n",
            "The accuracy is: 0.720234554261919\n",
            "The f-1 score is :\n",
            " [0.84292155 0.4286892  0.50275634]\n",
            "Confusion Matrix:\n",
            " [[7121  200   56]\n",
            " [1629  780   82]\n",
            " [1047  168  684]]\n"
          ]
        }
      ],
      "source": [
        "# generate predictions for train data set RNN_LSTM\n",
        "y_pred_train_encoded = (RNN_LSTM_google.predict(train_X_LS_2D)> 0.5).astype(\"int32\")\n",
        "y_pred_train = np.array(tf.argmax(y_pred_train_encoded, axis=1))\n",
        "\n",
        "# calculating accuracy score and confusion matrix\n",
        "accuracy = accuracy_score(train_Y_encoded, y_pred_train_encoded)\n",
        "print(\"The accuracy is:\", accuracy)\n",
        "\n",
        "f1 = f1_score(train_Y_encoded, y_pred_train_encoded, average=None)\n",
        "print(\"The f-1 score is :\\n\",f1)\n",
        "\n",
        "ConfusionMatrix = confusion_matrix(train_Y_label, y_pred_train)\n",
        "print(\"Confusion Matrix:\\n\",ConfusionMatrix)"
      ]
    },
    {
      "cell_type": "code",
      "execution_count": null,
      "id": "751024af-ef71-4d65-a2f1-5439f08d32bb",
      "metadata": {
        "id": "751024af-ef71-4d65-a2f1-5439f08d32bb",
        "outputId": "34370b4d-14a0-449f-e2ef-f98345a06f94"
      },
      "outputs": [
        {
          "name": "stdout",
          "output_type": "stream",
          "text": [
            "42/42 [==============================] - 2s 42ms/step\n",
            "The accuracy is: 0.6522399392558846\n",
            "The f-1 score is :\n",
            " [0.79053011 0.18941504 0.39721254]\n",
            "Confusion Matrix:\n",
            " [[779  35  11]\n",
            " [239  34   6]\n",
            " [145  11  57]]\n"
          ]
        }
      ],
      "source": [
        "# generate predictions for dev data set RNN_LSTM\n",
        "y_pred_dev_encoded = (RNN_LSTM_google.predict(dev_X_LS_2D)> 0.5).astype(\"int32\")\n",
        "y_pred_dev = np.array(tf.argmax(y_pred_dev_encoded, axis=1))\n",
        "\n",
        "# calculating accuracy score and confusion matrix\n",
        "accuracy = accuracy_score(dev_Y_encoded, y_pred_dev_encoded)\n",
        "print(\"The accuracy is:\", accuracy)\n",
        "\n",
        "f1 = f1_score(dev_Y_encoded, y_pred_dev_encoded, average=None)\n",
        "print(\"The f-1 score is :\\n\",f1)\n",
        "\n",
        "ConfusionMatrix = confusion_matrix(dev_Y_label, y_pred_dev)\n",
        "print(\"Confusion Matrix:\\n\",ConfusionMatrix)"
      ]
    },
    {
      "cell_type": "markdown",
      "id": "71414ad7-a49d-44b3-a825-cc2d7c81859a",
      "metadata": {
        "id": "71414ad7-a49d-44b3-a825-cc2d7c81859a"
      },
      "source": [
        "## 4.2 Model: RNN (LSTM)  \n",
        "Embedding: Own Word2vec embedding matrix  \n",
        "Algorithm: Skip Gram Algorithm"
      ]
    },
    {
      "cell_type": "code",
      "execution_count": null,
      "id": "42079b9a-9a30-49c2-ab67-dbab52e7c199",
      "metadata": {
        "id": "42079b9a-9a30-49c2-ab67-dbab52e7c199"
      },
      "outputs": [],
      "source": [
        "def create_own_embedding_matrix(train_dataset, model, num_words=5000, embedding_dim=300, max_len=34):\n",
        "    # create vocabulary with respective index:\n",
        "    tokenizer = Tokenizer(num_words=num_words) # tokenizer considering only max_words top words\n",
        "    tokenizer.fit_on_texts(train_dataset) # build the word index\n",
        "    sequences = tokenizer.texts_to_sequences(train_dataset) # turns strings into a series of numbers\n",
        "    tweets = keras.preprocessing.sequence.pad_sequences(sequences, maxlen=max_len)\n",
        "    word_index = tokenizer.word_index # vocabulary and index\n",
        "\n",
        "    # create embedding matrix:\n",
        "    num_tokens = len(word_index) + 1\n",
        "    hits = 0\n",
        "    misses = 0\n",
        "\n",
        "    embedding_matrix = np.zeros((num_tokens, embedding_dim))\n",
        "    for word, i in word_index.items():\n",
        "        try:\n",
        "            embedding_vector = model.wv[word]\n",
        "        except:\n",
        "            misses += 1\n",
        "            pass\n",
        "        if embedding_vector is not None:\n",
        "            embedding_matrix[i] = embedding_vector\n",
        "            hits += 1\n",
        "    print(\"Converted %d words (%d misses)\" % (hits, misses))\n",
        "    return embedding_matrix, word_index"
      ]
    },
    {
      "cell_type": "code",
      "execution_count": null,
      "id": "dd422ec8-9ae8-41ae-8db2-a8e04c1f6894",
      "metadata": {
        "id": "dd422ec8-9ae8-41ae-8db2-a8e04c1f6894"
      },
      "outputs": [],
      "source": [
        "# function to create own Word2vec\n",
        "def create_Word2vec(tokenised_dataset, size=300, window=3, min_count=1, workers=3, sg=1):\n",
        "    tokens_series = pd.Series(tokenised_dataset).values\n",
        "    # Train the Word2Vec Model\n",
        "    model = Word2Vec(tokens_series, min_count=min_count, vector_size=size, workers=workers, window=window, sg=sg, compute_loss=True)\n",
        "    # vocabulary size\n",
        "    words = model.wv.index_to_key\n",
        "    return model, words"
      ]
    },
    {
      "cell_type": "code",
      "execution_count": null,
      "id": "a641356c-65a5-452c-8d8a-37301f9adca0",
      "metadata": {
        "id": "a641356c-65a5-452c-8d8a-37301f9adca0"
      },
      "outputs": [],
      "source": [
        "def hyperparameter_RNN_BiLSTM_own(hp):\n",
        "    # define hyperparameters and their respective range of values\n",
        "\n",
        "    # dropout layer 1\n",
        "    hp_dropout_rate_1 = hp.Choice('dropout_rate_1', values=[0.25, 0.5, 0.6, 0.75])\n",
        "\n",
        "    # hidden layer 1\n",
        "    hp_layer_1 = hp.Int('layer_1', min_value=100, max_value=500, step=100)\n",
        "    hp_activation_1 = hp.Choice('activation_1', values=['relu', 'tanh', 'sigmoid'])\n",
        "\n",
        "    # dropout layer 2\n",
        "    hp_dropout_2 = hp.Boolean(\"dropout\")\n",
        "    hp_dropout_rate_2 = hp.Choice('dropout_rate_2', values=[0.25, 0.5, 0.6, 0.75])\n",
        "\n",
        "    # hidden layer 2\n",
        "    hp_layer_2 = hp.Int('layer_2', min_value=100, max_value=500, step=100)\n",
        "    hp_activation_2 = hp.Choice('activation_2', values=['relu', 'tanh', 'sigmoid'])\n",
        "\n",
        "    # compilation\n",
        "    hp_optimizer = hp.Choice('optimizer', values=['SGD','Adam'])\n",
        "    hp_learning_rate = hp.Choice('learning_rate', values=[1e-2, 1e-3, 1e-4])\n",
        "    hp_batch_size = hp.Choice('batch_size', values=[16,32,64])\n",
        "\n",
        "    if hp_optimizer == 'SGD':\n",
        "        opt = SGD(learning_rate=hp_learning_rate)\n",
        "    elif hp_optimizer == 'Adam':\n",
        "        opt = Adam(learning_rate=hp_learning_rate)\n",
        "\n",
        "    # define RNN model\n",
        "    model=Sequential()\n",
        "    model.add(Embedding(len(vocab) + 1, 300, weights=[own_embedding_matrix], trainable=False))\n",
        "    model.add(Dropout(rate=hp_dropout_rate_1))\n",
        "    model.add(Bidirectional(LSTM(hp_layer_1, return_sequences=True, activation=hp_activation_1)))\n",
        "    if hp_dropout_2==True:\n",
        "        model.add(Dropout(rate=hp_dropout_rate_2))\n",
        "    model.add(Bidirectional((LSTM(hp_layer_2, activation=hp_activation_2))))\n",
        "    model.add(Dense(3, activation='softmax'))\n",
        "\n",
        "    model.compile(optimizer=opt, loss=\"binary_crossentropy\", metrics=[\"accuracy\"])\n",
        "\n",
        "    return model"
      ]
    },
    {
      "cell_type": "markdown",
      "id": "f2fe9f54-4cfc-40a5-a306-5cc452a563d7",
      "metadata": {
        "id": "f2fe9f54-4cfc-40a5-a306-5cc452a563d7"
      },
      "source": [
        "### 4.2.1 RNN Bi-LSTM  \n",
        "Embedding: Own embedding matrix  \n",
        "Algorithm: Skip Gram Algorithm  \n",
        "Normalisation: N/A"
      ]
    },
    {
      "cell_type": "code",
      "execution_count": null,
      "id": "9c858209-d366-4b31-a699-fbd96b8c8346",
      "metadata": {
        "id": "9c858209-d366-4b31-a699-fbd96b8c8346",
        "outputId": "3a065722-c6e6-4f61-c36b-8cbb68b32e57"
      },
      "outputs": [
        {
          "name": "stdout",
          "output_type": "stream",
          "text": [
            "Converted 11709 words (92 misses)\n"
          ]
        }
      ],
      "source": [
        "# preprocessing of train data\n",
        "train_amended = train_unique.copy()\n",
        "train_amended = preprocess(train_amended)\n",
        "train_amended = remove_stopwords(train_amended)\n",
        "train_X, train_Y = split_X_Y(train_amended)\n",
        "train_X_token = tokenize_tweet(train_X)\n",
        "\n",
        "# longest tweet\n",
        "max_len = np.max([len(text.split()) for text in train_X])\n",
        "\n",
        "train_X_2D = tweets_2DArrays(train_X, max_words=10000, max_len=max_len)\n",
        "\n",
        "# create own Word2Vec based on training data with skip-gram algorithm\n",
        "w2v_model, words = create_Word2vec(train_X_token, size=300, window=3, min_count=1, workers=3, sg=1)\n",
        "\n",
        "# creating embedding matrix from training data\n",
        "own_embedding_matrix, vocab = create_own_embedding_matrix(train_X, num_words=10000, embedding_dim=300, max_len=max_len, model=w2v_model)\n",
        "\n",
        "# preprocessing of test data\n",
        "test_amended = test_unique.copy()\n",
        "test_amended = preprocess(test_amended)\n",
        "test_amended = remove_stopwords(test_amended)\n",
        "test_X, test_Y = split_X_Y(test_amended)\n",
        "test_X_2D = tweets_2DArrays(test_X, max_words=10000, max_len=max_len)\n",
        "\n",
        "# preprocessing of dev data\n",
        "dev_amended = dev_unique.copy()\n",
        "dev_amended = preprocess(dev_amended)\n",
        "dev_amended = remove_stopwords(dev_amended)\n",
        "dev_X, dev_Y = split_X_Y(dev_amended)\n",
        "dev_X_2D = tweets_2DArrays(dev_X, max_words=10000, max_len=max_len)\n",
        "\n",
        "# convert airline_sentiment to numeric\n",
        "train_Y_label, test_Y_label, dev_Y_label = numeric_labels(train_Y, test_Y, dev_Y)\n",
        "\n",
        "# One-Hot Encoding of the labels\n",
        "train_Y_encoded = np_utils.to_categorical(train_Y_label)\n",
        "test_Y_encoded = np_utils.to_categorical(test_Y_label)\n",
        "dev_Y_encoded = np_utils.to_categorical(dev_Y_label)"
      ]
    },
    {
      "cell_type": "code",
      "execution_count": null,
      "id": "a715b74b-e70c-4ff4-8eda-9db977182ebe",
      "metadata": {
        "id": "a715b74b-e70c-4ff4-8eda-9db977182ebe",
        "outputId": "ecb8d17a-cfb6-4ef2-cee5-e9e8b8681835"
      },
      "outputs": [
        {
          "name": "stdout",
          "output_type": "stream",
          "text": [
            "Trial 10 Complete [00h 03m 06s]\n",
            "loss: 0.4815467298030853\n",
            "\n",
            "Best loss So Far: 0.4814525842666626\n",
            "Total elapsed time: 00h 22m 54s\n",
            "INFO:tensorflow:Oracle triggered exit\n"
          ]
        }
      ],
      "source": [
        "# hyper parameter tuning\n",
        "tuner_RNN_LSTM = kt.BayesianOptimization(hyperparameter_RNN_BiLSTM_own,\n",
        "                     objective='loss',\n",
        "                     max_trials=10,\n",
        "                     seed=0,\n",
        "                     overwrite=True,\n",
        "                     directory='dir',\n",
        "                     project_name='x')\n",
        "\n",
        "# early stopping\n",
        "stop_early = EarlyStopping(monitor='val_loss', patience=2)\n",
        "\n",
        "tuner_RNN_LSTM.search(train_X_2D, train_Y_encoded, validation_data=(dev_X_2D, dev_Y_encoded), callbacks=[stop_early])"
      ]
    },
    {
      "cell_type": "code",
      "execution_count": null,
      "id": "26ba51dd-9a1a-43d0-a008-f0894064be53",
      "metadata": {
        "id": "26ba51dd-9a1a-43d0-a008-f0894064be53",
        "outputId": "e3a4671a-1f7d-4124-e496-2f9cc65fdd01"
      },
      "outputs": [
        {
          "name": "stdout",
          "output_type": "stream",
          "text": [
            "WARNING:tensorflow:Detecting that an object or model or tf.train.Checkpoint is being deleted with unrestored values. See the following logs for the specific values in question. To silence these warnings, use `status.expect_partial()`. See https://www.tensorflow.org/api_docs/python/tf/train/Checkpoint#restorefor details about the status object returned by the restore function.\n",
            "WARNING:tensorflow:Value in checkpoint could not be found in the restored object: (root).optimizer.iter\n",
            "WARNING:tensorflow:Value in checkpoint could not be found in the restored object: (root).optimizer.beta_1\n",
            "WARNING:tensorflow:Value in checkpoint could not be found in the restored object: (root).optimizer.beta_2\n",
            "WARNING:tensorflow:Value in checkpoint could not be found in the restored object: (root).optimizer.decay\n",
            "WARNING:tensorflow:Value in checkpoint could not be found in the restored object: (root).optimizer.learning_rate\n",
            "Model: \"sequential\"\n",
            "_________________________________________________________________\n",
            " Layer (type)                Output Shape              Param #   \n",
            "=================================================================\n",
            " embedding (Embedding)       (None, None, 300)         3513000   \n",
            "                                                                 \n",
            " dropout (Dropout)           (None, None, 300)         0         \n",
            "                                                                 \n",
            " bidirectional (Bidirectiona  (None, None, 800)        2243200   \n",
            " l)                                                              \n",
            "                                                                 \n",
            " bidirectional_1 (Bidirectio  (None, 1000)             5204000   \n",
            " nal)                                                            \n",
            "                                                                 \n",
            " dense (Dense)               (None, 3)                 3003      \n",
            "                                                                 \n",
            "=================================================================\n",
            "Total params: 10,963,203\n",
            "Trainable params: 7,450,203\n",
            "Non-trainable params: 3,513,000\n",
            "_________________________________________________________________\n"
          ]
        },
        {
          "data": {
            "text/plain": [
              "{'dropout_rate_1': 0.25,\n",
              " 'layer_1': 400,\n",
              " 'activation_1': 'relu',\n",
              " 'dropout': False,\n",
              " 'dropout_rate_2': 0.75,\n",
              " 'layer_2': 500,\n",
              " 'activation_2': 'sigmoid',\n",
              " 'optimizer': 'Adam',\n",
              " 'learning_rate': 0.0001,\n",
              " 'batch_size': 64}"
            ]
          },
          "execution_count": 169,
          "metadata": {},
          "output_type": "execute_result"
        }
      ],
      "source": [
        "# get the best model\n",
        "best_model = tuner_RNN_LSTM.get_best_models(num_models=1)[0]\n",
        "best_model.summary()\n",
        "\n",
        "# Get the optimal hyperparameters\n",
        "best_hps=tuner_RNN_LSTM.get_best_hyperparameters(num_trials=1)[0].values\n",
        "best_hps"
      ]
    },
    {
      "cell_type": "code",
      "execution_count": null,
      "id": "1ea58890-bae7-49f6-9a13-b21336819c93",
      "metadata": {
        "id": "1ea58890-bae7-49f6-9a13-b21336819c93",
        "outputId": "b56fab1f-d4d7-406d-96aa-34ca27a38845"
      },
      "outputs": [
        {
          "name": "stdout",
          "output_type": "stream",
          "text": [
            "Model: \"sequential_3\"\n",
            "_________________________________________________________________\n",
            " Layer (type)                Output Shape              Param #   \n",
            "=================================================================\n",
            " embedding_2 (Embedding)     (None, None, 300)         3513000   \n",
            "                                                                 \n",
            " dropout_2 (Dropout)         (None, None, 300)         0         \n",
            "                                                                 \n",
            " bidirectional_2 (Bidirectio  (None, None, 800)        2243200   \n",
            " nal)                                                            \n",
            "                                                                 \n",
            " bidirectional_3 (Bidirectio  (None, 1000)             5204000   \n",
            " nal)                                                            \n",
            "                                                                 \n",
            " dense_2 (Dense)             (None, 3)                 3003      \n",
            "                                                                 \n",
            "=================================================================\n",
            "Total params: 10,963,203\n",
            "Trainable params: 7,450,203\n",
            "Non-trainable params: 3,513,000\n",
            "_________________________________________________________________\n"
          ]
        }
      ],
      "source": [
        "# create RNN (LSTM) model With own skip-gram Embedding Initialization\n",
        "RNN_LSTM_own = Sequential()\n",
        "RNN_LSTM_own.add(Embedding(len(vocab) + 1, 300, weights=[own_embedding_matrix], trainable=False))\n",
        "RNN_LSTM_own.add(Dropout(0.25))\n",
        "RNN_LSTM_own.add(Bidirectional(LSTM(400,return_sequences=True, activation='relu')))\n",
        "RNN_LSTM_own.add(Bidirectional(LSTM(500, activation='sigmoid')))\n",
        "RNN_LSTM_own.add(Dense(3,activation='softmax'))\n",
        "RNN_LSTM_own.compile(optimizer=Adam(learning_rate=0.0001), loss=\"binary_crossentropy\", metrics=[\"accuracy\"])\n",
        "RNN_LSTM_own.summary()"
      ]
    },
    {
      "cell_type": "code",
      "execution_count": null,
      "id": "b426b3b5-bbf2-4e1a-9e79-2835f35edda5",
      "metadata": {
        "id": "b426b3b5-bbf2-4e1a-9e79-2835f35edda5",
        "outputId": "9e302652-7660-4933-95a0-dcef24e78ed9"
      },
      "outputs": [
        {
          "name": "stdout",
          "output_type": "stream",
          "text": [
            "Epoch 1/10\n",
            "184/184 [==============================] - 93s 488ms/step - loss: 0.4978 - accuracy: 0.6362 - val_loss: 0.5789 - val_accuracy: 0.6355\n",
            "Epoch 2/10\n",
            "184/184 [==============================] - 108s 587ms/step - loss: 0.4365 - accuracy: 0.6867 - val_loss: 0.7527 - val_accuracy: 0.6234\n"
          ]
        },
        {
          "data": {
            "text/plain": [
              "<keras.callbacks.History at 0x25e5026dc10>"
            ]
          },
          "execution_count": 174,
          "metadata": {},
          "output_type": "execute_result"
        }
      ],
      "source": [
        "# train RNN LSTM using original training data\n",
        "random.seed(0)\n",
        "tf.random.set_seed(0)\n",
        "RNN_LSTM_own.fit(train_X_2D, train_Y_encoded, validation_data=(dev_X_2D, dev_Y_encoded), epochs=10, batch_size=64, verbose=1, callbacks=[stop_early])"
      ]
    },
    {
      "cell_type": "code",
      "execution_count": null,
      "id": "7cb7146e-7cf2-444f-88ac-b879e65aa9cd",
      "metadata": {
        "id": "7cb7146e-7cf2-444f-88ac-b879e65aa9cd",
        "outputId": "ee2e3bf0-9ee2-4781-cfa9-8cb6824c87bc"
      },
      "outputs": [
        {
          "name": "stdout",
          "output_type": "stream",
          "text": [
            "46/46 [==============================] - 2s 38ms/step\n",
            "The accuracy is: 0.5780068728522336\n",
            "The f-1 score is :\n",
            " [0.76657061 0.20240964 0.0083682 ]\n",
            "Confusion Matrix:\n",
            " [[869  40   5]\n",
            " [266  42   1]\n",
            " [207  24   1]]\n"
          ]
        }
      ],
      "source": [
        "# generate predictions for test data set RNN_LSTM\n",
        "y_pred_test_encoded = (RNN_LSTM_own.predict(test_X_2D)> 0.5).astype(\"int32\")\n",
        "y_pred_test = np.array(tf.argmax(y_pred_test_encoded, axis=1))\n",
        "\n",
        "# calculating accuracy score and confusion matrix\n",
        "accuracy = accuracy_score(test_Y_encoded, y_pred_test_encoded)\n",
        "print(\"The accuracy is:\", accuracy)\n",
        "\n",
        "f1 = f1_score(test_Y_encoded, y_pred_test_encoded, average=None)\n",
        "print(\"The f-1 score is :\\n\",f1)\n",
        "\n",
        "ConfusionMatrix = confusion_matrix(test_Y_label, y_pred_test)\n",
        "print(\"Confusion Matrix:\\n\",ConfusionMatrix)"
      ]
    },
    {
      "cell_type": "code",
      "execution_count": null,
      "id": "1ad02a10-7250-43a0-849f-df025aa563b4",
      "metadata": {
        "id": "1ad02a10-7250-43a0-849f-df025aa563b4",
        "outputId": "a0af983e-d06c-4ebd-c05f-84b9c5fed519"
      },
      "outputs": [
        {
          "name": "stdout",
          "output_type": "stream",
          "text": [
            "368/368 [==============================] - 14s 37ms/step\n",
            "The accuracy is: 0.6373757117362114\n",
            "The f-1 score is :\n",
            " [0.8215471  0.39746969 0.26793431]\n",
            "Confusion Matrix:\n",
            " [[6992  325   60]\n",
            " [1692  754   45]\n",
            " [1365  224  310]]\n"
          ]
        }
      ],
      "source": [
        "# generate predictions for test data set RNN_LSTM\n",
        "y_pred_train_encoded = (RNN_LSTM_own.predict(train_X_2D)> 0.5).astype(\"int32\")\n",
        "y_pred_train = np.array(tf.argmax(y_pred_train_encoded, axis=1))\n",
        "\n",
        "# calculating accuracy score and confusion matrix\n",
        "accuracy = accuracy_score(train_Y_encoded, y_pred_train_encoded)\n",
        "print(\"The accuracy is:\", accuracy)\n",
        "\n",
        "f1 = f1_score(train_Y_encoded, y_pred_train_encoded, average=None)\n",
        "print(\"The f-1 score is :\\n\",f1)\n",
        "\n",
        "ConfusionMatrix = confusion_matrix(train_Y_label, y_pred_train)\n",
        "print(\"Confusion Matrix:\\n\",ConfusionMatrix)"
      ]
    },
    {
      "cell_type": "code",
      "execution_count": null,
      "id": "735bb022-5e8d-45a9-b5ec-291ae567fdc2",
      "metadata": {
        "id": "735bb022-5e8d-45a9-b5ec-291ae567fdc2",
        "outputId": "416839d7-6dcd-449e-f200-618839b33338"
      },
      "outputs": [
        {
          "name": "stdout",
          "output_type": "stream",
          "text": [
            "42/42 [==============================] - 3s 62ms/step\n",
            "The accuracy is: 0.6082004555808656\n",
            "The f-1 score is :\n",
            " [0.77295163 0.10778443 0.        ]\n",
            "Confusion Matrix:\n",
            " [[805  18   2]\n",
            " [255  18   6]\n",
            " [194  19   0]]\n"
          ]
        }
      ],
      "source": [
        "# generate predictions for test data set RNN_LSTM\n",
        "y_pred_dev_encoded = (RNN_LSTM_own.predict(dev_X_2D)> 0.5).astype(\"int32\")\n",
        "y_pred_dev = np.array(tf.argmax(y_pred_dev_encoded, axis=1))\n",
        "\n",
        "# calculating accuracy score and confusion matrix\n",
        "accuracy = accuracy_score(dev_Y_encoded, y_pred_dev_encoded)\n",
        "print(\"The accuracy is:\", accuracy)\n",
        "\n",
        "f1 = f1_score(dev_Y_encoded, y_pred_dev_encoded, average=None)\n",
        "print(\"The f-1 score is :\\n\",f1)\n",
        "\n",
        "ConfusionMatrix = confusion_matrix(dev_Y_label, y_pred_dev)\n",
        "print(\"Confusion Matrix:\\n\",ConfusionMatrix)"
      ]
    },
    {
      "cell_type": "markdown",
      "id": "69ac8776-cd34-4d47-b6ba-d1bc1cba97ee",
      "metadata": {
        "id": "69ac8776-cd34-4d47-b6ba-d1bc1cba97ee"
      },
      "source": [
        "### 4.2.2 RNN Bi-LSTM  \n",
        "Embedding: Own Embedding matrix  \n",
        "Algorithm: Skip Gram Algorithm  \n",
        "Normalisation: Lemmatization"
      ]
    },
    {
      "cell_type": "code",
      "execution_count": null,
      "id": "89415368-48bc-4cc6-8f3a-72cc974e0cc6",
      "metadata": {
        "id": "89415368-48bc-4cc6-8f3a-72cc974e0cc6",
        "outputId": "36e49707-faca-4427-b461-4f34d1035840"
      },
      "outputs": [
        {
          "name": "stdout",
          "output_type": "stream",
          "text": [
            "Converted 10254 words (607 misses)\n"
          ]
        }
      ],
      "source": [
        "# preprocessing of train data\n",
        "train_amended = train_unique.copy()\n",
        "train_amended = preprocess(train_amended)\n",
        "train_amended = remove_stopwords(train_amended)\n",
        "train_X, train_Y = split_X_Y(train_amended)\n",
        "train_X_token = tokenize_tweet(train_X)\n",
        "train_X_lemmatize = lemmatize_data(train_X_token)\n",
        "\n",
        "# longest tweet\n",
        "max_len = np.max([len(text.split()) for text in train_X_lemmatize])\n",
        "\n",
        "train_X_lemmatize_2D = tweets_2DArrays(train_X_lemmatize, max_words=10000, max_len=max_len)\n",
        "\n",
        "# create own Word2Vec based on training data with skip-gram algorithm\n",
        "w2v_model, words = create_Word2vec(tokenize_tweet(train_X_lemmatize), size=300, window=3, min_count=1, workers=3, sg=1)\n",
        "\n",
        "# creating embedding matrix from training data\n",
        "own_embedding_matrix, vocab = create_own_embedding_matrix(train_X_lemmatize, model=w2v_model, num_words=10000, embedding_dim=300, max_len=max_len)\n",
        "\n",
        "# preprocessing of test data\n",
        "test_amended = test_unique.copy()\n",
        "test_amended = preprocess(test_amended)\n",
        "test_amended = remove_stopwords(test_amended)\n",
        "test_X, test_Y = split_X_Y(test_amended)\n",
        "test_X_token = tokenize_tweet(test_X)\n",
        "test_X_lemmatize = lemmatize_data(test_X_token)\n",
        "test_X_lemmatize_2D = tweets_2DArrays(test_X_lemmatize, max_words=10000, max_len=max_len)\n",
        "\n",
        "# preprocessing of dev data\n",
        "dev_amended = dev_unique.copy()\n",
        "dev_amended = preprocess(dev_amended)\n",
        "dev_amended = remove_stopwords(dev_amended)\n",
        "dev_X, dev_Y = split_X_Y(dev_amended)\n",
        "dev_X_token = tokenize_tweet(dev_X)\n",
        "dev_X_lemmatize = lemmatize_data(dev_X_token)\n",
        "dev_X_lemmatize_2D = tweets_2DArrays(dev_X_lemmatize, max_words=10000, max_len=max_len)\n",
        "\n",
        "# convert airline_sentiment to numeric\n",
        "train_Y_label, test_Y_label, dev_Y_label = numeric_labels(train_Y, test_Y, dev_Y)\n",
        "\n",
        "# One-Hot Encoding of the labels\n",
        "train_Y_encoded = np_utils.to_categorical(train_Y_label)\n",
        "test_Y_encoded = np_utils.to_categorical(test_Y_label)\n",
        "dev_Y_encoded = np_utils.to_categorical(dev_Y_label)"
      ]
    },
    {
      "cell_type": "code",
      "execution_count": null,
      "id": "95af565b-6d83-4489-854c-f837eec59577",
      "metadata": {
        "id": "95af565b-6d83-4489-854c-f837eec59577",
        "outputId": "917813bd-c4d4-4489-c9d9-b87e16de9498"
      },
      "outputs": [
        {
          "name": "stdout",
          "output_type": "stream",
          "text": [
            "Trial 10 Complete [00h 00m 59s]\n",
            "loss: 0.5454715490341187\n",
            "\n",
            "Best loss So Far: 0.4841735064983368\n",
            "Total elapsed time: 00h 10m 12s\n",
            "INFO:tensorflow:Oracle triggered exit\n"
          ]
        }
      ],
      "source": [
        "# hyper parameter tuning\n",
        "tuner_RNN_LSTM = kt.BayesianOptimization(hyperparameter_RNN_BiLSTM_own,\n",
        "                     objective='loss',\n",
        "                     max_trials=10,\n",
        "                     seed=0,\n",
        "                     overwrite=True,\n",
        "                     directory='dir',\n",
        "                     project_name='x')\n",
        "\n",
        "# early stopping\n",
        "stop_early = EarlyStopping(monitor='val_loss', patience=2)\n",
        "\n",
        "tuner_RNN_LSTM.search(train_X_lemmatize_2D, train_Y_encoded, validation_data=(dev_X_lemmatize_2D, dev_Y_encoded), callbacks=[stop_early])"
      ]
    },
    {
      "cell_type": "code",
      "execution_count": null,
      "id": "97bf88ce-543b-4f78-8548-aad784d2c564",
      "metadata": {
        "id": "97bf88ce-543b-4f78-8548-aad784d2c564",
        "outputId": "022e7daa-b6bc-4703-8961-dd09eca82e43"
      },
      "outputs": [
        {
          "name": "stdout",
          "output_type": "stream",
          "text": [
            "WARNING:tensorflow:Detecting that an object or model or tf.train.Checkpoint is being deleted with unrestored values. See the following logs for the specific values in question. To silence these warnings, use `status.expect_partial()`. See https://www.tensorflow.org/api_docs/python/tf/train/Checkpoint#restorefor details about the status object returned by the restore function.\n",
            "WARNING:tensorflow:Value in checkpoint could not be found in the restored object: (root).optimizer.iter\n",
            "WARNING:tensorflow:Value in checkpoint could not be found in the restored object: (root).optimizer.beta_1\n",
            "WARNING:tensorflow:Value in checkpoint could not be found in the restored object: (root).optimizer.beta_2\n",
            "WARNING:tensorflow:Value in checkpoint could not be found in the restored object: (root).optimizer.decay\n",
            "WARNING:tensorflow:Value in checkpoint could not be found in the restored object: (root).optimizer.learning_rate\n",
            "Model: \"sequential\"\n",
            "_________________________________________________________________\n",
            " Layer (type)                Output Shape              Param #   \n",
            "=================================================================\n",
            " embedding (Embedding)       (None, None, 300)         2787900   \n",
            "                                                                 \n",
            " dropout (Dropout)           (None, None, 300)         0         \n",
            "                                                                 \n",
            " bidirectional (Bidirectiona  (None, None, 200)        320800    \n",
            " l)                                                              \n",
            "                                                                 \n",
            " bidirectional_1 (Bidirectio  (None, 400)              641600    \n",
            " nal)                                                            \n",
            "                                                                 \n",
            " dense (Dense)               (None, 3)                 1203      \n",
            "                                                                 \n",
            "=================================================================\n",
            "Total params: 3,751,503\n",
            "Trainable params: 963,603\n",
            "Non-trainable params: 2,787,900\n",
            "_________________________________________________________________\n"
          ]
        },
        {
          "data": {
            "text/plain": [
              "{'dropout_rate_1': 0.6,\n",
              " 'layer_1': 100,\n",
              " 'activation_1': 'sigmoid',\n",
              " 'dropout': False,\n",
              " 'dropout_rate_2': 0.5,\n",
              " 'layer_2': 200,\n",
              " 'activation_2': 'tanh',\n",
              " 'optimizer': 'Adam',\n",
              " 'learning_rate': 0.001,\n",
              " 'batch_size': 32}"
            ]
          },
          "execution_count": 206,
          "metadata": {},
          "output_type": "execute_result"
        }
      ],
      "source": [
        "# get the best model\n",
        "best_model = tuner_RNN_LSTM.get_best_models(num_models=1)[0]\n",
        "best_model.summary()\n",
        "\n",
        "# Get the optimal hyperparameters\n",
        "best_hps=tuner_RNN_LSTM.get_best_hyperparameters(num_trials=1)[0].values\n",
        "best_hps"
      ]
    },
    {
      "cell_type": "code",
      "execution_count": null,
      "id": "f346aa1f-79ff-4899-9a7b-3e39514f30a3",
      "metadata": {
        "id": "f346aa1f-79ff-4899-9a7b-3e39514f30a3",
        "outputId": "ff06c66a-ff3e-42b1-830a-ea25cff201c6"
      },
      "outputs": [
        {
          "name": "stdout",
          "output_type": "stream",
          "text": [
            "Model: \"sequential_1\"\n",
            "_________________________________________________________________\n",
            " Layer (type)                Output Shape              Param #   \n",
            "=================================================================\n",
            " embedding_1 (Embedding)     (None, None, 300)         2787900   \n",
            "                                                                 \n",
            " dropout_1 (Dropout)         (None, None, 300)         0         \n",
            "                                                                 \n",
            " bidirectional_2 (Bidirectio  (None, None, 200)        320800    \n",
            " nal)                                                            \n",
            "                                                                 \n",
            " bidirectional_3 (Bidirectio  (None, 400)              641600    \n",
            " nal)                                                            \n",
            "                                                                 \n",
            " dense_1 (Dense)             (None, 3)                 1203      \n",
            "                                                                 \n",
            "=================================================================\n",
            "Total params: 3,751,503\n",
            "Trainable params: 963,603\n",
            "Non-trainable params: 2,787,900\n",
            "_________________________________________________________________\n"
          ]
        }
      ],
      "source": [
        "# create RNN (LSTM) model With own skip-gram Embedding Initialization\n",
        "RNN_LSTM_own = Sequential()\n",
        "RNN_LSTM_own.add(Embedding(len(vocab) + 1, 300, weights=[own_embedding_matrix], trainable=False))\n",
        "RNN_LSTM_own.add(Dropout(0.6))\n",
        "RNN_LSTM_own.add(Bidirectional(LSTM(100,return_sequences=True, activation='relu')))\n",
        "RNN_LSTM_own.add(Bidirectional(LSTM(200, activation='tanh')))\n",
        "RNN_LSTM_own.add(Dense(3,activation='softmax'))\n",
        "RNN_LSTM_own.compile(optimizer=Adam(learning_rate=0.001), loss=\"binary_crossentropy\", metrics=[\"accuracy\"])\n",
        "RNN_LSTM_own.summary()"
      ]
    },
    {
      "cell_type": "code",
      "execution_count": null,
      "id": "e6c46260-2ed4-4f27-a5ed-0bf74898045b",
      "metadata": {
        "id": "e6c46260-2ed4-4f27-a5ed-0bf74898045b",
        "outputId": "9d852fa8-fa31-498c-b9da-5d657be81acb"
      },
      "outputs": [
        {
          "name": "stdout",
          "output_type": "stream",
          "text": [
            "Epoch 1/15\n",
            "368/368 [==============================] - 30s 75ms/step - loss: 0.3855 - accuracy: 0.7349 - val_loss: 0.6144 - val_accuracy: 0.5573\n",
            "Epoch 2/15\n",
            "368/368 [==============================] - 28s 76ms/step - loss: 0.3800 - accuracy: 0.7364 - val_loss: 0.5951 - val_accuracy: 0.6006\n",
            "Epoch 3/15\n",
            "368/368 [==============================] - 26s 70ms/step - loss: 0.3774 - accuracy: 0.7405 - val_loss: 0.5798 - val_accuracy: 0.6249\n",
            "Epoch 4/15\n",
            "368/368 [==============================] - 26s 71ms/step - loss: 0.3731 - accuracy: 0.7415 - val_loss: 0.5777 - val_accuracy: 0.6219\n",
            "Epoch 5/15\n",
            "368/368 [==============================] - 26s 70ms/step - loss: 0.3715 - accuracy: 0.7436 - val_loss: 0.5996 - val_accuracy: 0.6059\n",
            "Epoch 6/15\n",
            "368/368 [==============================] - 25s 68ms/step - loss: 0.3779 - accuracy: 0.7384 - val_loss: 0.5940 - val_accuracy: 0.6036\n"
          ]
        },
        {
          "data": {
            "text/plain": [
              "<keras.callbacks.History at 0x25e5998d6d0>"
            ]
          },
          "execution_count": 209,
          "metadata": {},
          "output_type": "execute_result"
        }
      ],
      "source": [
        "# train RNN LSTM using lemmatize training data\n",
        "random.seed(0)\n",
        "tf.random.set_seed(0)\n",
        "RNN_LSTM_own.fit(train_X_lemmatize_2D, train_Y_encoded, validation_data=(dev_X_lemmatize_2D, dev_Y_encoded), epochs=15, batch_size=32, verbose=1, callbacks=[stop_early])"
      ]
    },
    {
      "cell_type": "code",
      "execution_count": null,
      "id": "0aa7ce78-f48c-4b4e-98fd-757b2f7dc8ef",
      "metadata": {
        "id": "0aa7ce78-f48c-4b4e-98fd-757b2f7dc8ef",
        "outputId": "d292ef38-9517-4017-e017-467384d39200"
      },
      "outputs": [
        {
          "name": "stdout",
          "output_type": "stream",
          "text": [
            "46/46 [==============================] - 2s 16ms/step\n",
            "The accuracy is: 0.5621993127147766\n",
            "The f-1 score is :\n",
            " [0.7465995  0.24696356 0.09195402]\n",
            "Confusion Matrix:\n",
            " [[776  63  75]\n",
            " [223  61  25]\n",
            " [155  61  16]]\n"
          ]
        }
      ],
      "source": [
        "# generate predictions for test data set RNN_LSTM\n",
        "y_pred_test_encoded = (RNN_LSTM_own.predict(test_X_lemmatize_2D)> 0.5).astype(\"int32\")\n",
        "y_pred_test = np.array(tf.argmax(y_pred_test_encoded, axis=1))\n",
        "\n",
        "# calculating accuracy score and confusion matrix\n",
        "accuracy = accuracy_score(test_Y_encoded, y_pred_test_encoded)\n",
        "print(\"The accuracy is:\", accuracy)\n",
        "\n",
        "f1 = f1_score(test_Y_encoded, y_pred_test_encoded, average=None)\n",
        "print(\"The f-1 score is :\\n\",f1)\n",
        "\n",
        "ConfusionMatrix = confusion_matrix(test_Y_label, y_pred_test)\n",
        "print(\"Confusion Matrix:\\n\",ConfusionMatrix)"
      ]
    },
    {
      "cell_type": "code",
      "execution_count": null,
      "id": "076d81f3-e22d-4e6e-a9d1-5361c658983c",
      "metadata": {
        "id": "076d81f3-e22d-4e6e-a9d1-5361c658983c",
        "outputId": "8ba1c1f3-1d62-48e5-90ce-a3fc782e6b12"
      },
      "outputs": [
        {
          "name": "stdout",
          "output_type": "stream",
          "text": [
            "368/368 [==============================] - 7s 20ms/step\n",
            "The accuracy is: 0.7317923005014022\n",
            "The f-1 score is :\n",
            " [0.84272686 0.51836642 0.63433735]\n",
            "Confusion Matrix:\n",
            " [[6670  516  191]\n",
            " [1178 1136  177]\n",
            " [ 606  240 1053]]\n"
          ]
        }
      ],
      "source": [
        "# generate predictions for train data set RNN_LSTM\n",
        "y_pred_train_encoded = (RNN_LSTM_own.predict(train_X_lemmatize_2D)> 0.5).astype(\"int32\")\n",
        "y_pred_train = np.array(tf.argmax(y_pred_train_encoded, axis=1))\n",
        "\n",
        "# calculating accuracy score and confusion matrix\n",
        "accuracy = accuracy_score(train_Y_encoded, y_pred_train_encoded)\n",
        "print(\"The accuracy is:\", accuracy)\n",
        "\n",
        "f1 = f1_score(train_Y_encoded, y_pred_train_encoded, average=None)\n",
        "print(\"The f-1 score is :\\n\",f1)\n",
        "\n",
        "ConfusionMatrix = confusion_matrix(train_Y_label, y_pred_train)\n",
        "print(\"Confusion Matrix:\\n\",ConfusionMatrix)"
      ]
    },
    {
      "cell_type": "code",
      "execution_count": null,
      "id": "b51fd713-050a-48d6-be8f-7ccf0deb1a48",
      "metadata": {
        "id": "b51fd713-050a-48d6-be8f-7ccf0deb1a48",
        "outputId": "d4d5a19d-0c1d-4222-8d6a-2757a264db87"
      },
      "outputs": [
        {
          "name": "stdout",
          "output_type": "stream",
          "text": [
            "42/42 [==============================] - 2s 48ms/step\n",
            "The accuracy is: 0.5990888382687927\n",
            "The f-1 score is :\n",
            " [0.76756757 0.31509847 0.05511811]\n",
            "Confusion Matrix:\n",
            " [[744  54  27]\n",
            " [200  72   7]\n",
            " [154  52   7]]\n"
          ]
        }
      ],
      "source": [
        "# generate predictions for dev data set RNN_LSTM\n",
        "y_pred_dev_encoded = (RNN_LSTM_own.predict(dev_X_lemmatize_2D)> 0.5).astype(\"int32\")\n",
        "y_pred_dev = np.array(tf.argmax(y_pred_dev_encoded, axis=1))\n",
        "\n",
        "# calculating accuracy score and confusion matrix\n",
        "accuracy = accuracy_score(dev_Y_encoded, y_pred_dev_encoded)\n",
        "print(\"The accuracy is:\", accuracy)\n",
        "\n",
        "f1 = f1_score(dev_Y_encoded, y_pred_dev_encoded, average=None)\n",
        "print(\"The f-1 score is :\\n\",f1)\n",
        "\n",
        "ConfusionMatrix = confusion_matrix(dev_Y_label, y_pred_dev)\n",
        "print(\"Confusion Matrix:\\n\",ConfusionMatrix)"
      ]
    },
    {
      "cell_type": "markdown",
      "id": "f9ecc009-aa41-4a70-8b25-ec1a6c7361ad",
      "metadata": {
        "id": "f9ecc009-aa41-4a70-8b25-ec1a6c7361ad"
      },
      "source": [
        "### 4.2.3 RNN Bi-LSTM  \n",
        "Embedding: Own Word2Vec  \n",
        "Normalisation: Porter Stemming\n",
        "Algorithm: Skip Gram algorithm"
      ]
    },
    {
      "cell_type": "code",
      "execution_count": null,
      "id": "dcedee94-ee62-4c8f-8f03-ac401ab2af9f",
      "metadata": {
        "id": "dcedee94-ee62-4c8f-8f03-ac401ab2af9f",
        "outputId": "765a32e9-e33f-4a53-fe37-76f6b407f36a"
      },
      "outputs": [
        {
          "name": "stdout",
          "output_type": "stream",
          "text": [
            "Converted 9292 words (92 misses)\n"
          ]
        }
      ],
      "source": [
        "# preprocessing of train data\n",
        "train_amended = train_unique.copy()\n",
        "train_amended = preprocess(train_amended)\n",
        "train_amended = remove_stopwords(train_amended)\n",
        "train_X, train_Y = split_X_Y(train_amended)\n",
        "train_X_token = tokenize_tweet(train_X)\n",
        "train_X_PS = stem_data(train_X_token, method=\"Porter\")\n",
        "\n",
        "# longest tweet\n",
        "max_len = np.max([len(text.split()) for text in train_X_PS])\n",
        "\n",
        "train_X_PS_2D = tweets_2DArrays(train_X_PS, max_words=10000, max_len=max_len)\n",
        "\n",
        "# create own Word2Vec based on training data with skip-gram algorithm\n",
        "w2v_model, words = create_Word2vec(tokenize_tweet(train_X_PS), size=300, window=3, min_count=1, workers=3, sg=1)\n",
        "\n",
        "# creating embedding matrix from training data\n",
        "own_embedding_matrix, vocab = create_own_embedding_matrix(train_X_PS, model=w2v_model, num_words=10000, embedding_dim=300, max_len=max_len)\n",
        "\n",
        "# preprocessing of test data\n",
        "test_amended = test_unique.copy()\n",
        "test_amended = preprocess(test_amended)\n",
        "test_amended = remove_stopwords(test_amended)\n",
        "test_X, test_Y = split_X_Y(test_amended)\n",
        "test_X_token = tokenize_tweet(test_X)\n",
        "test_X_PS = stem_data(test_X_token, method=\"Porter\")\n",
        "test_X_PS_2D = tweets_2DArrays(test_X_PS, max_words=10000, max_len=max_len)\n",
        "\n",
        "# preprocessing of dev data\n",
        "dev_amended = dev_unique.copy()\n",
        "dev_amended = preprocess(dev_amended)\n",
        "dev_amended = remove_stopwords(dev_amended)\n",
        "dev_X, dev_Y = split_X_Y(dev_amended)\n",
        "dev_X_token = tokenize_tweet(dev_X)\n",
        "dev_X_PS = stem_data(dev_X_token, method=\"Porter\")\n",
        "dev_X_PS_2D = tweets_2DArrays(dev_X_PS, max_words=10000, max_len=max_len)\n",
        "\n",
        "# convert airline_sentiment to numeric\n",
        "train_Y_label, test_Y_label, dev_Y_label = numeric_labels(train_Y, test_Y, dev_Y)\n",
        "\n",
        "# One-Hot Encoding of the labels\n",
        "train_Y_encoded = np_utils.to_categorical(train_Y_label)\n",
        "test_Y_encoded = np_utils.to_categorical(test_Y_label)\n",
        "dev_Y_encoded = np_utils.to_categorical(dev_Y_label)"
      ]
    },
    {
      "cell_type": "code",
      "execution_count": null,
      "id": "3448ff16-f19a-4b2f-b97d-9921a4e4a343",
      "metadata": {
        "id": "3448ff16-f19a-4b2f-b97d-9921a4e4a343",
        "outputId": "6c474ffd-c660-4417-b27d-c8de837bec91"
      },
      "outputs": [
        {
          "name": "stdout",
          "output_type": "stream",
          "text": [
            "Trial 10 Complete [00h 01m 34s]\n",
            "loss: 0.4908069670200348\n",
            "\n",
            "Best loss So Far: 0.4908069670200348\n",
            "Total elapsed time: 00h 20m 20s\n",
            "INFO:tensorflow:Oracle triggered exit\n"
          ]
        }
      ],
      "source": [
        "# hyper parameter tuning\n",
        "tuner_RNN_LSTM = kt.BayesianOptimization(hyperparameter_RNN_BiLSTM_own,\n",
        "                     objective='loss',\n",
        "                     max_trials=10,\n",
        "                     seed=0,\n",
        "                     overwrite=True,\n",
        "                     directory='dir',\n",
        "                     project_name='x')\n",
        "\n",
        "# early stopping\n",
        "stop_early = EarlyStopping(monitor='val_loss', patience=2)\n",
        "\n",
        "tuner_RNN_LSTM.search(train_X_PS_2D, train_Y_encoded, validation_data=(dev_X_PS_2D, dev_Y_encoded), callbacks=[stop_early])"
      ]
    },
    {
      "cell_type": "code",
      "execution_count": null,
      "id": "ceb77713-4f17-431b-92e5-5822f486e86b",
      "metadata": {
        "id": "ceb77713-4f17-431b-92e5-5822f486e86b",
        "outputId": "7406692b-8626-4570-86a3-3f933bb9f11f"
      },
      "outputs": [
        {
          "name": "stdout",
          "output_type": "stream",
          "text": [
            "WARNING:tensorflow:Detecting that an object or model or tf.train.Checkpoint is being deleted with unrestored values. See the following logs for the specific values in question. To silence these warnings, use `status.expect_partial()`. See https://www.tensorflow.org/api_docs/python/tf/train/Checkpoint#restorefor details about the status object returned by the restore function.\n",
            "WARNING:tensorflow:Value in checkpoint could not be found in the restored object: (root).optimizer.iter\n",
            "WARNING:tensorflow:Value in checkpoint could not be found in the restored object: (root).optimizer.beta_1\n",
            "WARNING:tensorflow:Value in checkpoint could not be found in the restored object: (root).optimizer.beta_2\n",
            "WARNING:tensorflow:Value in checkpoint could not be found in the restored object: (root).optimizer.decay\n",
            "WARNING:tensorflow:Value in checkpoint could not be found in the restored object: (root).optimizer.learning_rate\n",
            "Model: \"sequential\"\n",
            "_________________________________________________________________\n",
            " Layer (type)                Output Shape              Param #   \n",
            "=================================================================\n",
            " embedding (Embedding)       (None, None, 300)         2787900   \n",
            "                                                                 \n",
            " dropout (Dropout)           (None, None, 300)         0         \n",
            "                                                                 \n",
            " bidirectional (Bidirectiona  (None, None, 800)        2243200   \n",
            " l)                                                              \n",
            "                                                                 \n",
            " bidirectional_1 (Bidirectio  (None, 200)              720800    \n",
            " nal)                                                            \n",
            "                                                                 \n",
            " dense (Dense)               (None, 3)                 603       \n",
            "                                                                 \n",
            "=================================================================\n",
            "Total params: 5,752,503\n",
            "Trainable params: 2,964,603\n",
            "Non-trainable params: 2,787,900\n",
            "_________________________________________________________________\n"
          ]
        },
        {
          "data": {
            "text/plain": [
              "{'dropout_rate_1': 0.75,\n",
              " 'layer_1': 400,\n",
              " 'activation_1': 'relu',\n",
              " 'dropout': False,\n",
              " 'dropout_rate_2': 0.25,\n",
              " 'layer_2': 100,\n",
              " 'activation_2': 'relu',\n",
              " 'optimizer': 'Adam',\n",
              " 'learning_rate': 0.0001,\n",
              " 'batch_size': 64}"
            ]
          },
          "execution_count": 214,
          "metadata": {},
          "output_type": "execute_result"
        }
      ],
      "source": [
        "# get the best model\n",
        "best_model = tuner_RNN_LSTM.get_best_models(num_models=1)[0]\n",
        "best_model.summary()\n",
        "\n",
        "# Get the optimal hyperparameters\n",
        "best_hps=tuner_RNN_LSTM.get_best_hyperparameters(num_trials=1)[0].values\n",
        "best_hps"
      ]
    },
    {
      "cell_type": "code",
      "execution_count": null,
      "id": "8aeaea54-e4f6-4d2f-ae1b-556dd343cb7b",
      "metadata": {
        "id": "8aeaea54-e4f6-4d2f-ae1b-556dd343cb7b",
        "outputId": "d0f5180d-df89-42b5-f70a-5eae0b3f821e"
      },
      "outputs": [
        {
          "name": "stdout",
          "output_type": "stream",
          "text": [
            "Model: \"sequential_1\"\n",
            "_________________________________________________________________\n",
            " Layer (type)                Output Shape              Param #   \n",
            "=================================================================\n",
            " embedding_1 (Embedding)     (None, None, 300)         2787900   \n",
            "                                                                 \n",
            " dropout_1 (Dropout)         (None, None, 300)         0         \n",
            "                                                                 \n",
            " bidirectional_2 (Bidirectio  (None, None, 1000)       3204000   \n",
            " nal)                                                            \n",
            "                                                                 \n",
            " bidirectional_3 (Bidirectio  (None, 200)              880800    \n",
            " nal)                                                            \n",
            "                                                                 \n",
            " dense_1 (Dense)             (None, 3)                 603       \n",
            "                                                                 \n",
            "=================================================================\n",
            "Total params: 6,873,303\n",
            "Trainable params: 4,085,403\n",
            "Non-trainable params: 2,787,900\n",
            "_________________________________________________________________\n"
          ]
        }
      ],
      "source": [
        "# create RNN (LSTM) model With own skip-gram Embedding Initialization\n",
        "RNN_LSTM_own = Sequential()\n",
        "RNN_LSTM_own.add(Embedding(len(vocab) + 1, 300, weights=[own_embedding_matrix], trainable=False))\n",
        "RNN_LSTM_own.add(Dropout(0.75))\n",
        "RNN_LSTM_own.add(Bidirectional(LSTM(500,return_sequences=True, activation='relu')))\n",
        "RNN_LSTM_own.add(Bidirectional(LSTM(100, activation='relu')))\n",
        "RNN_LSTM_own.add(Dense(3,activation='softmax'))\n",
        "RNN_LSTM_own.compile(optimizer=Adam(learning_rate=0.0001), loss=\"binary_crossentropy\", metrics=[\"accuracy\"])\n",
        "RNN_LSTM_own.summary()"
      ]
    },
    {
      "cell_type": "code",
      "execution_count": null,
      "id": "306b1fa6-7cdd-4696-8c2b-4f2e4de93628",
      "metadata": {
        "id": "306b1fa6-7cdd-4696-8c2b-4f2e4de93628",
        "outputId": "b6a9f853-8223-4b7b-f0a3-be36fb294629"
      },
      "outputs": [
        {
          "name": "stdout",
          "output_type": "stream",
          "text": [
            "Epoch 1/15\n",
            "184/184 [==============================] - 55s 261ms/step - loss: 0.5042 - accuracy: 0.6258 - val_loss: 0.5074 - val_accuracy: 0.6279\n",
            "Epoch 2/15\n",
            "184/184 [==============================] - 46s 251ms/step - loss: 0.4372 - accuracy: 0.6916 - val_loss: 0.4987 - val_accuracy: 0.6439\n",
            "Epoch 5/15\n",
            "184/184 [==============================] - 60s 325ms/step - loss: 0.4275 - accuracy: 0.6998 - val_loss: 0.4949 - val_accuracy: 0.6492\n"
          ]
        },
        {
          "data": {
            "text/plain": [
              "<keras.callbacks.History at 0x25de7dfc100>"
            ]
          },
          "execution_count": 216,
          "metadata": {},
          "output_type": "execute_result"
        }
      ],
      "source": [
        "# train RNN LSTM using Porter stemming training data\n",
        "random.seed(0)\n",
        "tf.random.set_seed(0)\n",
        "RNN_LSTM_own.fit(train_X_PS_2D, train_Y_encoded, validation_data=(dev_X_PS_2D, dev_Y_encoded), epochs=15, batch_size=64, verbose=1, callbacks=[stop_early])"
      ]
    },
    {
      "cell_type": "code",
      "execution_count": null,
      "id": "4eb2b6f6-5118-4d1e-b78c-7c20c34bddab",
      "metadata": {
        "id": "4eb2b6f6-5118-4d1e-b78c-7c20c34bddab",
        "outputId": "dd8fa3e6-048e-4f0b-b39a-c99fd9874a6e"
      },
      "outputs": [
        {
          "name": "stdout",
          "output_type": "stream",
          "text": [
            "46/46 [==============================] - 3s 36ms/step\n",
            "The accuracy is: 0.5415807560137457\n",
            "The f-1 score is :\n",
            " [0.73713337 0.30188679 0.23943662]\n",
            "Confusion Matrix:\n",
            " [[770 139   5]\n",
            " [208  88  13]\n",
            " [151  47  34]]\n"
          ]
        }
      ],
      "source": [
        "# generate predictions for test data set RNN_LSTM\n",
        "y_pred_test_encoded = (RNN_LSTM_own.predict(test_X_PS_2D)> 0.5).astype(\"int32\")\n",
        "y_pred_test = np.array(tf.argmax(y_pred_test_encoded, axis=1))\n",
        "\n",
        "# calculating accuracy score and confusion matrix\n",
        "accuracy = accuracy_score(test_Y_encoded, y_pred_test_encoded)\n",
        "print(\"The accuracy is:\", accuracy)\n",
        "\n",
        "f1 = f1_score(test_Y_encoded, y_pred_test_encoded, average=None)\n",
        "print(\"The f-1 score is :\\n\",f1)\n",
        "\n",
        "ConfusionMatrix = confusion_matrix(test_Y_label, y_pred_test)\n",
        "print(\"Confusion Matrix:\\n\",ConfusionMatrix)"
      ]
    },
    {
      "cell_type": "code",
      "execution_count": null,
      "id": "6f9f3e56-f31d-4e5b-9874-aee4baf40fab",
      "metadata": {
        "id": "6f9f3e56-f31d-4e5b-9874-aee4baf40fab",
        "outputId": "5e19db1e-fb22-42a3-83b0-612d66aff4f2"
      },
      "outputs": [
        {
          "name": "stdout",
          "output_type": "stream",
          "text": [
            "368/368 [==============================] - 13s 34ms/step\n",
            "The accuracy is: 0.6235234129344778\n",
            "The f-1 score is :\n",
            " [0.78136097 0.50018678 0.44566814]\n",
            "Confusion Matrix:\n",
            " [[6126 1135  116]\n",
            " [1050 1339  102]\n",
            " [ 903  389  607]]\n"
          ]
        }
      ],
      "source": [
        "# generate predictions for train data set RNN_LSTM\n",
        "y_pred_train_encoded = (RNN_LSTM_own.predict(train_X_PS_2D)> 0.5).astype(\"int32\")\n",
        "y_pred_train = np.array(tf.argmax(y_pred_train_encoded, axis=1))\n",
        "\n",
        "# calculating accuracy score and confusion matrix\n",
        "accuracy = accuracy_score(train_Y_encoded, y_pred_train_encoded)\n",
        "print(\"The accuracy is:\", accuracy)\n",
        "\n",
        "f1 = f1_score(train_Y_encoded, y_pred_train_encoded, average=None)\n",
        "print(\"The f-1 score is :\\n\",f1)\n",
        "\n",
        "ConfusionMatrix = confusion_matrix(train_Y_label, y_pred_train)\n",
        "print(\"Confusion Matrix:\\n\",ConfusionMatrix)"
      ]
    },
    {
      "cell_type": "code",
      "execution_count": null,
      "id": "38506c31-4527-43dd-b3d0-fb096ea65ed1",
      "metadata": {
        "id": "38506c31-4527-43dd-b3d0-fb096ea65ed1",
        "outputId": "eaf09c32-f096-4e55-a110-6d4605f2564b"
      },
      "outputs": [
        {
          "name": "stdout",
          "output_type": "stream",
          "text": [
            "42/42 [==============================] - 2s 34ms/step\n",
            "The accuracy is: 0.5854214123006833\n",
            "The f-1 score is :\n",
            " [0.77349398 0.34701493 0.28015564]\n",
            "Confusion Matrix:\n",
            " [[715 106   4]\n",
            " [182  93   4]\n",
            " [119  58  36]]\n"
          ]
        }
      ],
      "source": [
        "# generate predictions for dev data set RNN_LSTM\n",
        "y_pred_dev_encoded = (RNN_LSTM_own.predict(dev_X_PS_2D)> 0.5).astype(\"int32\")\n",
        "y_pred_dev = np.array(tf.argmax(y_pred_dev_encoded, axis=1))\n",
        "\n",
        "# calculating accuracy score and confusion matrix\n",
        "accuracy = accuracy_score(dev_Y_encoded, y_pred_dev_encoded)\n",
        "print(\"The accuracy is:\", accuracy)\n",
        "\n",
        "f1 = f1_score(dev_Y_encoded, y_pred_dev_encoded, average=None)\n",
        "print(\"The f-1 score is :\\n\",f1)\n",
        "\n",
        "ConfusionMatrix = confusion_matrix(dev_Y_label, y_pred_dev)\n",
        "print(\"Confusion Matrix:\\n\",ConfusionMatrix)"
      ]
    },
    {
      "cell_type": "markdown",
      "id": "90dabd63-81fc-4d19-87fa-86457bdcbc84",
      "metadata": {
        "id": "90dabd63-81fc-4d19-87fa-86457bdcbc84"
      },
      "source": [
        "### 4.2.4 RNN Bi-LSTM  \n",
        "Embedding: Own Word2Vec  \n",
        "Normalisation: Lancaster Stemming  \n",
        "Algorithm: Skip Gram algorithm"
      ]
    },
    {
      "cell_type": "code",
      "execution_count": null,
      "id": "164abfa6-2204-4dc0-a7f2-cc59d1b770b2",
      "metadata": {
        "id": "164abfa6-2204-4dc0-a7f2-cc59d1b770b2",
        "outputId": "9bbc7e7e-9d9e-406d-c509-97f883580506"
      },
      "outputs": [
        {
          "name": "stdout",
          "output_type": "stream",
          "text": [
            "Converted 8506 words (109 misses)\n"
          ]
        }
      ],
      "source": [
        "# preprocessing of train data\n",
        "train_amended = train_unique.copy()\n",
        "train_amended = preprocess(train_amended)\n",
        "train_amended = remove_stopwords(train_amended)\n",
        "train_X, train_Y = split_X_Y(train_amended)\n",
        "train_X_token = tokenize_tweet(train_X)\n",
        "train_X_LS = stem_data(train_X_token, method=\"Lancaster\")\n",
        "\n",
        "# longest tweet\n",
        "max_len = np.max([len(text.split()) for text in train_X_PS])\n",
        "\n",
        "train_X_LS_2D = tweets_2DArrays(train_X_LS, max_words=10000, max_len=max_len)\n",
        "\n",
        "# create own Word2Vec based on training data with skip-gram algorithm\n",
        "w2v_model, words = create_Word2vec(tokenize_tweet(train_X_LS), size=300, window=3, min_count=1, workers=3, sg=1)\n",
        "\n",
        "# creating embedding matrix from training data\n",
        "own_embedding_matrix, vocab = create_own_embedding_matrix(train_X_LS, model=w2v_model, num_words=10000, embedding_dim=300, max_len=max_len)\n",
        "\n",
        "# preprocessing of test data\n",
        "test_amended = test_unique.copy()\n",
        "test_amended = preprocess(test_amended)\n",
        "test_amended = remove_stopwords(test_amended)\n",
        "test_X, test_Y = split_X_Y(test_amended)\n",
        "test_X_token = tokenize_tweet(test_X)\n",
        "test_X_LS = stem_data(test_X_token, method=\"Lancaster\")\n",
        "test_X_LS_2D = tweets_2DArrays(test_X_LS, max_words=10000, max_len=max_len)\n",
        "\n",
        "# preprocessing of dev data\n",
        "dev_amended = dev_unique.copy()\n",
        "dev_amended = preprocess(dev_amended)\n",
        "dev_amended = remove_stopwords(dev_amended)\n",
        "dev_X, dev_Y = split_X_Y(dev_amended)\n",
        "dev_X_token = tokenize_tweet(dev_X)\n",
        "dev_X_LS = stem_data(dev_X_token, method=\"Lancaster\")\n",
        "dev_X_LS_2D = tweets_2DArrays(dev_X_LS, max_words=10000, max_len=max_len)\n",
        "\n",
        "# convert airline_sentiment to numeric\n",
        "train_Y_label, test_Y_label, dev_Y_label = numeric_labels(train_Y, test_Y, dev_Y)\n",
        "\n",
        "# One-Hot Encoding of the labels\n",
        "train_Y_encoded = np_utils.to_categorical(train_Y_label)\n",
        "test_Y_encoded = np_utils.to_categorical(test_Y_label)\n",
        "dev_Y_encoded = np_utils.to_categorical(dev_Y_label)"
      ]
    },
    {
      "cell_type": "code",
      "execution_count": null,
      "id": "d733fb38-aadd-4269-817a-1d27abe32392",
      "metadata": {
        "id": "d733fb38-aadd-4269-817a-1d27abe32392",
        "outputId": "aa2d0c5b-e677-4520-9b68-0bbcfd2e5e76"
      },
      "outputs": [
        {
          "name": "stdout",
          "output_type": "stream",
          "text": [
            "Trial 10 Complete [00h 01m 54s]\n",
            "loss: 0.4602450132369995\n",
            "\n",
            "Best loss So Far: 0.4533129036426544\n",
            "Total elapsed time: 00h 19m 12s\n",
            "INFO:tensorflow:Oracle triggered exit\n"
          ]
        }
      ],
      "source": [
        "# hyper parameter tuning\n",
        "tuner_RNN_LSTM = kt.BayesianOptimization(hyperparameter_RNN_BiLSTM_own,\n",
        "                     objective='loss',\n",
        "                     max_trials=10,\n",
        "                     seed=0,\n",
        "                     overwrite=True,\n",
        "                     directory='dir',\n",
        "                     project_name='x')\n",
        "\n",
        "# early stopping\n",
        "stop_early = EarlyStopping(monitor='val_loss', patience=2)\n",
        "\n",
        "tuner_RNN_LSTM.search(train_X_LS_2D, train_Y_encoded, validation_data=(dev_X_LS_2D, dev_Y_encoded), callbacks=[stop_early])"
      ]
    },
    {
      "cell_type": "code",
      "execution_count": null,
      "id": "7eca477f-5c01-4102-9c7d-88f040b2ea3e",
      "metadata": {
        "id": "7eca477f-5c01-4102-9c7d-88f040b2ea3e",
        "outputId": "d96b2c48-6cd0-4c0e-a5e7-86a13873d317"
      },
      "outputs": [
        {
          "name": "stdout",
          "output_type": "stream",
          "text": [
            "WARNING:tensorflow:Detecting that an object or model or tf.train.Checkpoint is being deleted with unrestored values. See the following logs for the specific values in question. To silence these warnings, use `status.expect_partial()`. See https://www.tensorflow.org/api_docs/python/tf/train/Checkpoint#restorefor details about the status object returned by the restore function.\n",
            "WARNING:tensorflow:Value in checkpoint could not be found in the restored object: (root).optimizer.iter\n",
            "WARNING:tensorflow:Value in checkpoint could not be found in the restored object: (root).optimizer.beta_1\n",
            "WARNING:tensorflow:Value in checkpoint could not be found in the restored object: (root).optimizer.beta_2\n",
            "WARNING:tensorflow:Value in checkpoint could not be found in the restored object: (root).optimizer.decay\n",
            "WARNING:tensorflow:Value in checkpoint could not be found in the restored object: (root).optimizer.learning_rate\n",
            "Model: \"sequential\"\n",
            "_________________________________________________________________\n",
            " Layer (type)                Output Shape              Param #   \n",
            "=================================================================\n",
            " embedding (Embedding)       (None, None, 300)         2552100   \n",
            "                                                                 \n",
            " dropout (Dropout)           (None, None, 300)         0         \n",
            "                                                                 \n",
            " bidirectional (Bidirectiona  (None, None, 1000)       3204000   \n",
            " l)                                                              \n",
            "                                                                 \n",
            " bidirectional_1 (Bidirectio  (None, 200)              880800    \n",
            " nal)                                                            \n",
            "                                                                 \n",
            " dense (Dense)               (None, 3)                 603       \n",
            "                                                                 \n",
            "=================================================================\n",
            "Total params: 6,637,503\n",
            "Trainable params: 4,085,403\n",
            "Non-trainable params: 2,552,100\n",
            "_________________________________________________________________\n"
          ]
        },
        {
          "data": {
            "text/plain": [
              "{'dropout_rate_1': 0.25,\n",
              " 'layer_1': 500,\n",
              " 'activation_1': 'relu',\n",
              " 'dropout': False,\n",
              " 'dropout_rate_2': 0.5,\n",
              " 'layer_2': 100,\n",
              " 'activation_2': 'sigmoid',\n",
              " 'optimizer': 'Adam',\n",
              " 'learning_rate': 0.01,\n",
              " 'batch_size': 16}"
            ]
          },
          "execution_count": 224,
          "metadata": {},
          "output_type": "execute_result"
        }
      ],
      "source": [
        "# get the best model\n",
        "best_model = tuner_RNN_LSTM.get_best_models(num_models=1)[0]\n",
        "best_model.summary()\n",
        "\n",
        "# Get the optimal hyperparameters\n",
        "best_hps=tuner_RNN_LSTM.get_best_hyperparameters(num_trials=1)[0].values\n",
        "best_hps"
      ]
    },
    {
      "cell_type": "code",
      "execution_count": null,
      "id": "ca5ee078-e6ea-41f6-be66-47cf65a232a5",
      "metadata": {
        "id": "ca5ee078-e6ea-41f6-be66-47cf65a232a5",
        "outputId": "90b0e015-9fdd-431d-8725-524760aa6020"
      },
      "outputs": [
        {
          "name": "stdout",
          "output_type": "stream",
          "text": [
            "Model: \"sequential_1\"\n",
            "_________________________________________________________________\n",
            " Layer (type)                Output Shape              Param #   \n",
            "=================================================================\n",
            " embedding_1 (Embedding)     (None, None, 300)         2552100   \n",
            "                                                                 \n",
            " dropout_1 (Dropout)         (None, None, 300)         0         \n",
            "                                                                 \n",
            " bidirectional_2 (Bidirectio  (None, None, 1000)       3204000   \n",
            " nal)                                                            \n",
            "                                                                 \n",
            " bidirectional_3 (Bidirectio  (None, 200)              880800    \n",
            " nal)                                                            \n",
            "                                                                 \n",
            " dense_1 (Dense)             (None, 3)                 603       \n",
            "                                                                 \n",
            "=================================================================\n",
            "Total params: 6,637,503\n",
            "Trainable params: 4,085,403\n",
            "Non-trainable params: 2,552,100\n",
            "_________________________________________________________________\n"
          ]
        }
      ],
      "source": [
        "# create RNN (LSTM) model With own skip-gram Embedding Initialization\n",
        "RNN_LSTM_own = Sequential()\n",
        "RNN_LSTM_own.add(Embedding(len(vocab) + 1, 300, weights=[own_embedding_matrix], trainable=False))\n",
        "RNN_LSTM_own.add(Dropout(0.25))\n",
        "RNN_LSTM_own.add(Bidirectional(LSTM(500,return_sequences=True, activation='relu')))\n",
        "RNN_LSTM_own.add(Bidirectional(LSTM(100, activation='sigmoid')))\n",
        "RNN_LSTM_own.add(Dense(3,activation='softmax'))\n",
        "RNN_LSTM_own.compile(optimizer=Adam(learning_rate=0.01), loss=\"binary_crossentropy\", metrics=[\"accuracy\"])\n",
        "RNN_LSTM_own.summary()"
      ]
    },
    {
      "cell_type": "code",
      "execution_count": null,
      "id": "8b7781dc-2956-4c2e-9f27-a0eed6e772da",
      "metadata": {
        "id": "8b7781dc-2956-4c2e-9f27-a0eed6e772da",
        "outputId": "22710f7f-1112-4953-a7f1-8cce69c5dd4b"
      },
      "outputs": [
        {
          "name": "stdout",
          "output_type": "stream",
          "text": [
            "Epoch 1/15\n",
            "736/736 [==============================] - 205s 274ms/step - loss: 0.4909 - accuracy: 0.6520 - val_loss: 0.4917 - val_accuracy: 0.6743\n",
            "Epoch 2/15\n",
            "736/736 [==============================] - 203s 276ms/step - loss: 0.4375 - accuracy: 0.7034 - val_loss: 0.4862 - val_accuracy: 0.6834\n",
            "Epoch 3/15\n",
            "736/736 [==============================] - 191s 259ms/step - loss: 0.4317 - accuracy: 0.7060 - val_loss: 0.5096 - val_accuracy: 0.6689\n",
            "Epoch 4/15\n",
            "736/736 [==============================] - 172s 234ms/step - loss: 0.5535 - accuracy: 0.6268 - val_loss: 0.5426 - val_accuracy: 0.6264\n"
          ]
        },
        {
          "data": {
            "text/plain": [
              "<keras.callbacks.History at 0x25e43d33d00>"
            ]
          },
          "execution_count": 226,
          "metadata": {},
          "output_type": "execute_result"
        }
      ],
      "source": [
        "# train RNN LSTM using Lancaster Stemming training data\n",
        "random.seed(0)\n",
        "tf.random.set_seed(0)\n",
        "RNN_LSTM_own.fit(train_X_LS_2D, train_Y_encoded, validation_data=(dev_X_LS_2D, dev_Y_encoded), epochs=15, batch_size=16, verbose=1, callbacks=[stop_early])"
      ]
    },
    {
      "cell_type": "code",
      "execution_count": null,
      "id": "41b9ea4d-b571-4a27-8f83-900e3dcad18e",
      "metadata": {
        "id": "41b9ea4d-b571-4a27-8f83-900e3dcad18e",
        "outputId": "d9362579-3fb7-4b4b-c70a-41a8b8f1a3cc"
      },
      "outputs": [
        {
          "name": "stdout",
          "output_type": "stream",
          "text": [
            "46/46 [==============================] - 2s 27ms/step\n",
            "The accuracy is: 0.6281786941580756\n",
            "The f-1 score is :\n",
            " [0.7716336 0.        0.       ]\n",
            "Confusion Matrix:\n",
            " [[914   0   0]\n",
            " [309   0   0]\n",
            " [232   0   0]]\n"
          ]
        }
      ],
      "source": [
        "# generate predictions for test data set RNN_LSTM\n",
        "y_pred_test_encoded = (RNN_LSTM_own.predict(test_X_LS_2D)> 0.5).astype(\"int32\")\n",
        "y_pred_test = np.array(tf.argmax(y_pred_test_encoded, axis=1))\n",
        "\n",
        "# calculating accuracy score and confusion matrix\n",
        "accuracy = accuracy_score(test_Y_encoded, y_pred_test_encoded)\n",
        "print(\"The accuracy is:\", accuracy)\n",
        "\n",
        "f1 = f1_score(test_Y_encoded, y_pred_test_encoded, average=None)\n",
        "print(\"The f-1 score is :\\n\",f1)\n",
        "\n",
        "ConfusionMatrix = confusion_matrix(test_Y_label, y_pred_test)\n",
        "print(\"Confusion Matrix:\\n\",ConfusionMatrix)"
      ]
    },
    {
      "cell_type": "code",
      "execution_count": null,
      "id": "41799868-3999-4318-8946-36385911a2d8",
      "metadata": {
        "id": "41799868-3999-4318-8946-36385911a2d8",
        "outputId": "ede829d9-ff37-4733-b255-81f5383793b5"
      },
      "outputs": [
        {
          "name": "stdout",
          "output_type": "stream",
          "text": [
            "368/368 [==============================] - 10s 28ms/step\n",
            "The accuracy is: 0.6269227500637375\n",
            "The f-1 score is :\n",
            " [0.77068533 0.         0.        ]\n",
            "Confusion Matrix:\n",
            " [[7377    0    0]\n",
            " [2491    0    0]\n",
            " [1899    0    0]]\n"
          ]
        }
      ],
      "source": [
        "# generate predictions for train data set RNN_LSTM\n",
        "y_pred_train_encoded = (RNN_LSTM_own.predict(train_X_LS_2D)> 0.5).astype(\"int32\")\n",
        "y_pred_train = np.array(tf.argmax(y_pred_train_encoded, axis=1))\n",
        "\n",
        "# calculating accuracy score and confusion matrix\n",
        "accuracy = accuracy_score(train_Y_encoded, y_pred_train_encoded)\n",
        "print(\"The accuracy is:\", accuracy)\n",
        "\n",
        "f1 = f1_score(train_Y_encoded, y_pred_train_encoded, average=None)\n",
        "print(\"The f-1 score is :\\n\",f1)\n",
        "\n",
        "ConfusionMatrix = confusion_matrix(train_Y_label, y_pred_train)\n",
        "print(\"Confusion Matrix:\\n\",ConfusionMatrix)"
      ]
    },
    {
      "cell_type": "code",
      "execution_count": null,
      "id": "297b46da-532e-4761-abfd-23c977565013",
      "metadata": {
        "id": "297b46da-532e-4761-abfd-23c977565013",
        "outputId": "686ee22f-9d4e-4962-ceb8-886734ddd61e"
      },
      "outputs": [
        {
          "name": "stdout",
          "output_type": "stream",
          "text": [
            "42/42 [==============================] - 1s 26ms/step\n",
            "The accuracy is: 0.6264236902050114\n",
            "The f-1 score is :\n",
            " [0.77030812 0.         0.        ]\n",
            "Confusion Matrix:\n",
            " [[825   0   0]\n",
            " [279   0   0]\n",
            " [213   0   0]]\n"
          ]
        }
      ],
      "source": [
        "# generate predictions for dev data set RNN_LSTM\n",
        "y_pred_dev_encoded = (RNN_LSTM_own.predict(dev_X_LS_2D)> 0.5).astype(\"int32\")\n",
        "y_pred_dev = np.array(tf.argmax(y_pred_dev_encoded, axis=1))\n",
        "\n",
        "# calculating accuracy score and confusion matrix\n",
        "accuracy = accuracy_score(dev_Y_encoded, y_pred_dev_encoded)\n",
        "print(\"The accuracy is:\", accuracy)\n",
        "\n",
        "f1 = f1_score(dev_Y_encoded, y_pred_dev_encoded, average=None)\n",
        "print(\"The f-1 score is :\\n\",f1)\n",
        "\n",
        "ConfusionMatrix = confusion_matrix(dev_Y_label, y_pred_dev)\n",
        "print(\"Confusion Matrix:\\n\",ConfusionMatrix)"
      ]
    }
  ],
  "metadata": {
    "kernelspec": {
      "display_name": "Python 3 (ipykernel)",
      "language": "python",
      "name": "python3"
    },
    "language_info": {
      "codemirror_mode": {
        "name": "ipython",
        "version": 3
      },
      "file_extension": ".py",
      "mimetype": "text/x-python",
      "name": "python",
      "nbconvert_exporter": "python",
      "pygments_lexer": "ipython3",
      "version": "3.9.13"
    },
    "colab": {
      "provenance": [],
      "toc_visible": true
    }
  },
  "nbformat": 4,
  "nbformat_minor": 5
}